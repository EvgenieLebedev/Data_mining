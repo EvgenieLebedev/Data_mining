{
  "cells": [
    {
      "cell_type": "markdown",
      "metadata": {
        "colab_type": "text",
        "id": "view-in-github"
      },
      "source": [
        "<a href=\"https://colab.research.google.com/github/Alexandre77777/data_mining/blob/main/8.%20%D0%90%D0%BD%D1%81%D0%B0%D0%BC%D0%B1%D0%BB%D0%B5%D0%B2%D1%8B%D0%B5%20%D0%BC%D0%B5%D1%82%D0%BE%D0%B4%D1%8B%20%D0%BC%D0%B0%D1%88%D0%B8%D0%BD%D0%BD%D0%BE%D0%B3%D0%BE%20%D0%BE%D0%B1%D1%83%D1%87%D0%B5%D0%BD%D0%B8%D1%8F/%D0%9F%D1%80%D0%B0%D0%BA%D1%82%D0%B8%D0%BA%D0%B0%20%E2%84%9611.%20%D0%90%D0%BD%D1%81%D0%B0%D0%BC%D0%B1%D0%BB%D0%B5%D0%B2%D1%8B%D0%B5_%D0%BC%D0%B5%D1%82%D0%BE%D0%B4%D1%8B_%D0%BC%D0%B0%D1%88%D0%B8%D0%BD%D0%BD%D0%BE%D0%B3%D0%BE_%D0%BE%D0%B1%D1%83%D1%87%D0%B5%D0%BD%D0%B8%D1%8F.ipynb\" target=\"_parent\"><img src=\"https://colab.research.google.com/assets/colab-badge.svg\" alt=\"Open In Colab\"/></a>"
      ]
    },
    {
      "cell_type": "markdown",
      "metadata": {
        "id": "Tv_LkPLeAJ-P"
      },
      "source": [
        "# Обучить модели машинного обучения для решения задачи классификации, используя следующие boosting-алгоритмы: CatBoost, Light GBM, XGBoost, AdaBoost. Сравнить их точность и быстродействие.\n",
        "\n",
        "Датасет: https://www.kaggle.com/c/titanic/data"
      ]
    },
    {
      "cell_type": "code",
      "execution_count": 74,
      "metadata": {
        "id": "NIjyOzfRAGKi"
      },
      "outputs": [],
      "source": [
        "import pandas as pd\n",
        "from sklearn.model_selection import train_test_split\n",
        "from sklearn.metrics import accuracy_score\n",
        "from catboost import CatBoostClassifier\n",
        "from lightgbm import LGBMClassifier\n",
        "from xgboost import XGBClassifier\n",
        "from sklearn.ensemble import AdaBoostClassifier\n",
        "import time\n",
        "from sklearn.metrics import confusion_matrix, precision_score, recall_score, f1_score"
      ]
    },
    {
      "cell_type": "code",
      "execution_count": 127,
      "metadata": {},
      "outputs": [
        {
          "name": "stdout",
          "output_type": "stream",
          "text": [
            "Колонки с пропущенными значениями:\n",
            "['Age', 'Cabin', 'Embarked']\n"
          ]
        }
      ],
      "source": [
        "titanic_data = pd.read_csv('train.csv')\n",
        "\n",
        "columns_with_missing_values = titanic_data.columns[titanic_data.isnull().any()].tolist()\n",
        "print(\"Колонки с пропущенными значениями:\")\n",
        "print(columns_with_missing_values)"
      ]
    },
    {
      "cell_type": "code",
      "execution_count": 128,
      "metadata": {},
      "outputs": [],
      "source": [
        "encoded_sex = pd.get_dummies(titanic_data['Sex'], prefix='Sex', drop_first=True)  \n",
        "titanic_data = pd.concat([titanic_data, encoded_sex], axis=1)\n",
        "titanic_data.drop(['Sex'], axis=1, inplace=True)"
      ]
    },
    {
      "cell_type": "code",
      "execution_count": 129,
      "metadata": {},
      "outputs": [
        {
          "data": {
            "text/html": [
              "<div>\n",
              "<style scoped>\n",
              "    .dataframe tbody tr th:only-of-type {\n",
              "        vertical-align: middle;\n",
              "    }\n",
              "\n",
              "    .dataframe tbody tr th {\n",
              "        vertical-align: top;\n",
              "    }\n",
              "\n",
              "    .dataframe thead th {\n",
              "        text-align: right;\n",
              "    }\n",
              "</style>\n",
              "<table border=\"1\" class=\"dataframe\">\n",
              "  <thead>\n",
              "    <tr style=\"text-align: right;\">\n",
              "      <th></th>\n",
              "      <th>PassengerId</th>\n",
              "      <th>Survived</th>\n",
              "      <th>Pclass</th>\n",
              "      <th>Age</th>\n",
              "      <th>SibSp</th>\n",
              "      <th>Parch</th>\n",
              "      <th>Fare</th>\n",
              "      <th>Sex_male</th>\n",
              "    </tr>\n",
              "  </thead>\n",
              "  <tbody>\n",
              "    <tr>\n",
              "      <th>0</th>\n",
              "      <td>1</td>\n",
              "      <td>0</td>\n",
              "      <td>3</td>\n",
              "      <td>22.0</td>\n",
              "      <td>1</td>\n",
              "      <td>0</td>\n",
              "      <td>7.2500</td>\n",
              "      <td>True</td>\n",
              "    </tr>\n",
              "    <tr>\n",
              "      <th>1</th>\n",
              "      <td>2</td>\n",
              "      <td>1</td>\n",
              "      <td>1</td>\n",
              "      <td>38.0</td>\n",
              "      <td>1</td>\n",
              "      <td>0</td>\n",
              "      <td>71.2833</td>\n",
              "      <td>False</td>\n",
              "    </tr>\n",
              "    <tr>\n",
              "      <th>2</th>\n",
              "      <td>3</td>\n",
              "      <td>1</td>\n",
              "      <td>3</td>\n",
              "      <td>26.0</td>\n",
              "      <td>0</td>\n",
              "      <td>0</td>\n",
              "      <td>7.9250</td>\n",
              "      <td>False</td>\n",
              "    </tr>\n",
              "    <tr>\n",
              "      <th>3</th>\n",
              "      <td>4</td>\n",
              "      <td>1</td>\n",
              "      <td>1</td>\n",
              "      <td>35.0</td>\n",
              "      <td>1</td>\n",
              "      <td>0</td>\n",
              "      <td>53.1000</td>\n",
              "      <td>False</td>\n",
              "    </tr>\n",
              "    <tr>\n",
              "      <th>4</th>\n",
              "      <td>5</td>\n",
              "      <td>0</td>\n",
              "      <td>3</td>\n",
              "      <td>35.0</td>\n",
              "      <td>0</td>\n",
              "      <td>0</td>\n",
              "      <td>8.0500</td>\n",
              "      <td>True</td>\n",
              "    </tr>\n",
              "    <tr>\n",
              "      <th>...</th>\n",
              "      <td>...</td>\n",
              "      <td>...</td>\n",
              "      <td>...</td>\n",
              "      <td>...</td>\n",
              "      <td>...</td>\n",
              "      <td>...</td>\n",
              "      <td>...</td>\n",
              "      <td>...</td>\n",
              "    </tr>\n",
              "    <tr>\n",
              "      <th>886</th>\n",
              "      <td>887</td>\n",
              "      <td>0</td>\n",
              "      <td>2</td>\n",
              "      <td>27.0</td>\n",
              "      <td>0</td>\n",
              "      <td>0</td>\n",
              "      <td>13.0000</td>\n",
              "      <td>True</td>\n",
              "    </tr>\n",
              "    <tr>\n",
              "      <th>887</th>\n",
              "      <td>888</td>\n",
              "      <td>1</td>\n",
              "      <td>1</td>\n",
              "      <td>19.0</td>\n",
              "      <td>0</td>\n",
              "      <td>0</td>\n",
              "      <td>30.0000</td>\n",
              "      <td>False</td>\n",
              "    </tr>\n",
              "    <tr>\n",
              "      <th>888</th>\n",
              "      <td>889</td>\n",
              "      <td>0</td>\n",
              "      <td>3</td>\n",
              "      <td>NaN</td>\n",
              "      <td>1</td>\n",
              "      <td>2</td>\n",
              "      <td>23.4500</td>\n",
              "      <td>False</td>\n",
              "    </tr>\n",
              "    <tr>\n",
              "      <th>889</th>\n",
              "      <td>890</td>\n",
              "      <td>1</td>\n",
              "      <td>1</td>\n",
              "      <td>26.0</td>\n",
              "      <td>0</td>\n",
              "      <td>0</td>\n",
              "      <td>30.0000</td>\n",
              "      <td>True</td>\n",
              "    </tr>\n",
              "    <tr>\n",
              "      <th>890</th>\n",
              "      <td>891</td>\n",
              "      <td>0</td>\n",
              "      <td>3</td>\n",
              "      <td>32.0</td>\n",
              "      <td>0</td>\n",
              "      <td>0</td>\n",
              "      <td>7.7500</td>\n",
              "      <td>True</td>\n",
              "    </tr>\n",
              "  </tbody>\n",
              "</table>\n",
              "<p>891 rows × 8 columns</p>\n",
              "</div>"
            ],
            "text/plain": [
              "     PassengerId  Survived  Pclass   Age  SibSp  Parch     Fare  Sex_male\n",
              "0              1         0       3  22.0      1      0   7.2500      True\n",
              "1              2         1       1  38.0      1      0  71.2833     False\n",
              "2              3         1       3  26.0      0      0   7.9250     False\n",
              "3              4         1       1  35.0      1      0  53.1000     False\n",
              "4              5         0       3  35.0      0      0   8.0500      True\n",
              "..           ...       ...     ...   ...    ...    ...      ...       ...\n",
              "886          887         0       2  27.0      0      0  13.0000      True\n",
              "887          888         1       1  19.0      0      0  30.0000     False\n",
              "888          889         0       3   NaN      1      2  23.4500     False\n",
              "889          890         1       1  26.0      0      0  30.0000      True\n",
              "890          891         0       3  32.0      0      0   7.7500      True\n",
              "\n",
              "[891 rows x 8 columns]"
            ]
          },
          "execution_count": 129,
          "metadata": {},
          "output_type": "execute_result"
        }
      ],
      "source": [
        "titanic_data.drop(['Cabin', 'Embarked', 'Name', 'Ticket'], axis=1, inplace=True)\n",
        "titanic_data"
      ]
    },
    {
      "cell_type": "code",
      "execution_count": 130,
      "metadata": {},
      "outputs": [],
      "source": [
        "mean_age = titanic_data['Age'].mean()\n",
        "std_age = titanic_data['Age'].std()\n",
        "null_age_count = titanic_data['Age'].isnull().sum()\n",
        "\n",
        "# Генерация случайных чисел в пределах среднего значения и стандартного отклонения\n",
        "random_ages = np.random.randint(mean_age - std_age, mean_age + std_age, size=null_age_count)\n",
        "# Замена NaN в 'Age' на сгенерированные случайные значения\n",
        "titanic_data.loc[np.isnan(titanic_data['Age']), 'Age'] = random_ages"
      ]
    },
    {
      "cell_type": "code",
      "execution_count": 131,
      "metadata": {},
      "outputs": [],
      "source": [
        "# Разделение на признаки и целевую переменную для обучающей выборки\n",
        "X = titanic_data.drop('Survived', axis=1)\n",
        "y = titanic_data['Survived'].values\n",
        "\n",
        "X_train, X_test, y_train, y_test = train_test_split(X, y, test_size=0.2, random_state=42)"
      ]
    },
    {
      "cell_type": "code",
      "execution_count": 132,
      "metadata": {},
      "outputs": [
        {
          "data": {
            "text/html": [
              "<div>\n",
              "<style scoped>\n",
              "    .dataframe tbody tr th:only-of-type {\n",
              "        vertical-align: middle;\n",
              "    }\n",
              "\n",
              "    .dataframe tbody tr th {\n",
              "        vertical-align: top;\n",
              "    }\n",
              "\n",
              "    .dataframe thead th {\n",
              "        text-align: right;\n",
              "    }\n",
              "</style>\n",
              "<table border=\"1\" class=\"dataframe\">\n",
              "  <thead>\n",
              "    <tr style=\"text-align: right;\">\n",
              "      <th></th>\n",
              "      <th>PassengerId</th>\n",
              "      <th>Pclass</th>\n",
              "      <th>Age</th>\n",
              "      <th>SibSp</th>\n",
              "      <th>Parch</th>\n",
              "      <th>Fare</th>\n",
              "      <th>Sex_male</th>\n",
              "    </tr>\n",
              "  </thead>\n",
              "  <tbody>\n",
              "    <tr>\n",
              "      <th>331</th>\n",
              "      <td>332</td>\n",
              "      <td>1</td>\n",
              "      <td>45.5</td>\n",
              "      <td>0</td>\n",
              "      <td>0</td>\n",
              "      <td>28.5000</td>\n",
              "      <td>True</td>\n",
              "    </tr>\n",
              "    <tr>\n",
              "      <th>733</th>\n",
              "      <td>734</td>\n",
              "      <td>2</td>\n",
              "      <td>23.0</td>\n",
              "      <td>0</td>\n",
              "      <td>0</td>\n",
              "      <td>13.0000</td>\n",
              "      <td>True</td>\n",
              "    </tr>\n",
              "    <tr>\n",
              "      <th>382</th>\n",
              "      <td>383</td>\n",
              "      <td>3</td>\n",
              "      <td>32.0</td>\n",
              "      <td>0</td>\n",
              "      <td>0</td>\n",
              "      <td>7.9250</td>\n",
              "      <td>True</td>\n",
              "    </tr>\n",
              "    <tr>\n",
              "      <th>704</th>\n",
              "      <td>705</td>\n",
              "      <td>3</td>\n",
              "      <td>26.0</td>\n",
              "      <td>1</td>\n",
              "      <td>0</td>\n",
              "      <td>7.8542</td>\n",
              "      <td>True</td>\n",
              "    </tr>\n",
              "    <tr>\n",
              "      <th>813</th>\n",
              "      <td>814</td>\n",
              "      <td>3</td>\n",
              "      <td>6.0</td>\n",
              "      <td>4</td>\n",
              "      <td>2</td>\n",
              "      <td>31.2750</td>\n",
              "      <td>False</td>\n",
              "    </tr>\n",
              "    <tr>\n",
              "      <th>...</th>\n",
              "      <td>...</td>\n",
              "      <td>...</td>\n",
              "      <td>...</td>\n",
              "      <td>...</td>\n",
              "      <td>...</td>\n",
              "      <td>...</td>\n",
              "      <td>...</td>\n",
              "    </tr>\n",
              "    <tr>\n",
              "      <th>106</th>\n",
              "      <td>107</td>\n",
              "      <td>3</td>\n",
              "      <td>21.0</td>\n",
              "      <td>0</td>\n",
              "      <td>0</td>\n",
              "      <td>7.6500</td>\n",
              "      <td>False</td>\n",
              "    </tr>\n",
              "    <tr>\n",
              "      <th>270</th>\n",
              "      <td>271</td>\n",
              "      <td>1</td>\n",
              "      <td>29.0</td>\n",
              "      <td>0</td>\n",
              "      <td>0</td>\n",
              "      <td>31.0000</td>\n",
              "      <td>True</td>\n",
              "    </tr>\n",
              "    <tr>\n",
              "      <th>860</th>\n",
              "      <td>861</td>\n",
              "      <td>3</td>\n",
              "      <td>41.0</td>\n",
              "      <td>2</td>\n",
              "      <td>0</td>\n",
              "      <td>14.1083</td>\n",
              "      <td>True</td>\n",
              "    </tr>\n",
              "    <tr>\n",
              "      <th>435</th>\n",
              "      <td>436</td>\n",
              "      <td>1</td>\n",
              "      <td>14.0</td>\n",
              "      <td>1</td>\n",
              "      <td>2</td>\n",
              "      <td>120.0000</td>\n",
              "      <td>False</td>\n",
              "    </tr>\n",
              "    <tr>\n",
              "      <th>102</th>\n",
              "      <td>103</td>\n",
              "      <td>1</td>\n",
              "      <td>21.0</td>\n",
              "      <td>0</td>\n",
              "      <td>1</td>\n",
              "      <td>77.2875</td>\n",
              "      <td>True</td>\n",
              "    </tr>\n",
              "  </tbody>\n",
              "</table>\n",
              "<p>712 rows × 7 columns</p>\n",
              "</div>"
            ],
            "text/plain": [
              "     PassengerId  Pclass   Age  SibSp  Parch      Fare  Sex_male\n",
              "331          332       1  45.5      0      0   28.5000      True\n",
              "733          734       2  23.0      0      0   13.0000      True\n",
              "382          383       3  32.0      0      0    7.9250      True\n",
              "704          705       3  26.0      1      0    7.8542      True\n",
              "813          814       3   6.0      4      2   31.2750     False\n",
              "..           ...     ...   ...    ...    ...       ...       ...\n",
              "106          107       3  21.0      0      0    7.6500     False\n",
              "270          271       1  29.0      0      0   31.0000      True\n",
              "860          861       3  41.0      2      0   14.1083      True\n",
              "435          436       1  14.0      1      2  120.0000     False\n",
              "102          103       1  21.0      0      1   77.2875      True\n",
              "\n",
              "[712 rows x 7 columns]"
            ]
          },
          "execution_count": 132,
          "metadata": {},
          "output_type": "execute_result"
        }
      ],
      "source": [
        "X_train"
      ]
    },
    {
      "cell_type": "markdown",
      "metadata": {},
      "source": [
        "# Обучение моделей"
      ]
    },
    {
      "cell_type": "code",
      "execution_count": 135,
      "metadata": {},
      "outputs": [],
      "source": [
        "# Инициализация и обучение моделей\n",
        "models = {\n",
        "    \"CatBoost\": CatBoostClassifier(),\n",
        "    \"LightGBM\": LGBMClassifier(),\n",
        "    \"XGBoost\": XGBClassifier(),\n",
        "    \"AdaBoost\": AdaBoostClassifier()\n",
        "}"
      ]
    },
    {
      "cell_type": "code",
      "execution_count": 136,
      "metadata": {},
      "outputs": [
        {
          "name": "stdout",
          "output_type": "stream",
          "text": [
            "Learning rate set to 0.008911\n",
            "0:\tlearn: 0.6872460\ttotal: 1.19ms\tremaining: 1.19s\n",
            "1:\tlearn: 0.6838762\ttotal: 1.67ms\tremaining: 832ms\n",
            "2:\tlearn: 0.6786435\ttotal: 2.62ms\tremaining: 871ms\n",
            "3:\tlearn: 0.6732840\ttotal: 3.29ms\tremaining: 819ms\n",
            "4:\tlearn: 0.6674458\ttotal: 4.2ms\tremaining: 835ms\n",
            "5:\tlearn: 0.6621594\ttotal: 5.1ms\tremaining: 845ms\n",
            "6:\tlearn: 0.6562741\ttotal: 6.02ms\tremaining: 855ms\n",
            "7:\tlearn: 0.6509633\ttotal: 6.94ms\tremaining: 860ms\n",
            "8:\tlearn: 0.6455281\ttotal: 7.86ms\tremaining: 865ms\n",
            "9:\tlearn: 0.6427174\ttotal: 8.35ms\tremaining: 827ms\n",
            "10:\tlearn: 0.6381112\ttotal: 9.25ms\tremaining: 832ms\n",
            "11:\tlearn: 0.6353834\ttotal: 9.8ms\tremaining: 807ms\n",
            "12:\tlearn: 0.6307340\ttotal: 10.6ms\tremaining: 801ms\n",
            "13:\tlearn: 0.6272728\ttotal: 11.3ms\tremaining: 796ms\n",
            "14:\tlearn: 0.6222007\ttotal: 12.3ms\tremaining: 806ms\n",
            "15:\tlearn: 0.6172307\ttotal: 13.3ms\tremaining: 818ms\n",
            "16:\tlearn: 0.6132433\ttotal: 14.1ms\tremaining: 813ms\n",
            "17:\tlearn: 0.6084532\ttotal: 14.9ms\tremaining: 815ms\n",
            "18:\tlearn: 0.6033896\ttotal: 15.8ms\tremaining: 818ms\n",
            "19:\tlearn: 0.5990973\ttotal: 16.8ms\tremaining: 822ms\n",
            "20:\tlearn: 0.5946580\ttotal: 17.9ms\tremaining: 833ms\n",
            "21:\tlearn: 0.5902032\ttotal: 18.8ms\tremaining: 836ms\n",
            "22:\tlearn: 0.5859181\ttotal: 19.8ms\tremaining: 839ms\n",
            "23:\tlearn: 0.5818605\ttotal: 20.8ms\tremaining: 845ms\n",
            "24:\tlearn: 0.5787399\ttotal: 21.4ms\tremaining: 833ms\n",
            "25:\tlearn: 0.5748507\ttotal: 22.2ms\tremaining: 833ms\n",
            "26:\tlearn: 0.5718731\ttotal: 22.8ms\tremaining: 822ms\n",
            "27:\tlearn: 0.5700115\ttotal: 23.3ms\tremaining: 809ms\n",
            "28:\tlearn: 0.5677277\ttotal: 23.9ms\tremaining: 801ms\n",
            "29:\tlearn: 0.5639177\ttotal: 24.9ms\tremaining: 804ms\n",
            "30:\tlearn: 0.5601945\ttotal: 25.9ms\tremaining: 811ms\n",
            "31:\tlearn: 0.5565123\ttotal: 26.9ms\tremaining: 814ms\n",
            "32:\tlearn: 0.5532825\ttotal: 27.9ms\tremaining: 818ms\n",
            "33:\tlearn: 0.5505477\ttotal: 28.9ms\tremaining: 821ms\n",
            "34:\tlearn: 0.5473811\ttotal: 29.8ms\tremaining: 823ms\n",
            "35:\tlearn: 0.5444977\ttotal: 30.8ms\tremaining: 825ms\n",
            "36:\tlearn: 0.5412074\ttotal: 31.8ms\tremaining: 827ms\n",
            "37:\tlearn: 0.5382900\ttotal: 32.7ms\tremaining: 827ms\n",
            "38:\tlearn: 0.5366193\ttotal: 33.2ms\tremaining: 818ms\n",
            "39:\tlearn: 0.5340802\ttotal: 34.4ms\tremaining: 825ms\n",
            "40:\tlearn: 0.5316928\ttotal: 35.7ms\tremaining: 835ms\n",
            "41:\tlearn: 0.5288067\ttotal: 36.8ms\tremaining: 838ms\n",
            "42:\tlearn: 0.5263762\ttotal: 37.8ms\tremaining: 842ms\n",
            "43:\tlearn: 0.5242966\ttotal: 38.4ms\tremaining: 835ms\n",
            "44:\tlearn: 0.5218361\ttotal: 39.3ms\tremaining: 834ms\n",
            "45:\tlearn: 0.5197512\ttotal: 40ms\tremaining: 829ms\n",
            "46:\tlearn: 0.5184178\ttotal: 40.5ms\tremaining: 822ms\n",
            "47:\tlearn: 0.5157244\ttotal: 41.5ms\tremaining: 823ms\n",
            "48:\tlearn: 0.5134639\ttotal: 42.4ms\tremaining: 823ms\n",
            "49:\tlearn: 0.5111426\ttotal: 43.2ms\tremaining: 820ms\n",
            "50:\tlearn: 0.5093536\ttotal: 43.9ms\tremaining: 817ms\n",
            "51:\tlearn: 0.5074061\ttotal: 44.9ms\tremaining: 818ms\n",
            "52:\tlearn: 0.5062404\ttotal: 45.4ms\tremaining: 812ms\n",
            "53:\tlearn: 0.5037931\ttotal: 46.4ms\tremaining: 813ms\n",
            "54:\tlearn: 0.5021368\ttotal: 47ms\tremaining: 808ms\n",
            "55:\tlearn: 0.5010868\ttotal: 47.6ms\tremaining: 803ms\n",
            "56:\tlearn: 0.4987255\ttotal: 48.9ms\tremaining: 809ms\n",
            "57:\tlearn: 0.4964822\ttotal: 49.8ms\tremaining: 809ms\n",
            "58:\tlearn: 0.4949177\ttotal: 50.5ms\tremaining: 806ms\n",
            "59:\tlearn: 0.4925204\ttotal: 51.5ms\tremaining: 807ms\n",
            "60:\tlearn: 0.4905199\ttotal: 52.6ms\tremaining: 810ms\n",
            "61:\tlearn: 0.4885095\ttotal: 53.6ms\tremaining: 810ms\n",
            "62:\tlearn: 0.4864851\ttotal: 54.7ms\tremaining: 813ms\n",
            "63:\tlearn: 0.4856468\ttotal: 55.2ms\tremaining: 808ms\n",
            "64:\tlearn: 0.4838920\ttotal: 56.4ms\tremaining: 811ms\n",
            "65:\tlearn: 0.4823056\ttotal: 57.3ms\tremaining: 811ms\n",
            "66:\tlearn: 0.4802629\ttotal: 58.2ms\tremaining: 811ms\n",
            "67:\tlearn: 0.4786582\ttotal: 59.2ms\tremaining: 812ms\n",
            "68:\tlearn: 0.4770653\ttotal: 60.1ms\tremaining: 811ms\n",
            "69:\tlearn: 0.4750703\ttotal: 61.1ms\tremaining: 811ms\n",
            "70:\tlearn: 0.4732542\ttotal: 62ms\tremaining: 811ms\n",
            "71:\tlearn: 0.4718218\ttotal: 62.9ms\tremaining: 810ms\n",
            "72:\tlearn: 0.4711338\ttotal: 63.4ms\tremaining: 805ms\n",
            "73:\tlearn: 0.4691828\ttotal: 64.4ms\tremaining: 806ms\n",
            "74:\tlearn: 0.4672295\ttotal: 65.7ms\tremaining: 810ms\n",
            "75:\tlearn: 0.4665617\ttotal: 66.4ms\tremaining: 807ms\n",
            "76:\tlearn: 0.4653890\ttotal: 67.5ms\tremaining: 809ms\n",
            "77:\tlearn: 0.4638333\ttotal: 68.5ms\tremaining: 810ms\n",
            "78:\tlearn: 0.4620937\ttotal: 69.7ms\tremaining: 813ms\n",
            "79:\tlearn: 0.4606494\ttotal: 71ms\tremaining: 817ms\n",
            "80:\tlearn: 0.4598458\ttotal: 71.7ms\tremaining: 813ms\n",
            "81:\tlearn: 0.4588473\ttotal: 72.3ms\tremaining: 810ms\n",
            "82:\tlearn: 0.4579293\ttotal: 73.6ms\tremaining: 813ms\n",
            "83:\tlearn: 0.4566565\ttotal: 74.5ms\tremaining: 813ms\n",
            "84:\tlearn: 0.4553060\ttotal: 75.4ms\tremaining: 812ms\n",
            "85:\tlearn: 0.4543144\ttotal: 76.2ms\tremaining: 810ms\n",
            "86:\tlearn: 0.4538038\ttotal: 76.7ms\tremaining: 805ms\n",
            "87:\tlearn: 0.4525891\ttotal: 77.6ms\tremaining: 804ms\n",
            "88:\tlearn: 0.4515741\ttotal: 78.6ms\tremaining: 804ms\n",
            "89:\tlearn: 0.4510943\ttotal: 79ms\tremaining: 799ms\n",
            "90:\tlearn: 0.4498752\ttotal: 80.2ms\tremaining: 801ms\n",
            "91:\tlearn: 0.4489267\ttotal: 81.3ms\tremaining: 802ms\n",
            "92:\tlearn: 0.4476874\ttotal: 82.4ms\tremaining: 804ms\n",
            "93:\tlearn: 0.4469604\ttotal: 83.4ms\tremaining: 804ms\n",
            "94:\tlearn: 0.4464466\ttotal: 84ms\tremaining: 800ms\n",
            "95:\tlearn: 0.4448625\ttotal: 85.3ms\tremaining: 803ms\n",
            "96:\tlearn: 0.4436568\ttotal: 86.3ms\tremaining: 803ms\n",
            "97:\tlearn: 0.4423173\ttotal: 87.3ms\tremaining: 804ms\n",
            "98:\tlearn: 0.4414603\ttotal: 88.2ms\tremaining: 803ms\n",
            "99:\tlearn: 0.4404215\ttotal: 89.4ms\tremaining: 805ms\n",
            "100:\tlearn: 0.4392945\ttotal: 90.4ms\tremaining: 805ms\n",
            "101:\tlearn: 0.4379989\ttotal: 91.4ms\tremaining: 804ms\n",
            "102:\tlearn: 0.4369218\ttotal: 92.3ms\tremaining: 804ms\n",
            "103:\tlearn: 0.4358119\ttotal: 93.2ms\tremaining: 803ms\n",
            "104:\tlearn: 0.4346366\ttotal: 94.3ms\tremaining: 804ms\n",
            "105:\tlearn: 0.4335965\ttotal: 95.6ms\tremaining: 806ms\n",
            "106:\tlearn: 0.4327872\ttotal: 96.6ms\tremaining: 806ms\n",
            "107:\tlearn: 0.4318555\ttotal: 97.6ms\tremaining: 806ms\n",
            "108:\tlearn: 0.4309779\ttotal: 98.7ms\tremaining: 807ms\n",
            "109:\tlearn: 0.4300140\ttotal: 100ms\tremaining: 809ms\n",
            "110:\tlearn: 0.4291655\ttotal: 101ms\tremaining: 809ms\n",
            "111:\tlearn: 0.4277210\ttotal: 102ms\tremaining: 809ms\n",
            "112:\tlearn: 0.4264028\ttotal: 103ms\tremaining: 809ms\n",
            "113:\tlearn: 0.4260535\ttotal: 104ms\tremaining: 806ms\n",
            "114:\tlearn: 0.4252158\ttotal: 105ms\tremaining: 807ms\n",
            "115:\tlearn: 0.4242246\ttotal: 106ms\tremaining: 807ms\n",
            "116:\tlearn: 0.4234189\ttotal: 107ms\tremaining: 806ms\n",
            "117:\tlearn: 0.4228976\ttotal: 108ms\tremaining: 804ms\n",
            "118:\tlearn: 0.4220120\ttotal: 108ms\tremaining: 803ms\n",
            "119:\tlearn: 0.4216603\ttotal: 109ms\tremaining: 800ms\n",
            "120:\tlearn: 0.4208211\ttotal: 110ms\tremaining: 800ms\n",
            "121:\tlearn: 0.4200072\ttotal: 111ms\tremaining: 801ms\n",
            "122:\tlearn: 0.4190312\ttotal: 112ms\tremaining: 801ms\n",
            "123:\tlearn: 0.4182804\ttotal: 113ms\tremaining: 800ms\n",
            "124:\tlearn: 0.4172956\ttotal: 114ms\tremaining: 801ms\n",
            "125:\tlearn: 0.4164086\ttotal: 115ms\tremaining: 801ms\n",
            "126:\tlearn: 0.4156432\ttotal: 117ms\tremaining: 801ms\n",
            "127:\tlearn: 0.4146038\ttotal: 118ms\tremaining: 801ms\n",
            "128:\tlearn: 0.4138686\ttotal: 119ms\tremaining: 801ms\n",
            "129:\tlearn: 0.4136606\ttotal: 119ms\tremaining: 798ms\n",
            "130:\tlearn: 0.4127286\ttotal: 120ms\tremaining: 797ms\n",
            "131:\tlearn: 0.4118255\ttotal: 121ms\tremaining: 796ms\n",
            "132:\tlearn: 0.4113073\ttotal: 122ms\tremaining: 795ms\n",
            "133:\tlearn: 0.4104730\ttotal: 123ms\tremaining: 795ms\n",
            "134:\tlearn: 0.4098301\ttotal: 124ms\tremaining: 794ms\n",
            "135:\tlearn: 0.4092120\ttotal: 125ms\tremaining: 794ms\n",
            "136:\tlearn: 0.4084184\ttotal: 126ms\tremaining: 793ms\n",
            "137:\tlearn: 0.4079996\ttotal: 126ms\tremaining: 790ms\n",
            "138:\tlearn: 0.4077477\ttotal: 127ms\tremaining: 787ms\n",
            "139:\tlearn: 0.4071965\ttotal: 128ms\tremaining: 788ms\n",
            "140:\tlearn: 0.4070372\ttotal: 129ms\tremaining: 784ms\n",
            "141:\tlearn: 0.4066526\ttotal: 130ms\tremaining: 784ms\n",
            "142:\tlearn: 0.4061826\ttotal: 131ms\tremaining: 784ms\n",
            "143:\tlearn: 0.4055493\ttotal: 132ms\tremaining: 784ms\n",
            "144:\tlearn: 0.4050509\ttotal: 133ms\tremaining: 785ms\n",
            "145:\tlearn: 0.4044906\ttotal: 134ms\tremaining: 785ms\n",
            "146:\tlearn: 0.4035705\ttotal: 135ms\tremaining: 784ms\n",
            "147:\tlearn: 0.4030549\ttotal: 136ms\tremaining: 783ms\n",
            "148:\tlearn: 0.4024311\ttotal: 137ms\tremaining: 783ms\n",
            "149:\tlearn: 0.4018510\ttotal: 138ms\tremaining: 782ms\n",
            "150:\tlearn: 0.4014284\ttotal: 139ms\tremaining: 781ms\n",
            "151:\tlearn: 0.4010083\ttotal: 140ms\tremaining: 780ms\n",
            "152:\tlearn: 0.4005594\ttotal: 141ms\tremaining: 779ms\n",
            "153:\tlearn: 0.4004685\ttotal: 141ms\tremaining: 776ms\n",
            "154:\tlearn: 0.3998213\ttotal: 142ms\tremaining: 775ms\n",
            "155:\tlearn: 0.3992713\ttotal: 143ms\tremaining: 776ms\n",
            "156:\tlearn: 0.3988496\ttotal: 144ms\tremaining: 776ms\n",
            "157:\tlearn: 0.3987739\ttotal: 145ms\tremaining: 772ms\n",
            "158:\tlearn: 0.3983676\ttotal: 146ms\tremaining: 772ms\n",
            "159:\tlearn: 0.3980448\ttotal: 147ms\tremaining: 771ms\n",
            "160:\tlearn: 0.3975077\ttotal: 148ms\tremaining: 770ms\n",
            "161:\tlearn: 0.3966227\ttotal: 149ms\tremaining: 769ms\n",
            "162:\tlearn: 0.3960901\ttotal: 150ms\tremaining: 768ms\n",
            "163:\tlearn: 0.3958224\ttotal: 150ms\tremaining: 766ms\n",
            "164:\tlearn: 0.3953542\ttotal: 151ms\tremaining: 765ms\n",
            "165:\tlearn: 0.3949389\ttotal: 152ms\tremaining: 764ms\n",
            "166:\tlearn: 0.3943184\ttotal: 153ms\tremaining: 764ms\n",
            "167:\tlearn: 0.3938802\ttotal: 154ms\tremaining: 764ms\n",
            "168:\tlearn: 0.3934078\ttotal: 155ms\tremaining: 764ms\n",
            "169:\tlearn: 0.3928420\ttotal: 156ms\tremaining: 763ms\n",
            "170:\tlearn: 0.3923846\ttotal: 157ms\tremaining: 763ms\n",
            "171:\tlearn: 0.3922129\ttotal: 158ms\tremaining: 761ms\n",
            "172:\tlearn: 0.3917353\ttotal: 159ms\tremaining: 762ms\n",
            "173:\tlearn: 0.3912751\ttotal: 161ms\tremaining: 762ms\n",
            "174:\tlearn: 0.3909584\ttotal: 162ms\tremaining: 763ms\n",
            "175:\tlearn: 0.3904389\ttotal: 163ms\tremaining: 762ms\n",
            "176:\tlearn: 0.3899590\ttotal: 164ms\tremaining: 762ms\n",
            "177:\tlearn: 0.3895181\ttotal: 165ms\tremaining: 761ms\n",
            "178:\tlearn: 0.3893323\ttotal: 166ms\tremaining: 759ms\n",
            "179:\tlearn: 0.3889277\ttotal: 166ms\tremaining: 758ms\n",
            "180:\tlearn: 0.3884834\ttotal: 167ms\tremaining: 758ms\n",
            "181:\tlearn: 0.3882355\ttotal: 168ms\tremaining: 757ms\n",
            "182:\tlearn: 0.3881609\ttotal: 169ms\tremaining: 753ms\n",
            "183:\tlearn: 0.3878268\ttotal: 170ms\tremaining: 753ms\n",
            "184:\tlearn: 0.3874288\ttotal: 171ms\tremaining: 754ms\n",
            "185:\tlearn: 0.3870234\ttotal: 172ms\tremaining: 754ms\n",
            "186:\tlearn: 0.3866039\ttotal: 174ms\tremaining: 754ms\n",
            "187:\tlearn: 0.3860225\ttotal: 174ms\tremaining: 754ms\n",
            "188:\tlearn: 0.3857075\ttotal: 175ms\tremaining: 752ms\n",
            "189:\tlearn: 0.3850969\ttotal: 176ms\tremaining: 752ms\n",
            "190:\tlearn: 0.3847908\ttotal: 177ms\tremaining: 751ms\n",
            "191:\tlearn: 0.3842649\ttotal: 178ms\tremaining: 751ms\n",
            "192:\tlearn: 0.3839891\ttotal: 179ms\tremaining: 750ms\n",
            "193:\tlearn: 0.3836564\ttotal: 180ms\tremaining: 749ms\n",
            "194:\tlearn: 0.3831574\ttotal: 181ms\tremaining: 749ms\n",
            "195:\tlearn: 0.3827185\ttotal: 182ms\tremaining: 748ms\n",
            "196:\tlearn: 0.3824264\ttotal: 184ms\tremaining: 748ms\n",
            "197:\tlearn: 0.3820995\ttotal: 185ms\tremaining: 748ms\n",
            "198:\tlearn: 0.3816691\ttotal: 186ms\tremaining: 747ms\n",
            "199:\tlearn: 0.3813805\ttotal: 187ms\tremaining: 747ms\n",
            "200:\tlearn: 0.3811672\ttotal: 188ms\tremaining: 746ms\n",
            "201:\tlearn: 0.3806103\ttotal: 189ms\tremaining: 745ms\n",
            "202:\tlearn: 0.3801120\ttotal: 190ms\tremaining: 745ms\n",
            "203:\tlearn: 0.3797092\ttotal: 191ms\tremaining: 745ms\n",
            "204:\tlearn: 0.3793863\ttotal: 192ms\tremaining: 745ms\n",
            "205:\tlearn: 0.3791032\ttotal: 193ms\tremaining: 744ms\n",
            "206:\tlearn: 0.3787420\ttotal: 194ms\tremaining: 743ms\n",
            "207:\tlearn: 0.3782924\ttotal: 195ms\tremaining: 743ms\n",
            "208:\tlearn: 0.3781340\ttotal: 196ms\tremaining: 743ms\n",
            "209:\tlearn: 0.3778713\ttotal: 197ms\tremaining: 742ms\n",
            "210:\tlearn: 0.3775649\ttotal: 198ms\tremaining: 741ms\n",
            "211:\tlearn: 0.3771634\ttotal: 199ms\tremaining: 740ms\n",
            "212:\tlearn: 0.3769899\ttotal: 200ms\tremaining: 739ms\n",
            "213:\tlearn: 0.3765874\ttotal: 201ms\tremaining: 739ms\n",
            "214:\tlearn: 0.3763408\ttotal: 202ms\tremaining: 739ms\n",
            "215:\tlearn: 0.3759686\ttotal: 203ms\tremaining: 738ms\n",
            "216:\tlearn: 0.3759172\ttotal: 204ms\tremaining: 736ms\n",
            "217:\tlearn: 0.3753612\ttotal: 205ms\tremaining: 735ms\n",
            "218:\tlearn: 0.3748562\ttotal: 206ms\tremaining: 734ms\n",
            "219:\tlearn: 0.3746836\ttotal: 207ms\tremaining: 733ms\n",
            "220:\tlearn: 0.3744056\ttotal: 208ms\tremaining: 733ms\n",
            "221:\tlearn: 0.3742249\ttotal: 209ms\tremaining: 732ms\n",
            "222:\tlearn: 0.3740932\ttotal: 210ms\tremaining: 732ms\n",
            "223:\tlearn: 0.3738526\ttotal: 211ms\tremaining: 732ms\n",
            "224:\tlearn: 0.3735892\ttotal: 212ms\tremaining: 731ms\n",
            "225:\tlearn: 0.3734082\ttotal: 213ms\tremaining: 730ms\n",
            "226:\tlearn: 0.3730209\ttotal: 214ms\tremaining: 729ms\n",
            "227:\tlearn: 0.3725598\ttotal: 215ms\tremaining: 728ms\n",
            "228:\tlearn: 0.3721753\ttotal: 216ms\tremaining: 728ms\n",
            "229:\tlearn: 0.3719465\ttotal: 217ms\tremaining: 727ms\n",
            "230:\tlearn: 0.3717410\ttotal: 218ms\tremaining: 726ms\n",
            "231:\tlearn: 0.3716508\ttotal: 219ms\tremaining: 726ms\n",
            "232:\tlearn: 0.3714137\ttotal: 221ms\tremaining: 726ms\n",
            "233:\tlearn: 0.3711820\ttotal: 222ms\tremaining: 725ms\n",
            "234:\tlearn: 0.3710553\ttotal: 223ms\tremaining: 725ms\n",
            "235:\tlearn: 0.3707250\ttotal: 224ms\tremaining: 724ms\n",
            "236:\tlearn: 0.3703443\ttotal: 225ms\tremaining: 724ms\n",
            "237:\tlearn: 0.3700425\ttotal: 226ms\tremaining: 723ms\n",
            "238:\tlearn: 0.3697971\ttotal: 228ms\tremaining: 725ms\n",
            "239:\tlearn: 0.3695781\ttotal: 228ms\tremaining: 724ms\n",
            "240:\tlearn: 0.3694109\ttotal: 230ms\tremaining: 723ms\n",
            "241:\tlearn: 0.3691390\ttotal: 231ms\tremaining: 723ms\n",
            "242:\tlearn: 0.3688676\ttotal: 232ms\tremaining: 723ms\n",
            "243:\tlearn: 0.3685241\ttotal: 233ms\tremaining: 722ms\n",
            "244:\tlearn: 0.3683809\ttotal: 234ms\tremaining: 721ms\n",
            "245:\tlearn: 0.3681185\ttotal: 235ms\tremaining: 720ms\n",
            "246:\tlearn: 0.3678011\ttotal: 236ms\tremaining: 719ms\n",
            "247:\tlearn: 0.3672644\ttotal: 237ms\tremaining: 718ms\n",
            "248:\tlearn: 0.3670221\ttotal: 238ms\tremaining: 718ms\n",
            "249:\tlearn: 0.3669879\ttotal: 239ms\tremaining: 716ms\n",
            "250:\tlearn: 0.3666534\ttotal: 240ms\tremaining: 715ms\n",
            "251:\tlearn: 0.3663617\ttotal: 241ms\tremaining: 715ms\n",
            "252:\tlearn: 0.3659765\ttotal: 242ms\tremaining: 714ms\n",
            "253:\tlearn: 0.3657934\ttotal: 243ms\tremaining: 713ms\n",
            "254:\tlearn: 0.3657556\ttotal: 243ms\tremaining: 711ms\n",
            "255:\tlearn: 0.3655216\ttotal: 244ms\tremaining: 711ms\n",
            "256:\tlearn: 0.3652541\ttotal: 246ms\tremaining: 710ms\n",
            "257:\tlearn: 0.3649422\ttotal: 247ms\tremaining: 709ms\n",
            "258:\tlearn: 0.3646585\ttotal: 248ms\tremaining: 708ms\n",
            "259:\tlearn: 0.3642420\ttotal: 249ms\tremaining: 708ms\n",
            "260:\tlearn: 0.3641466\ttotal: 250ms\tremaining: 707ms\n",
            "261:\tlearn: 0.3639600\ttotal: 251ms\tremaining: 707ms\n",
            "262:\tlearn: 0.3639117\ttotal: 252ms\tremaining: 705ms\n",
            "263:\tlearn: 0.3638979\ttotal: 252ms\tremaining: 703ms\n",
            "264:\tlearn: 0.3637623\ttotal: 253ms\tremaining: 702ms\n",
            "265:\tlearn: 0.3634801\ttotal: 255ms\tremaining: 703ms\n",
            "266:\tlearn: 0.3633587\ttotal: 256ms\tremaining: 703ms\n",
            "267:\tlearn: 0.3629399\ttotal: 257ms\tremaining: 702ms\n",
            "268:\tlearn: 0.3627018\ttotal: 258ms\tremaining: 701ms\n",
            "269:\tlearn: 0.3624184\ttotal: 259ms\tremaining: 700ms\n",
            "270:\tlearn: 0.3621905\ttotal: 260ms\tremaining: 700ms\n",
            "271:\tlearn: 0.3619882\ttotal: 261ms\tremaining: 699ms\n",
            "272:\tlearn: 0.3617625\ttotal: 262ms\tremaining: 699ms\n",
            "273:\tlearn: 0.3615210\ttotal: 263ms\tremaining: 698ms\n",
            "274:\tlearn: 0.3612415\ttotal: 264ms\tremaining: 697ms\n",
            "275:\tlearn: 0.3610288\ttotal: 265ms\tremaining: 696ms\n",
            "276:\tlearn: 0.3609965\ttotal: 266ms\tremaining: 694ms\n",
            "277:\tlearn: 0.3608556\ttotal: 267ms\tremaining: 693ms\n",
            "278:\tlearn: 0.3606301\ttotal: 268ms\tremaining: 692ms\n",
            "279:\tlearn: 0.3601491\ttotal: 269ms\tremaining: 691ms\n",
            "280:\tlearn: 0.3599356\ttotal: 270ms\tremaining: 691ms\n",
            "281:\tlearn: 0.3598269\ttotal: 271ms\tremaining: 690ms\n",
            "282:\tlearn: 0.3594704\ttotal: 272ms\tremaining: 689ms\n",
            "283:\tlearn: 0.3591554\ttotal: 273ms\tremaining: 689ms\n",
            "284:\tlearn: 0.3590824\ttotal: 274ms\tremaining: 687ms\n",
            "285:\tlearn: 0.3589512\ttotal: 275ms\tremaining: 686ms\n",
            "286:\tlearn: 0.3586623\ttotal: 276ms\tremaining: 686ms\n",
            "287:\tlearn: 0.3584231\ttotal: 277ms\tremaining: 685ms\n",
            "288:\tlearn: 0.3581465\ttotal: 278ms\tremaining: 684ms\n",
            "289:\tlearn: 0.3578883\ttotal: 279ms\tremaining: 683ms\n",
            "290:\tlearn: 0.3578339\ttotal: 280ms\tremaining: 681ms\n",
            "291:\tlearn: 0.3575637\ttotal: 280ms\tremaining: 680ms\n",
            "292:\tlearn: 0.3575308\ttotal: 281ms\tremaining: 678ms\n",
            "293:\tlearn: 0.3573950\ttotal: 282ms\tremaining: 677ms\n",
            "294:\tlearn: 0.3572263\ttotal: 283ms\tremaining: 676ms\n",
            "295:\tlearn: 0.3570312\ttotal: 284ms\tremaining: 675ms\n",
            "296:\tlearn: 0.3567818\ttotal: 285ms\tremaining: 674ms\n",
            "297:\tlearn: 0.3565083\ttotal: 286ms\tremaining: 674ms\n",
            "298:\tlearn: 0.3563110\ttotal: 287ms\tremaining: 673ms\n",
            "299:\tlearn: 0.3561891\ttotal: 288ms\tremaining: 672ms\n",
            "300:\tlearn: 0.3558778\ttotal: 289ms\tremaining: 671ms\n",
            "301:\tlearn: 0.3556630\ttotal: 290ms\tremaining: 670ms\n",
            "302:\tlearn: 0.3555792\ttotal: 291ms\tremaining: 669ms\n",
            "303:\tlearn: 0.3555031\ttotal: 291ms\tremaining: 667ms\n",
            "304:\tlearn: 0.3554309\ttotal: 292ms\tremaining: 666ms\n",
            "305:\tlearn: 0.3552674\ttotal: 293ms\tremaining: 665ms\n",
            "306:\tlearn: 0.3551019\ttotal: 294ms\tremaining: 664ms\n",
            "307:\tlearn: 0.3547497\ttotal: 295ms\tremaining: 663ms\n",
            "308:\tlearn: 0.3545887\ttotal: 296ms\tremaining: 662ms\n",
            "309:\tlearn: 0.3544781\ttotal: 297ms\tremaining: 661ms\n",
            "310:\tlearn: 0.3542110\ttotal: 298ms\tremaining: 661ms\n",
            "311:\tlearn: 0.3540800\ttotal: 299ms\tremaining: 660ms\n",
            "312:\tlearn: 0.3537839\ttotal: 300ms\tremaining: 659ms\n",
            "313:\tlearn: 0.3535438\ttotal: 301ms\tremaining: 658ms\n",
            "314:\tlearn: 0.3534586\ttotal: 302ms\tremaining: 658ms\n",
            "315:\tlearn: 0.3531183\ttotal: 303ms\tremaining: 657ms\n",
            "316:\tlearn: 0.3529237\ttotal: 304ms\tremaining: 656ms\n",
            "317:\tlearn: 0.3528893\ttotal: 305ms\tremaining: 654ms\n",
            "318:\tlearn: 0.3525713\ttotal: 306ms\tremaining: 653ms\n",
            "319:\tlearn: 0.3524857\ttotal: 307ms\tremaining: 652ms\n",
            "320:\tlearn: 0.3523461\ttotal: 308ms\tremaining: 651ms\n",
            "321:\tlearn: 0.3521294\ttotal: 309ms\tremaining: 650ms\n",
            "322:\tlearn: 0.3518542\ttotal: 310ms\tremaining: 650ms\n",
            "323:\tlearn: 0.3516328\ttotal: 311ms\tremaining: 649ms\n",
            "324:\tlearn: 0.3514217\ttotal: 312ms\tremaining: 648ms\n",
            "325:\tlearn: 0.3510791\ttotal: 313ms\tremaining: 647ms\n",
            "326:\tlearn: 0.3509592\ttotal: 314ms\tremaining: 646ms\n",
            "327:\tlearn: 0.3508536\ttotal: 315ms\tremaining: 645ms\n",
            "328:\tlearn: 0.3505890\ttotal: 316ms\tremaining: 644ms\n",
            "329:\tlearn: 0.3503372\ttotal: 317ms\tremaining: 643ms\n",
            "330:\tlearn: 0.3502871\ttotal: 317ms\tremaining: 642ms\n",
            "331:\tlearn: 0.3501564\ttotal: 318ms\tremaining: 641ms\n",
            "332:\tlearn: 0.3500591\ttotal: 319ms\tremaining: 640ms\n",
            "333:\tlearn: 0.3496902\ttotal: 320ms\tremaining: 639ms\n",
            "334:\tlearn: 0.3495105\ttotal: 321ms\tremaining: 638ms\n",
            "335:\tlearn: 0.3494402\ttotal: 322ms\tremaining: 637ms\n",
            "336:\tlearn: 0.3491772\ttotal: 323ms\tremaining: 636ms\n",
            "337:\tlearn: 0.3490262\ttotal: 324ms\tremaining: 635ms\n",
            "338:\tlearn: 0.3488759\ttotal: 325ms\tremaining: 634ms\n",
            "339:\tlearn: 0.3488535\ttotal: 326ms\tremaining: 632ms\n",
            "340:\tlearn: 0.3486274\ttotal: 327ms\tremaining: 631ms\n",
            "341:\tlearn: 0.3484284\ttotal: 327ms\tremaining: 630ms\n",
            "342:\tlearn: 0.3482747\ttotal: 328ms\tremaining: 629ms\n",
            "343:\tlearn: 0.3482136\ttotal: 330ms\tremaining: 629ms\n",
            "344:\tlearn: 0.3480822\ttotal: 331ms\tremaining: 628ms\n",
            "345:\tlearn: 0.3480553\ttotal: 331ms\tremaining: 626ms\n",
            "346:\tlearn: 0.3478519\ttotal: 333ms\tremaining: 626ms\n",
            "347:\tlearn: 0.3475758\ttotal: 334ms\tremaining: 625ms\n",
            "348:\tlearn: 0.3473477\ttotal: 334ms\tremaining: 624ms\n",
            "349:\tlearn: 0.3471372\ttotal: 335ms\tremaining: 623ms\n",
            "350:\tlearn: 0.3468853\ttotal: 336ms\tremaining: 622ms\n",
            "351:\tlearn: 0.3465693\ttotal: 337ms\tremaining: 621ms\n",
            "352:\tlearn: 0.3463355\ttotal: 338ms\tremaining: 620ms\n",
            "353:\tlearn: 0.3461395\ttotal: 339ms\tremaining: 619ms\n",
            "354:\tlearn: 0.3459934\ttotal: 340ms\tremaining: 618ms\n",
            "355:\tlearn: 0.3457952\ttotal: 341ms\tremaining: 617ms\n",
            "356:\tlearn: 0.3457616\ttotal: 342ms\tremaining: 615ms\n",
            "357:\tlearn: 0.3455372\ttotal: 342ms\tremaining: 614ms\n",
            "358:\tlearn: 0.3454304\ttotal: 343ms\tremaining: 613ms\n",
            "359:\tlearn: 0.3451250\ttotal: 344ms\tremaining: 612ms\n",
            "360:\tlearn: 0.3449582\ttotal: 345ms\tremaining: 611ms\n",
            "361:\tlearn: 0.3447794\ttotal: 346ms\tremaining: 610ms\n",
            "362:\tlearn: 0.3447168\ttotal: 347ms\tremaining: 609ms\n",
            "363:\tlearn: 0.3446638\ttotal: 348ms\tremaining: 607ms\n",
            "364:\tlearn: 0.3445918\ttotal: 349ms\tremaining: 606ms\n",
            "365:\tlearn: 0.3444317\ttotal: 350ms\tremaining: 606ms\n",
            "366:\tlearn: 0.3443755\ttotal: 350ms\tremaining: 604ms\n",
            "367:\tlearn: 0.3440909\ttotal: 351ms\tremaining: 603ms\n",
            "368:\tlearn: 0.3438497\ttotal: 352ms\tremaining: 602ms\n",
            "369:\tlearn: 0.3436781\ttotal: 353ms\tremaining: 601ms\n",
            "370:\tlearn: 0.3434452\ttotal: 354ms\tremaining: 600ms\n",
            "371:\tlearn: 0.3432822\ttotal: 355ms\tremaining: 599ms\n",
            "372:\tlearn: 0.3429731\ttotal: 356ms\tremaining: 598ms\n",
            "373:\tlearn: 0.3427904\ttotal: 357ms\tremaining: 597ms\n",
            "374:\tlearn: 0.3425785\ttotal: 358ms\tremaining: 596ms\n",
            "375:\tlearn: 0.3423983\ttotal: 359ms\tremaining: 595ms\n",
            "376:\tlearn: 0.3422852\ttotal: 359ms\tremaining: 594ms\n",
            "377:\tlearn: 0.3421236\ttotal: 360ms\tremaining: 593ms\n",
            "378:\tlearn: 0.3419636\ttotal: 361ms\tremaining: 592ms\n",
            "379:\tlearn: 0.3417493\ttotal: 362ms\tremaining: 591ms\n",
            "380:\tlearn: 0.3415973\ttotal: 363ms\tremaining: 590ms\n",
            "381:\tlearn: 0.3414672\ttotal: 365ms\tremaining: 590ms\n",
            "382:\tlearn: 0.3413448\ttotal: 366ms\tremaining: 589ms\n",
            "383:\tlearn: 0.3413081\ttotal: 366ms\tremaining: 588ms\n",
            "384:\tlearn: 0.3411623\ttotal: 367ms\tremaining: 587ms\n",
            "385:\tlearn: 0.3409943\ttotal: 368ms\tremaining: 586ms\n",
            "386:\tlearn: 0.3407549\ttotal: 369ms\tremaining: 585ms\n",
            "387:\tlearn: 0.3406235\ttotal: 370ms\tremaining: 584ms\n",
            "388:\tlearn: 0.3404101\ttotal: 371ms\tremaining: 583ms\n",
            "389:\tlearn: 0.3402329\ttotal: 372ms\tremaining: 582ms\n",
            "390:\tlearn: 0.3400695\ttotal: 373ms\tremaining: 581ms\n",
            "391:\tlearn: 0.3398392\ttotal: 374ms\tremaining: 580ms\n",
            "392:\tlearn: 0.3397291\ttotal: 375ms\tremaining: 579ms\n",
            "393:\tlearn: 0.3396926\ttotal: 376ms\tremaining: 578ms\n",
            "394:\tlearn: 0.3394283\ttotal: 377ms\tremaining: 577ms\n",
            "395:\tlearn: 0.3393491\ttotal: 377ms\tremaining: 576ms\n",
            "396:\tlearn: 0.3392280\ttotal: 378ms\tremaining: 575ms\n",
            "397:\tlearn: 0.3390177\ttotal: 379ms\tremaining: 574ms\n",
            "398:\tlearn: 0.3388664\ttotal: 380ms\tremaining: 573ms\n",
            "399:\tlearn: 0.3386558\ttotal: 382ms\tremaining: 572ms\n",
            "400:\tlearn: 0.3385376\ttotal: 382ms\tremaining: 571ms\n",
            "401:\tlearn: 0.3383908\ttotal: 383ms\tremaining: 570ms\n",
            "402:\tlearn: 0.3382824\ttotal: 384ms\tremaining: 569ms\n",
            "403:\tlearn: 0.3381458\ttotal: 385ms\tremaining: 568ms\n",
            "404:\tlearn: 0.3380402\ttotal: 386ms\tremaining: 567ms\n",
            "405:\tlearn: 0.3378370\ttotal: 387ms\tremaining: 566ms\n",
            "406:\tlearn: 0.3376647\ttotal: 388ms\tremaining: 565ms\n",
            "407:\tlearn: 0.3375500\ttotal: 389ms\tremaining: 564ms\n",
            "408:\tlearn: 0.3374393\ttotal: 390ms\tremaining: 563ms\n",
            "409:\tlearn: 0.3373339\ttotal: 390ms\tremaining: 562ms\n",
            "410:\tlearn: 0.3372343\ttotal: 391ms\tremaining: 560ms\n",
            "411:\tlearn: 0.3369938\ttotal: 392ms\tremaining: 559ms\n",
            "412:\tlearn: 0.3366376\ttotal: 393ms\tremaining: 558ms\n",
            "413:\tlearn: 0.3362983\ttotal: 394ms\tremaining: 558ms\n",
            "414:\tlearn: 0.3360915\ttotal: 395ms\tremaining: 557ms\n",
            "415:\tlearn: 0.3358396\ttotal: 396ms\tremaining: 556ms\n",
            "416:\tlearn: 0.3356738\ttotal: 397ms\tremaining: 555ms\n",
            "417:\tlearn: 0.3352852\ttotal: 398ms\tremaining: 554ms\n",
            "418:\tlearn: 0.3350936\ttotal: 399ms\tremaining: 553ms\n",
            "419:\tlearn: 0.3349358\ttotal: 400ms\tremaining: 552ms\n",
            "420:\tlearn: 0.3348715\ttotal: 401ms\tremaining: 551ms\n",
            "421:\tlearn: 0.3347906\ttotal: 402ms\tremaining: 550ms\n",
            "422:\tlearn: 0.3347232\ttotal: 403ms\tremaining: 549ms\n",
            "423:\tlearn: 0.3345584\ttotal: 404ms\tremaining: 548ms\n",
            "424:\tlearn: 0.3345461\ttotal: 404ms\tremaining: 547ms\n",
            "425:\tlearn: 0.3345075\ttotal: 405ms\tremaining: 546ms\n",
            "426:\tlearn: 0.3343702\ttotal: 406ms\tremaining: 545ms\n",
            "427:\tlearn: 0.3341328\ttotal: 407ms\tremaining: 544ms\n",
            "428:\tlearn: 0.3340056\ttotal: 408ms\tremaining: 543ms\n",
            "429:\tlearn: 0.3339261\ttotal: 409ms\tremaining: 542ms\n",
            "430:\tlearn: 0.3337254\ttotal: 410ms\tremaining: 541ms\n",
            "431:\tlearn: 0.3336048\ttotal: 411ms\tremaining: 541ms\n",
            "432:\tlearn: 0.3334674\ttotal: 412ms\tremaining: 540ms\n",
            "433:\tlearn: 0.3334051\ttotal: 413ms\tremaining: 539ms\n",
            "434:\tlearn: 0.3330655\ttotal: 414ms\tremaining: 538ms\n",
            "435:\tlearn: 0.3329217\ttotal: 416ms\tremaining: 538ms\n",
            "436:\tlearn: 0.3327599\ttotal: 417ms\tremaining: 537ms\n",
            "437:\tlearn: 0.3326235\ttotal: 418ms\tremaining: 536ms\n",
            "438:\tlearn: 0.3325195\ttotal: 419ms\tremaining: 535ms\n",
            "439:\tlearn: 0.3323954\ttotal: 419ms\tremaining: 534ms\n",
            "440:\tlearn: 0.3323044\ttotal: 420ms\tremaining: 533ms\n",
            "441:\tlearn: 0.3320781\ttotal: 421ms\tremaining: 532ms\n",
            "442:\tlearn: 0.3318806\ttotal: 422ms\tremaining: 531ms\n",
            "443:\tlearn: 0.3317824\ttotal: 423ms\tremaining: 530ms\n",
            "444:\tlearn: 0.3315051\ttotal: 424ms\tremaining: 529ms\n",
            "445:\tlearn: 0.3311891\ttotal: 425ms\tremaining: 528ms\n",
            "446:\tlearn: 0.3309836\ttotal: 426ms\tremaining: 527ms\n",
            "447:\tlearn: 0.3308351\ttotal: 427ms\tremaining: 526ms\n",
            "448:\tlearn: 0.3307473\ttotal: 428ms\tremaining: 525ms\n",
            "449:\tlearn: 0.3306856\ttotal: 429ms\tremaining: 525ms\n",
            "450:\tlearn: 0.3306026\ttotal: 430ms\tremaining: 524ms\n",
            "451:\tlearn: 0.3304716\ttotal: 431ms\tremaining: 523ms\n",
            "452:\tlearn: 0.3303300\ttotal: 432ms\tremaining: 522ms\n",
            "453:\tlearn: 0.3302446\ttotal: 433ms\tremaining: 521ms\n",
            "454:\tlearn: 0.3300690\ttotal: 434ms\tremaining: 520ms\n",
            "455:\tlearn: 0.3296801\ttotal: 435ms\tremaining: 519ms\n",
            "456:\tlearn: 0.3296080\ttotal: 436ms\tremaining: 518ms\n",
            "457:\tlearn: 0.3293527\ttotal: 437ms\tremaining: 517ms\n",
            "458:\tlearn: 0.3289965\ttotal: 438ms\tremaining: 516ms\n",
            "459:\tlearn: 0.3287311\ttotal: 439ms\tremaining: 515ms\n",
            "460:\tlearn: 0.3286180\ttotal: 440ms\tremaining: 514ms\n",
            "461:\tlearn: 0.3285254\ttotal: 441ms\tremaining: 513ms\n",
            "462:\tlearn: 0.3283535\ttotal: 442ms\tremaining: 512ms\n",
            "463:\tlearn: 0.3282818\ttotal: 443ms\tremaining: 511ms\n",
            "464:\tlearn: 0.3282034\ttotal: 444ms\tremaining: 511ms\n",
            "465:\tlearn: 0.3281407\ttotal: 445ms\tremaining: 510ms\n",
            "466:\tlearn: 0.3280817\ttotal: 446ms\tremaining: 508ms\n",
            "467:\tlearn: 0.3278593\ttotal: 446ms\tremaining: 507ms\n",
            "468:\tlearn: 0.3276342\ttotal: 447ms\tremaining: 506ms\n",
            "469:\tlearn: 0.3275546\ttotal: 448ms\tremaining: 506ms\n",
            "470:\tlearn: 0.3274262\ttotal: 449ms\tremaining: 505ms\n",
            "471:\tlearn: 0.3271629\ttotal: 451ms\tremaining: 504ms\n",
            "472:\tlearn: 0.3269617\ttotal: 452ms\tremaining: 503ms\n",
            "473:\tlearn: 0.3268351\ttotal: 453ms\tremaining: 502ms\n",
            "474:\tlearn: 0.3267552\ttotal: 453ms\tremaining: 501ms\n",
            "475:\tlearn: 0.3265311\ttotal: 455ms\tremaining: 500ms\n",
            "476:\tlearn: 0.3262547\ttotal: 456ms\tremaining: 500ms\n",
            "477:\tlearn: 0.3261147\ttotal: 457ms\tremaining: 499ms\n",
            "478:\tlearn: 0.3259863\ttotal: 458ms\tremaining: 498ms\n",
            "479:\tlearn: 0.3257950\ttotal: 459ms\tremaining: 497ms\n",
            "480:\tlearn: 0.3255734\ttotal: 460ms\tremaining: 496ms\n",
            "481:\tlearn: 0.3254422\ttotal: 461ms\tremaining: 495ms\n",
            "482:\tlearn: 0.3252931\ttotal: 462ms\tremaining: 494ms\n",
            "483:\tlearn: 0.3251150\ttotal: 463ms\tremaining: 493ms\n",
            "484:\tlearn: 0.3250960\ttotal: 463ms\tremaining: 492ms\n",
            "485:\tlearn: 0.3250522\ttotal: 464ms\tremaining: 491ms\n",
            "486:\tlearn: 0.3248153\ttotal: 465ms\tremaining: 490ms\n",
            "487:\tlearn: 0.3246078\ttotal: 466ms\tremaining: 489ms\n",
            "488:\tlearn: 0.3245224\ttotal: 467ms\tremaining: 488ms\n",
            "489:\tlearn: 0.3242449\ttotal: 468ms\tremaining: 487ms\n",
            "490:\tlearn: 0.3242010\ttotal: 469ms\tremaining: 486ms\n",
            "491:\tlearn: 0.3239773\ttotal: 470ms\tremaining: 485ms\n",
            "492:\tlearn: 0.3239359\ttotal: 471ms\tremaining: 484ms\n",
            "493:\tlearn: 0.3238087\ttotal: 471ms\tremaining: 483ms\n",
            "494:\tlearn: 0.3237711\ttotal: 472ms\tremaining: 482ms\n",
            "495:\tlearn: 0.3236540\ttotal: 473ms\tremaining: 481ms\n",
            "496:\tlearn: 0.3234241\ttotal: 474ms\tremaining: 480ms\n",
            "497:\tlearn: 0.3233256\ttotal: 475ms\tremaining: 479ms\n",
            "498:\tlearn: 0.3232357\ttotal: 476ms\tremaining: 478ms\n",
            "499:\tlearn: 0.3230512\ttotal: 477ms\tremaining: 477ms\n",
            "500:\tlearn: 0.3228281\ttotal: 478ms\tremaining: 476ms\n",
            "501:\tlearn: 0.3226101\ttotal: 479ms\tremaining: 475ms\n",
            "502:\tlearn: 0.3224446\ttotal: 480ms\tremaining: 474ms\n",
            "503:\tlearn: 0.3223714\ttotal: 481ms\tremaining: 473ms\n",
            "504:\tlearn: 0.3223316\ttotal: 481ms\tremaining: 472ms\n",
            "505:\tlearn: 0.3222414\ttotal: 482ms\tremaining: 471ms\n",
            "506:\tlearn: 0.3220940\ttotal: 483ms\tremaining: 470ms\n",
            "507:\tlearn: 0.3220157\ttotal: 484ms\tremaining: 469ms\n",
            "508:\tlearn: 0.3218073\ttotal: 485ms\tremaining: 468ms\n",
            "509:\tlearn: 0.3217166\ttotal: 486ms\tremaining: 467ms\n",
            "510:\tlearn: 0.3214533\ttotal: 487ms\tremaining: 466ms\n",
            "511:\tlearn: 0.3212001\ttotal: 488ms\tremaining: 465ms\n",
            "512:\tlearn: 0.3210755\ttotal: 489ms\tremaining: 464ms\n",
            "513:\tlearn: 0.3208446\ttotal: 490ms\tremaining: 463ms\n",
            "514:\tlearn: 0.3206915\ttotal: 491ms\tremaining: 462ms\n",
            "515:\tlearn: 0.3205582\ttotal: 492ms\tremaining: 461ms\n",
            "516:\tlearn: 0.3203930\ttotal: 493ms\tremaining: 461ms\n",
            "517:\tlearn: 0.3202653\ttotal: 494ms\tremaining: 459ms\n",
            "518:\tlearn: 0.3201074\ttotal: 495ms\tremaining: 459ms\n",
            "519:\tlearn: 0.3200192\ttotal: 496ms\tremaining: 458ms\n",
            "520:\tlearn: 0.3198380\ttotal: 497ms\tremaining: 457ms\n",
            "521:\tlearn: 0.3196930\ttotal: 497ms\tremaining: 456ms\n",
            "522:\tlearn: 0.3196728\ttotal: 498ms\tremaining: 454ms\n",
            "523:\tlearn: 0.3194062\ttotal: 499ms\tremaining: 453ms\n",
            "524:\tlearn: 0.3192931\ttotal: 500ms\tremaining: 452ms\n",
            "525:\tlearn: 0.3190593\ttotal: 501ms\tremaining: 452ms\n",
            "526:\tlearn: 0.3188037\ttotal: 502ms\tremaining: 451ms\n",
            "527:\tlearn: 0.3186801\ttotal: 503ms\tremaining: 450ms\n",
            "528:\tlearn: 0.3186355\ttotal: 504ms\tremaining: 449ms\n",
            "529:\tlearn: 0.3184541\ttotal: 505ms\tremaining: 448ms\n",
            "530:\tlearn: 0.3181584\ttotal: 506ms\tremaining: 447ms\n",
            "531:\tlearn: 0.3180359\ttotal: 507ms\tremaining: 446ms\n",
            "532:\tlearn: 0.3179149\ttotal: 508ms\tremaining: 445ms\n",
            "533:\tlearn: 0.3177591\ttotal: 508ms\tremaining: 444ms\n",
            "534:\tlearn: 0.3175004\ttotal: 509ms\tremaining: 443ms\n",
            "535:\tlearn: 0.3174433\ttotal: 510ms\tremaining: 442ms\n",
            "536:\tlearn: 0.3173439\ttotal: 511ms\tremaining: 441ms\n",
            "537:\tlearn: 0.3172841\ttotal: 512ms\tremaining: 440ms\n",
            "538:\tlearn: 0.3171746\ttotal: 513ms\tremaining: 439ms\n",
            "539:\tlearn: 0.3170911\ttotal: 514ms\tremaining: 438ms\n",
            "540:\tlearn: 0.3169315\ttotal: 515ms\tremaining: 437ms\n",
            "541:\tlearn: 0.3167025\ttotal: 516ms\tremaining: 436ms\n",
            "542:\tlearn: 0.3164471\ttotal: 516ms\tremaining: 435ms\n",
            "543:\tlearn: 0.3162556\ttotal: 517ms\tremaining: 434ms\n",
            "544:\tlearn: 0.3161728\ttotal: 518ms\tremaining: 433ms\n",
            "545:\tlearn: 0.3158400\ttotal: 519ms\tremaining: 432ms\n",
            "546:\tlearn: 0.3157156\ttotal: 520ms\tremaining: 431ms\n",
            "547:\tlearn: 0.3156179\ttotal: 521ms\tremaining: 430ms\n",
            "548:\tlearn: 0.3154716\ttotal: 522ms\tremaining: 429ms\n",
            "549:\tlearn: 0.3153807\ttotal: 523ms\tremaining: 428ms\n",
            "550:\tlearn: 0.3153498\ttotal: 524ms\tremaining: 427ms\n",
            "551:\tlearn: 0.3152479\ttotal: 525ms\tremaining: 426ms\n",
            "552:\tlearn: 0.3151395\ttotal: 526ms\tremaining: 425ms\n",
            "553:\tlearn: 0.3150570\ttotal: 527ms\tremaining: 424ms\n",
            "554:\tlearn: 0.3149341\ttotal: 528ms\tremaining: 423ms\n",
            "555:\tlearn: 0.3146901\ttotal: 529ms\tremaining: 422ms\n",
            "556:\tlearn: 0.3146531\ttotal: 530ms\tremaining: 421ms\n",
            "557:\tlearn: 0.3145676\ttotal: 531ms\tremaining: 420ms\n",
            "558:\tlearn: 0.3144306\ttotal: 532ms\tremaining: 419ms\n",
            "559:\tlearn: 0.3141758\ttotal: 533ms\tremaining: 419ms\n",
            "560:\tlearn: 0.3140568\ttotal: 534ms\tremaining: 418ms\n",
            "561:\tlearn: 0.3140097\ttotal: 535ms\tremaining: 417ms\n",
            "562:\tlearn: 0.3137901\ttotal: 535ms\tremaining: 416ms\n",
            "563:\tlearn: 0.3135600\ttotal: 536ms\tremaining: 415ms\n",
            "564:\tlearn: 0.3134532\ttotal: 537ms\tremaining: 414ms\n",
            "565:\tlearn: 0.3132838\ttotal: 538ms\tremaining: 413ms\n",
            "566:\tlearn: 0.3130459\ttotal: 540ms\tremaining: 412ms\n",
            "567:\tlearn: 0.3129224\ttotal: 541ms\tremaining: 411ms\n",
            "568:\tlearn: 0.3126523\ttotal: 542ms\tremaining: 410ms\n",
            "569:\tlearn: 0.3124349\ttotal: 543ms\tremaining: 409ms\n",
            "570:\tlearn: 0.3122215\ttotal: 544ms\tremaining: 408ms\n",
            "571:\tlearn: 0.3121226\ttotal: 545ms\tremaining: 407ms\n",
            "572:\tlearn: 0.3118321\ttotal: 546ms\tremaining: 407ms\n",
            "573:\tlearn: 0.3117575\ttotal: 546ms\tremaining: 406ms\n",
            "574:\tlearn: 0.3116055\ttotal: 547ms\tremaining: 405ms\n",
            "575:\tlearn: 0.3114819\ttotal: 548ms\tremaining: 403ms\n",
            "576:\tlearn: 0.3112094\ttotal: 549ms\tremaining: 403ms\n",
            "577:\tlearn: 0.3110374\ttotal: 550ms\tremaining: 402ms\n",
            "578:\tlearn: 0.3109829\ttotal: 551ms\tremaining: 401ms\n",
            "579:\tlearn: 0.3108395\ttotal: 552ms\tremaining: 400ms\n",
            "580:\tlearn: 0.3107525\ttotal: 553ms\tremaining: 399ms\n",
            "581:\tlearn: 0.3106436\ttotal: 554ms\tremaining: 398ms\n",
            "582:\tlearn: 0.3105879\ttotal: 555ms\tremaining: 397ms\n",
            "583:\tlearn: 0.3104692\ttotal: 556ms\tremaining: 396ms\n",
            "584:\tlearn: 0.3103024\ttotal: 557ms\tremaining: 395ms\n",
            "585:\tlearn: 0.3101517\ttotal: 558ms\tremaining: 394ms\n",
            "586:\tlearn: 0.3100150\ttotal: 559ms\tremaining: 393ms\n",
            "587:\tlearn: 0.3099403\ttotal: 560ms\tremaining: 392ms\n",
            "588:\tlearn: 0.3098057\ttotal: 561ms\tremaining: 391ms\n",
            "589:\tlearn: 0.3096343\ttotal: 562ms\tremaining: 391ms\n",
            "590:\tlearn: 0.3094909\ttotal: 563ms\tremaining: 390ms\n",
            "591:\tlearn: 0.3093737\ttotal: 564ms\tremaining: 389ms\n",
            "592:\tlearn: 0.3092734\ttotal: 565ms\tremaining: 388ms\n",
            "593:\tlearn: 0.3092169\ttotal: 566ms\tremaining: 387ms\n",
            "594:\tlearn: 0.3090971\ttotal: 567ms\tremaining: 386ms\n",
            "595:\tlearn: 0.3090695\ttotal: 568ms\tremaining: 385ms\n",
            "596:\tlearn: 0.3090282\ttotal: 569ms\tremaining: 384ms\n",
            "597:\tlearn: 0.3088636\ttotal: 570ms\tremaining: 383ms\n",
            "598:\tlearn: 0.3087245\ttotal: 571ms\tremaining: 382ms\n",
            "599:\tlearn: 0.3085572\ttotal: 572ms\tremaining: 381ms\n",
            "600:\tlearn: 0.3084608\ttotal: 573ms\tremaining: 380ms\n",
            "601:\tlearn: 0.3081890\ttotal: 574ms\tremaining: 379ms\n",
            "602:\tlearn: 0.3079984\ttotal: 575ms\tremaining: 378ms\n",
            "603:\tlearn: 0.3078999\ttotal: 576ms\tremaining: 377ms\n",
            "604:\tlearn: 0.3078628\ttotal: 576ms\tremaining: 376ms\n",
            "605:\tlearn: 0.3076297\ttotal: 577ms\tremaining: 375ms\n",
            "606:\tlearn: 0.3074469\ttotal: 578ms\tremaining: 374ms\n",
            "607:\tlearn: 0.3072794\ttotal: 579ms\tremaining: 373ms\n",
            "608:\tlearn: 0.3071023\ttotal: 580ms\tremaining: 373ms\n",
            "609:\tlearn: 0.3070295\ttotal: 581ms\tremaining: 372ms\n",
            "610:\tlearn: 0.3068968\ttotal: 582ms\tremaining: 371ms\n",
            "611:\tlearn: 0.3067728\ttotal: 583ms\tremaining: 370ms\n",
            "612:\tlearn: 0.3067032\ttotal: 584ms\tremaining: 369ms\n",
            "613:\tlearn: 0.3065977\ttotal: 585ms\tremaining: 368ms\n",
            "614:\tlearn: 0.3064967\ttotal: 586ms\tremaining: 367ms\n",
            "615:\tlearn: 0.3063850\ttotal: 586ms\tremaining: 366ms\n",
            "616:\tlearn: 0.3062684\ttotal: 588ms\tremaining: 365ms\n",
            "617:\tlearn: 0.3061657\ttotal: 589ms\tremaining: 364ms\n",
            "618:\tlearn: 0.3061187\ttotal: 590ms\tremaining: 363ms\n",
            "619:\tlearn: 0.3059704\ttotal: 591ms\tremaining: 362ms\n",
            "620:\tlearn: 0.3058751\ttotal: 592ms\tremaining: 361ms\n",
            "621:\tlearn: 0.3058536\ttotal: 592ms\tremaining: 360ms\n",
            "622:\tlearn: 0.3056883\ttotal: 593ms\tremaining: 359ms\n",
            "623:\tlearn: 0.3056627\ttotal: 594ms\tremaining: 358ms\n",
            "624:\tlearn: 0.3054821\ttotal: 595ms\tremaining: 357ms\n",
            "625:\tlearn: 0.3054169\ttotal: 596ms\tremaining: 356ms\n",
            "626:\tlearn: 0.3052870\ttotal: 597ms\tremaining: 355ms\n",
            "627:\tlearn: 0.3051068\ttotal: 598ms\tremaining: 354ms\n",
            "628:\tlearn: 0.3049114\ttotal: 599ms\tremaining: 353ms\n",
            "629:\tlearn: 0.3048342\ttotal: 600ms\tremaining: 352ms\n",
            "630:\tlearn: 0.3047897\ttotal: 600ms\tremaining: 351ms\n",
            "631:\tlearn: 0.3047734\ttotal: 601ms\tremaining: 350ms\n",
            "632:\tlearn: 0.3047303\ttotal: 602ms\tremaining: 349ms\n",
            "633:\tlearn: 0.3046428\ttotal: 603ms\tremaining: 348ms\n",
            "634:\tlearn: 0.3045088\ttotal: 604ms\tremaining: 347ms\n",
            "635:\tlearn: 0.3043602\ttotal: 605ms\tremaining: 346ms\n",
            "636:\tlearn: 0.3042810\ttotal: 606ms\tremaining: 345ms\n",
            "637:\tlearn: 0.3041480\ttotal: 607ms\tremaining: 344ms\n",
            "638:\tlearn: 0.3040139\ttotal: 608ms\tremaining: 343ms\n",
            "639:\tlearn: 0.3038066\ttotal: 609ms\tremaining: 342ms\n",
            "640:\tlearn: 0.3036697\ttotal: 609ms\tremaining: 341ms\n",
            "641:\tlearn: 0.3035944\ttotal: 610ms\tremaining: 340ms\n",
            "642:\tlearn: 0.3034788\ttotal: 611ms\tremaining: 339ms\n",
            "643:\tlearn: 0.3032147\ttotal: 612ms\tremaining: 338ms\n",
            "644:\tlearn: 0.3030146\ttotal: 613ms\tremaining: 337ms\n",
            "645:\tlearn: 0.3029992\ttotal: 614ms\tremaining: 336ms\n",
            "646:\tlearn: 0.3027774\ttotal: 615ms\tremaining: 335ms\n",
            "647:\tlearn: 0.3026722\ttotal: 616ms\tremaining: 334ms\n",
            "648:\tlearn: 0.3025423\ttotal: 616ms\tremaining: 333ms\n",
            "649:\tlearn: 0.3024409\ttotal: 617ms\tremaining: 332ms\n",
            "650:\tlearn: 0.3023504\ttotal: 618ms\tremaining: 332ms\n",
            "651:\tlearn: 0.3021713\ttotal: 619ms\tremaining: 331ms\n",
            "652:\tlearn: 0.3018927\ttotal: 620ms\tremaining: 330ms\n",
            "653:\tlearn: 0.3017224\ttotal: 621ms\tremaining: 329ms\n",
            "654:\tlearn: 0.3016224\ttotal: 622ms\tremaining: 328ms\n",
            "655:\tlearn: 0.3014754\ttotal: 623ms\tremaining: 327ms\n",
            "656:\tlearn: 0.3013213\ttotal: 624ms\tremaining: 326ms\n",
            "657:\tlearn: 0.3011613\ttotal: 625ms\tremaining: 325ms\n",
            "658:\tlearn: 0.3008590\ttotal: 626ms\tremaining: 324ms\n",
            "659:\tlearn: 0.3006615\ttotal: 627ms\tremaining: 323ms\n",
            "660:\tlearn: 0.3005130\ttotal: 628ms\tremaining: 322ms\n",
            "661:\tlearn: 0.3003540\ttotal: 628ms\tremaining: 321ms\n",
            "662:\tlearn: 0.3002779\ttotal: 629ms\tremaining: 320ms\n",
            "663:\tlearn: 0.3002459\ttotal: 630ms\tremaining: 319ms\n",
            "664:\tlearn: 0.3001236\ttotal: 631ms\tremaining: 318ms\n",
            "665:\tlearn: 0.3000423\ttotal: 632ms\tremaining: 317ms\n",
            "666:\tlearn: 0.2998400\ttotal: 633ms\tremaining: 316ms\n",
            "667:\tlearn: 0.2998319\ttotal: 634ms\tremaining: 315ms\n",
            "668:\tlearn: 0.2997131\ttotal: 635ms\tremaining: 314ms\n",
            "669:\tlearn: 0.2995248\ttotal: 636ms\tremaining: 313ms\n",
            "670:\tlearn: 0.2994391\ttotal: 637ms\tremaining: 312ms\n",
            "671:\tlearn: 0.2992794\ttotal: 638ms\tremaining: 311ms\n",
            "672:\tlearn: 0.2991853\ttotal: 639ms\tremaining: 310ms\n",
            "673:\tlearn: 0.2990784\ttotal: 639ms\tremaining: 309ms\n",
            "674:\tlearn: 0.2989195\ttotal: 640ms\tremaining: 308ms\n",
            "675:\tlearn: 0.2988311\ttotal: 641ms\tremaining: 307ms\n",
            "676:\tlearn: 0.2986915\ttotal: 642ms\tremaining: 306ms\n",
            "677:\tlearn: 0.2984972\ttotal: 643ms\tremaining: 305ms\n",
            "678:\tlearn: 0.2984710\ttotal: 644ms\tremaining: 304ms\n",
            "679:\tlearn: 0.2984557\ttotal: 644ms\tremaining: 303ms\n",
            "680:\tlearn: 0.2984352\ttotal: 645ms\tremaining: 302ms\n",
            "681:\tlearn: 0.2982681\ttotal: 646ms\tremaining: 301ms\n",
            "682:\tlearn: 0.2980492\ttotal: 647ms\tremaining: 300ms\n",
            "683:\tlearn: 0.2980063\ttotal: 648ms\tremaining: 299ms\n",
            "684:\tlearn: 0.2978648\ttotal: 649ms\tremaining: 298ms\n",
            "685:\tlearn: 0.2977925\ttotal: 650ms\tremaining: 298ms\n",
            "686:\tlearn: 0.2976404\ttotal: 651ms\tremaining: 297ms\n",
            "687:\tlearn: 0.2975483\ttotal: 652ms\tremaining: 296ms\n",
            "688:\tlearn: 0.2974508\ttotal: 653ms\tremaining: 295ms\n",
            "689:\tlearn: 0.2973994\ttotal: 654ms\tremaining: 294ms\n",
            "690:\tlearn: 0.2971542\ttotal: 655ms\tremaining: 293ms\n",
            "691:\tlearn: 0.2970241\ttotal: 656ms\tremaining: 292ms\n",
            "692:\tlearn: 0.2968765\ttotal: 657ms\tremaining: 291ms\n",
            "693:\tlearn: 0.2967786\ttotal: 658ms\tremaining: 290ms\n",
            "694:\tlearn: 0.2967387\ttotal: 659ms\tremaining: 289ms\n",
            "695:\tlearn: 0.2966342\ttotal: 660ms\tremaining: 288ms\n",
            "696:\tlearn: 0.2963850\ttotal: 661ms\tremaining: 287ms\n",
            "697:\tlearn: 0.2961515\ttotal: 662ms\tremaining: 286ms\n",
            "698:\tlearn: 0.2960863\ttotal: 663ms\tremaining: 285ms\n",
            "699:\tlearn: 0.2958921\ttotal: 664ms\tremaining: 284ms\n",
            "700:\tlearn: 0.2958463\ttotal: 664ms\tremaining: 283ms\n",
            "701:\tlearn: 0.2955905\ttotal: 665ms\tremaining: 283ms\n",
            "702:\tlearn: 0.2954781\ttotal: 667ms\tremaining: 282ms\n",
            "703:\tlearn: 0.2953430\ttotal: 668ms\tremaining: 281ms\n",
            "704:\tlearn: 0.2952024\ttotal: 668ms\tremaining: 280ms\n",
            "705:\tlearn: 0.2951092\ttotal: 669ms\tremaining: 279ms\n",
            "706:\tlearn: 0.2950494\ttotal: 670ms\tremaining: 278ms\n",
            "707:\tlearn: 0.2949127\ttotal: 671ms\tremaining: 277ms\n",
            "708:\tlearn: 0.2948019\ttotal: 672ms\tremaining: 276ms\n",
            "709:\tlearn: 0.2946811\ttotal: 673ms\tremaining: 275ms\n",
            "710:\tlearn: 0.2945490\ttotal: 674ms\tremaining: 274ms\n",
            "711:\tlearn: 0.2942967\ttotal: 675ms\tremaining: 273ms\n",
            "712:\tlearn: 0.2941277\ttotal: 676ms\tremaining: 272ms\n",
            "713:\tlearn: 0.2940630\ttotal: 677ms\tremaining: 271ms\n",
            "714:\tlearn: 0.2938462\ttotal: 677ms\tremaining: 270ms\n",
            "715:\tlearn: 0.2935700\ttotal: 678ms\tremaining: 269ms\n",
            "716:\tlearn: 0.2934062\ttotal: 679ms\tremaining: 268ms\n",
            "717:\tlearn: 0.2932998\ttotal: 680ms\tremaining: 267ms\n",
            "718:\tlearn: 0.2932226\ttotal: 681ms\tremaining: 266ms\n",
            "719:\tlearn: 0.2930434\ttotal: 682ms\tremaining: 265ms\n",
            "720:\tlearn: 0.2929359\ttotal: 683ms\tremaining: 264ms\n",
            "721:\tlearn: 0.2927783\ttotal: 684ms\tremaining: 263ms\n",
            "722:\tlearn: 0.2926905\ttotal: 685ms\tremaining: 263ms\n",
            "723:\tlearn: 0.2925365\ttotal: 686ms\tremaining: 262ms\n",
            "724:\tlearn: 0.2923064\ttotal: 687ms\tremaining: 261ms\n",
            "725:\tlearn: 0.2921592\ttotal: 688ms\tremaining: 260ms\n",
            "726:\tlearn: 0.2920868\ttotal: 689ms\tremaining: 259ms\n",
            "727:\tlearn: 0.2919909\ttotal: 690ms\tremaining: 258ms\n",
            "728:\tlearn: 0.2918901\ttotal: 691ms\tremaining: 257ms\n",
            "729:\tlearn: 0.2916487\ttotal: 692ms\tremaining: 256ms\n",
            "730:\tlearn: 0.2915116\ttotal: 693ms\tremaining: 255ms\n",
            "731:\tlearn: 0.2913922\ttotal: 694ms\tremaining: 254ms\n",
            "732:\tlearn: 0.2911501\ttotal: 694ms\tremaining: 253ms\n",
            "733:\tlearn: 0.2909960\ttotal: 695ms\tremaining: 252ms\n",
            "734:\tlearn: 0.2909353\ttotal: 696ms\tremaining: 251ms\n",
            "735:\tlearn: 0.2907830\ttotal: 698ms\tremaining: 250ms\n",
            "736:\tlearn: 0.2906208\ttotal: 699ms\tremaining: 249ms\n",
            "737:\tlearn: 0.2905266\ttotal: 700ms\tremaining: 248ms\n",
            "738:\tlearn: 0.2904000\ttotal: 701ms\tremaining: 247ms\n",
            "739:\tlearn: 0.2902637\ttotal: 701ms\tremaining: 246ms\n",
            "740:\tlearn: 0.2900546\ttotal: 702ms\tremaining: 246ms\n",
            "741:\tlearn: 0.2898745\ttotal: 703ms\tremaining: 245ms\n",
            "742:\tlearn: 0.2897887\ttotal: 704ms\tremaining: 244ms\n",
            "743:\tlearn: 0.2896293\ttotal: 705ms\tremaining: 243ms\n",
            "744:\tlearn: 0.2894198\ttotal: 706ms\tremaining: 242ms\n",
            "745:\tlearn: 0.2893038\ttotal: 707ms\tremaining: 241ms\n",
            "746:\tlearn: 0.2890669\ttotal: 708ms\tremaining: 240ms\n",
            "747:\tlearn: 0.2888652\ttotal: 709ms\tremaining: 239ms\n",
            "748:\tlearn: 0.2886845\ttotal: 710ms\tremaining: 238ms\n",
            "749:\tlearn: 0.2884245\ttotal: 711ms\tremaining: 237ms\n",
            "750:\tlearn: 0.2884030\ttotal: 712ms\tremaining: 236ms\n",
            "751:\tlearn: 0.2882651\ttotal: 712ms\tremaining: 235ms\n",
            "752:\tlearn: 0.2882381\ttotal: 713ms\tremaining: 234ms\n",
            "753:\tlearn: 0.2881376\ttotal: 714ms\tremaining: 233ms\n",
            "754:\tlearn: 0.2880389\ttotal: 715ms\tremaining: 232ms\n",
            "755:\tlearn: 0.2879644\ttotal: 716ms\tremaining: 231ms\n",
            "756:\tlearn: 0.2877388\ttotal: 717ms\tremaining: 230ms\n",
            "757:\tlearn: 0.2876240\ttotal: 718ms\tremaining: 229ms\n",
            "758:\tlearn: 0.2874830\ttotal: 719ms\tremaining: 228ms\n",
            "759:\tlearn: 0.2873992\ttotal: 720ms\tremaining: 227ms\n",
            "760:\tlearn: 0.2873200\ttotal: 721ms\tremaining: 226ms\n",
            "761:\tlearn: 0.2871101\ttotal: 722ms\tremaining: 225ms\n",
            "762:\tlearn: 0.2869604\ttotal: 722ms\tremaining: 224ms\n",
            "763:\tlearn: 0.2867714\ttotal: 723ms\tremaining: 223ms\n",
            "764:\tlearn: 0.2866632\ttotal: 724ms\tremaining: 222ms\n",
            "765:\tlearn: 0.2866292\ttotal: 725ms\tremaining: 222ms\n",
            "766:\tlearn: 0.2866185\ttotal: 726ms\tremaining: 221ms\n",
            "767:\tlearn: 0.2864926\ttotal: 727ms\tremaining: 220ms\n",
            "768:\tlearn: 0.2863561\ttotal: 728ms\tremaining: 219ms\n",
            "769:\tlearn: 0.2861687\ttotal: 729ms\tremaining: 218ms\n",
            "770:\tlearn: 0.2861376\ttotal: 730ms\tremaining: 217ms\n",
            "771:\tlearn: 0.2860189\ttotal: 731ms\tremaining: 216ms\n",
            "772:\tlearn: 0.2859247\ttotal: 732ms\tremaining: 215ms\n",
            "773:\tlearn: 0.2858646\ttotal: 733ms\tremaining: 214ms\n",
            "774:\tlearn: 0.2857951\ttotal: 734ms\tremaining: 213ms\n",
            "775:\tlearn: 0.2856063\ttotal: 735ms\tremaining: 212ms\n",
            "776:\tlearn: 0.2855553\ttotal: 736ms\tremaining: 211ms\n",
            "777:\tlearn: 0.2854289\ttotal: 736ms\tremaining: 210ms\n",
            "778:\tlearn: 0.2852871\ttotal: 737ms\tremaining: 209ms\n",
            "779:\tlearn: 0.2851340\ttotal: 738ms\tremaining: 208ms\n",
            "780:\tlearn: 0.2848499\ttotal: 739ms\tremaining: 207ms\n",
            "781:\tlearn: 0.2847834\ttotal: 740ms\tremaining: 206ms\n",
            "782:\tlearn: 0.2846655\ttotal: 741ms\tremaining: 205ms\n",
            "783:\tlearn: 0.2845895\ttotal: 742ms\tremaining: 204ms\n",
            "784:\tlearn: 0.2845338\ttotal: 743ms\tremaining: 204ms\n",
            "785:\tlearn: 0.2843183\ttotal: 744ms\tremaining: 203ms\n",
            "786:\tlearn: 0.2841883\ttotal: 745ms\tremaining: 202ms\n",
            "787:\tlearn: 0.2841757\ttotal: 746ms\tremaining: 201ms\n",
            "788:\tlearn: 0.2839364\ttotal: 747ms\tremaining: 200ms\n",
            "789:\tlearn: 0.2839315\ttotal: 747ms\tremaining: 199ms\n",
            "790:\tlearn: 0.2838897\ttotal: 748ms\tremaining: 198ms\n",
            "791:\tlearn: 0.2837638\ttotal: 749ms\tremaining: 197ms\n",
            "792:\tlearn: 0.2834155\ttotal: 750ms\tremaining: 196ms\n",
            "793:\tlearn: 0.2833422\ttotal: 751ms\tremaining: 195ms\n",
            "794:\tlearn: 0.2832699\ttotal: 752ms\tremaining: 194ms\n",
            "795:\tlearn: 0.2831375\ttotal: 753ms\tremaining: 193ms\n",
            "796:\tlearn: 0.2830002\ttotal: 754ms\tremaining: 192ms\n",
            "797:\tlearn: 0.2828447\ttotal: 755ms\tremaining: 191ms\n",
            "798:\tlearn: 0.2827358\ttotal: 756ms\tremaining: 190ms\n",
            "799:\tlearn: 0.2825393\ttotal: 757ms\tremaining: 189ms\n",
            "800:\tlearn: 0.2823412\ttotal: 758ms\tremaining: 188ms\n",
            "801:\tlearn: 0.2822436\ttotal: 759ms\tremaining: 187ms\n",
            "802:\tlearn: 0.2821515\ttotal: 759ms\tremaining: 186ms\n",
            "803:\tlearn: 0.2819322\ttotal: 760ms\tremaining: 185ms\n",
            "804:\tlearn: 0.2818537\ttotal: 761ms\tremaining: 184ms\n",
            "805:\tlearn: 0.2817582\ttotal: 762ms\tremaining: 184ms\n",
            "806:\tlearn: 0.2816208\ttotal: 763ms\tremaining: 183ms\n",
            "807:\tlearn: 0.2815362\ttotal: 764ms\tremaining: 182ms\n",
            "808:\tlearn: 0.2814291\ttotal: 765ms\tremaining: 181ms\n",
            "809:\tlearn: 0.2813598\ttotal: 766ms\tremaining: 180ms\n",
            "810:\tlearn: 0.2812738\ttotal: 767ms\tremaining: 179ms\n",
            "811:\tlearn: 0.2811128\ttotal: 768ms\tremaining: 178ms\n",
            "812:\tlearn: 0.2809077\ttotal: 769ms\tremaining: 177ms\n",
            "813:\tlearn: 0.2806808\ttotal: 770ms\tremaining: 176ms\n",
            "814:\tlearn: 0.2805910\ttotal: 771ms\tremaining: 175ms\n",
            "815:\tlearn: 0.2804995\ttotal: 772ms\tremaining: 174ms\n",
            "816:\tlearn: 0.2804760\ttotal: 772ms\tremaining: 173ms\n",
            "817:\tlearn: 0.2803925\ttotal: 773ms\tremaining: 172ms\n",
            "818:\tlearn: 0.2803341\ttotal: 774ms\tremaining: 171ms\n",
            "819:\tlearn: 0.2802280\ttotal: 775ms\tremaining: 170ms\n",
            "820:\tlearn: 0.2801730\ttotal: 776ms\tremaining: 169ms\n",
            "821:\tlearn: 0.2800746\ttotal: 777ms\tremaining: 168ms\n",
            "822:\tlearn: 0.2798542\ttotal: 778ms\tremaining: 167ms\n",
            "823:\tlearn: 0.2796388\ttotal: 779ms\tremaining: 166ms\n",
            "824:\tlearn: 0.2794925\ttotal: 780ms\tremaining: 165ms\n",
            "825:\tlearn: 0.2794088\ttotal: 781ms\tremaining: 164ms\n",
            "826:\tlearn: 0.2791085\ttotal: 782ms\tremaining: 163ms\n",
            "827:\tlearn: 0.2788740\ttotal: 782ms\tremaining: 163ms\n",
            "828:\tlearn: 0.2788098\ttotal: 783ms\tremaining: 162ms\n",
            "829:\tlearn: 0.2787542\ttotal: 784ms\tremaining: 161ms\n",
            "830:\tlearn: 0.2785187\ttotal: 785ms\tremaining: 160ms\n",
            "831:\tlearn: 0.2783486\ttotal: 786ms\tremaining: 159ms\n",
            "832:\tlearn: 0.2780904\ttotal: 787ms\tremaining: 158ms\n",
            "833:\tlearn: 0.2779799\ttotal: 788ms\tremaining: 157ms\n",
            "834:\tlearn: 0.2778296\ttotal: 789ms\tremaining: 156ms\n",
            "835:\tlearn: 0.2776272\ttotal: 790ms\tremaining: 155ms\n",
            "836:\tlearn: 0.2775761\ttotal: 791ms\tremaining: 154ms\n",
            "837:\tlearn: 0.2775053\ttotal: 792ms\tremaining: 153ms\n",
            "838:\tlearn: 0.2773082\ttotal: 793ms\tremaining: 152ms\n",
            "839:\tlearn: 0.2770715\ttotal: 794ms\tremaining: 151ms\n",
            "840:\tlearn: 0.2770027\ttotal: 795ms\tremaining: 150ms\n",
            "841:\tlearn: 0.2768251\ttotal: 796ms\tremaining: 149ms\n",
            "842:\tlearn: 0.2766586\ttotal: 797ms\tremaining: 148ms\n",
            "843:\tlearn: 0.2765665\ttotal: 798ms\tremaining: 147ms\n",
            "844:\tlearn: 0.2764451\ttotal: 799ms\tremaining: 147ms\n",
            "845:\tlearn: 0.2763618\ttotal: 800ms\tremaining: 146ms\n",
            "846:\tlearn: 0.2762646\ttotal: 801ms\tremaining: 145ms\n",
            "847:\tlearn: 0.2760825\ttotal: 802ms\tremaining: 144ms\n",
            "848:\tlearn: 0.2759099\ttotal: 803ms\tremaining: 143ms\n",
            "849:\tlearn: 0.2757214\ttotal: 804ms\tremaining: 142ms\n",
            "850:\tlearn: 0.2755988\ttotal: 805ms\tremaining: 141ms\n",
            "851:\tlearn: 0.2755078\ttotal: 806ms\tremaining: 140ms\n",
            "852:\tlearn: 0.2752043\ttotal: 807ms\tremaining: 139ms\n",
            "853:\tlearn: 0.2750474\ttotal: 808ms\tremaining: 138ms\n",
            "854:\tlearn: 0.2749492\ttotal: 809ms\tremaining: 137ms\n",
            "855:\tlearn: 0.2748931\ttotal: 810ms\tremaining: 136ms\n",
            "856:\tlearn: 0.2746951\ttotal: 811ms\tremaining: 135ms\n",
            "857:\tlearn: 0.2745065\ttotal: 812ms\tremaining: 134ms\n",
            "858:\tlearn: 0.2744676\ttotal: 813ms\tremaining: 133ms\n",
            "859:\tlearn: 0.2744162\ttotal: 813ms\tremaining: 132ms\n",
            "860:\tlearn: 0.2741255\ttotal: 814ms\tremaining: 131ms\n",
            "861:\tlearn: 0.2740094\ttotal: 815ms\tremaining: 131ms\n",
            "862:\tlearn: 0.2738913\ttotal: 816ms\tremaining: 130ms\n",
            "863:\tlearn: 0.2738459\ttotal: 817ms\tremaining: 129ms\n",
            "864:\tlearn: 0.2736875\ttotal: 818ms\tremaining: 128ms\n",
            "865:\tlearn: 0.2736471\ttotal: 819ms\tremaining: 127ms\n",
            "866:\tlearn: 0.2735301\ttotal: 820ms\tremaining: 126ms\n",
            "867:\tlearn: 0.2734381\ttotal: 821ms\tremaining: 125ms\n",
            "868:\tlearn: 0.2733799\ttotal: 822ms\tremaining: 124ms\n",
            "869:\tlearn: 0.2732176\ttotal: 822ms\tremaining: 123ms\n",
            "870:\tlearn: 0.2731497\ttotal: 824ms\tremaining: 122ms\n",
            "871:\tlearn: 0.2730114\ttotal: 825ms\tremaining: 121ms\n",
            "872:\tlearn: 0.2729355\ttotal: 826ms\tremaining: 120ms\n",
            "873:\tlearn: 0.2728015\ttotal: 826ms\tremaining: 119ms\n",
            "874:\tlearn: 0.2726724\ttotal: 827ms\tremaining: 118ms\n",
            "875:\tlearn: 0.2725028\ttotal: 828ms\tremaining: 117ms\n",
            "876:\tlearn: 0.2723773\ttotal: 829ms\tremaining: 116ms\n",
            "877:\tlearn: 0.2722581\ttotal: 830ms\tremaining: 115ms\n",
            "878:\tlearn: 0.2722116\ttotal: 831ms\tremaining: 114ms\n",
            "879:\tlearn: 0.2718155\ttotal: 832ms\tremaining: 113ms\n",
            "880:\tlearn: 0.2717028\ttotal: 833ms\tremaining: 113ms\n",
            "881:\tlearn: 0.2716369\ttotal: 834ms\tremaining: 112ms\n",
            "882:\tlearn: 0.2714933\ttotal: 835ms\tremaining: 111ms\n",
            "883:\tlearn: 0.2713458\ttotal: 836ms\tremaining: 110ms\n",
            "884:\tlearn: 0.2712366\ttotal: 837ms\tremaining: 109ms\n",
            "885:\tlearn: 0.2710354\ttotal: 837ms\tremaining: 108ms\n",
            "886:\tlearn: 0.2709936\ttotal: 838ms\tremaining: 107ms\n",
            "887:\tlearn: 0.2709168\ttotal: 840ms\tremaining: 106ms\n",
            "888:\tlearn: 0.2708456\ttotal: 841ms\tremaining: 105ms\n",
            "889:\tlearn: 0.2705299\ttotal: 842ms\tremaining: 104ms\n",
            "890:\tlearn: 0.2703731\ttotal: 843ms\tremaining: 103ms\n",
            "891:\tlearn: 0.2703196\ttotal: 844ms\tremaining: 102ms\n",
            "892:\tlearn: 0.2701775\ttotal: 844ms\tremaining: 101ms\n",
            "893:\tlearn: 0.2701325\ttotal: 845ms\tremaining: 100ms\n",
            "894:\tlearn: 0.2700642\ttotal: 846ms\tremaining: 99.3ms\n",
            "895:\tlearn: 0.2699299\ttotal: 847ms\tremaining: 98.3ms\n",
            "896:\tlearn: 0.2697738\ttotal: 848ms\tremaining: 97.4ms\n",
            "897:\tlearn: 0.2697296\ttotal: 849ms\tremaining: 96.5ms\n",
            "898:\tlearn: 0.2694365\ttotal: 850ms\tremaining: 95.5ms\n",
            "899:\tlearn: 0.2693933\ttotal: 851ms\tremaining: 94.6ms\n",
            "900:\tlearn: 0.2693292\ttotal: 852ms\tremaining: 93.6ms\n",
            "901:\tlearn: 0.2692948\ttotal: 853ms\tremaining: 92.6ms\n",
            "902:\tlearn: 0.2692111\ttotal: 854ms\tremaining: 91.7ms\n",
            "903:\tlearn: 0.2690854\ttotal: 855ms\tremaining: 90.7ms\n",
            "904:\tlearn: 0.2690499\ttotal: 856ms\tremaining: 89.8ms\n",
            "905:\tlearn: 0.2689179\ttotal: 857ms\tremaining: 88.9ms\n",
            "906:\tlearn: 0.2688890\ttotal: 858ms\tremaining: 88ms\n",
            "907:\tlearn: 0.2688014\ttotal: 859ms\tremaining: 87ms\n",
            "908:\tlearn: 0.2686642\ttotal: 860ms\tremaining: 86.1ms\n",
            "909:\tlearn: 0.2685665\ttotal: 861ms\tremaining: 85.1ms\n",
            "910:\tlearn: 0.2683755\ttotal: 862ms\tremaining: 84.2ms\n",
            "911:\tlearn: 0.2682499\ttotal: 863ms\tremaining: 83.2ms\n",
            "912:\tlearn: 0.2682033\ttotal: 864ms\tremaining: 82.3ms\n",
            "913:\tlearn: 0.2680857\ttotal: 864ms\tremaining: 81.3ms\n",
            "914:\tlearn: 0.2678951\ttotal: 865ms\tremaining: 80.4ms\n",
            "915:\tlearn: 0.2677944\ttotal: 866ms\tremaining: 79.4ms\n",
            "916:\tlearn: 0.2676748\ttotal: 867ms\tremaining: 78.5ms\n",
            "917:\tlearn: 0.2675993\ttotal: 868ms\tremaining: 77.5ms\n",
            "918:\tlearn: 0.2675040\ttotal: 869ms\tremaining: 76.6ms\n",
            "919:\tlearn: 0.2673583\ttotal: 870ms\tremaining: 75.6ms\n",
            "920:\tlearn: 0.2672962\ttotal: 871ms\tremaining: 74.7ms\n",
            "921:\tlearn: 0.2672000\ttotal: 872ms\tremaining: 73.8ms\n",
            "922:\tlearn: 0.2671012\ttotal: 873ms\tremaining: 72.8ms\n",
            "923:\tlearn: 0.2670448\ttotal: 874ms\tremaining: 71.9ms\n",
            "924:\tlearn: 0.2668538\ttotal: 875ms\tremaining: 70.9ms\n",
            "925:\tlearn: 0.2666051\ttotal: 876ms\tremaining: 70ms\n",
            "926:\tlearn: 0.2663638\ttotal: 877ms\tremaining: 69ms\n",
            "927:\tlearn: 0.2663228\ttotal: 878ms\tremaining: 68.1ms\n",
            "928:\tlearn: 0.2661505\ttotal: 879ms\tremaining: 67.2ms\n",
            "929:\tlearn: 0.2661138\ttotal: 880ms\tremaining: 66.2ms\n",
            "930:\tlearn: 0.2660124\ttotal: 880ms\tremaining: 65.3ms\n",
            "931:\tlearn: 0.2658945\ttotal: 881ms\tremaining: 64.3ms\n",
            "932:\tlearn: 0.2657182\ttotal: 882ms\tremaining: 63.4ms\n",
            "933:\tlearn: 0.2655883\ttotal: 883ms\tremaining: 62.4ms\n",
            "934:\tlearn: 0.2655374\ttotal: 884ms\tremaining: 61.5ms\n",
            "935:\tlearn: 0.2654407\ttotal: 885ms\tremaining: 60.5ms\n",
            "936:\tlearn: 0.2653381\ttotal: 886ms\tremaining: 59.6ms\n",
            "937:\tlearn: 0.2651790\ttotal: 887ms\tremaining: 58.6ms\n",
            "938:\tlearn: 0.2650568\ttotal: 888ms\tremaining: 57.7ms\n",
            "939:\tlearn: 0.2649412\ttotal: 889ms\tremaining: 56.8ms\n",
            "940:\tlearn: 0.2648324\ttotal: 890ms\tremaining: 55.8ms\n",
            "941:\tlearn: 0.2646170\ttotal: 891ms\tremaining: 54.9ms\n",
            "942:\tlearn: 0.2645451\ttotal: 892ms\tremaining: 53.9ms\n",
            "943:\tlearn: 0.2642503\ttotal: 893ms\tremaining: 53ms\n",
            "944:\tlearn: 0.2641411\ttotal: 894ms\tremaining: 52ms\n",
            "945:\tlearn: 0.2640238\ttotal: 895ms\tremaining: 51.1ms\n",
            "946:\tlearn: 0.2639551\ttotal: 896ms\tremaining: 50.1ms\n",
            "947:\tlearn: 0.2638627\ttotal: 897ms\tremaining: 49.2ms\n",
            "948:\tlearn: 0.2637831\ttotal: 898ms\tremaining: 48.2ms\n",
            "949:\tlearn: 0.2637168\ttotal: 899ms\tremaining: 47.3ms\n",
            "950:\tlearn: 0.2635386\ttotal: 899ms\tremaining: 46.3ms\n",
            "951:\tlearn: 0.2634184\ttotal: 900ms\tremaining: 45.4ms\n",
            "952:\tlearn: 0.2632383\ttotal: 901ms\tremaining: 44.4ms\n",
            "953:\tlearn: 0.2630850\ttotal: 902ms\tremaining: 43.5ms\n",
            "954:\tlearn: 0.2629756\ttotal: 903ms\tremaining: 42.5ms\n",
            "955:\tlearn: 0.2626446\ttotal: 904ms\tremaining: 41.6ms\n",
            "956:\tlearn: 0.2624984\ttotal: 905ms\tremaining: 40.7ms\n",
            "957:\tlearn: 0.2622684\ttotal: 906ms\tremaining: 39.7ms\n",
            "958:\tlearn: 0.2621625\ttotal: 907ms\tremaining: 38.8ms\n",
            "959:\tlearn: 0.2620188\ttotal: 908ms\tremaining: 37.8ms\n",
            "960:\tlearn: 0.2618691\ttotal: 909ms\tremaining: 36.9ms\n",
            "961:\tlearn: 0.2618057\ttotal: 910ms\tremaining: 35.9ms\n",
            "962:\tlearn: 0.2617597\ttotal: 911ms\tremaining: 35ms\n",
            "963:\tlearn: 0.2617126\ttotal: 912ms\tremaining: 34ms\n",
            "964:\tlearn: 0.2616619\ttotal: 913ms\tremaining: 33.1ms\n",
            "965:\tlearn: 0.2615170\ttotal: 913ms\tremaining: 32.1ms\n",
            "966:\tlearn: 0.2614711\ttotal: 914ms\tremaining: 31.2ms\n",
            "967:\tlearn: 0.2613459\ttotal: 915ms\tremaining: 30.3ms\n",
            "968:\tlearn: 0.2612603\ttotal: 916ms\tremaining: 29.3ms\n",
            "969:\tlearn: 0.2611100\ttotal: 917ms\tremaining: 28.4ms\n",
            "970:\tlearn: 0.2610272\ttotal: 918ms\tremaining: 27.4ms\n",
            "971:\tlearn: 0.2609246\ttotal: 919ms\tremaining: 26.5ms\n",
            "972:\tlearn: 0.2607697\ttotal: 920ms\tremaining: 25.5ms\n",
            "973:\tlearn: 0.2607153\ttotal: 921ms\tremaining: 24.6ms\n",
            "974:\tlearn: 0.2604609\ttotal: 922ms\tremaining: 23.6ms\n",
            "975:\tlearn: 0.2602270\ttotal: 922ms\tremaining: 22.7ms\n",
            "976:\tlearn: 0.2600072\ttotal: 923ms\tremaining: 21.7ms\n",
            "977:\tlearn: 0.2598354\ttotal: 924ms\tremaining: 20.8ms\n",
            "978:\tlearn: 0.2597354\ttotal: 925ms\tremaining: 19.8ms\n",
            "979:\tlearn: 0.2594152\ttotal: 926ms\tremaining: 18.9ms\n",
            "980:\tlearn: 0.2592007\ttotal: 927ms\tremaining: 18ms\n",
            "981:\tlearn: 0.2591613\ttotal: 928ms\tremaining: 17ms\n",
            "982:\tlearn: 0.2591111\ttotal: 929ms\tremaining: 16.1ms\n",
            "983:\tlearn: 0.2590141\ttotal: 930ms\tremaining: 15.1ms\n",
            "984:\tlearn: 0.2588653\ttotal: 931ms\tremaining: 14.2ms\n",
            "985:\tlearn: 0.2587717\ttotal: 932ms\tremaining: 13.2ms\n",
            "986:\tlearn: 0.2585613\ttotal: 932ms\tremaining: 12.3ms\n",
            "987:\tlearn: 0.2585323\ttotal: 933ms\tremaining: 11.3ms\n",
            "988:\tlearn: 0.2583659\ttotal: 934ms\tremaining: 10.4ms\n",
            "989:\tlearn: 0.2582559\ttotal: 935ms\tremaining: 9.45ms\n",
            "990:\tlearn: 0.2580737\ttotal: 937ms\tremaining: 8.51ms\n",
            "991:\tlearn: 0.2579401\ttotal: 938ms\tremaining: 7.56ms\n",
            "992:\tlearn: 0.2576940\ttotal: 939ms\tremaining: 6.62ms\n",
            "993:\tlearn: 0.2575866\ttotal: 939ms\tremaining: 5.67ms\n",
            "994:\tlearn: 0.2575246\ttotal: 940ms\tremaining: 4.72ms\n",
            "995:\tlearn: 0.2574506\ttotal: 941ms\tremaining: 3.78ms\n",
            "996:\tlearn: 0.2573102\ttotal: 942ms\tremaining: 2.83ms\n",
            "997:\tlearn: 0.2571357\ttotal: 943ms\tremaining: 1.89ms\n",
            "998:\tlearn: 0.2570837\ttotal: 944ms\tremaining: 944us\n",
            "999:\tlearn: 0.2568831\ttotal: 945ms\tremaining: 0us\n",
            "[LightGBM] [Info] Number of positive: 268, number of negative: 444\n",
            "[LightGBM] [Info] Auto-choosing col-wise multi-threading, the overhead of testing was 0.000104 seconds.\n",
            "You can set `force_col_wise=true` to remove the overhead.\n",
            "[LightGBM] [Info] Total Bins 429\n",
            "[LightGBM] [Info] Number of data points in the train set: 712, number of used features: 7\n",
            "[LightGBM] [Info] [binary:BoostFromScore]: pavg=0.376404 -> initscore=-0.504838\n",
            "[LightGBM] [Info] Start training from score -0.504838\n",
            "[LightGBM] [Warning] No further splits with positive gain, best gain: -inf\n",
            "[LightGBM] [Warning] No further splits with positive gain, best gain: -inf\n",
            "[LightGBM] [Warning] No further splits with positive gain, best gain: -inf\n",
            "[LightGBM] [Warning] No further splits with positive gain, best gain: -inf\n",
            "[LightGBM] [Warning] No further splits with positive gain, best gain: -inf\n",
            "[LightGBM] [Warning] No further splits with positive gain, best gain: -inf\n",
            "[LightGBM] [Warning] No further splits with positive gain, best gain: -inf\n",
            "[LightGBM] [Warning] No further splits with positive gain, best gain: -inf\n",
            "[LightGBM] [Warning] No further splits with positive gain, best gain: -inf\n",
            "[LightGBM] [Warning] No further splits with positive gain, best gain: -inf\n",
            "[LightGBM] [Warning] No further splits with positive gain, best gain: -inf\n",
            "[LightGBM] [Warning] No further splits with positive gain, best gain: -inf\n",
            "[LightGBM] [Warning] No further splits with positive gain, best gain: -inf\n",
            "[LightGBM] [Warning] No further splits with positive gain, best gain: -inf\n",
            "[LightGBM] [Warning] No further splits with positive gain, best gain: -inf\n",
            "[LightGBM] [Warning] No further splits with positive gain, best gain: -inf\n",
            "[LightGBM] [Warning] No further splits with positive gain, best gain: -inf\n",
            "[LightGBM] [Warning] No further splits with positive gain, best gain: -inf\n",
            "[LightGBM] [Warning] No further splits with positive gain, best gain: -inf\n",
            "[LightGBM] [Warning] No further splits with positive gain, best gain: -inf\n",
            "[LightGBM] [Warning] No further splits with positive gain, best gain: -inf\n",
            "[LightGBM] [Warning] No further splits with positive gain, best gain: -inf\n",
            "[LightGBM] [Warning] No further splits with positive gain, best gain: -inf\n",
            "[LightGBM] [Warning] No further splits with positive gain, best gain: -inf\n",
            "[LightGBM] [Warning] No further splits with positive gain, best gain: -inf\n",
            "[LightGBM] [Warning] No further splits with positive gain, best gain: -inf\n",
            "[LightGBM] [Warning] No further splits with positive gain, best gain: -inf\n",
            "[LightGBM] [Warning] No further splits with positive gain, best gain: -inf\n",
            "[LightGBM] [Warning] No further splits with positive gain, best gain: -inf\n",
            "[LightGBM] [Warning] No further splits with positive gain, best gain: -inf\n",
            "[LightGBM] [Warning] No further splits with positive gain, best gain: -inf\n",
            "[LightGBM] [Warning] No further splits with positive gain, best gain: -inf\n",
            "[LightGBM] [Warning] No further splits with positive gain, best gain: -inf\n",
            "[LightGBM] [Warning] No further splits with positive gain, best gain: -inf\n",
            "[LightGBM] [Warning] No further splits with positive gain, best gain: -inf\n",
            "[LightGBM] [Warning] No further splits with positive gain, best gain: -inf\n",
            "[LightGBM] [Warning] No further splits with positive gain, best gain: -inf\n",
            "[LightGBM] [Warning] No further splits with positive gain, best gain: -inf\n",
            "[LightGBM] [Warning] No further splits with positive gain, best gain: -inf\n",
            "[LightGBM] [Warning] No further splits with positive gain, best gain: -inf\n",
            "[LightGBM] [Warning] No further splits with positive gain, best gain: -inf\n",
            "[LightGBM] [Warning] No further splits with positive gain, best gain: -inf\n",
            "[LightGBM] [Warning] No further splits with positive gain, best gain: -inf\n",
            "[LightGBM] [Warning] No further splits with positive gain, best gain: -inf\n",
            "[LightGBM] [Warning] No further splits with positive gain, best gain: -inf\n",
            "[LightGBM] [Warning] No further splits with positive gain, best gain: -inf\n",
            "[LightGBM] [Warning] No further splits with positive gain, best gain: -inf\n",
            "[LightGBM] [Warning] No further splits with positive gain, best gain: -inf\n",
            "[LightGBM] [Warning] No further splits with positive gain, best gain: -inf\n",
            "[LightGBM] [Warning] No further splits with positive gain, best gain: -inf\n",
            "[LightGBM] [Warning] No further splits with positive gain, best gain: -inf\n",
            "[LightGBM] [Warning] No further splits with positive gain, best gain: -inf\n",
            "[LightGBM] [Warning] No further splits with positive gain, best gain: -inf\n",
            "[LightGBM] [Warning] No further splits with positive gain, best gain: -inf\n",
            "[LightGBM] [Warning] No further splits with positive gain, best gain: -inf\n",
            "[LightGBM] [Warning] No further splits with positive gain, best gain: -inf\n",
            "[LightGBM] [Warning] No further splits with positive gain, best gain: -inf\n",
            "[LightGBM] [Warning] No further splits with positive gain, best gain: -inf\n",
            "[LightGBM] [Warning] No further splits with positive gain, best gain: -inf\n",
            "[LightGBM] [Warning] No further splits with positive gain, best gain: -inf\n",
            "[LightGBM] [Warning] No further splits with positive gain, best gain: -inf\n",
            "[LightGBM] [Warning] No further splits with positive gain, best gain: -inf\n",
            "[LightGBM] [Warning] No further splits with positive gain, best gain: -inf\n",
            "[LightGBM] [Warning] No further splits with positive gain, best gain: -inf\n",
            "[LightGBM] [Warning] No further splits with positive gain, best gain: -inf\n",
            "[LightGBM] [Warning] No further splits with positive gain, best gain: -inf\n",
            "[LightGBM] [Warning] No further splits with positive gain, best gain: -inf\n",
            "[LightGBM] [Warning] No further splits with positive gain, best gain: -inf\n",
            "[LightGBM] [Warning] No further splits with positive gain, best gain: -inf\n",
            "[LightGBM] [Warning] No further splits with positive gain, best gain: -inf\n",
            "[LightGBM] [Warning] No further splits with positive gain, best gain: -inf\n",
            "[LightGBM] [Warning] No further splits with positive gain, best gain: -inf\n",
            "[LightGBM] [Warning] No further splits with positive gain, best gain: -inf\n",
            "[LightGBM] [Warning] No further splits with positive gain, best gain: -inf\n",
            "[LightGBM] [Warning] No further splits with positive gain, best gain: -inf\n",
            "[LightGBM] [Warning] No further splits with positive gain, best gain: -inf\n",
            "[LightGBM] [Warning] No further splits with positive gain, best gain: -inf\n",
            "[LightGBM] [Warning] No further splits with positive gain, best gain: -inf\n",
            "[LightGBM] [Warning] No further splits with positive gain, best gain: -inf\n",
            "[LightGBM] [Warning] No further splits with positive gain, best gain: -inf\n",
            "[LightGBM] [Warning] No further splits with positive gain, best gain: -inf\n",
            "[LightGBM] [Warning] No further splits with positive gain, best gain: -inf\n",
            "[LightGBM] [Warning] No further splits with positive gain, best gain: -inf\n",
            "[LightGBM] [Warning] No further splits with positive gain, best gain: -inf\n",
            "[LightGBM] [Warning] No further splits with positive gain, best gain: -inf\n",
            "[LightGBM] [Warning] No further splits with positive gain, best gain: -inf\n",
            "[LightGBM] [Warning] No further splits with positive gain, best gain: -inf\n",
            "[LightGBM] [Warning] No further splits with positive gain, best gain: -inf\n",
            "Модель: CatBoost\n",
            "Точность: 0.7932960893854749\n",
            "Матрица ошибок: \n",
            "[[95 10]\n",
            " [27 47]]\n",
            "Точность (Precision): 0.8245614035087719\n",
            "Полнота (Recall): 0.6351351351351351\n",
            "F1-мера: 0.7175572519083969\n",
            "Время обучения: 1.1268160343170166 секунд\n",
            "Время предсказания: 0.0010020732879638672 секунд\n",
            "---------------------\n",
            "Модель: LightGBM\n",
            "Точность: 0.8044692737430168\n",
            "Матрица ошибок: \n",
            "[[88 17]\n",
            " [18 56]]\n",
            "Точность (Precision): 0.7671232876712328\n",
            "Полнота (Recall): 0.7567567567567568\n",
            "F1-мера: 0.761904761904762\n",
            "Время обучения: 0.038996219635009766 секунд\n",
            "Время предсказания: 0.0009996891021728516 секунд\n",
            "---------------------\n",
            "Модель: XGBoost\n",
            "Точность: 0.7821229050279329\n",
            "Матрица ошибок: \n",
            "[[89 16]\n",
            " [23 51]]\n",
            "Точность (Precision): 0.7611940298507462\n",
            "Полнота (Recall): 0.6891891891891891\n",
            "F1-мера: 0.7234042553191488\n",
            "Время обучения: 0.03500080108642578 секунд\n",
            "Время предсказания: 0.0009999275207519531 секунд\n",
            "---------------------\n",
            "Модель: AdaBoost\n",
            "Точность: 0.7932960893854749\n",
            "Матрица ошибок: \n",
            "[[90 15]\n",
            " [22 52]]\n",
            "Точность (Precision): 0.7761194029850746\n",
            "Полнота (Recall): 0.7027027027027027\n",
            "F1-мера: 0.7375886524822697\n",
            "Время обучения: 0.05300021171569824 секунд\n",
            "Время предсказания: 0.0029997825622558594 секунд\n",
            "---------------------\n"
          ]
        }
      ],
      "source": [
        "results = {}\n",
        "for name, model in models.items():\n",
        "    start_time = time.time()  # Начало отсчета времени обучения\n",
        "    model.fit(X_train, y_train)\n",
        "    train_time = time.time() - start_time  # Время обучения\n",
        "\n",
        "    start_time = time.time()  # Начало отсчета времени предсказания\n",
        "    y_pred = model.predict(X_test)\n",
        "    predict_time = time.time() - start_time  # Время предсказания\n",
        "\n",
        "    accuracy = accuracy_score(y_test, y_pred)\n",
        "    confusion = confusion_matrix(y_test, y_pred)\n",
        "    precision = precision_score(y_test, y_pred)\n",
        "    recall = recall_score(y_test, y_pred)\n",
        "    f1 = f1_score(y_test, y_pred)\n",
        "\n",
        "    results[name] = {\n",
        "        \"Accuracy\": accuracy,\n",
        "        \"Confusion Matrix\": confusion,\n",
        "        \"Precision\": precision,\n",
        "        \"Recall\": recall,\n",
        "        \"F1-score\": f1,\n",
        "        \"Training Time\": train_time,\n",
        "        \"Prediction Time\": predict_time\n",
        "    }\n",
        "\n",
        "# Вывод результатов\n",
        "for name, metrics in results.items():\n",
        "    print(f\"Модель: {name}\")\n",
        "    print(f\"Точность: {metrics['Accuracy']}\")\n",
        "    print(f\"Матрица ошибок: \\n{metrics['Confusion Matrix']}\")\n",
        "    print(f\"Точность (Precision): {metrics['Precision']}\")\n",
        "    print(f\"Полнота (Recall): {metrics['Recall']}\")\n",
        "    print(f\"F1-мера: {metrics['F1-score']}\")\n",
        "    print(f\"Время обучения: {metrics['Training Time']} секунд\")\n",
        "    print(f\"Время предсказания: {metrics['Prediction Time']} секунд\")\n",
        "    print(\"---------------------\")"
      ]
    },
    {
      "cell_type": "markdown",
      "metadata": {},
      "source": [
        "# Сравнение результатов"
      ]
    },
    {
      "cell_type": "code",
      "execution_count": 174,
      "metadata": {},
      "outputs": [
        {
          "data": {
            "application/vnd.plotly.v1+json": {
              "config": {
                "plotlyServerURL": "https://plot.ly"
              },
              "data": [
                {
                  "alignmentgroup": "True",
                  "hovertemplate": "Модель=%{x}<br>Время обучения (сек)=%{y}<extra></extra>",
                  "legendgroup": "",
                  "marker": {
                    "color": [
                      "blue",
                      "blue",
                      "red",
                      "blue"
                    ],
                    "pattern": {
                      "shape": ""
                    }
                  },
                  "name": "",
                  "offsetgroup": "",
                  "orientation": "v",
                  "showlegend": false,
                  "textposition": "auto",
                  "type": "bar",
                  "x": [
                    "CatBoost",
                    "LightGBM",
                    "XGBoost",
                    "AdaBoost"
                  ],
                  "xaxis": "x",
                  "y": [
                    1.1268160343170166,
                    0.038996219635009766,
                    0.03500080108642578,
                    0.05300021171569824
                  ],
                  "yaxis": "y"
                }
              ],
              "layout": {
                "barmode": "relative",
                "legend": {
                  "tracegroupgap": 0
                },
                "template": {
                  "data": {
                    "bar": [
                      {
                        "error_x": {
                          "color": "#2a3f5f"
                        },
                        "error_y": {
                          "color": "#2a3f5f"
                        },
                        "marker": {
                          "line": {
                            "color": "#E5ECF6",
                            "width": 0.5
                          },
                          "pattern": {
                            "fillmode": "overlay",
                            "size": 10,
                            "solidity": 0.2
                          }
                        },
                        "type": "bar"
                      }
                    ],
                    "barpolar": [
                      {
                        "marker": {
                          "line": {
                            "color": "#E5ECF6",
                            "width": 0.5
                          },
                          "pattern": {
                            "fillmode": "overlay",
                            "size": 10,
                            "solidity": 0.2
                          }
                        },
                        "type": "barpolar"
                      }
                    ],
                    "carpet": [
                      {
                        "aaxis": {
                          "endlinecolor": "#2a3f5f",
                          "gridcolor": "white",
                          "linecolor": "white",
                          "minorgridcolor": "white",
                          "startlinecolor": "#2a3f5f"
                        },
                        "baxis": {
                          "endlinecolor": "#2a3f5f",
                          "gridcolor": "white",
                          "linecolor": "white",
                          "minorgridcolor": "white",
                          "startlinecolor": "#2a3f5f"
                        },
                        "type": "carpet"
                      }
                    ],
                    "choropleth": [
                      {
                        "colorbar": {
                          "outlinewidth": 0,
                          "ticks": ""
                        },
                        "type": "choropleth"
                      }
                    ],
                    "contour": [
                      {
                        "colorbar": {
                          "outlinewidth": 0,
                          "ticks": ""
                        },
                        "colorscale": [
                          [
                            0,
                            "#0d0887"
                          ],
                          [
                            0.1111111111111111,
                            "#46039f"
                          ],
                          [
                            0.2222222222222222,
                            "#7201a8"
                          ],
                          [
                            0.3333333333333333,
                            "#9c179e"
                          ],
                          [
                            0.4444444444444444,
                            "#bd3786"
                          ],
                          [
                            0.5555555555555556,
                            "#d8576b"
                          ],
                          [
                            0.6666666666666666,
                            "#ed7953"
                          ],
                          [
                            0.7777777777777778,
                            "#fb9f3a"
                          ],
                          [
                            0.8888888888888888,
                            "#fdca26"
                          ],
                          [
                            1,
                            "#f0f921"
                          ]
                        ],
                        "type": "contour"
                      }
                    ],
                    "contourcarpet": [
                      {
                        "colorbar": {
                          "outlinewidth": 0,
                          "ticks": ""
                        },
                        "type": "contourcarpet"
                      }
                    ],
                    "heatmap": [
                      {
                        "colorbar": {
                          "outlinewidth": 0,
                          "ticks": ""
                        },
                        "colorscale": [
                          [
                            0,
                            "#0d0887"
                          ],
                          [
                            0.1111111111111111,
                            "#46039f"
                          ],
                          [
                            0.2222222222222222,
                            "#7201a8"
                          ],
                          [
                            0.3333333333333333,
                            "#9c179e"
                          ],
                          [
                            0.4444444444444444,
                            "#bd3786"
                          ],
                          [
                            0.5555555555555556,
                            "#d8576b"
                          ],
                          [
                            0.6666666666666666,
                            "#ed7953"
                          ],
                          [
                            0.7777777777777778,
                            "#fb9f3a"
                          ],
                          [
                            0.8888888888888888,
                            "#fdca26"
                          ],
                          [
                            1,
                            "#f0f921"
                          ]
                        ],
                        "type": "heatmap"
                      }
                    ],
                    "heatmapgl": [
                      {
                        "colorbar": {
                          "outlinewidth": 0,
                          "ticks": ""
                        },
                        "colorscale": [
                          [
                            0,
                            "#0d0887"
                          ],
                          [
                            0.1111111111111111,
                            "#46039f"
                          ],
                          [
                            0.2222222222222222,
                            "#7201a8"
                          ],
                          [
                            0.3333333333333333,
                            "#9c179e"
                          ],
                          [
                            0.4444444444444444,
                            "#bd3786"
                          ],
                          [
                            0.5555555555555556,
                            "#d8576b"
                          ],
                          [
                            0.6666666666666666,
                            "#ed7953"
                          ],
                          [
                            0.7777777777777778,
                            "#fb9f3a"
                          ],
                          [
                            0.8888888888888888,
                            "#fdca26"
                          ],
                          [
                            1,
                            "#f0f921"
                          ]
                        ],
                        "type": "heatmapgl"
                      }
                    ],
                    "histogram": [
                      {
                        "marker": {
                          "pattern": {
                            "fillmode": "overlay",
                            "size": 10,
                            "solidity": 0.2
                          }
                        },
                        "type": "histogram"
                      }
                    ],
                    "histogram2d": [
                      {
                        "colorbar": {
                          "outlinewidth": 0,
                          "ticks": ""
                        },
                        "colorscale": [
                          [
                            0,
                            "#0d0887"
                          ],
                          [
                            0.1111111111111111,
                            "#46039f"
                          ],
                          [
                            0.2222222222222222,
                            "#7201a8"
                          ],
                          [
                            0.3333333333333333,
                            "#9c179e"
                          ],
                          [
                            0.4444444444444444,
                            "#bd3786"
                          ],
                          [
                            0.5555555555555556,
                            "#d8576b"
                          ],
                          [
                            0.6666666666666666,
                            "#ed7953"
                          ],
                          [
                            0.7777777777777778,
                            "#fb9f3a"
                          ],
                          [
                            0.8888888888888888,
                            "#fdca26"
                          ],
                          [
                            1,
                            "#f0f921"
                          ]
                        ],
                        "type": "histogram2d"
                      }
                    ],
                    "histogram2dcontour": [
                      {
                        "colorbar": {
                          "outlinewidth": 0,
                          "ticks": ""
                        },
                        "colorscale": [
                          [
                            0,
                            "#0d0887"
                          ],
                          [
                            0.1111111111111111,
                            "#46039f"
                          ],
                          [
                            0.2222222222222222,
                            "#7201a8"
                          ],
                          [
                            0.3333333333333333,
                            "#9c179e"
                          ],
                          [
                            0.4444444444444444,
                            "#bd3786"
                          ],
                          [
                            0.5555555555555556,
                            "#d8576b"
                          ],
                          [
                            0.6666666666666666,
                            "#ed7953"
                          ],
                          [
                            0.7777777777777778,
                            "#fb9f3a"
                          ],
                          [
                            0.8888888888888888,
                            "#fdca26"
                          ],
                          [
                            1,
                            "#f0f921"
                          ]
                        ],
                        "type": "histogram2dcontour"
                      }
                    ],
                    "mesh3d": [
                      {
                        "colorbar": {
                          "outlinewidth": 0,
                          "ticks": ""
                        },
                        "type": "mesh3d"
                      }
                    ],
                    "parcoords": [
                      {
                        "line": {
                          "colorbar": {
                            "outlinewidth": 0,
                            "ticks": ""
                          }
                        },
                        "type": "parcoords"
                      }
                    ],
                    "pie": [
                      {
                        "automargin": true,
                        "type": "pie"
                      }
                    ],
                    "scatter": [
                      {
                        "fillpattern": {
                          "fillmode": "overlay",
                          "size": 10,
                          "solidity": 0.2
                        },
                        "type": "scatter"
                      }
                    ],
                    "scatter3d": [
                      {
                        "line": {
                          "colorbar": {
                            "outlinewidth": 0,
                            "ticks": ""
                          }
                        },
                        "marker": {
                          "colorbar": {
                            "outlinewidth": 0,
                            "ticks": ""
                          }
                        },
                        "type": "scatter3d"
                      }
                    ],
                    "scattercarpet": [
                      {
                        "marker": {
                          "colorbar": {
                            "outlinewidth": 0,
                            "ticks": ""
                          }
                        },
                        "type": "scattercarpet"
                      }
                    ],
                    "scattergeo": [
                      {
                        "marker": {
                          "colorbar": {
                            "outlinewidth": 0,
                            "ticks": ""
                          }
                        },
                        "type": "scattergeo"
                      }
                    ],
                    "scattergl": [
                      {
                        "marker": {
                          "colorbar": {
                            "outlinewidth": 0,
                            "ticks": ""
                          }
                        },
                        "type": "scattergl"
                      }
                    ],
                    "scattermapbox": [
                      {
                        "marker": {
                          "colorbar": {
                            "outlinewidth": 0,
                            "ticks": ""
                          }
                        },
                        "type": "scattermapbox"
                      }
                    ],
                    "scatterpolar": [
                      {
                        "marker": {
                          "colorbar": {
                            "outlinewidth": 0,
                            "ticks": ""
                          }
                        },
                        "type": "scatterpolar"
                      }
                    ],
                    "scatterpolargl": [
                      {
                        "marker": {
                          "colorbar": {
                            "outlinewidth": 0,
                            "ticks": ""
                          }
                        },
                        "type": "scatterpolargl"
                      }
                    ],
                    "scatterternary": [
                      {
                        "marker": {
                          "colorbar": {
                            "outlinewidth": 0,
                            "ticks": ""
                          }
                        },
                        "type": "scatterternary"
                      }
                    ],
                    "surface": [
                      {
                        "colorbar": {
                          "outlinewidth": 0,
                          "ticks": ""
                        },
                        "colorscale": [
                          [
                            0,
                            "#0d0887"
                          ],
                          [
                            0.1111111111111111,
                            "#46039f"
                          ],
                          [
                            0.2222222222222222,
                            "#7201a8"
                          ],
                          [
                            0.3333333333333333,
                            "#9c179e"
                          ],
                          [
                            0.4444444444444444,
                            "#bd3786"
                          ],
                          [
                            0.5555555555555556,
                            "#d8576b"
                          ],
                          [
                            0.6666666666666666,
                            "#ed7953"
                          ],
                          [
                            0.7777777777777778,
                            "#fb9f3a"
                          ],
                          [
                            0.8888888888888888,
                            "#fdca26"
                          ],
                          [
                            1,
                            "#f0f921"
                          ]
                        ],
                        "type": "surface"
                      }
                    ],
                    "table": [
                      {
                        "cells": {
                          "fill": {
                            "color": "#EBF0F8"
                          },
                          "line": {
                            "color": "white"
                          }
                        },
                        "header": {
                          "fill": {
                            "color": "#C8D4E3"
                          },
                          "line": {
                            "color": "white"
                          }
                        },
                        "type": "table"
                      }
                    ]
                  },
                  "layout": {
                    "annotationdefaults": {
                      "arrowcolor": "#2a3f5f",
                      "arrowhead": 0,
                      "arrowwidth": 1
                    },
                    "autotypenumbers": "strict",
                    "coloraxis": {
                      "colorbar": {
                        "outlinewidth": 0,
                        "ticks": ""
                      }
                    },
                    "colorscale": {
                      "diverging": [
                        [
                          0,
                          "#8e0152"
                        ],
                        [
                          0.1,
                          "#c51b7d"
                        ],
                        [
                          0.2,
                          "#de77ae"
                        ],
                        [
                          0.3,
                          "#f1b6da"
                        ],
                        [
                          0.4,
                          "#fde0ef"
                        ],
                        [
                          0.5,
                          "#f7f7f7"
                        ],
                        [
                          0.6,
                          "#e6f5d0"
                        ],
                        [
                          0.7,
                          "#b8e186"
                        ],
                        [
                          0.8,
                          "#7fbc41"
                        ],
                        [
                          0.9,
                          "#4d9221"
                        ],
                        [
                          1,
                          "#276419"
                        ]
                      ],
                      "sequential": [
                        [
                          0,
                          "#0d0887"
                        ],
                        [
                          0.1111111111111111,
                          "#46039f"
                        ],
                        [
                          0.2222222222222222,
                          "#7201a8"
                        ],
                        [
                          0.3333333333333333,
                          "#9c179e"
                        ],
                        [
                          0.4444444444444444,
                          "#bd3786"
                        ],
                        [
                          0.5555555555555556,
                          "#d8576b"
                        ],
                        [
                          0.6666666666666666,
                          "#ed7953"
                        ],
                        [
                          0.7777777777777778,
                          "#fb9f3a"
                        ],
                        [
                          0.8888888888888888,
                          "#fdca26"
                        ],
                        [
                          1,
                          "#f0f921"
                        ]
                      ],
                      "sequentialminus": [
                        [
                          0,
                          "#0d0887"
                        ],
                        [
                          0.1111111111111111,
                          "#46039f"
                        ],
                        [
                          0.2222222222222222,
                          "#7201a8"
                        ],
                        [
                          0.3333333333333333,
                          "#9c179e"
                        ],
                        [
                          0.4444444444444444,
                          "#bd3786"
                        ],
                        [
                          0.5555555555555556,
                          "#d8576b"
                        ],
                        [
                          0.6666666666666666,
                          "#ed7953"
                        ],
                        [
                          0.7777777777777778,
                          "#fb9f3a"
                        ],
                        [
                          0.8888888888888888,
                          "#fdca26"
                        ],
                        [
                          1,
                          "#f0f921"
                        ]
                      ]
                    },
                    "colorway": [
                      "#636efa",
                      "#EF553B",
                      "#00cc96",
                      "#ab63fa",
                      "#FFA15A",
                      "#19d3f3",
                      "#FF6692",
                      "#B6E880",
                      "#FF97FF",
                      "#FECB52"
                    ],
                    "font": {
                      "color": "#2a3f5f"
                    },
                    "geo": {
                      "bgcolor": "white",
                      "lakecolor": "white",
                      "landcolor": "#E5ECF6",
                      "showlakes": true,
                      "showland": true,
                      "subunitcolor": "white"
                    },
                    "hoverlabel": {
                      "align": "left"
                    },
                    "hovermode": "closest",
                    "mapbox": {
                      "style": "light"
                    },
                    "paper_bgcolor": "white",
                    "plot_bgcolor": "#E5ECF6",
                    "polar": {
                      "angularaxis": {
                        "gridcolor": "white",
                        "linecolor": "white",
                        "ticks": ""
                      },
                      "bgcolor": "#E5ECF6",
                      "radialaxis": {
                        "gridcolor": "white",
                        "linecolor": "white",
                        "ticks": ""
                      }
                    },
                    "scene": {
                      "xaxis": {
                        "backgroundcolor": "#E5ECF6",
                        "gridcolor": "white",
                        "gridwidth": 2,
                        "linecolor": "white",
                        "showbackground": true,
                        "ticks": "",
                        "zerolinecolor": "white"
                      },
                      "yaxis": {
                        "backgroundcolor": "#E5ECF6",
                        "gridcolor": "white",
                        "gridwidth": 2,
                        "linecolor": "white",
                        "showbackground": true,
                        "ticks": "",
                        "zerolinecolor": "white"
                      },
                      "zaxis": {
                        "backgroundcolor": "#E5ECF6",
                        "gridcolor": "white",
                        "gridwidth": 2,
                        "linecolor": "white",
                        "showbackground": true,
                        "ticks": "",
                        "zerolinecolor": "white"
                      }
                    },
                    "shapedefaults": {
                      "line": {
                        "color": "#2a3f5f"
                      }
                    },
                    "ternary": {
                      "aaxis": {
                        "gridcolor": "white",
                        "linecolor": "white",
                        "ticks": ""
                      },
                      "baxis": {
                        "gridcolor": "white",
                        "linecolor": "white",
                        "ticks": ""
                      },
                      "bgcolor": "#E5ECF6",
                      "caxis": {
                        "gridcolor": "white",
                        "linecolor": "white",
                        "ticks": ""
                      }
                    },
                    "title": {
                      "x": 0.05
                    },
                    "xaxis": {
                      "automargin": true,
                      "gridcolor": "white",
                      "linecolor": "white",
                      "ticks": "",
                      "title": {
                        "standoff": 15
                      },
                      "zerolinecolor": "white",
                      "zerolinewidth": 2
                    },
                    "yaxis": {
                      "automargin": true,
                      "gridcolor": "white",
                      "linecolor": "white",
                      "ticks": "",
                      "title": {
                        "standoff": 15
                      },
                      "zerolinecolor": "white",
                      "zerolinewidth": 2
                    }
                  }
                },
                "title": {
                  "text": "Время обучения для каждой модели"
                },
                "xaxis": {
                  "anchor": "y",
                  "domain": [
                    0,
                    1
                  ],
                  "title": {
                    "text": "Модель"
                  }
                },
                "yaxis": {
                  "anchor": "x",
                  "domain": [
                    0,
                    1
                  ],
                  "title": {
                    "text": "Время обучения (сек)"
                  }
                }
              }
            }
          },
          "metadata": {},
          "output_type": "display_data"
        },
        {
          "data": {
            "application/vnd.plotly.v1+json": {
              "config": {
                "plotlyServerURL": "https://plot.ly"
              },
              "data": [
                {
                  "alignmentgroup": "True",
                  "hovertemplate": "Модель=%{x}<br>Время предсказания (сек)=%{y}<extra></extra>",
                  "legendgroup": "",
                  "marker": {
                    "color": [
                      "blue",
                      "red",
                      "blue",
                      "blue"
                    ],
                    "pattern": {
                      "shape": ""
                    }
                  },
                  "name": "",
                  "offsetgroup": "",
                  "orientation": "v",
                  "showlegend": false,
                  "textposition": "auto",
                  "type": "bar",
                  "x": [
                    "CatBoost",
                    "LightGBM",
                    "XGBoost",
                    "AdaBoost"
                  ],
                  "xaxis": "x",
                  "y": [
                    0.0010020732879638672,
                    0.0009996891021728516,
                    0.0009999275207519531,
                    0.0029997825622558594
                  ],
                  "yaxis": "y"
                }
              ],
              "layout": {
                "barmode": "relative",
                "legend": {
                  "tracegroupgap": 0
                },
                "template": {
                  "data": {
                    "bar": [
                      {
                        "error_x": {
                          "color": "#2a3f5f"
                        },
                        "error_y": {
                          "color": "#2a3f5f"
                        },
                        "marker": {
                          "line": {
                            "color": "#E5ECF6",
                            "width": 0.5
                          },
                          "pattern": {
                            "fillmode": "overlay",
                            "size": 10,
                            "solidity": 0.2
                          }
                        },
                        "type": "bar"
                      }
                    ],
                    "barpolar": [
                      {
                        "marker": {
                          "line": {
                            "color": "#E5ECF6",
                            "width": 0.5
                          },
                          "pattern": {
                            "fillmode": "overlay",
                            "size": 10,
                            "solidity": 0.2
                          }
                        },
                        "type": "barpolar"
                      }
                    ],
                    "carpet": [
                      {
                        "aaxis": {
                          "endlinecolor": "#2a3f5f",
                          "gridcolor": "white",
                          "linecolor": "white",
                          "minorgridcolor": "white",
                          "startlinecolor": "#2a3f5f"
                        },
                        "baxis": {
                          "endlinecolor": "#2a3f5f",
                          "gridcolor": "white",
                          "linecolor": "white",
                          "minorgridcolor": "white",
                          "startlinecolor": "#2a3f5f"
                        },
                        "type": "carpet"
                      }
                    ],
                    "choropleth": [
                      {
                        "colorbar": {
                          "outlinewidth": 0,
                          "ticks": ""
                        },
                        "type": "choropleth"
                      }
                    ],
                    "contour": [
                      {
                        "colorbar": {
                          "outlinewidth": 0,
                          "ticks": ""
                        },
                        "colorscale": [
                          [
                            0,
                            "#0d0887"
                          ],
                          [
                            0.1111111111111111,
                            "#46039f"
                          ],
                          [
                            0.2222222222222222,
                            "#7201a8"
                          ],
                          [
                            0.3333333333333333,
                            "#9c179e"
                          ],
                          [
                            0.4444444444444444,
                            "#bd3786"
                          ],
                          [
                            0.5555555555555556,
                            "#d8576b"
                          ],
                          [
                            0.6666666666666666,
                            "#ed7953"
                          ],
                          [
                            0.7777777777777778,
                            "#fb9f3a"
                          ],
                          [
                            0.8888888888888888,
                            "#fdca26"
                          ],
                          [
                            1,
                            "#f0f921"
                          ]
                        ],
                        "type": "contour"
                      }
                    ],
                    "contourcarpet": [
                      {
                        "colorbar": {
                          "outlinewidth": 0,
                          "ticks": ""
                        },
                        "type": "contourcarpet"
                      }
                    ],
                    "heatmap": [
                      {
                        "colorbar": {
                          "outlinewidth": 0,
                          "ticks": ""
                        },
                        "colorscale": [
                          [
                            0,
                            "#0d0887"
                          ],
                          [
                            0.1111111111111111,
                            "#46039f"
                          ],
                          [
                            0.2222222222222222,
                            "#7201a8"
                          ],
                          [
                            0.3333333333333333,
                            "#9c179e"
                          ],
                          [
                            0.4444444444444444,
                            "#bd3786"
                          ],
                          [
                            0.5555555555555556,
                            "#d8576b"
                          ],
                          [
                            0.6666666666666666,
                            "#ed7953"
                          ],
                          [
                            0.7777777777777778,
                            "#fb9f3a"
                          ],
                          [
                            0.8888888888888888,
                            "#fdca26"
                          ],
                          [
                            1,
                            "#f0f921"
                          ]
                        ],
                        "type": "heatmap"
                      }
                    ],
                    "heatmapgl": [
                      {
                        "colorbar": {
                          "outlinewidth": 0,
                          "ticks": ""
                        },
                        "colorscale": [
                          [
                            0,
                            "#0d0887"
                          ],
                          [
                            0.1111111111111111,
                            "#46039f"
                          ],
                          [
                            0.2222222222222222,
                            "#7201a8"
                          ],
                          [
                            0.3333333333333333,
                            "#9c179e"
                          ],
                          [
                            0.4444444444444444,
                            "#bd3786"
                          ],
                          [
                            0.5555555555555556,
                            "#d8576b"
                          ],
                          [
                            0.6666666666666666,
                            "#ed7953"
                          ],
                          [
                            0.7777777777777778,
                            "#fb9f3a"
                          ],
                          [
                            0.8888888888888888,
                            "#fdca26"
                          ],
                          [
                            1,
                            "#f0f921"
                          ]
                        ],
                        "type": "heatmapgl"
                      }
                    ],
                    "histogram": [
                      {
                        "marker": {
                          "pattern": {
                            "fillmode": "overlay",
                            "size": 10,
                            "solidity": 0.2
                          }
                        },
                        "type": "histogram"
                      }
                    ],
                    "histogram2d": [
                      {
                        "colorbar": {
                          "outlinewidth": 0,
                          "ticks": ""
                        },
                        "colorscale": [
                          [
                            0,
                            "#0d0887"
                          ],
                          [
                            0.1111111111111111,
                            "#46039f"
                          ],
                          [
                            0.2222222222222222,
                            "#7201a8"
                          ],
                          [
                            0.3333333333333333,
                            "#9c179e"
                          ],
                          [
                            0.4444444444444444,
                            "#bd3786"
                          ],
                          [
                            0.5555555555555556,
                            "#d8576b"
                          ],
                          [
                            0.6666666666666666,
                            "#ed7953"
                          ],
                          [
                            0.7777777777777778,
                            "#fb9f3a"
                          ],
                          [
                            0.8888888888888888,
                            "#fdca26"
                          ],
                          [
                            1,
                            "#f0f921"
                          ]
                        ],
                        "type": "histogram2d"
                      }
                    ],
                    "histogram2dcontour": [
                      {
                        "colorbar": {
                          "outlinewidth": 0,
                          "ticks": ""
                        },
                        "colorscale": [
                          [
                            0,
                            "#0d0887"
                          ],
                          [
                            0.1111111111111111,
                            "#46039f"
                          ],
                          [
                            0.2222222222222222,
                            "#7201a8"
                          ],
                          [
                            0.3333333333333333,
                            "#9c179e"
                          ],
                          [
                            0.4444444444444444,
                            "#bd3786"
                          ],
                          [
                            0.5555555555555556,
                            "#d8576b"
                          ],
                          [
                            0.6666666666666666,
                            "#ed7953"
                          ],
                          [
                            0.7777777777777778,
                            "#fb9f3a"
                          ],
                          [
                            0.8888888888888888,
                            "#fdca26"
                          ],
                          [
                            1,
                            "#f0f921"
                          ]
                        ],
                        "type": "histogram2dcontour"
                      }
                    ],
                    "mesh3d": [
                      {
                        "colorbar": {
                          "outlinewidth": 0,
                          "ticks": ""
                        },
                        "type": "mesh3d"
                      }
                    ],
                    "parcoords": [
                      {
                        "line": {
                          "colorbar": {
                            "outlinewidth": 0,
                            "ticks": ""
                          }
                        },
                        "type": "parcoords"
                      }
                    ],
                    "pie": [
                      {
                        "automargin": true,
                        "type": "pie"
                      }
                    ],
                    "scatter": [
                      {
                        "fillpattern": {
                          "fillmode": "overlay",
                          "size": 10,
                          "solidity": 0.2
                        },
                        "type": "scatter"
                      }
                    ],
                    "scatter3d": [
                      {
                        "line": {
                          "colorbar": {
                            "outlinewidth": 0,
                            "ticks": ""
                          }
                        },
                        "marker": {
                          "colorbar": {
                            "outlinewidth": 0,
                            "ticks": ""
                          }
                        },
                        "type": "scatter3d"
                      }
                    ],
                    "scattercarpet": [
                      {
                        "marker": {
                          "colorbar": {
                            "outlinewidth": 0,
                            "ticks": ""
                          }
                        },
                        "type": "scattercarpet"
                      }
                    ],
                    "scattergeo": [
                      {
                        "marker": {
                          "colorbar": {
                            "outlinewidth": 0,
                            "ticks": ""
                          }
                        },
                        "type": "scattergeo"
                      }
                    ],
                    "scattergl": [
                      {
                        "marker": {
                          "colorbar": {
                            "outlinewidth": 0,
                            "ticks": ""
                          }
                        },
                        "type": "scattergl"
                      }
                    ],
                    "scattermapbox": [
                      {
                        "marker": {
                          "colorbar": {
                            "outlinewidth": 0,
                            "ticks": ""
                          }
                        },
                        "type": "scattermapbox"
                      }
                    ],
                    "scatterpolar": [
                      {
                        "marker": {
                          "colorbar": {
                            "outlinewidth": 0,
                            "ticks": ""
                          }
                        },
                        "type": "scatterpolar"
                      }
                    ],
                    "scatterpolargl": [
                      {
                        "marker": {
                          "colorbar": {
                            "outlinewidth": 0,
                            "ticks": ""
                          }
                        },
                        "type": "scatterpolargl"
                      }
                    ],
                    "scatterternary": [
                      {
                        "marker": {
                          "colorbar": {
                            "outlinewidth": 0,
                            "ticks": ""
                          }
                        },
                        "type": "scatterternary"
                      }
                    ],
                    "surface": [
                      {
                        "colorbar": {
                          "outlinewidth": 0,
                          "ticks": ""
                        },
                        "colorscale": [
                          [
                            0,
                            "#0d0887"
                          ],
                          [
                            0.1111111111111111,
                            "#46039f"
                          ],
                          [
                            0.2222222222222222,
                            "#7201a8"
                          ],
                          [
                            0.3333333333333333,
                            "#9c179e"
                          ],
                          [
                            0.4444444444444444,
                            "#bd3786"
                          ],
                          [
                            0.5555555555555556,
                            "#d8576b"
                          ],
                          [
                            0.6666666666666666,
                            "#ed7953"
                          ],
                          [
                            0.7777777777777778,
                            "#fb9f3a"
                          ],
                          [
                            0.8888888888888888,
                            "#fdca26"
                          ],
                          [
                            1,
                            "#f0f921"
                          ]
                        ],
                        "type": "surface"
                      }
                    ],
                    "table": [
                      {
                        "cells": {
                          "fill": {
                            "color": "#EBF0F8"
                          },
                          "line": {
                            "color": "white"
                          }
                        },
                        "header": {
                          "fill": {
                            "color": "#C8D4E3"
                          },
                          "line": {
                            "color": "white"
                          }
                        },
                        "type": "table"
                      }
                    ]
                  },
                  "layout": {
                    "annotationdefaults": {
                      "arrowcolor": "#2a3f5f",
                      "arrowhead": 0,
                      "arrowwidth": 1
                    },
                    "autotypenumbers": "strict",
                    "coloraxis": {
                      "colorbar": {
                        "outlinewidth": 0,
                        "ticks": ""
                      }
                    },
                    "colorscale": {
                      "diverging": [
                        [
                          0,
                          "#8e0152"
                        ],
                        [
                          0.1,
                          "#c51b7d"
                        ],
                        [
                          0.2,
                          "#de77ae"
                        ],
                        [
                          0.3,
                          "#f1b6da"
                        ],
                        [
                          0.4,
                          "#fde0ef"
                        ],
                        [
                          0.5,
                          "#f7f7f7"
                        ],
                        [
                          0.6,
                          "#e6f5d0"
                        ],
                        [
                          0.7,
                          "#b8e186"
                        ],
                        [
                          0.8,
                          "#7fbc41"
                        ],
                        [
                          0.9,
                          "#4d9221"
                        ],
                        [
                          1,
                          "#276419"
                        ]
                      ],
                      "sequential": [
                        [
                          0,
                          "#0d0887"
                        ],
                        [
                          0.1111111111111111,
                          "#46039f"
                        ],
                        [
                          0.2222222222222222,
                          "#7201a8"
                        ],
                        [
                          0.3333333333333333,
                          "#9c179e"
                        ],
                        [
                          0.4444444444444444,
                          "#bd3786"
                        ],
                        [
                          0.5555555555555556,
                          "#d8576b"
                        ],
                        [
                          0.6666666666666666,
                          "#ed7953"
                        ],
                        [
                          0.7777777777777778,
                          "#fb9f3a"
                        ],
                        [
                          0.8888888888888888,
                          "#fdca26"
                        ],
                        [
                          1,
                          "#f0f921"
                        ]
                      ],
                      "sequentialminus": [
                        [
                          0,
                          "#0d0887"
                        ],
                        [
                          0.1111111111111111,
                          "#46039f"
                        ],
                        [
                          0.2222222222222222,
                          "#7201a8"
                        ],
                        [
                          0.3333333333333333,
                          "#9c179e"
                        ],
                        [
                          0.4444444444444444,
                          "#bd3786"
                        ],
                        [
                          0.5555555555555556,
                          "#d8576b"
                        ],
                        [
                          0.6666666666666666,
                          "#ed7953"
                        ],
                        [
                          0.7777777777777778,
                          "#fb9f3a"
                        ],
                        [
                          0.8888888888888888,
                          "#fdca26"
                        ],
                        [
                          1,
                          "#f0f921"
                        ]
                      ]
                    },
                    "colorway": [
                      "#636efa",
                      "#EF553B",
                      "#00cc96",
                      "#ab63fa",
                      "#FFA15A",
                      "#19d3f3",
                      "#FF6692",
                      "#B6E880",
                      "#FF97FF",
                      "#FECB52"
                    ],
                    "font": {
                      "color": "#2a3f5f"
                    },
                    "geo": {
                      "bgcolor": "white",
                      "lakecolor": "white",
                      "landcolor": "#E5ECF6",
                      "showlakes": true,
                      "showland": true,
                      "subunitcolor": "white"
                    },
                    "hoverlabel": {
                      "align": "left"
                    },
                    "hovermode": "closest",
                    "mapbox": {
                      "style": "light"
                    },
                    "paper_bgcolor": "white",
                    "plot_bgcolor": "#E5ECF6",
                    "polar": {
                      "angularaxis": {
                        "gridcolor": "white",
                        "linecolor": "white",
                        "ticks": ""
                      },
                      "bgcolor": "#E5ECF6",
                      "radialaxis": {
                        "gridcolor": "white",
                        "linecolor": "white",
                        "ticks": ""
                      }
                    },
                    "scene": {
                      "xaxis": {
                        "backgroundcolor": "#E5ECF6",
                        "gridcolor": "white",
                        "gridwidth": 2,
                        "linecolor": "white",
                        "showbackground": true,
                        "ticks": "",
                        "zerolinecolor": "white"
                      },
                      "yaxis": {
                        "backgroundcolor": "#E5ECF6",
                        "gridcolor": "white",
                        "gridwidth": 2,
                        "linecolor": "white",
                        "showbackground": true,
                        "ticks": "",
                        "zerolinecolor": "white"
                      },
                      "zaxis": {
                        "backgroundcolor": "#E5ECF6",
                        "gridcolor": "white",
                        "gridwidth": 2,
                        "linecolor": "white",
                        "showbackground": true,
                        "ticks": "",
                        "zerolinecolor": "white"
                      }
                    },
                    "shapedefaults": {
                      "line": {
                        "color": "#2a3f5f"
                      }
                    },
                    "ternary": {
                      "aaxis": {
                        "gridcolor": "white",
                        "linecolor": "white",
                        "ticks": ""
                      },
                      "baxis": {
                        "gridcolor": "white",
                        "linecolor": "white",
                        "ticks": ""
                      },
                      "bgcolor": "#E5ECF6",
                      "caxis": {
                        "gridcolor": "white",
                        "linecolor": "white",
                        "ticks": ""
                      }
                    },
                    "title": {
                      "x": 0.05
                    },
                    "xaxis": {
                      "automargin": true,
                      "gridcolor": "white",
                      "linecolor": "white",
                      "ticks": "",
                      "title": {
                        "standoff": 15
                      },
                      "zerolinecolor": "white",
                      "zerolinewidth": 2
                    },
                    "yaxis": {
                      "automargin": true,
                      "gridcolor": "white",
                      "linecolor": "white",
                      "ticks": "",
                      "title": {
                        "standoff": 15
                      },
                      "zerolinecolor": "white",
                      "zerolinewidth": 2
                    }
                  }
                },
                "title": {
                  "text": "Время предсказания для каждой модели"
                },
                "xaxis": {
                  "anchor": "y",
                  "domain": [
                    0,
                    1
                  ],
                  "title": {
                    "text": "Модель"
                  }
                },
                "yaxis": {
                  "anchor": "x",
                  "domain": [
                    0,
                    1
                  ],
                  "title": {
                    "text": "Время предсказания (сек)"
                  }
                }
              }
            }
          },
          "metadata": {},
          "output_type": "display_data"
        }
      ],
      "source": [
        "import plotly.express as px\n",
        "\n",
        "model_names = list(results.keys())\n",
        "training_times = [result[\"Training Time\"] for result in results.values()]\n",
        "\n",
        "fig_training = px.bar(x=model_names, y=training_times, labels={\"x\": \"Модель\", \"y\": \"Время обучения (сек)\"},\n",
        "                      title=\"Время обучения для каждой модели\")\n",
        "fig_training.update_traces(marker=dict(color=['red' if t == min(training_times) else 'blue' for t in training_times]))\n",
        "\n",
        "fig_training.show()\n",
        "\n",
        "prediction_times = [result[\"Prediction Time\"] for result in results.values()]\n",
        "\n",
        "fig_prediction = px.bar(x=model_names, y=prediction_times, labels={\"x\": \"Модель\", \"y\": \"Время предсказания (сек)\"},\n",
        "                        title=\"Время предсказания для каждой модели\")\n",
        "fig_prediction.update_traces(marker=dict(color=['red' if t == min(prediction_times) else 'blue' for t in prediction_times]))\n",
        "\n",
        "fig_prediction.show()\n",
        "\n"
      ]
    },
    {
      "cell_type": "markdown",
      "metadata": {},
      "source": [
        "# Рассматривая точность"
      ]
    },
    {
      "cell_type": "code",
      "execution_count": 166,
      "metadata": {},
      "outputs": [
        {
          "data": {
            "image/png": "[encoded data removed]",
            "text/plain": [
              "<Figure size 600x400 with 2 Axes>"
            ]
          },
          "metadata": {},
          "output_type": "display_data"
        },
        {
          "data": {
            "image/png": "[encoded data removed]",
            "text/plain": [
              "<Figure size 600x400 with 2 Axes>"
            ]
          },
          "metadata": {},
          "output_type": "display_data"
        },
        {
          "data": {
            "image/png": "[encoded data removed]",
            "text/plain": [
              "<Figure size 600x400 with 2 Axes>"
            ]
          },
          "metadata": {},
          "output_type": "display_data"
        },
        {
          "data": {
            "image/png": "[encoded data removed]",
            "text/plain": [
              "<Figure size 600x400 with 2 Axes>"
            ]
          },
          "metadata": {},
          "output_type": "display_data"
        }
      ],
      "source": [
        "import matplotlib.pyplot as plt\n",
        "import numpy as np\n",
        "\n",
        "model_names = list(results.keys())\n",
        "confusion_matrices = [result[\"Confusion Matrix\"] for result in results.values()]\n",
        "\n",
        "for i, matrix in enumerate(confusion_matrices):\n",
        "    matrix[[0, 1]] = matrix[[1, 0]]\n",
        "    matrix[:, [0, 1]] = matrix[:, [1, 0]]\n",
        "\n",
        "    plt.figure(figsize=(6, 4))\n",
        "    plt.imshow(matrix, interpolation='nearest', cmap=plt.cm.Blues)\n",
        "    plt.title(f'Матрица ошибок для модели {model_names[i]}')\n",
        "    plt.colorbar()\n",
        "\n",
        "    classes = ['Predicted 0', 'Predicted 1']\n",
        "    tick_marks = np.arange(len(classes))\n",
        "    plt.xticks(tick_marks, classes)\n",
        "    plt.yticks(tick_marks, classes)\n",
        "\n",
        "    fmt = 'd'\n",
        "    thresh = matrix.max() / 2.\n",
        "    for x in range(matrix.shape[0]):\n",
        "        for y in range(matrix.shape[1]):\n",
        "            plt.text(y, x, format(matrix[x, y], fmt),\n",
        "                     horizontalalignment=\"center\",\n",
        "                     color=\"white\" if matrix[x, y] > thresh else \"black\")\n",
        "\n",
        "    plt.ylabel('True label')\n",
        "    plt.xlabel('Predicted label')\n",
        "    plt.tight_layout()\n",
        "    plt.show()"
      ]
    },
    {
      "cell_type": "markdown",
      "metadata": {},
      "source": [
        "# Анализируя матрицу ошибок"
      ]
    },
    {
      "cell_type": "code",
      "execution_count": 173,
      "metadata": {},
      "outputs": [
        {
          "data": {
            "application/vnd.plotly.v1+json": {
              "config": {
                "plotlyServerURL": "https://plot.ly"
              },
              "data": [
                {
                  "alignmentgroup": "True",
                  "hovertemplate": "Модель=%{x}<br>Precision=%{y}<extra></extra>",
                  "legendgroup": "",
                  "marker": {
                    "color": [
                      "red",
                      "blue",
                      "blue",
                      "blue"
                    ],
                    "pattern": {
                      "shape": ""
                    }
                  },
                  "name": "",
                  "offsetgroup": "",
                  "orientation": "v",
                  "showlegend": false,
                  "textposition": "auto",
                  "type": "bar",
                  "x": [
                    "CatBoost",
                    "LightGBM",
                    "XGBoost",
                    "AdaBoost"
                  ],
                  "xaxis": "x",
                  "y": [
                    0.8245614035087719,
                    0.7671232876712328,
                    0.7611940298507462,
                    0.7761194029850746
                  ],
                  "yaxis": "y"
                }
              ],
              "layout": {
                "barmode": "relative",
                "legend": {
                  "tracegroupgap": 0
                },
                "template": {
                  "data": {
                    "bar": [
                      {
                        "error_x": {
                          "color": "#2a3f5f"
                        },
                        "error_y": {
                          "color": "#2a3f5f"
                        },
                        "marker": {
                          "line": {
                            "color": "#E5ECF6",
                            "width": 0.5
                          },
                          "pattern": {
                            "fillmode": "overlay",
                            "size": 10,
                            "solidity": 0.2
                          }
                        },
                        "type": "bar"
                      }
                    ],
                    "barpolar": [
                      {
                        "marker": {
                          "line": {
                            "color": "#E5ECF6",
                            "width": 0.5
                          },
                          "pattern": {
                            "fillmode": "overlay",
                            "size": 10,
                            "solidity": 0.2
                          }
                        },
                        "type": "barpolar"
                      }
                    ],
                    "carpet": [
                      {
                        "aaxis": {
                          "endlinecolor": "#2a3f5f",
                          "gridcolor": "white",
                          "linecolor": "white",
                          "minorgridcolor": "white",
                          "startlinecolor": "#2a3f5f"
                        },
                        "baxis": {
                          "endlinecolor": "#2a3f5f",
                          "gridcolor": "white",
                          "linecolor": "white",
                          "minorgridcolor": "white",
                          "startlinecolor": "#2a3f5f"
                        },
                        "type": "carpet"
                      }
                    ],
                    "choropleth": [
                      {
                        "colorbar": {
                          "outlinewidth": 0,
                          "ticks": ""
                        },
                        "type": "choropleth"
                      }
                    ],
                    "contour": [
                      {
                        "colorbar": {
                          "outlinewidth": 0,
                          "ticks": ""
                        },
                        "colorscale": [
                          [
                            0,
                            "#0d0887"
                          ],
                          [
                            0.1111111111111111,
                            "#46039f"
                          ],
                          [
                            0.2222222222222222,
                            "#7201a8"
                          ],
                          [
                            0.3333333333333333,
                            "#9c179e"
                          ],
                          [
                            0.4444444444444444,
                            "#bd3786"
                          ],
                          [
                            0.5555555555555556,
                            "#d8576b"
                          ],
                          [
                            0.6666666666666666,
                            "#ed7953"
                          ],
                          [
                            0.7777777777777778,
                            "#fb9f3a"
                          ],
                          [
                            0.8888888888888888,
                            "#fdca26"
                          ],
                          [
                            1,
                            "#f0f921"
                          ]
                        ],
                        "type": "contour"
                      }
                    ],
                    "contourcarpet": [
                      {
                        "colorbar": {
                          "outlinewidth": 0,
                          "ticks": ""
                        },
                        "type": "contourcarpet"
                      }
                    ],
                    "heatmap": [
                      {
                        "colorbar": {
                          "outlinewidth": 0,
                          "ticks": ""
                        },
                        "colorscale": [
                          [
                            0,
                            "#0d0887"
                          ],
                          [
                            0.1111111111111111,
                            "#46039f"
                          ],
                          [
                            0.2222222222222222,
                            "#7201a8"
                          ],
                          [
                            0.3333333333333333,
                            "#9c179e"
                          ],
                          [
                            0.4444444444444444,
                            "#bd3786"
                          ],
                          [
                            0.5555555555555556,
                            "#d8576b"
                          ],
                          [
                            0.6666666666666666,
                            "#ed7953"
                          ],
                          [
                            0.7777777777777778,
                            "#fb9f3a"
                          ],
                          [
                            0.8888888888888888,
                            "#fdca26"
                          ],
                          [
                            1,
                            "#f0f921"
                          ]
                        ],
                        "type": "heatmap"
                      }
                    ],
                    "heatmapgl": [
                      {
                        "colorbar": {
                          "outlinewidth": 0,
                          "ticks": ""
                        },
                        "colorscale": [
                          [
                            0,
                            "#0d0887"
                          ],
                          [
                            0.1111111111111111,
                            "#46039f"
                          ],
                          [
                            0.2222222222222222,
                            "#7201a8"
                          ],
                          [
                            0.3333333333333333,
                            "#9c179e"
                          ],
                          [
                            0.4444444444444444,
                            "#bd3786"
                          ],
                          [
                            0.5555555555555556,
                            "#d8576b"
                          ],
                          [
                            0.6666666666666666,
                            "#ed7953"
                          ],
                          [
                            0.7777777777777778,
                            "#fb9f3a"
                          ],
                          [
                            0.8888888888888888,
                            "#fdca26"
                          ],
                          [
                            1,
                            "#f0f921"
                          ]
                        ],
                        "type": "heatmapgl"
                      }
                    ],
                    "histogram": [
                      {
                        "marker": {
                          "pattern": {
                            "fillmode": "overlay",
                            "size": 10,
                            "solidity": 0.2
                          }
                        },
                        "type": "histogram"
                      }
                    ],
                    "histogram2d": [
                      {
                        "colorbar": {
                          "outlinewidth": 0,
                          "ticks": ""
                        },
                        "colorscale": [
                          [
                            0,
                            "#0d0887"
                          ],
                          [
                            0.1111111111111111,
                            "#46039f"
                          ],
                          [
                            0.2222222222222222,
                            "#7201a8"
                          ],
                          [
                            0.3333333333333333,
                            "#9c179e"
                          ],
                          [
                            0.4444444444444444,
                            "#bd3786"
                          ],
                          [
                            0.5555555555555556,
                            "#d8576b"
                          ],
                          [
                            0.6666666666666666,
                            "#ed7953"
                          ],
                          [
                            0.7777777777777778,
                            "#fb9f3a"
                          ],
                          [
                            0.8888888888888888,
                            "#fdca26"
                          ],
                          [
                            1,
                            "#f0f921"
                          ]
                        ],
                        "type": "histogram2d"
                      }
                    ],
                    "histogram2dcontour": [
                      {
                        "colorbar": {
                          "outlinewidth": 0,
                          "ticks": ""
                        },
                        "colorscale": [
                          [
                            0,
                            "#0d0887"
                          ],
                          [
                            0.1111111111111111,
                            "#46039f"
                          ],
                          [
                            0.2222222222222222,
                            "#7201a8"
                          ],
                          [
                            0.3333333333333333,
                            "#9c179e"
                          ],
                          [
                            0.4444444444444444,
                            "#bd3786"
                          ],
                          [
                            0.5555555555555556,
                            "#d8576b"
                          ],
                          [
                            0.6666666666666666,
                            "#ed7953"
                          ],
                          [
                            0.7777777777777778,
                            "#fb9f3a"
                          ],
                          [
                            0.8888888888888888,
                            "#fdca26"
                          ],
                          [
                            1,
                            "#f0f921"
                          ]
                        ],
                        "type": "histogram2dcontour"
                      }
                    ],
                    "mesh3d": [
                      {
                        "colorbar": {
                          "outlinewidth": 0,
                          "ticks": ""
                        },
                        "type": "mesh3d"
                      }
                    ],
                    "parcoords": [
                      {
                        "line": {
                          "colorbar": {
                            "outlinewidth": 0,
                            "ticks": ""
                          }
                        },
                        "type": "parcoords"
                      }
                    ],
                    "pie": [
                      {
                        "automargin": true,
                        "type": "pie"
                      }
                    ],
                    "scatter": [
                      {
                        "fillpattern": {
                          "fillmode": "overlay",
                          "size": 10,
                          "solidity": 0.2
                        },
                        "type": "scatter"
                      }
                    ],
                    "scatter3d": [
                      {
                        "line": {
                          "colorbar": {
                            "outlinewidth": 0,
                            "ticks": ""
                          }
                        },
                        "marker": {
                          "colorbar": {
                            "outlinewidth": 0,
                            "ticks": ""
                          }
                        },
                        "type": "scatter3d"
                      }
                    ],
                    "scattercarpet": [
                      {
                        "marker": {
                          "colorbar": {
                            "outlinewidth": 0,
                            "ticks": ""
                          }
                        },
                        "type": "scattercarpet"
                      }
                    ],
                    "scattergeo": [
                      {
                        "marker": {
                          "colorbar": {
                            "outlinewidth": 0,
                            "ticks": ""
                          }
                        },
                        "type": "scattergeo"
                      }
                    ],
                    "scattergl": [
                      {
                        "marker": {
                          "colorbar": {
                            "outlinewidth": 0,
                            "ticks": ""
                          }
                        },
                        "type": "scattergl"
                      }
                    ],
                    "scattermapbox": [
                      {
                        "marker": {
                          "colorbar": {
                            "outlinewidth": 0,
                            "ticks": ""
                          }
                        },
                        "type": "scattermapbox"
                      }
                    ],
                    "scatterpolar": [
                      {
                        "marker": {
                          "colorbar": {
                            "outlinewidth": 0,
                            "ticks": ""
                          }
                        },
                        "type": "scatterpolar"
                      }
                    ],
                    "scatterpolargl": [
                      {
                        "marker": {
                          "colorbar": {
                            "outlinewidth": 0,
                            "ticks": ""
                          }
                        },
                        "type": "scatterpolargl"
                      }
                    ],
                    "scatterternary": [
                      {
                        "marker": {
                          "colorbar": {
                            "outlinewidth": 0,
                            "ticks": ""
                          }
                        },
                        "type": "scatterternary"
                      }
                    ],
                    "surface": [
                      {
                        "colorbar": {
                          "outlinewidth": 0,
                          "ticks": ""
                        },
                        "colorscale": [
                          [
                            0,
                            "#0d0887"
                          ],
                          [
                            0.1111111111111111,
                            "#46039f"
                          ],
                          [
                            0.2222222222222222,
                            "#7201a8"
                          ],
                          [
                            0.3333333333333333,
                            "#9c179e"
                          ],
                          [
                            0.4444444444444444,
                            "#bd3786"
                          ],
                          [
                            0.5555555555555556,
                            "#d8576b"
                          ],
                          [
                            0.6666666666666666,
                            "#ed7953"
                          ],
                          [
                            0.7777777777777778,
                            "#fb9f3a"
                          ],
                          [
                            0.8888888888888888,
                            "#fdca26"
                          ],
                          [
                            1,
                            "#f0f921"
                          ]
                        ],
                        "type": "surface"
                      }
                    ],
                    "table": [
                      {
                        "cells": {
                          "fill": {
                            "color": "#EBF0F8"
                          },
                          "line": {
                            "color": "white"
                          }
                        },
                        "header": {
                          "fill": {
                            "color": "#C8D4E3"
                          },
                          "line": {
                            "color": "white"
                          }
                        },
                        "type": "table"
                      }
                    ]
                  },
                  "layout": {
                    "annotationdefaults": {
                      "arrowcolor": "#2a3f5f",
                      "arrowhead": 0,
                      "arrowwidth": 1
                    },
                    "autotypenumbers": "strict",
                    "coloraxis": {
                      "colorbar": {
                        "outlinewidth": 0,
                        "ticks": ""
                      }
                    },
                    "colorscale": {
                      "diverging": [
                        [
                          0,
                          "#8e0152"
                        ],
                        [
                          0.1,
                          "#c51b7d"
                        ],
                        [
                          0.2,
                          "#de77ae"
                        ],
                        [
                          0.3,
                          "#f1b6da"
                        ],
                        [
                          0.4,
                          "#fde0ef"
                        ],
                        [
                          0.5,
                          "#f7f7f7"
                        ],
                        [
                          0.6,
                          "#e6f5d0"
                        ],
                        [
                          0.7,
                          "#b8e186"
                        ],
                        [
                          0.8,
                          "#7fbc41"
                        ],
                        [
                          0.9,
                          "#4d9221"
                        ],
                        [
                          1,
                          "#276419"
                        ]
                      ],
                      "sequential": [
                        [
                          0,
                          "#0d0887"
                        ],
                        [
                          0.1111111111111111,
                          "#46039f"
                        ],
                        [
                          0.2222222222222222,
                          "#7201a8"
                        ],
                        [
                          0.3333333333333333,
                          "#9c179e"
                        ],
                        [
                          0.4444444444444444,
                          "#bd3786"
                        ],
                        [
                          0.5555555555555556,
                          "#d8576b"
                        ],
                        [
                          0.6666666666666666,
                          "#ed7953"
                        ],
                        [
                          0.7777777777777778,
                          "#fb9f3a"
                        ],
                        [
                          0.8888888888888888,
                          "#fdca26"
                        ],
                        [
                          1,
                          "#f0f921"
                        ]
                      ],
                      "sequentialminus": [
                        [
                          0,
                          "#0d0887"
                        ],
                        [
                          0.1111111111111111,
                          "#46039f"
                        ],
                        [
                          0.2222222222222222,
                          "#7201a8"
                        ],
                        [
                          0.3333333333333333,
                          "#9c179e"
                        ],
                        [
                          0.4444444444444444,
                          "#bd3786"
                        ],
                        [
                          0.5555555555555556,
                          "#d8576b"
                        ],
                        [
                          0.6666666666666666,
                          "#ed7953"
                        ],
                        [
                          0.7777777777777778,
                          "#fb9f3a"
                        ],
                        [
                          0.8888888888888888,
                          "#fdca26"
                        ],
                        [
                          1,
                          "#f0f921"
                        ]
                      ]
                    },
                    "colorway": [
                      "#636efa",
                      "#EF553B",
                      "#00cc96",
                      "#ab63fa",
                      "#FFA15A",
                      "#19d3f3",
                      "#FF6692",
                      "#B6E880",
                      "#FF97FF",
                      "#FECB52"
                    ],
                    "font": {
                      "color": "#2a3f5f"
                    },
                    "geo": {
                      "bgcolor": "white",
                      "lakecolor": "white",
                      "landcolor": "#E5ECF6",
                      "showlakes": true,
                      "showland": true,
                      "subunitcolor": "white"
                    },
                    "hoverlabel": {
                      "align": "left"
                    },
                    "hovermode": "closest",
                    "mapbox": {
                      "style": "light"
                    },
                    "paper_bgcolor": "white",
                    "plot_bgcolor": "#E5ECF6",
                    "polar": {
                      "angularaxis": {
                        "gridcolor": "white",
                        "linecolor": "white",
                        "ticks": ""
                      },
                      "bgcolor": "#E5ECF6",
                      "radialaxis": {
                        "gridcolor": "white",
                        "linecolor": "white",
                        "ticks": ""
                      }
                    },
                    "scene": {
                      "xaxis": {
                        "backgroundcolor": "#E5ECF6",
                        "gridcolor": "white",
                        "gridwidth": 2,
                        "linecolor": "white",
                        "showbackground": true,
                        "ticks": "",
                        "zerolinecolor": "white"
                      },
                      "yaxis": {
                        "backgroundcolor": "#E5ECF6",
                        "gridcolor": "white",
                        "gridwidth": 2,
                        "linecolor": "white",
                        "showbackground": true,
                        "ticks": "",
                        "zerolinecolor": "white"
                      },
                      "zaxis": {
                        "backgroundcolor": "#E5ECF6",
                        "gridcolor": "white",
                        "gridwidth": 2,
                        "linecolor": "white",
                        "showbackground": true,
                        "ticks": "",
                        "zerolinecolor": "white"
                      }
                    },
                    "shapedefaults": {
                      "line": {
                        "color": "#2a3f5f"
                      }
                    },
                    "ternary": {
                      "aaxis": {
                        "gridcolor": "white",
                        "linecolor": "white",
                        "ticks": ""
                      },
                      "baxis": {
                        "gridcolor": "white",
                        "linecolor": "white",
                        "ticks": ""
                      },
                      "bgcolor": "#E5ECF6",
                      "caxis": {
                        "gridcolor": "white",
                        "linecolor": "white",
                        "ticks": ""
                      }
                    },
                    "title": {
                      "x": 0.05
                    },
                    "xaxis": {
                      "automargin": true,
                      "gridcolor": "white",
                      "linecolor": "white",
                      "ticks": "",
                      "title": {
                        "standoff": 15
                      },
                      "zerolinecolor": "white",
                      "zerolinewidth": 2
                    },
                    "yaxis": {
                      "automargin": true,
                      "gridcolor": "white",
                      "linecolor": "white",
                      "ticks": "",
                      "title": {
                        "standoff": 15
                      },
                      "zerolinecolor": "white",
                      "zerolinewidth": 2
                    }
                  }
                },
                "title": {
                  "text": "Точность для каждой модели"
                },
                "xaxis": {
                  "anchor": "y",
                  "domain": [
                    0,
                    1
                  ],
                  "title": {
                    "text": "Модель"
                  }
                },
                "yaxis": {
                  "anchor": "x",
                  "domain": [
                    0,
                    1
                  ],
                  "title": {
                    "text": "Precision"
                  }
                }
              }
            }
          },
          "metadata": {},
          "output_type": "display_data"
        },
        {
          "data": {
            "application/vnd.plotly.v1+json": {
              "config": {
                "plotlyServerURL": "https://plot.ly"
              },
              "data": [
                {
                  "alignmentgroup": "True",
                  "hovertemplate": "Модель=%{x}<br>Recall=%{y}<extra></extra>",
                  "legendgroup": "",
                  "marker": {
                    "color": [
                      "blue",
                      "red",
                      "blue",
                      "blue"
                    ],
                    "pattern": {
                      "shape": ""
                    }
                  },
                  "name": "",
                  "offsetgroup": "",
                  "orientation": "v",
                  "showlegend": false,
                  "textposition": "auto",
                  "type": "bar",
                  "x": [
                    "CatBoost",
                    "LightGBM",
                    "XGBoost",
                    "AdaBoost"
                  ],
                  "xaxis": "x",
                  "y": [
                    0.6351351351351351,
                    0.7567567567567568,
                    0.6891891891891891,
                    0.7027027027027027
                  ],
                  "yaxis": "y"
                }
              ],
              "layout": {
                "barmode": "relative",
                "legend": {
                  "tracegroupgap": 0
                },
                "template": {
                  "data": {
                    "bar": [
                      {
                        "error_x": {
                          "color": "#2a3f5f"
                        },
                        "error_y": {
                          "color": "#2a3f5f"
                        },
                        "marker": {
                          "line": {
                            "color": "#E5ECF6",
                            "width": 0.5
                          },
                          "pattern": {
                            "fillmode": "overlay",
                            "size": 10,
                            "solidity": 0.2
                          }
                        },
                        "type": "bar"
                      }
                    ],
                    "barpolar": [
                      {
                        "marker": {
                          "line": {
                            "color": "#E5ECF6",
                            "width": 0.5
                          },
                          "pattern": {
                            "fillmode": "overlay",
                            "size": 10,
                            "solidity": 0.2
                          }
                        },
                        "type": "barpolar"
                      }
                    ],
                    "carpet": [
                      {
                        "aaxis": {
                          "endlinecolor": "#2a3f5f",
                          "gridcolor": "white",
                          "linecolor": "white",
                          "minorgridcolor": "white",
                          "startlinecolor": "#2a3f5f"
                        },
                        "baxis": {
                          "endlinecolor": "#2a3f5f",
                          "gridcolor": "white",
                          "linecolor": "white",
                          "minorgridcolor": "white",
                          "startlinecolor": "#2a3f5f"
                        },
                        "type": "carpet"
                      }
                    ],
                    "choropleth": [
                      {
                        "colorbar": {
                          "outlinewidth": 0,
                          "ticks": ""
                        },
                        "type": "choropleth"
                      }
                    ],
                    "contour": [
                      {
                        "colorbar": {
                          "outlinewidth": 0,
                          "ticks": ""
                        },
                        "colorscale": [
                          [
                            0,
                            "#0d0887"
                          ],
                          [
                            0.1111111111111111,
                            "#46039f"
                          ],
                          [
                            0.2222222222222222,
                            "#7201a8"
                          ],
                          [
                            0.3333333333333333,
                            "#9c179e"
                          ],
                          [
                            0.4444444444444444,
                            "#bd3786"
                          ],
                          [
                            0.5555555555555556,
                            "#d8576b"
                          ],
                          [
                            0.6666666666666666,
                            "#ed7953"
                          ],
                          [
                            0.7777777777777778,
                            "#fb9f3a"
                          ],
                          [
                            0.8888888888888888,
                            "#fdca26"
                          ],
                          [
                            1,
                            "#f0f921"
                          ]
                        ],
                        "type": "contour"
                      }
                    ],
                    "contourcarpet": [
                      {
                        "colorbar": {
                          "outlinewidth": 0,
                          "ticks": ""
                        },
                        "type": "contourcarpet"
                      }
                    ],
                    "heatmap": [
                      {
                        "colorbar": {
                          "outlinewidth": 0,
                          "ticks": ""
                        },
                        "colorscale": [
                          [
                            0,
                            "#0d0887"
                          ],
                          [
                            0.1111111111111111,
                            "#46039f"
                          ],
                          [
                            0.2222222222222222,
                            "#7201a8"
                          ],
                          [
                            0.3333333333333333,
                            "#9c179e"
                          ],
                          [
                            0.4444444444444444,
                            "#bd3786"
                          ],
                          [
                            0.5555555555555556,
                            "#d8576b"
                          ],
                          [
                            0.6666666666666666,
                            "#ed7953"
                          ],
                          [
                            0.7777777777777778,
                            "#fb9f3a"
                          ],
                          [
                            0.8888888888888888,
                            "#fdca26"
                          ],
                          [
                            1,
                            "#f0f921"
                          ]
                        ],
                        "type": "heatmap"
                      }
                    ],
                    "heatmapgl": [
                      {
                        "colorbar": {
                          "outlinewidth": 0,
                          "ticks": ""
                        },
                        "colorscale": [
                          [
                            0,
                            "#0d0887"
                          ],
                          [
                            0.1111111111111111,
                            "#46039f"
                          ],
                          [
                            0.2222222222222222,
                            "#7201a8"
                          ],
                          [
                            0.3333333333333333,
                            "#9c179e"
                          ],
                          [
                            0.4444444444444444,
                            "#bd3786"
                          ],
                          [
                            0.5555555555555556,
                            "#d8576b"
                          ],
                          [
                            0.6666666666666666,
                            "#ed7953"
                          ],
                          [
                            0.7777777777777778,
                            "#fb9f3a"
                          ],
                          [
                            0.8888888888888888,
                            "#fdca26"
                          ],
                          [
                            1,
                            "#f0f921"
                          ]
                        ],
                        "type": "heatmapgl"
                      }
                    ],
                    "histogram": [
                      {
                        "marker": {
                          "pattern": {
                            "fillmode": "overlay",
                            "size": 10,
                            "solidity": 0.2
                          }
                        },
                        "type": "histogram"
                      }
                    ],
                    "histogram2d": [
                      {
                        "colorbar": {
                          "outlinewidth": 0,
                          "ticks": ""
                        },
                        "colorscale": [
                          [
                            0,
                            "#0d0887"
                          ],
                          [
                            0.1111111111111111,
                            "#46039f"
                          ],
                          [
                            0.2222222222222222,
                            "#7201a8"
                          ],
                          [
                            0.3333333333333333,
                            "#9c179e"
                          ],
                          [
                            0.4444444444444444,
                            "#bd3786"
                          ],
                          [
                            0.5555555555555556,
                            "#d8576b"
                          ],
                          [
                            0.6666666666666666,
                            "#ed7953"
                          ],
                          [
                            0.7777777777777778,
                            "#fb9f3a"
                          ],
                          [
                            0.8888888888888888,
                            "#fdca26"
                          ],
                          [
                            1,
                            "#f0f921"
                          ]
                        ],
                        "type": "histogram2d"
                      }
                    ],
                    "histogram2dcontour": [
                      {
                        "colorbar": {
                          "outlinewidth": 0,
                          "ticks": ""
                        },
                        "colorscale": [
                          [
                            0,
                            "#0d0887"
                          ],
                          [
                            0.1111111111111111,
                            "#46039f"
                          ],
                          [
                            0.2222222222222222,
                            "#7201a8"
                          ],
                          [
                            0.3333333333333333,
                            "#9c179e"
                          ],
                          [
                            0.4444444444444444,
                            "#bd3786"
                          ],
                          [
                            0.5555555555555556,
                            "#d8576b"
                          ],
                          [
                            0.6666666666666666,
                            "#ed7953"
                          ],
                          [
                            0.7777777777777778,
                            "#fb9f3a"
                          ],
                          [
                            0.8888888888888888,
                            "#fdca26"
                          ],
                          [
                            1,
                            "#f0f921"
                          ]
                        ],
                        "type": "histogram2dcontour"
                      }
                    ],
                    "mesh3d": [
                      {
                        "colorbar": {
                          "outlinewidth": 0,
                          "ticks": ""
                        },
                        "type": "mesh3d"
                      }
                    ],
                    "parcoords": [
                      {
                        "line": {
                          "colorbar": {
                            "outlinewidth": 0,
                            "ticks": ""
                          }
                        },
                        "type": "parcoords"
                      }
                    ],
                    "pie": [
                      {
                        "automargin": true,
                        "type": "pie"
                      }
                    ],
                    "scatter": [
                      {
                        "fillpattern": {
                          "fillmode": "overlay",
                          "size": 10,
                          "solidity": 0.2
                        },
                        "type": "scatter"
                      }
                    ],
                    "scatter3d": [
                      {
                        "line": {
                          "colorbar": {
                            "outlinewidth": 0,
                            "ticks": ""
                          }
                        },
                        "marker": {
                          "colorbar": {
                            "outlinewidth": 0,
                            "ticks": ""
                          }
                        },
                        "type": "scatter3d"
                      }
                    ],
                    "scattercarpet": [
                      {
                        "marker": {
                          "colorbar": {
                            "outlinewidth": 0,
                            "ticks": ""
                          }
                        },
                        "type": "scattercarpet"
                      }
                    ],
                    "scattergeo": [
                      {
                        "marker": {
                          "colorbar": {
                            "outlinewidth": 0,
                            "ticks": ""
                          }
                        },
                        "type": "scattergeo"
                      }
                    ],
                    "scattergl": [
                      {
                        "marker": {
                          "colorbar": {
                            "outlinewidth": 0,
                            "ticks": ""
                          }
                        },
                        "type": "scattergl"
                      }
                    ],
                    "scattermapbox": [
                      {
                        "marker": {
                          "colorbar": {
                            "outlinewidth": 0,
                            "ticks": ""
                          }
                        },
                        "type": "scattermapbox"
                      }
                    ],
                    "scatterpolar": [
                      {
                        "marker": {
                          "colorbar": {
                            "outlinewidth": 0,
                            "ticks": ""
                          }
                        },
                        "type": "scatterpolar"
                      }
                    ],
                    "scatterpolargl": [
                      {
                        "marker": {
                          "colorbar": {
                            "outlinewidth": 0,
                            "ticks": ""
                          }
                        },
                        "type": "scatterpolargl"
                      }
                    ],
                    "scatterternary": [
                      {
                        "marker": {
                          "colorbar": {
                            "outlinewidth": 0,
                            "ticks": ""
                          }
                        },
                        "type": "scatterternary"
                      }
                    ],
                    "surface": [
                      {
                        "colorbar": {
                          "outlinewidth": 0,
                          "ticks": ""
                        },
                        "colorscale": [
                          [
                            0,
                            "#0d0887"
                          ],
                          [
                            0.1111111111111111,
                            "#46039f"
                          ],
                          [
                            0.2222222222222222,
                            "#7201a8"
                          ],
                          [
                            0.3333333333333333,
                            "#9c179e"
                          ],
                          [
                            0.4444444444444444,
                            "#bd3786"
                          ],
                          [
                            0.5555555555555556,
                            "#d8576b"
                          ],
                          [
                            0.6666666666666666,
                            "#ed7953"
                          ],
                          [
                            0.7777777777777778,
                            "#fb9f3a"
                          ],
                          [
                            0.8888888888888888,
                            "#fdca26"
                          ],
                          [
                            1,
                            "#f0f921"
                          ]
                        ],
                        "type": "surface"
                      }
                    ],
                    "table": [
                      {
                        "cells": {
                          "fill": {
                            "color": "#EBF0F8"
                          },
                          "line": {
                            "color": "white"
                          }
                        },
                        "header": {
                          "fill": {
                            "color": "#C8D4E3"
                          },
                          "line": {
                            "color": "white"
                          }
                        },
                        "type": "table"
                      }
                    ]
                  },
                  "layout": {
                    "annotationdefaults": {
                      "arrowcolor": "#2a3f5f",
                      "arrowhead": 0,
                      "arrowwidth": 1
                    },
                    "autotypenumbers": "strict",
                    "coloraxis": {
                      "colorbar": {
                        "outlinewidth": 0,
                        "ticks": ""
                      }
                    },
                    "colorscale": {
                      "diverging": [
                        [
                          0,
                          "#8e0152"
                        ],
                        [
                          0.1,
                          "#c51b7d"
                        ],
                        [
                          0.2,
                          "#de77ae"
                        ],
                        [
                          0.3,
                          "#f1b6da"
                        ],
                        [
                          0.4,
                          "#fde0ef"
                        ],
                        [
                          0.5,
                          "#f7f7f7"
                        ],
                        [
                          0.6,
                          "#e6f5d0"
                        ],
                        [
                          0.7,
                          "#b8e186"
                        ],
                        [
                          0.8,
                          "#7fbc41"
                        ],
                        [
                          0.9,
                          "#4d9221"
                        ],
                        [
                          1,
                          "#276419"
                        ]
                      ],
                      "sequential": [
                        [
                          0,
                          "#0d0887"
                        ],
                        [
                          0.1111111111111111,
                          "#46039f"
                        ],
                        [
                          0.2222222222222222,
                          "#7201a8"
                        ],
                        [
                          0.3333333333333333,
                          "#9c179e"
                        ],
                        [
                          0.4444444444444444,
                          "#bd3786"
                        ],
                        [
                          0.5555555555555556,
                          "#d8576b"
                        ],
                        [
                          0.6666666666666666,
                          "#ed7953"
                        ],
                        [
                          0.7777777777777778,
                          "#fb9f3a"
                        ],
                        [
                          0.8888888888888888,
                          "#fdca26"
                        ],
                        [
                          1,
                          "#f0f921"
                        ]
                      ],
                      "sequentialminus": [
                        [
                          0,
                          "#0d0887"
                        ],
                        [
                          0.1111111111111111,
                          "#46039f"
                        ],
                        [
                          0.2222222222222222,
                          "#7201a8"
                        ],
                        [
                          0.3333333333333333,
                          "#9c179e"
                        ],
                        [
                          0.4444444444444444,
                          "#bd3786"
                        ],
                        [
                          0.5555555555555556,
                          "#d8576b"
                        ],
                        [
                          0.6666666666666666,
                          "#ed7953"
                        ],
                        [
                          0.7777777777777778,
                          "#fb9f3a"
                        ],
                        [
                          0.8888888888888888,
                          "#fdca26"
                        ],
                        [
                          1,
                          "#f0f921"
                        ]
                      ]
                    },
                    "colorway": [
                      "#636efa",
                      "#EF553B",
                      "#00cc96",
                      "#ab63fa",
                      "#FFA15A",
                      "#19d3f3",
                      "#FF6692",
                      "#B6E880",
                      "#FF97FF",
                      "#FECB52"
                    ],
                    "font": {
                      "color": "#2a3f5f"
                    },
                    "geo": {
                      "bgcolor": "white",
                      "lakecolor": "white",
                      "landcolor": "#E5ECF6",
                      "showlakes": true,
                      "showland": true,
                      "subunitcolor": "white"
                    },
                    "hoverlabel": {
                      "align": "left"
                    },
                    "hovermode": "closest",
                    "mapbox": {
                      "style": "light"
                    },
                    "paper_bgcolor": "white",
                    "plot_bgcolor": "#E5ECF6",
                    "polar": {
                      "angularaxis": {
                        "gridcolor": "white",
                        "linecolor": "white",
                        "ticks": ""
                      },
                      "bgcolor": "#E5ECF6",
                      "radialaxis": {
                        "gridcolor": "white",
                        "linecolor": "white",
                        "ticks": ""
                      }
                    },
                    "scene": {
                      "xaxis": {
                        "backgroundcolor": "#E5ECF6",
                        "gridcolor": "white",
                        "gridwidth": 2,
                        "linecolor": "white",
                        "showbackground": true,
                        "ticks": "",
                        "zerolinecolor": "white"
                      },
                      "yaxis": {
                        "backgroundcolor": "#E5ECF6",
                        "gridcolor": "white",
                        "gridwidth": 2,
                        "linecolor": "white",
                        "showbackground": true,
                        "ticks": "",
                        "zerolinecolor": "white"
                      },
                      "zaxis": {
                        "backgroundcolor": "#E5ECF6",
                        "gridcolor": "white",
                        "gridwidth": 2,
                        "linecolor": "white",
                        "showbackground": true,
                        "ticks": "",
                        "zerolinecolor": "white"
                      }
                    },
                    "shapedefaults": {
                      "line": {
                        "color": "#2a3f5f"
                      }
                    },
                    "ternary": {
                      "aaxis": {
                        "gridcolor": "white",
                        "linecolor": "white",
                        "ticks": ""
                      },
                      "baxis": {
                        "gridcolor": "white",
                        "linecolor": "white",
                        "ticks": ""
                      },
                      "bgcolor": "#E5ECF6",
                      "caxis": {
                        "gridcolor": "white",
                        "linecolor": "white",
                        "ticks": ""
                      }
                    },
                    "title": {
                      "x": 0.05
                    },
                    "xaxis": {
                      "automargin": true,
                      "gridcolor": "white",
                      "linecolor": "white",
                      "ticks": "",
                      "title": {
                        "standoff": 15
                      },
                      "zerolinecolor": "white",
                      "zerolinewidth": 2
                    },
                    "yaxis": {
                      "automargin": true,
                      "gridcolor": "white",
                      "linecolor": "white",
                      "ticks": "",
                      "title": {
                        "standoff": 15
                      },
                      "zerolinecolor": "white",
                      "zerolinewidth": 2
                    }
                  }
                },
                "title": {
                  "text": "Полнота для каждой модели"
                },
                "xaxis": {
                  "anchor": "y",
                  "domain": [
                    0,
                    1
                  ],
                  "title": {
                    "text": "Модель"
                  }
                },
                "yaxis": {
                  "anchor": "x",
                  "domain": [
                    0,
                    1
                  ],
                  "title": {
                    "text": "Recall"
                  }
                }
              }
            }
          },
          "metadata": {},
          "output_type": "display_data"
        },
        {
          "data": {
            "application/vnd.plotly.v1+json": {
              "config": {
                "plotlyServerURL": "https://plot.ly"
              },
              "data": [
                {
                  "alignmentgroup": "True",
                  "hovertemplate": "Модель=%{x}<br>F1-score=%{y}<extra></extra>",
                  "legendgroup": "",
                  "marker": {
                    "color": [
                      "blue",
                      "red",
                      "blue",
                      "blue"
                    ],
                    "pattern": {
                      "shape": ""
                    }
                  },
                  "name": "",
                  "offsetgroup": "",
                  "orientation": "v",
                  "showlegend": false,
                  "textposition": "auto",
                  "type": "bar",
                  "x": [
                    "CatBoost",
                    "LightGBM",
                    "XGBoost",
                    "AdaBoost"
                  ],
                  "xaxis": "x",
                  "y": [
                    0.7175572519083969,
                    0.761904761904762,
                    0.7234042553191488,
                    0.7375886524822697
                  ],
                  "yaxis": "y"
                }
              ],
              "layout": {
                "barmode": "relative",
                "legend": {
                  "tracegroupgap": 0
                },
                "template": {
                  "data": {
                    "bar": [
                      {
                        "error_x": {
                          "color": "#2a3f5f"
                        },
                        "error_y": {
                          "color": "#2a3f5f"
                        },
                        "marker": {
                          "line": {
                            "color": "#E5ECF6",
                            "width": 0.5
                          },
                          "pattern": {
                            "fillmode": "overlay",
                            "size": 10,
                            "solidity": 0.2
                          }
                        },
                        "type": "bar"
                      }
                    ],
                    "barpolar": [
                      {
                        "marker": {
                          "line": {
                            "color": "#E5ECF6",
                            "width": 0.5
                          },
                          "pattern": {
                            "fillmode": "overlay",
                            "size": 10,
                            "solidity": 0.2
                          }
                        },
                        "type": "barpolar"
                      }
                    ],
                    "carpet": [
                      {
                        "aaxis": {
                          "endlinecolor": "#2a3f5f",
                          "gridcolor": "white",
                          "linecolor": "white",
                          "minorgridcolor": "white",
                          "startlinecolor": "#2a3f5f"
                        },
                        "baxis": {
                          "endlinecolor": "#2a3f5f",
                          "gridcolor": "white",
                          "linecolor": "white",
                          "minorgridcolor": "white",
                          "startlinecolor": "#2a3f5f"
                        },
                        "type": "carpet"
                      }
                    ],
                    "choropleth": [
                      {
                        "colorbar": {
                          "outlinewidth": 0,
                          "ticks": ""
                        },
                        "type": "choropleth"
                      }
                    ],
                    "contour": [
                      {
                        "colorbar": {
                          "outlinewidth": 0,
                          "ticks": ""
                        },
                        "colorscale": [
                          [
                            0,
                            "#0d0887"
                          ],
                          [
                            0.1111111111111111,
                            "#46039f"
                          ],
                          [
                            0.2222222222222222,
                            "#7201a8"
                          ],
                          [
                            0.3333333333333333,
                            "#9c179e"
                          ],
                          [
                            0.4444444444444444,
                            "#bd3786"
                          ],
                          [
                            0.5555555555555556,
                            "#d8576b"
                          ],
                          [
                            0.6666666666666666,
                            "#ed7953"
                          ],
                          [
                            0.7777777777777778,
                            "#fb9f3a"
                          ],
                          [
                            0.8888888888888888,
                            "#fdca26"
                          ],
                          [
                            1,
                            "#f0f921"
                          ]
                        ],
                        "type": "contour"
                      }
                    ],
                    "contourcarpet": [
                      {
                        "colorbar": {
                          "outlinewidth": 0,
                          "ticks": ""
                        },
                        "type": "contourcarpet"
                      }
                    ],
                    "heatmap": [
                      {
                        "colorbar": {
                          "outlinewidth": 0,
                          "ticks": ""
                        },
                        "colorscale": [
                          [
                            0,
                            "#0d0887"
                          ],
                          [
                            0.1111111111111111,
                            "#46039f"
                          ],
                          [
                            0.2222222222222222,
                            "#7201a8"
                          ],
                          [
                            0.3333333333333333,
                            "#9c179e"
                          ],
                          [
                            0.4444444444444444,
                            "#bd3786"
                          ],
                          [
                            0.5555555555555556,
                            "#d8576b"
                          ],
                          [
                            0.6666666666666666,
                            "#ed7953"
                          ],
                          [
                            0.7777777777777778,
                            "#fb9f3a"
                          ],
                          [
                            0.8888888888888888,
                            "#fdca26"
                          ],
                          [
                            1,
                            "#f0f921"
                          ]
                        ],
                        "type": "heatmap"
                      }
                    ],
                    "heatmapgl": [
                      {
                        "colorbar": {
                          "outlinewidth": 0,
                          "ticks": ""
                        },
                        "colorscale": [
                          [
                            0,
                            "#0d0887"
                          ],
                          [
                            0.1111111111111111,
                            "#46039f"
                          ],
                          [
                            0.2222222222222222,
                            "#7201a8"
                          ],
                          [
                            0.3333333333333333,
                            "#9c179e"
                          ],
                          [
                            0.4444444444444444,
                            "#bd3786"
                          ],
                          [
                            0.5555555555555556,
                            "#d8576b"
                          ],
                          [
                            0.6666666666666666,
                            "#ed7953"
                          ],
                          [
                            0.7777777777777778,
                            "#fb9f3a"
                          ],
                          [
                            0.8888888888888888,
                            "#fdca26"
                          ],
                          [
                            1,
                            "#f0f921"
                          ]
                        ],
                        "type": "heatmapgl"
                      }
                    ],
                    "histogram": [
                      {
                        "marker": {
                          "pattern": {
                            "fillmode": "overlay",
                            "size": 10,
                            "solidity": 0.2
                          }
                        },
                        "type": "histogram"
                      }
                    ],
                    "histogram2d": [
                      {
                        "colorbar": {
                          "outlinewidth": 0,
                          "ticks": ""
                        },
                        "colorscale": [
                          [
                            0,
                            "#0d0887"
                          ],
                          [
                            0.1111111111111111,
                            "#46039f"
                          ],
                          [
                            0.2222222222222222,
                            "#7201a8"
                          ],
                          [
                            0.3333333333333333,
                            "#9c179e"
                          ],
                          [
                            0.4444444444444444,
                            "#bd3786"
                          ],
                          [
                            0.5555555555555556,
                            "#d8576b"
                          ],
                          [
                            0.6666666666666666,
                            "#ed7953"
                          ],
                          [
                            0.7777777777777778,
                            "#fb9f3a"
                          ],
                          [
                            0.8888888888888888,
                            "#fdca26"
                          ],
                          [
                            1,
                            "#f0f921"
                          ]
                        ],
                        "type": "histogram2d"
                      }
                    ],
                    "histogram2dcontour": [
                      {
                        "colorbar": {
                          "outlinewidth": 0,
                          "ticks": ""
                        },
                        "colorscale": [
                          [
                            0,
                            "#0d0887"
                          ],
                          [
                            0.1111111111111111,
                            "#46039f"
                          ],
                          [
                            0.2222222222222222,
                            "#7201a8"
                          ],
                          [
                            0.3333333333333333,
                            "#9c179e"
                          ],
                          [
                            0.4444444444444444,
                            "#bd3786"
                          ],
                          [
                            0.5555555555555556,
                            "#d8576b"
                          ],
                          [
                            0.6666666666666666,
                            "#ed7953"
                          ],
                          [
                            0.7777777777777778,
                            "#fb9f3a"
                          ],
                          [
                            0.8888888888888888,
                            "#fdca26"
                          ],
                          [
                            1,
                            "#f0f921"
                          ]
                        ],
                        "type": "histogram2dcontour"
                      }
                    ],
                    "mesh3d": [
                      {
                        "colorbar": {
                          "outlinewidth": 0,
                          "ticks": ""
                        },
                        "type": "mesh3d"
                      }
                    ],
                    "parcoords": [
                      {
                        "line": {
                          "colorbar": {
                            "outlinewidth": 0,
                            "ticks": ""
                          }
                        },
                        "type": "parcoords"
                      }
                    ],
                    "pie": [
                      {
                        "automargin": true,
                        "type": "pie"
                      }
                    ],
                    "scatter": [
                      {
                        "fillpattern": {
                          "fillmode": "overlay",
                          "size": 10,
                          "solidity": 0.2
                        },
                        "type": "scatter"
                      }
                    ],
                    "scatter3d": [
                      {
                        "line": {
                          "colorbar": {
                            "outlinewidth": 0,
                            "ticks": ""
                          }
                        },
                        "marker": {
                          "colorbar": {
                            "outlinewidth": 0,
                            "ticks": ""
                          }
                        },
                        "type": "scatter3d"
                      }
                    ],
                    "scattercarpet": [
                      {
                        "marker": {
                          "colorbar": {
                            "outlinewidth": 0,
                            "ticks": ""
                          }
                        },
                        "type": "scattercarpet"
                      }
                    ],
                    "scattergeo": [
                      {
                        "marker": {
                          "colorbar": {
                            "outlinewidth": 0,
                            "ticks": ""
                          }
                        },
                        "type": "scattergeo"
                      }
                    ],
                    "scattergl": [
                      {
                        "marker": {
                          "colorbar": {
                            "outlinewidth": 0,
                            "ticks": ""
                          }
                        },
                        "type": "scattergl"
                      }
                    ],
                    "scattermapbox": [
                      {
                        "marker": {
                          "colorbar": {
                            "outlinewidth": 0,
                            "ticks": ""
                          }
                        },
                        "type": "scattermapbox"
                      }
                    ],
                    "scatterpolar": [
                      {
                        "marker": {
                          "colorbar": {
                            "outlinewidth": 0,
                            "ticks": ""
                          }
                        },
                        "type": "scatterpolar"
                      }
                    ],
                    "scatterpolargl": [
                      {
                        "marker": {
                          "colorbar": {
                            "outlinewidth": 0,
                            "ticks": ""
                          }
                        },
                        "type": "scatterpolargl"
                      }
                    ],
                    "scatterternary": [
                      {
                        "marker": {
                          "colorbar": {
                            "outlinewidth": 0,
                            "ticks": ""
                          }
                        },
                        "type": "scatterternary"
                      }
                    ],
                    "surface": [
                      {
                        "colorbar": {
                          "outlinewidth": 0,
                          "ticks": ""
                        },
                        "colorscale": [
                          [
                            0,
                            "#0d0887"
                          ],
                          [
                            0.1111111111111111,
                            "#46039f"
                          ],
                          [
                            0.2222222222222222,
                            "#7201a8"
                          ],
                          [
                            0.3333333333333333,
                            "#9c179e"
                          ],
                          [
                            0.4444444444444444,
                            "#bd3786"
                          ],
                          [
                            0.5555555555555556,
                            "#d8576b"
                          ],
                          [
                            0.6666666666666666,
                            "#ed7953"
                          ],
                          [
                            0.7777777777777778,
                            "#fb9f3a"
                          ],
                          [
                            0.8888888888888888,
                            "#fdca26"
                          ],
                          [
                            1,
                            "#f0f921"
                          ]
                        ],
                        "type": "surface"
                      }
                    ],
                    "table": [
                      {
                        "cells": {
                          "fill": {
                            "color": "#EBF0F8"
                          },
                          "line": {
                            "color": "white"
                          }
                        },
                        "header": {
                          "fill": {
                            "color": "#C8D4E3"
                          },
                          "line": {
                            "color": "white"
                          }
                        },
                        "type": "table"
                      }
                    ]
                  },
                  "layout": {
                    "annotationdefaults": {
                      "arrowcolor": "#2a3f5f",
                      "arrowhead": 0,
                      "arrowwidth": 1
                    },
                    "autotypenumbers": "strict",
                    "coloraxis": {
                      "colorbar": {
                        "outlinewidth": 0,
                        "ticks": ""
                      }
                    },
                    "colorscale": {
                      "diverging": [
                        [
                          0,
                          "#8e0152"
                        ],
                        [
                          0.1,
                          "#c51b7d"
                        ],
                        [
                          0.2,
                          "#de77ae"
                        ],
                        [
                          0.3,
                          "#f1b6da"
                        ],
                        [
                          0.4,
                          "#fde0ef"
                        ],
                        [
                          0.5,
                          "#f7f7f7"
                        ],
                        [
                          0.6,
                          "#e6f5d0"
                        ],
                        [
                          0.7,
                          "#b8e186"
                        ],
                        [
                          0.8,
                          "#7fbc41"
                        ],
                        [
                          0.9,
                          "#4d9221"
                        ],
                        [
                          1,
                          "#276419"
                        ]
                      ],
                      "sequential": [
                        [
                          0,
                          "#0d0887"
                        ],
                        [
                          0.1111111111111111,
                          "#46039f"
                        ],
                        [
                          0.2222222222222222,
                          "#7201a8"
                        ],
                        [
                          0.3333333333333333,
                          "#9c179e"
                        ],
                        [
                          0.4444444444444444,
                          "#bd3786"
                        ],
                        [
                          0.5555555555555556,
                          "#d8576b"
                        ],
                        [
                          0.6666666666666666,
                          "#ed7953"
                        ],
                        [
                          0.7777777777777778,
                          "#fb9f3a"
                        ],
                        [
                          0.8888888888888888,
                          "#fdca26"
                        ],
                        [
                          1,
                          "#f0f921"
                        ]
                      ],
                      "sequentialminus": [
                        [
                          0,
                          "#0d0887"
                        ],
                        [
                          0.1111111111111111,
                          "#46039f"
                        ],
                        [
                          0.2222222222222222,
                          "#7201a8"
                        ],
                        [
                          0.3333333333333333,
                          "#9c179e"
                        ],
                        [
                          0.4444444444444444,
                          "#bd3786"
                        ],
                        [
                          0.5555555555555556,
                          "#d8576b"
                        ],
                        [
                          0.6666666666666666,
                          "#ed7953"
                        ],
                        [
                          0.7777777777777778,
                          "#fb9f3a"
                        ],
                        [
                          0.8888888888888888,
                          "#fdca26"
                        ],
                        [
                          1,
                          "#f0f921"
                        ]
                      ]
                    },
                    "colorway": [
                      "#636efa",
                      "#EF553B",
                      "#00cc96",
                      "#ab63fa",
                      "#FFA15A",
                      "#19d3f3",
                      "#FF6692",
                      "#B6E880",
                      "#FF97FF",
                      "#FECB52"
                    ],
                    "font": {
                      "color": "#2a3f5f"
                    },
                    "geo": {
                      "bgcolor": "white",
                      "lakecolor": "white",
                      "landcolor": "#E5ECF6",
                      "showlakes": true,
                      "showland": true,
                      "subunitcolor": "white"
                    },
                    "hoverlabel": {
                      "align": "left"
                    },
                    "hovermode": "closest",
                    "mapbox": {
                      "style": "light"
                    },
                    "paper_bgcolor": "white",
                    "plot_bgcolor": "#E5ECF6",
                    "polar": {
                      "angularaxis": {
                        "gridcolor": "white",
                        "linecolor": "white",
                        "ticks": ""
                      },
                      "bgcolor": "#E5ECF6",
                      "radialaxis": {
                        "gridcolor": "white",
                        "linecolor": "white",
                        "ticks": ""
                      }
                    },
                    "scene": {
                      "xaxis": {
                        "backgroundcolor": "#E5ECF6",
                        "gridcolor": "white",
                        "gridwidth": 2,
                        "linecolor": "white",
                        "showbackground": true,
                        "ticks": "",
                        "zerolinecolor": "white"
                      },
                      "yaxis": {
                        "backgroundcolor": "#E5ECF6",
                        "gridcolor": "white",
                        "gridwidth": 2,
                        "linecolor": "white",
                        "showbackground": true,
                        "ticks": "",
                        "zerolinecolor": "white"
                      },
                      "zaxis": {
                        "backgroundcolor": "#E5ECF6",
                        "gridcolor": "white",
                        "gridwidth": 2,
                        "linecolor": "white",
                        "showbackground": true,
                        "ticks": "",
                        "zerolinecolor": "white"
                      }
                    },
                    "shapedefaults": {
                      "line": {
                        "color": "#2a3f5f"
                      }
                    },
                    "ternary": {
                      "aaxis": {
                        "gridcolor": "white",
                        "linecolor": "white",
                        "ticks": ""
                      },
                      "baxis": {
                        "gridcolor": "white",
                        "linecolor": "white",
                        "ticks": ""
                      },
                      "bgcolor": "#E5ECF6",
                      "caxis": {
                        "gridcolor": "white",
                        "linecolor": "white",
                        "ticks": ""
                      }
                    },
                    "title": {
                      "x": 0.05
                    },
                    "xaxis": {
                      "automargin": true,
                      "gridcolor": "white",
                      "linecolor": "white",
                      "ticks": "",
                      "title": {
                        "standoff": 15
                      },
                      "zerolinecolor": "white",
                      "zerolinewidth": 2
                    },
                    "yaxis": {
                      "automargin": true,
                      "gridcolor": "white",
                      "linecolor": "white",
                      "ticks": "",
                      "title": {
                        "standoff": 15
                      },
                      "zerolinecolor": "white",
                      "zerolinewidth": 2
                    }
                  }
                },
                "title": {
                  "text": "F1-score для каждой модели"
                },
                "xaxis": {
                  "anchor": "y",
                  "domain": [
                    0,
                    1
                  ],
                  "title": {
                    "text": "Модель"
                  }
                },
                "yaxis": {
                  "anchor": "x",
                  "domain": [
                    0,
                    1
                  ],
                  "title": {
                    "text": "F1-score"
                  }
                }
              }
            }
          },
          "metadata": {},
          "output_type": "display_data"
        }
      ],
      "source": [
        "import plotly.express as px\n",
        "\n",
        "precision_values = [result[\"Precision\"] for result in results.values()] #  tp / (tp + fp)\n",
        "recall_values = [result[\"Recall\"] for result in results.values()] #  tp / (tp + fn)\n",
        "f1_values = [result[\"F1-score\"] for result in results.values()] # 2 * (precision * recall) / (precision + recall)\n",
        "\n",
        "\n",
        "best_precision_idx = precision_values.index(max(precision_values))\n",
        "best_recall_idx = recall_values.index(max(recall_values))\n",
        "best_f1_idx = f1_values.index(max(f1_values))\n",
        "\n",
        "# Точность для каждой модели\n",
        "fig_precision = px.bar(x=model_names, y=precision_values, labels={\"x\": \"Модель\", \"y\": \"Precision\"},\n",
        "             title=\"Точность для каждой модели\")\n",
        "fig_precision.update_traces(marker=dict(color=[('red' if i == best_precision_idx else 'blue') for i in range(len(model_names))]))\n",
        "\n",
        "# Полнота для каждой модели\n",
        "fig_recall = px.bar(x=model_names, y=recall_values, labels={\"x\": \"Модель\", \"y\": \"Recall\"},\n",
        "             title=\"Полнота для каждой модели\")\n",
        "fig_recall.update_traces(marker=dict(color=[('red' if i == best_recall_idx else 'blue') for i in range(len(model_names))]))\n",
        "\n",
        "# F1-score для каждой модели\n",
        "fig_f1 = px.bar(x=model_names, y=f1_values, labels={\"x\": \"Модель\", \"y\": \"F1-score\"},\n",
        "             title=\"F1-score для каждой модели\")\n",
        "fig_f1.update_traces(marker=dict(color=[('red' if i == best_f1_idx else 'blue') for i in range(len(model_names))]))\n",
        "\n",
        "fig_precision.show()\n",
        "fig_recall.show()\n",
        "fig_f1.show()"
      ]
    },
    {
      "cell_type": "markdown",
      "metadata": {
        "id": "Kl077HVMBHbC"
      },
      "source": [
        "# Обучить модели машинного обучения для решения задачи **регрессии**, используя следующие boosting-алгоритмы: [CatBoost](https://catboost.ai/en/docs/concepts/python-reference_catboostregressor), [Light GBM](https://lightgbm.readthedocs.io/en/latest/pythonapi/lightgbm.LGBMRegressor.html), [XGBoost](https://kirenz.github.io/regression/docs/xgboost-regression.html), [AdaBoost](https://scikit-learn.org/stable/modules/generated/sklearn.ensemble.AdaBoostRegressor.html). Сравнить их точность и быстродействие.\n",
        "\n",
        "Датасет: https://scikit-learn.org/stable/modules/generated/sklearn.datasets.fetch_olivetti_faces.html"
      ]
    },
    {
      "cell_type": "code",
      "execution_count": 176,
      "metadata": {},
      "outputs": [
        {
          "name": "stdout",
          "output_type": "stream",
          "text": [
            ".. _olivetti_faces_dataset:\n",
            "\n",
            "The Olivetti faces dataset\n",
            "--------------------------\n",
            "\n",
            "`This dataset contains a set of face images`_ taken between April 1992 and \n",
            "April 1994 at AT&T Laboratories Cambridge. The\n",
            ":func:`sklearn.datasets.fetch_olivetti_faces` function is the data\n",
            "fetching / caching function that downloads the data\n",
            "archive from AT&T.\n",
            "\n",
            ".. _This dataset contains a set of face images: https://cam-orl.co.uk/facedatabase.html\n",
            "\n",
            "As described on the original website:\n",
            "\n",
            "    There are ten different images of each of 40 distinct subjects. For some\n",
            "    subjects, the images were taken at different times, varying the lighting,\n",
            "    facial expressions (open / closed eyes, smiling / not smiling) and facial\n",
            "    details (glasses / no glasses). All the images were taken against a dark\n",
            "    homogeneous background with the subjects in an upright, frontal position \n",
            "    (with tolerance for some side movement).\n",
            "\n",
            "**Data Set Characteristics:**\n",
            "\n",
            "    =================   =====================\n",
            "    Classes                                40\n",
            "    Samples total                         400\n",
            "    Dimensionality                       4096\n",
            "    Features            real, between 0 and 1\n",
            "    =================   =====================\n",
            "\n",
            "The image is quantized to 256 grey levels and stored as unsigned 8-bit \n",
            "integers; the loader will convert these to floating point values on the \n",
            "interval [0, 1], which are easier to work with for many algorithms.\n",
            "\n",
            "The \"target\" for this database is an integer from 0 to 39 indicating the\n",
            "identity of the person pictured; however, with only 10 examples per class, this\n",
            "relatively small dataset is more interesting from an unsupervised or\n",
            "semi-supervised perspective.\n",
            "\n",
            "The original dataset consisted of 92 x 112, while the version available here\n",
            "consists of 64x64 images.\n",
            "\n",
            "When using these images, please give credit to AT&T Laboratories Cambridge.\n",
            "\n"
          ]
        }
      ],
      "source": [
        "from sklearn.datasets import fetch_olivetti_faces\n",
        "\n",
        "# Загрузка данных\n",
        "faces_data = fetch_olivetti_faces()\n",
        "\n",
        "# Просмотр информации о данных\n",
        "print(faces_data.DESCR)\n",
        "\n",
        "# Получение изображений и меток\n",
        "images = faces_data.images\n",
        "target = faces_data.target"
      ]
    },
    {
      "cell_type": "code",
      "execution_count": 177,
      "metadata": {
        "id": "L-7hzoZHB_Wq"
      },
      "outputs": [],
      "source": [
        "from sklearn.model_selection import train_test_split\n",
        "import numpy as np\n",
        "\n",
        "X = images.reshape(len(images), -1)\n",
        "y = target\n",
        "\n",
        "\n",
        "X_train, X_test, y_train, y_test = train_test_split(X, y, test_size=0.2, random_state=42)"
      ]
    },
    {
      "cell_type": "code",
      "execution_count": 178,
      "metadata": {},
      "outputs": [
        {
          "data": {
            "image/png": "[encoded data removed]",
            "text/plain": [
              "<Figure size 1200x600 with 12 Axes>"
            ]
          },
          "metadata": {},
          "output_type": "display_data"
        }
      ],
      "source": [
        "import matplotlib.pyplot as plt\n",
        "\n",
        "\n",
        "num_samples = 12\n",
        "\n",
        "plt.figure(figsize=(12, 6))\n",
        "for i in range(num_samples):\n",
        "    plt.subplot(2, num_samples // 2, i + 1)\n",
        "    plt.imshow(images[i], cmap='gray')\n",
        "    plt.title(f\"Person: {target[i]}\")\n",
        "    plt.axis('off')\n",
        "\n",
        "plt.tight_layout()\n",
        "plt.show()"
      ]
    },
    {
      "cell_type": "code",
      "execution_count": 179,
      "metadata": {},
      "outputs": [],
      "source": [
        "from catboost import CatBoostRegressor\n",
        "from lightgbm import LGBMRegressor\n",
        "from xgboost import XGBRegressor\n",
        "from sklearn.ensemble import AdaBoostRegressor\n",
        "import time\n",
        "from sklearn.metrics import mean_absolute_error, r2_score, explained_variance_score"
      ]
    },
    {
      "cell_type": "code",
      "execution_count": 180,
      "metadata": {},
      "outputs": [],
      "source": [
        "models = {\n",
        "    \"CatBoost\": CatBoostRegressor(random_state=42),\n",
        "    \"LightGBM\": LGBMRegressor(random_state=42),\n",
        "    \"XGBoost\": XGBRegressor(random_state=42),\n",
        "    \"AdaBoost\": AdaBoostRegressor(random_state=42)\n",
        "}"
      ]
    },
    {
      "cell_type": "code",
      "execution_count": 181,
      "metadata": {},
      "outputs": [
        {
          "name": "stdout",
          "output_type": "stream",
          "text": [
            "Learning rate set to 0.034197\n",
            "0:\tlearn: 11.1554296\ttotal: 87.3ms\tremaining: 1m 27s\n",
            "1:\tlearn: 11.0237663\ttotal: 136ms\tremaining: 1m 7s\n",
            "2:\tlearn: 10.8945045\ttotal: 184ms\tremaining: 1m 1s\n",
            "3:\tlearn: 10.8202903\ttotal: 233ms\tremaining: 57.9s\n",
            "4:\tlearn: 10.6994209\ttotal: 282ms\tremaining: 56.1s\n",
            "5:\tlearn: 10.5834543\ttotal: 331ms\tremaining: 54.8s\n",
            "6:\tlearn: 10.4679881\ttotal: 380ms\tremaining: 53.8s\n",
            "7:\tlearn: 10.3462737\ttotal: 427ms\tremaining: 52.9s\n",
            "8:\tlearn: 10.2290078\ttotal: 474ms\tremaining: 52.1s\n",
            "9:\tlearn: 10.1153048\ttotal: 521ms\tremaining: 51.6s\n",
            "10:\tlearn: 10.0279283\ttotal: 568ms\tremaining: 51.1s\n",
            "11:\tlearn: 9.9446018\ttotal: 616ms\tremaining: 50.7s\n",
            "12:\tlearn: 9.8580568\ttotal: 664ms\tremaining: 50.4s\n",
            "13:\tlearn: 9.7806754\ttotal: 712ms\tremaining: 50.1s\n",
            "14:\tlearn: 9.6832615\ttotal: 761ms\tremaining: 50s\n",
            "15:\tlearn: 9.5915845\ttotal: 807ms\tremaining: 49.6s\n",
            "16:\tlearn: 9.4989628\ttotal: 853ms\tremaining: 49.3s\n",
            "17:\tlearn: 9.4014354\ttotal: 900ms\tremaining: 49.1s\n",
            "18:\tlearn: 9.2775032\ttotal: 946ms\tremaining: 48.8s\n",
            "19:\tlearn: 9.1994955\ttotal: 993ms\tremaining: 48.6s\n",
            "20:\tlearn: 9.1154552\ttotal: 1.04s\tremaining: 48.4s\n",
            "21:\tlearn: 9.0310072\ttotal: 1.09s\tremaining: 48.3s\n",
            "22:\tlearn: 8.9542037\ttotal: 1.13s\tremaining: 48.1s\n",
            "23:\tlearn: 8.8682563\ttotal: 1.18s\tremaining: 48s\n",
            "24:\tlearn: 8.7934261\ttotal: 1.23s\tremaining: 47.8s\n",
            "25:\tlearn: 8.7222300\ttotal: 1.27s\tremaining: 47.7s\n",
            "26:\tlearn: 8.6378239\ttotal: 1.33s\tremaining: 48.1s\n",
            "27:\tlearn: 8.5668667\ttotal: 1.38s\tremaining: 48.1s\n",
            "28:\tlearn: 8.4918295\ttotal: 1.43s\tremaining: 48s\n",
            "29:\tlearn: 8.4166312\ttotal: 1.48s\tremaining: 47.8s\n",
            "30:\tlearn: 8.3592970\ttotal: 1.52s\tremaining: 47.7s\n",
            "31:\tlearn: 8.2912979\ttotal: 1.57s\tremaining: 47.5s\n",
            "32:\tlearn: 8.2296355\ttotal: 1.62s\tremaining: 47.4s\n",
            "33:\tlearn: 8.1322656\ttotal: 1.67s\tremaining: 47.3s\n",
            "34:\tlearn: 8.0868727\ttotal: 1.71s\tremaining: 47.2s\n",
            "35:\tlearn: 8.0135793\ttotal: 1.76s\tremaining: 47.1s\n",
            "36:\tlearn: 7.9486627\ttotal: 1.8s\tremaining: 47s\n",
            "37:\tlearn: 7.9030455\ttotal: 1.85s\tremaining: 46.8s\n",
            "38:\tlearn: 7.8575455\ttotal: 1.9s\tremaining: 46.8s\n",
            "39:\tlearn: 7.8035110\ttotal: 1.94s\tremaining: 46.7s\n",
            "40:\tlearn: 7.7506024\ttotal: 1.99s\tremaining: 46.6s\n",
            "41:\tlearn: 7.7043767\ttotal: 2.04s\tremaining: 46.5s\n",
            "42:\tlearn: 7.6592214\ttotal: 2.08s\tremaining: 46.4s\n",
            "43:\tlearn: 7.5990102\ttotal: 2.13s\tremaining: 46.3s\n",
            "44:\tlearn: 7.5386676\ttotal: 2.18s\tremaining: 46.2s\n",
            "45:\tlearn: 7.4773421\ttotal: 2.23s\tremaining: 46.1s\n",
            "46:\tlearn: 7.4128462\ttotal: 2.27s\tremaining: 46s\n",
            "47:\tlearn: 7.3442106\ttotal: 2.32s\tremaining: 46s\n",
            "48:\tlearn: 7.2904913\ttotal: 2.37s\tremaining: 45.9s\n",
            "49:\tlearn: 7.2306031\ttotal: 2.41s\tremaining: 45.8s\n",
            "50:\tlearn: 7.1705519\ttotal: 2.47s\tremaining: 46s\n",
            "51:\tlearn: 7.1073648\ttotal: 2.52s\tremaining: 45.9s\n",
            "52:\tlearn: 7.0659302\ttotal: 2.56s\tremaining: 45.8s\n",
            "53:\tlearn: 7.0196122\ttotal: 2.61s\tremaining: 45.7s\n",
            "54:\tlearn: 6.9603496\ttotal: 2.66s\tremaining: 45.6s\n",
            "55:\tlearn: 6.9173204\ttotal: 2.7s\tremaining: 45.6s\n",
            "56:\tlearn: 6.8731867\ttotal: 2.75s\tremaining: 45.5s\n",
            "57:\tlearn: 6.7978016\ttotal: 2.8s\tremaining: 45.5s\n",
            "58:\tlearn: 6.7556651\ttotal: 2.85s\tremaining: 45.4s\n",
            "59:\tlearn: 6.7242827\ttotal: 2.89s\tremaining: 45.3s\n",
            "60:\tlearn: 6.6684595\ttotal: 2.94s\tremaining: 45.2s\n",
            "61:\tlearn: 6.6176170\ttotal: 2.99s\tremaining: 45.2s\n",
            "62:\tlearn: 6.5769921\ttotal: 3.03s\tremaining: 45.1s\n",
            "63:\tlearn: 6.5297618\ttotal: 3.08s\tremaining: 45s\n",
            "64:\tlearn: 6.4759836\ttotal: 3.13s\tremaining: 45s\n",
            "65:\tlearn: 6.4258460\ttotal: 3.17s\tremaining: 44.9s\n",
            "66:\tlearn: 6.3740655\ttotal: 3.22s\tremaining: 44.8s\n",
            "67:\tlearn: 6.3201069\ttotal: 3.26s\tremaining: 44.7s\n",
            "68:\tlearn: 6.2755791\ttotal: 3.31s\tremaining: 44.7s\n",
            "69:\tlearn: 6.2322163\ttotal: 3.36s\tremaining: 44.6s\n",
            "70:\tlearn: 6.1872929\ttotal: 3.4s\tremaining: 44.5s\n",
            "71:\tlearn: 6.1647271\ttotal: 3.45s\tremaining: 44.5s\n",
            "72:\tlearn: 6.1278259\ttotal: 3.5s\tremaining: 44.5s\n",
            "73:\tlearn: 6.0832318\ttotal: 3.55s\tremaining: 44.4s\n",
            "74:\tlearn: 6.0474525\ttotal: 3.61s\tremaining: 44.5s\n",
            "75:\tlearn: 5.9994998\ttotal: 3.66s\tremaining: 44.5s\n",
            "76:\tlearn: 5.9531979\ttotal: 3.71s\tremaining: 44.4s\n",
            "77:\tlearn: 5.9097927\ttotal: 3.77s\tremaining: 44.6s\n",
            "78:\tlearn: 5.8746303\ttotal: 3.82s\tremaining: 44.5s\n",
            "79:\tlearn: 5.8228327\ttotal: 3.86s\tremaining: 44.4s\n",
            "80:\tlearn: 5.7978846\ttotal: 3.91s\tremaining: 44.4s\n",
            "81:\tlearn: 5.7729278\ttotal: 3.96s\tremaining: 44.3s\n",
            "82:\tlearn: 5.7484473\ttotal: 4s\tremaining: 44.2s\n",
            "83:\tlearn: 5.7087622\ttotal: 4.05s\tremaining: 44.2s\n",
            "84:\tlearn: 5.6770940\ttotal: 4.1s\tremaining: 44.1s\n",
            "85:\tlearn: 5.6430366\ttotal: 4.14s\tremaining: 44s\n",
            "86:\tlearn: 5.6033228\ttotal: 4.2s\tremaining: 44.1s\n",
            "87:\tlearn: 5.5513349\ttotal: 4.25s\tremaining: 44s\n",
            "88:\tlearn: 5.5238047\ttotal: 4.3s\tremaining: 44s\n",
            "89:\tlearn: 5.5061401\ttotal: 4.35s\tremaining: 44s\n",
            "90:\tlearn: 5.4713819\ttotal: 4.4s\tremaining: 44s\n",
            "91:\tlearn: 5.4345343\ttotal: 4.46s\tremaining: 44s\n",
            "92:\tlearn: 5.4018413\ttotal: 4.51s\tremaining: 44s\n",
            "93:\tlearn: 5.3581492\ttotal: 4.55s\tremaining: 43.9s\n",
            "94:\tlearn: 5.3227979\ttotal: 4.6s\tremaining: 43.8s\n",
            "95:\tlearn: 5.2837299\ttotal: 4.65s\tremaining: 43.8s\n",
            "96:\tlearn: 5.2518836\ttotal: 4.7s\tremaining: 43.7s\n",
            "97:\tlearn: 5.2185091\ttotal: 4.74s\tremaining: 43.7s\n",
            "98:\tlearn: 5.1893981\ttotal: 4.79s\tremaining: 43.6s\n",
            "99:\tlearn: 5.1528983\ttotal: 4.84s\tremaining: 43.6s\n",
            "100:\tlearn: 5.1251883\ttotal: 4.89s\tremaining: 43.5s\n",
            "101:\tlearn: 5.1058935\ttotal: 4.93s\tremaining: 43.4s\n",
            "102:\tlearn: 5.0659714\ttotal: 4.98s\tremaining: 43.4s\n",
            "103:\tlearn: 5.0250265\ttotal: 5.03s\tremaining: 43.4s\n",
            "104:\tlearn: 4.9927221\ttotal: 5.08s\tremaining: 43.3s\n",
            "105:\tlearn: 4.9588934\ttotal: 5.13s\tremaining: 43.3s\n",
            "106:\tlearn: 4.9197815\ttotal: 5.18s\tremaining: 43.2s\n",
            "107:\tlearn: 4.8994949\ttotal: 5.23s\tremaining: 43.2s\n",
            "108:\tlearn: 4.8715109\ttotal: 5.28s\tremaining: 43.1s\n",
            "109:\tlearn: 4.8409393\ttotal: 5.33s\tremaining: 43.1s\n",
            "110:\tlearn: 4.8105475\ttotal: 5.38s\tremaining: 43.1s\n",
            "111:\tlearn: 4.7894637\ttotal: 5.42s\tremaining: 43s\n",
            "112:\tlearn: 4.7613548\ttotal: 5.47s\tremaining: 42.9s\n",
            "113:\tlearn: 4.7323476\ttotal: 5.51s\tremaining: 42.9s\n",
            "114:\tlearn: 4.7077460\ttotal: 5.56s\tremaining: 42.8s\n",
            "115:\tlearn: 4.6851397\ttotal: 5.61s\tremaining: 42.8s\n",
            "116:\tlearn: 4.6526200\ttotal: 5.66s\tremaining: 42.7s\n",
            "117:\tlearn: 4.6264128\ttotal: 5.71s\tremaining: 42.7s\n",
            "118:\tlearn: 4.5999663\ttotal: 5.75s\tremaining: 42.6s\n",
            "119:\tlearn: 4.5645532\ttotal: 5.8s\tremaining: 42.6s\n",
            "120:\tlearn: 4.5355234\ttotal: 5.85s\tremaining: 42.5s\n",
            "121:\tlearn: 4.5120431\ttotal: 5.9s\tremaining: 42.4s\n",
            "122:\tlearn: 4.4845454\ttotal: 5.95s\tremaining: 42.4s\n",
            "123:\tlearn: 4.4568485\ttotal: 6s\tremaining: 42.4s\n",
            "124:\tlearn: 4.4367060\ttotal: 6.04s\tremaining: 42.3s\n",
            "125:\tlearn: 4.4134640\ttotal: 6.09s\tremaining: 42.3s\n",
            "126:\tlearn: 4.3965079\ttotal: 6.14s\tremaining: 42.2s\n",
            "127:\tlearn: 4.3746852\ttotal: 6.19s\tremaining: 42.2s\n",
            "128:\tlearn: 4.3530609\ttotal: 6.24s\tremaining: 42.1s\n",
            "129:\tlearn: 4.3241558\ttotal: 6.28s\tremaining: 42.1s\n",
            "130:\tlearn: 4.2974905\ttotal: 6.33s\tremaining: 42s\n",
            "131:\tlearn: 4.2725597\ttotal: 6.38s\tremaining: 42s\n",
            "132:\tlearn: 4.2447931\ttotal: 6.43s\tremaining: 41.9s\n",
            "133:\tlearn: 4.2143495\ttotal: 6.49s\tremaining: 42s\n",
            "134:\tlearn: 4.1904896\ttotal: 6.54s\tremaining: 41.9s\n",
            "135:\tlearn: 4.1577036\ttotal: 6.59s\tremaining: 41.9s\n",
            "136:\tlearn: 4.1299047\ttotal: 6.63s\tremaining: 41.8s\n",
            "137:\tlearn: 4.1043241\ttotal: 6.68s\tremaining: 41.8s\n",
            "138:\tlearn: 4.0730963\ttotal: 6.73s\tremaining: 41.7s\n",
            "139:\tlearn: 4.0476543\ttotal: 6.78s\tremaining: 41.7s\n",
            "140:\tlearn: 4.0315161\ttotal: 6.83s\tremaining: 41.6s\n",
            "141:\tlearn: 3.9971761\ttotal: 6.88s\tremaining: 41.6s\n",
            "142:\tlearn: 3.9701282\ttotal: 6.93s\tremaining: 41.5s\n",
            "143:\tlearn: 3.9468006\ttotal: 6.98s\tremaining: 41.5s\n",
            "144:\tlearn: 3.9237695\ttotal: 7.03s\tremaining: 41.4s\n",
            "145:\tlearn: 3.8965387\ttotal: 7.08s\tremaining: 41.4s\n",
            "146:\tlearn: 3.8680016\ttotal: 7.12s\tremaining: 41.3s\n",
            "147:\tlearn: 3.8397870\ttotal: 7.17s\tremaining: 41.3s\n",
            "148:\tlearn: 3.8233402\ttotal: 7.22s\tremaining: 41.2s\n",
            "149:\tlearn: 3.8016763\ttotal: 7.27s\tremaining: 41.2s\n",
            "150:\tlearn: 3.7892471\ttotal: 7.31s\tremaining: 41.1s\n",
            "151:\tlearn: 3.7613909\ttotal: 7.36s\tremaining: 41.1s\n",
            "152:\tlearn: 3.7337854\ttotal: 7.41s\tremaining: 41s\n",
            "153:\tlearn: 3.7097265\ttotal: 7.45s\tremaining: 40.9s\n",
            "154:\tlearn: 3.6824063\ttotal: 7.5s\tremaining: 40.9s\n",
            "155:\tlearn: 3.6519657\ttotal: 7.55s\tremaining: 40.8s\n",
            "156:\tlearn: 3.6408857\ttotal: 7.59s\tremaining: 40.8s\n",
            "157:\tlearn: 3.6160657\ttotal: 7.64s\tremaining: 40.7s\n",
            "158:\tlearn: 3.5988957\ttotal: 7.69s\tremaining: 40.7s\n",
            "159:\tlearn: 3.5740863\ttotal: 7.74s\tremaining: 40.6s\n",
            "160:\tlearn: 3.5582715\ttotal: 7.78s\tremaining: 40.6s\n",
            "161:\tlearn: 3.5312105\ttotal: 7.83s\tremaining: 40.5s\n",
            "162:\tlearn: 3.5073015\ttotal: 7.88s\tremaining: 40.5s\n",
            "163:\tlearn: 3.4820487\ttotal: 7.93s\tremaining: 40.4s\n",
            "164:\tlearn: 3.4657366\ttotal: 7.98s\tremaining: 40.4s\n",
            "165:\tlearn: 3.4492111\ttotal: 8.02s\tremaining: 40.3s\n",
            "166:\tlearn: 3.4247919\ttotal: 8.07s\tremaining: 40.3s\n",
            "167:\tlearn: 3.4106068\ttotal: 8.13s\tremaining: 40.2s\n",
            "168:\tlearn: 3.3933764\ttotal: 8.17s\tremaining: 40.2s\n",
            "169:\tlearn: 3.3681608\ttotal: 8.22s\tremaining: 40.2s\n",
            "170:\tlearn: 3.3444238\ttotal: 8.27s\tremaining: 40.1s\n",
            "171:\tlearn: 3.3213974\ttotal: 8.32s\tremaining: 40.1s\n",
            "172:\tlearn: 3.3017613\ttotal: 8.37s\tremaining: 40s\n",
            "173:\tlearn: 3.2800333\ttotal: 8.42s\tremaining: 40s\n",
            "174:\tlearn: 3.2635355\ttotal: 8.46s\tremaining: 39.9s\n",
            "175:\tlearn: 3.2436038\ttotal: 8.51s\tremaining: 39.9s\n",
            "176:\tlearn: 3.2182036\ttotal: 8.57s\tremaining: 39.8s\n",
            "177:\tlearn: 3.1949783\ttotal: 8.62s\tremaining: 39.8s\n",
            "178:\tlearn: 3.1737380\ttotal: 8.66s\tremaining: 39.7s\n",
            "179:\tlearn: 3.1507781\ttotal: 8.71s\tremaining: 39.7s\n",
            "180:\tlearn: 3.1216337\ttotal: 8.76s\tremaining: 39.6s\n",
            "181:\tlearn: 3.0932638\ttotal: 8.8s\tremaining: 39.6s\n",
            "182:\tlearn: 3.0702325\ttotal: 8.85s\tremaining: 39.5s\n",
            "183:\tlearn: 3.0544935\ttotal: 8.9s\tremaining: 39.5s\n",
            "184:\tlearn: 3.0295880\ttotal: 8.95s\tremaining: 39.4s\n",
            "185:\tlearn: 3.0091387\ttotal: 9s\tremaining: 39.4s\n",
            "186:\tlearn: 2.9846272\ttotal: 9.04s\tremaining: 39.3s\n",
            "187:\tlearn: 2.9669422\ttotal: 9.09s\tremaining: 39.3s\n",
            "188:\tlearn: 2.9349014\ttotal: 9.14s\tremaining: 39.2s\n",
            "189:\tlearn: 2.9186216\ttotal: 9.19s\tremaining: 39.2s\n",
            "190:\tlearn: 2.8883888\ttotal: 9.24s\tremaining: 39.1s\n",
            "191:\tlearn: 2.8738057\ttotal: 9.29s\tremaining: 39.1s\n",
            "192:\tlearn: 2.8531776\ttotal: 9.33s\tremaining: 39s\n",
            "193:\tlearn: 2.8328585\ttotal: 9.38s\tremaining: 39s\n",
            "194:\tlearn: 2.8060322\ttotal: 9.43s\tremaining: 38.9s\n",
            "195:\tlearn: 2.7761521\ttotal: 9.49s\tremaining: 38.9s\n",
            "196:\tlearn: 2.7554846\ttotal: 9.54s\tremaining: 38.9s\n",
            "197:\tlearn: 2.7354506\ttotal: 9.59s\tremaining: 38.9s\n",
            "198:\tlearn: 2.7107690\ttotal: 9.64s\tremaining: 38.8s\n",
            "199:\tlearn: 2.6870132\ttotal: 9.69s\tremaining: 38.8s\n",
            "200:\tlearn: 2.6630712\ttotal: 9.74s\tremaining: 38.7s\n",
            "201:\tlearn: 2.6451774\ttotal: 9.79s\tremaining: 38.7s\n",
            "202:\tlearn: 2.6265102\ttotal: 9.84s\tremaining: 38.6s\n",
            "203:\tlearn: 2.6126788\ttotal: 9.89s\tremaining: 38.6s\n",
            "204:\tlearn: 2.5954464\ttotal: 9.95s\tremaining: 38.6s\n",
            "205:\tlearn: 2.5738754\ttotal: 9.99s\tremaining: 38.5s\n",
            "206:\tlearn: 2.5494248\ttotal: 10s\tremaining: 38.5s\n",
            "207:\tlearn: 2.5287864\ttotal: 10.1s\tremaining: 38.4s\n",
            "208:\tlearn: 2.5119098\ttotal: 10.1s\tremaining: 38.4s\n",
            "209:\tlearn: 2.4889711\ttotal: 10.2s\tremaining: 38.3s\n",
            "210:\tlearn: 2.4724721\ttotal: 10.2s\tremaining: 38.3s\n",
            "211:\tlearn: 2.4579237\ttotal: 10.3s\tremaining: 38.3s\n",
            "212:\tlearn: 2.4380774\ttotal: 10.3s\tremaining: 38.2s\n",
            "213:\tlearn: 2.4178518\ttotal: 10.4s\tremaining: 38.2s\n",
            "214:\tlearn: 2.4041151\ttotal: 10.4s\tremaining: 38.1s\n",
            "215:\tlearn: 2.3913305\ttotal: 10.5s\tremaining: 38.1s\n",
            "216:\tlearn: 2.3664862\ttotal: 10.5s\tremaining: 38s\n",
            "217:\tlearn: 2.3448876\ttotal: 10.6s\tremaining: 38s\n",
            "218:\tlearn: 2.3269263\ttotal: 10.6s\tremaining: 37.9s\n",
            "219:\tlearn: 2.3061947\ttotal: 10.7s\tremaining: 37.9s\n",
            "220:\tlearn: 2.2831773\ttotal: 10.7s\tremaining: 37.8s\n",
            "221:\tlearn: 2.2671202\ttotal: 10.8s\tremaining: 37.8s\n",
            "222:\tlearn: 2.2484297\ttotal: 10.8s\tremaining: 37.7s\n",
            "223:\tlearn: 2.2311566\ttotal: 10.9s\tremaining: 37.7s\n",
            "224:\tlearn: 2.2077517\ttotal: 10.9s\tremaining: 37.6s\n",
            "225:\tlearn: 2.1856534\ttotal: 11s\tremaining: 37.6s\n",
            "226:\tlearn: 2.1728520\ttotal: 11s\tremaining: 37.5s\n",
            "227:\tlearn: 2.1542478\ttotal: 11.1s\tremaining: 37.5s\n",
            "228:\tlearn: 2.1332858\ttotal: 11.1s\tremaining: 37.4s\n",
            "229:\tlearn: 2.1166283\ttotal: 11.2s\tremaining: 37.4s\n",
            "230:\tlearn: 2.1027146\ttotal: 11.2s\tremaining: 37.3s\n",
            "231:\tlearn: 2.0911266\ttotal: 11.3s\tremaining: 37.3s\n",
            "232:\tlearn: 2.0748398\ttotal: 11.3s\tremaining: 37.3s\n",
            "233:\tlearn: 2.0590283\ttotal: 11.4s\tremaining: 37.2s\n",
            "234:\tlearn: 2.0388198\ttotal: 11.4s\tremaining: 37.2s\n",
            "235:\tlearn: 2.0188544\ttotal: 11.5s\tremaining: 37.1s\n",
            "236:\tlearn: 2.0068672\ttotal: 11.5s\tremaining: 37.1s\n",
            "237:\tlearn: 1.9876028\ttotal: 11.6s\tremaining: 37s\n",
            "238:\tlearn: 1.9703342\ttotal: 11.6s\tremaining: 37s\n",
            "239:\tlearn: 1.9536408\ttotal: 11.7s\tremaining: 36.9s\n",
            "240:\tlearn: 1.9384416\ttotal: 11.7s\tremaining: 36.9s\n",
            "241:\tlearn: 1.9217255\ttotal: 11.8s\tremaining: 36.8s\n",
            "242:\tlearn: 1.9011472\ttotal: 11.8s\tremaining: 36.8s\n",
            "243:\tlearn: 1.8908879\ttotal: 11.9s\tremaining: 36.8s\n",
            "244:\tlearn: 1.8724878\ttotal: 11.9s\tremaining: 36.7s\n",
            "245:\tlearn: 1.8573825\ttotal: 12s\tremaining: 36.7s\n",
            "246:\tlearn: 1.8463072\ttotal: 12s\tremaining: 36.6s\n",
            "247:\tlearn: 1.8366874\ttotal: 12.1s\tremaining: 36.6s\n",
            "248:\tlearn: 1.8221786\ttotal: 12.1s\tremaining: 36.5s\n",
            "249:\tlearn: 1.8076858\ttotal: 12.2s\tremaining: 36.5s\n",
            "250:\tlearn: 1.7915345\ttotal: 12.2s\tremaining: 36.4s\n",
            "251:\tlearn: 1.7801257\ttotal: 12.3s\tremaining: 36.4s\n",
            "252:\tlearn: 1.7703957\ttotal: 12.3s\tremaining: 36.3s\n",
            "253:\tlearn: 1.7542850\ttotal: 12.4s\tremaining: 36.3s\n",
            "254:\tlearn: 1.7397025\ttotal: 12.4s\tremaining: 36.2s\n",
            "255:\tlearn: 1.7234765\ttotal: 12.4s\tremaining: 36.2s\n",
            "256:\tlearn: 1.7116651\ttotal: 12.5s\tremaining: 36.2s\n",
            "257:\tlearn: 1.6966041\ttotal: 12.6s\tremaining: 36.2s\n",
            "258:\tlearn: 1.6799366\ttotal: 12.6s\tremaining: 36.1s\n",
            "259:\tlearn: 1.6677800\ttotal: 12.7s\tremaining: 36.1s\n",
            "260:\tlearn: 1.6568633\ttotal: 12.7s\tremaining: 36s\n",
            "261:\tlearn: 1.6516733\ttotal: 12.8s\tremaining: 36s\n",
            "262:\tlearn: 1.6361665\ttotal: 12.8s\tremaining: 35.9s\n",
            "263:\tlearn: 1.6307808\ttotal: 12.9s\tremaining: 35.9s\n",
            "264:\tlearn: 1.6126256\ttotal: 12.9s\tremaining: 35.8s\n",
            "265:\tlearn: 1.6000966\ttotal: 13s\tremaining: 35.8s\n",
            "266:\tlearn: 1.5848944\ttotal: 13s\tremaining: 35.7s\n",
            "267:\tlearn: 1.5708481\ttotal: 13.1s\tremaining: 35.7s\n",
            "268:\tlearn: 1.5638027\ttotal: 13.1s\tremaining: 35.7s\n",
            "269:\tlearn: 1.5504141\ttotal: 13.2s\tremaining: 35.6s\n",
            "270:\tlearn: 1.5351982\ttotal: 13.2s\tremaining: 35.6s\n",
            "271:\tlearn: 1.5203639\ttotal: 13.3s\tremaining: 35.6s\n",
            "272:\tlearn: 1.5087968\ttotal: 13.3s\tremaining: 35.5s\n",
            "273:\tlearn: 1.4948570\ttotal: 13.4s\tremaining: 35.5s\n",
            "274:\tlearn: 1.4780565\ttotal: 13.4s\tremaining: 35.5s\n",
            "275:\tlearn: 1.4691674\ttotal: 13.5s\tremaining: 35.4s\n",
            "276:\tlearn: 1.4560457\ttotal: 13.5s\tremaining: 35.4s\n",
            "277:\tlearn: 1.4433983\ttotal: 13.6s\tremaining: 35.4s\n",
            "278:\tlearn: 1.4295196\ttotal: 13.7s\tremaining: 35.3s\n",
            "279:\tlearn: 1.4178978\ttotal: 13.7s\tremaining: 35.3s\n",
            "280:\tlearn: 1.4039843\ttotal: 13.8s\tremaining: 35.2s\n",
            "281:\tlearn: 1.3916004\ttotal: 13.8s\tremaining: 35.2s\n",
            "282:\tlearn: 1.3796493\ttotal: 13.9s\tremaining: 35.2s\n",
            "283:\tlearn: 1.3694140\ttotal: 13.9s\tremaining: 35.1s\n",
            "284:\tlearn: 1.3537805\ttotal: 14s\tremaining: 35.1s\n",
            "285:\tlearn: 1.3481946\ttotal: 14s\tremaining: 35s\n",
            "286:\tlearn: 1.3436298\ttotal: 14.1s\tremaining: 35s\n",
            "287:\tlearn: 1.3285135\ttotal: 14.1s\tremaining: 34.9s\n",
            "288:\tlearn: 1.3198192\ttotal: 14.2s\tremaining: 34.9s\n",
            "289:\tlearn: 1.3128939\ttotal: 14.2s\tremaining: 34.8s\n",
            "290:\tlearn: 1.3026866\ttotal: 14.3s\tremaining: 34.8s\n",
            "291:\tlearn: 1.2902326\ttotal: 14.3s\tremaining: 34.8s\n",
            "292:\tlearn: 1.2785558\ttotal: 14.4s\tremaining: 34.7s\n",
            "293:\tlearn: 1.2676897\ttotal: 14.4s\tremaining: 34.7s\n",
            "294:\tlearn: 1.2575635\ttotal: 14.5s\tremaining: 34.6s\n",
            "295:\tlearn: 1.2482689\ttotal: 14.5s\tremaining: 34.6s\n",
            "296:\tlearn: 1.2414685\ttotal: 14.6s\tremaining: 34.6s\n",
            "297:\tlearn: 1.2315022\ttotal: 14.7s\tremaining: 34.5s\n",
            "298:\tlearn: 1.2198169\ttotal: 14.7s\tremaining: 34.5s\n",
            "299:\tlearn: 1.2079314\ttotal: 14.8s\tremaining: 34.4s\n",
            "300:\tlearn: 1.1958255\ttotal: 14.8s\tremaining: 34.4s\n",
            "301:\tlearn: 1.1901714\ttotal: 14.9s\tremaining: 34.3s\n",
            "302:\tlearn: 1.1786600\ttotal: 14.9s\tremaining: 34.3s\n",
            "303:\tlearn: 1.1684857\ttotal: 15s\tremaining: 34.3s\n",
            "304:\tlearn: 1.1600335\ttotal: 15s\tremaining: 34.2s\n",
            "305:\tlearn: 1.1519971\ttotal: 15.1s\tremaining: 34.2s\n",
            "306:\tlearn: 1.1440431\ttotal: 15.1s\tremaining: 34.2s\n",
            "307:\tlearn: 1.1353004\ttotal: 15.2s\tremaining: 34.1s\n",
            "308:\tlearn: 1.1266728\ttotal: 15.2s\tremaining: 34.1s\n",
            "309:\tlearn: 1.1187786\ttotal: 15.3s\tremaining: 34s\n",
            "310:\tlearn: 1.1084758\ttotal: 15.3s\tremaining: 34s\n",
            "311:\tlearn: 1.0989189\ttotal: 15.4s\tremaining: 33.9s\n",
            "312:\tlearn: 1.0931242\ttotal: 15.4s\tremaining: 33.9s\n",
            "313:\tlearn: 1.0852915\ttotal: 15.5s\tremaining: 33.8s\n",
            "314:\tlearn: 1.0763711\ttotal: 15.5s\tremaining: 33.8s\n",
            "315:\tlearn: 1.0679193\ttotal: 15.6s\tremaining: 33.7s\n",
            "316:\tlearn: 1.0596167\ttotal: 15.6s\tremaining: 33.6s\n",
            "317:\tlearn: 1.0522265\ttotal: 15.7s\tremaining: 33.6s\n",
            "318:\tlearn: 1.0492356\ttotal: 15.7s\tremaining: 33.5s\n",
            "319:\tlearn: 1.0404589\ttotal: 15.8s\tremaining: 33.5s\n",
            "320:\tlearn: 1.0311184\ttotal: 15.8s\tremaining: 33.4s\n",
            "321:\tlearn: 1.0206259\ttotal: 15.9s\tremaining: 33.4s\n",
            "322:\tlearn: 1.0105868\ttotal: 15.9s\tremaining: 33.4s\n",
            "323:\tlearn: 1.0071996\ttotal: 16s\tremaining: 33.3s\n",
            "324:\tlearn: 0.9986020\ttotal: 16s\tremaining: 33.3s\n",
            "325:\tlearn: 0.9898482\ttotal: 16.1s\tremaining: 33.2s\n",
            "326:\tlearn: 0.9823841\ttotal: 16.1s\tremaining: 33.2s\n",
            "327:\tlearn: 0.9784603\ttotal: 16.2s\tremaining: 33.1s\n",
            "328:\tlearn: 0.9742512\ttotal: 16.2s\tremaining: 33.1s\n",
            "329:\tlearn: 0.9659014\ttotal: 16.3s\tremaining: 33s\n",
            "330:\tlearn: 0.9589268\ttotal: 16.3s\tremaining: 33s\n",
            "331:\tlearn: 0.9529526\ttotal: 16.4s\tremaining: 32.9s\n",
            "332:\tlearn: 0.9468757\ttotal: 16.4s\tremaining: 32.9s\n",
            "333:\tlearn: 0.9368883\ttotal: 16.5s\tremaining: 32.8s\n",
            "334:\tlearn: 0.9305441\ttotal: 16.5s\tremaining: 32.8s\n",
            "335:\tlearn: 0.9230053\ttotal: 16.6s\tremaining: 32.7s\n",
            "336:\tlearn: 0.9167957\ttotal: 16.6s\tremaining: 32.7s\n",
            "337:\tlearn: 0.9099458\ttotal: 16.7s\tremaining: 32.6s\n",
            "338:\tlearn: 0.9045376\ttotal: 16.7s\tremaining: 32.6s\n",
            "339:\tlearn: 0.8979421\ttotal: 16.8s\tremaining: 32.5s\n",
            "340:\tlearn: 0.8894089\ttotal: 16.8s\tremaining: 32.5s\n",
            "341:\tlearn: 0.8846162\ttotal: 16.9s\tremaining: 32.4s\n",
            "342:\tlearn: 0.8767011\ttotal: 16.9s\tremaining: 32.4s\n",
            "343:\tlearn: 0.8707040\ttotal: 17s\tremaining: 32.3s\n",
            "344:\tlearn: 0.8678103\ttotal: 17s\tremaining: 32.3s\n",
            "345:\tlearn: 0.8614141\ttotal: 17s\tremaining: 32.2s\n",
            "346:\tlearn: 0.8532960\ttotal: 17.1s\tremaining: 32.2s\n",
            "347:\tlearn: 0.8465453\ttotal: 17.1s\tremaining: 32.1s\n",
            "348:\tlearn: 0.8437926\ttotal: 17.2s\tremaining: 32.1s\n",
            "349:\tlearn: 0.8379670\ttotal: 17.2s\tremaining: 32s\n",
            "350:\tlearn: 0.8309168\ttotal: 17.3s\tremaining: 32s\n",
            "351:\tlearn: 0.8230169\ttotal: 17.3s\tremaining: 31.9s\n",
            "352:\tlearn: 0.8184957\ttotal: 17.4s\tremaining: 31.9s\n",
            "353:\tlearn: 0.8118197\ttotal: 17.4s\tremaining: 31.8s\n",
            "354:\tlearn: 0.8056897\ttotal: 17.5s\tremaining: 31.8s\n",
            "355:\tlearn: 0.8007348\ttotal: 17.5s\tremaining: 31.7s\n",
            "356:\tlearn: 0.7937843\ttotal: 17.6s\tremaining: 31.7s\n",
            "357:\tlearn: 0.7882303\ttotal: 17.6s\tremaining: 31.6s\n",
            "358:\tlearn: 0.7826517\ttotal: 17.7s\tremaining: 31.5s\n",
            "359:\tlearn: 0.7770959\ttotal: 17.7s\tremaining: 31.5s\n",
            "360:\tlearn: 0.7723622\ttotal: 17.8s\tremaining: 31.4s\n",
            "361:\tlearn: 0.7671622\ttotal: 17.8s\tremaining: 31.4s\n",
            "362:\tlearn: 0.7599793\ttotal: 17.9s\tremaining: 31.3s\n",
            "363:\tlearn: 0.7569919\ttotal: 17.9s\tremaining: 31.3s\n",
            "364:\tlearn: 0.7505669\ttotal: 17.9s\tremaining: 31.2s\n",
            "365:\tlearn: 0.7483881\ttotal: 18s\tremaining: 31.2s\n",
            "366:\tlearn: 0.7429641\ttotal: 18s\tremaining: 31.1s\n",
            "367:\tlearn: 0.7360597\ttotal: 18.1s\tremaining: 31.1s\n",
            "368:\tlearn: 0.7299098\ttotal: 18.1s\tremaining: 31s\n",
            "369:\tlearn: 0.7238468\ttotal: 18.2s\tremaining: 31s\n",
            "370:\tlearn: 0.7210673\ttotal: 18.2s\tremaining: 30.9s\n",
            "371:\tlearn: 0.7161201\ttotal: 18.3s\tremaining: 30.9s\n",
            "372:\tlearn: 0.7113439\ttotal: 18.3s\tremaining: 30.8s\n",
            "373:\tlearn: 0.7090982\ttotal: 18.4s\tremaining: 30.7s\n",
            "374:\tlearn: 0.7038954\ttotal: 18.4s\tremaining: 30.7s\n",
            "375:\tlearn: 0.7001716\ttotal: 18.5s\tremaining: 30.6s\n",
            "376:\tlearn: 0.6933351\ttotal: 18.5s\tremaining: 30.6s\n",
            "377:\tlearn: 0.6906297\ttotal: 18.6s\tremaining: 30.5s\n",
            "378:\tlearn: 0.6890360\ttotal: 18.6s\tremaining: 30.5s\n",
            "379:\tlearn: 0.6827941\ttotal: 18.7s\tremaining: 30.4s\n",
            "380:\tlearn: 0.6777266\ttotal: 18.7s\tremaining: 30.4s\n",
            "381:\tlearn: 0.6729208\ttotal: 18.7s\tremaining: 30.3s\n",
            "382:\tlearn: 0.6673057\ttotal: 18.8s\tremaining: 30.3s\n",
            "383:\tlearn: 0.6617746\ttotal: 18.8s\tremaining: 30.2s\n",
            "384:\tlearn: 0.6573329\ttotal: 18.9s\tremaining: 30.2s\n",
            "385:\tlearn: 0.6510893\ttotal: 18.9s\tremaining: 30.1s\n",
            "386:\tlearn: 0.6460405\ttotal: 19s\tremaining: 30.1s\n",
            "387:\tlearn: 0.6411578\ttotal: 19s\tremaining: 30s\n",
            "388:\tlearn: 0.6369915\ttotal: 19.1s\tremaining: 30s\n",
            "389:\tlearn: 0.6329474\ttotal: 19.1s\tremaining: 29.9s\n",
            "390:\tlearn: 0.6273969\ttotal: 19.2s\tremaining: 29.9s\n",
            "391:\tlearn: 0.6230481\ttotal: 19.2s\tremaining: 29.8s\n",
            "392:\tlearn: 0.6210465\ttotal: 19.3s\tremaining: 29.8s\n",
            "393:\tlearn: 0.6162525\ttotal: 19.3s\tremaining: 29.7s\n",
            "394:\tlearn: 0.6123892\ttotal: 19.4s\tremaining: 29.7s\n",
            "395:\tlearn: 0.6083134\ttotal: 19.4s\tremaining: 29.6s\n",
            "396:\tlearn: 0.6045090\ttotal: 19.5s\tremaining: 29.6s\n",
            "397:\tlearn: 0.6000164\ttotal: 19.5s\tremaining: 29.5s\n",
            "398:\tlearn: 0.5984455\ttotal: 19.6s\tremaining: 29.5s\n",
            "399:\tlearn: 0.5942132\ttotal: 19.6s\tremaining: 29.4s\n",
            "400:\tlearn: 0.5886542\ttotal: 19.7s\tremaining: 29.4s\n",
            "401:\tlearn: 0.5855819\ttotal: 19.7s\tremaining: 29.3s\n",
            "402:\tlearn: 0.5812348\ttotal: 19.8s\tremaining: 29.3s\n",
            "403:\tlearn: 0.5775939\ttotal: 19.8s\tremaining: 29.2s\n",
            "404:\tlearn: 0.5723913\ttotal: 19.8s\tremaining: 29.2s\n",
            "405:\tlearn: 0.5672807\ttotal: 19.9s\tremaining: 29.1s\n",
            "406:\tlearn: 0.5654271\ttotal: 19.9s\tremaining: 29.1s\n",
            "407:\tlearn: 0.5622757\ttotal: 20s\tremaining: 29s\n",
            "408:\tlearn: 0.5586897\ttotal: 20s\tremaining: 28.9s\n",
            "409:\tlearn: 0.5542173\ttotal: 20.1s\tremaining: 28.9s\n",
            "410:\tlearn: 0.5502430\ttotal: 20.1s\tremaining: 28.9s\n",
            "411:\tlearn: 0.5460353\ttotal: 20.2s\tremaining: 28.8s\n",
            "412:\tlearn: 0.5423707\ttotal: 20.3s\tremaining: 28.8s\n",
            "413:\tlearn: 0.5400622\ttotal: 20.3s\tremaining: 28.7s\n",
            "414:\tlearn: 0.5388224\ttotal: 20.4s\tremaining: 28.7s\n",
            "415:\tlearn: 0.5347584\ttotal: 20.4s\tremaining: 28.6s\n",
            "416:\tlearn: 0.5312382\ttotal: 20.4s\tremaining: 28.6s\n",
            "417:\tlearn: 0.5300244\ttotal: 20.5s\tremaining: 28.5s\n",
            "418:\tlearn: 0.5261836\ttotal: 20.5s\tremaining: 28.5s\n",
            "419:\tlearn: 0.5227494\ttotal: 20.6s\tremaining: 28.4s\n",
            "420:\tlearn: 0.5203422\ttotal: 20.6s\tremaining: 28.4s\n",
            "421:\tlearn: 0.5171839\ttotal: 20.7s\tremaining: 28.3s\n",
            "422:\tlearn: 0.5133435\ttotal: 20.7s\tremaining: 28.3s\n",
            "423:\tlearn: 0.5087217\ttotal: 20.8s\tremaining: 28.2s\n",
            "424:\tlearn: 0.5077494\ttotal: 20.8s\tremaining: 28.2s\n",
            "425:\tlearn: 0.5066629\ttotal: 20.9s\tremaining: 28.1s\n",
            "426:\tlearn: 0.5029700\ttotal: 20.9s\tremaining: 28.1s\n",
            "427:\tlearn: 0.4996009\ttotal: 21s\tremaining: 28.1s\n",
            "428:\tlearn: 0.4967716\ttotal: 21s\tremaining: 28s\n",
            "429:\tlearn: 0.4932391\ttotal: 21.1s\tremaining: 28s\n",
            "430:\tlearn: 0.4918026\ttotal: 21.1s\tremaining: 27.9s\n",
            "431:\tlearn: 0.4901409\ttotal: 21.2s\tremaining: 27.9s\n",
            "432:\tlearn: 0.4890052\ttotal: 21.2s\tremaining: 27.8s\n",
            "433:\tlearn: 0.4869068\ttotal: 21.3s\tremaining: 27.8s\n",
            "434:\tlearn: 0.4849989\ttotal: 21.3s\tremaining: 27.7s\n",
            "435:\tlearn: 0.4818633\ttotal: 21.4s\tremaining: 27.7s\n",
            "436:\tlearn: 0.4789331\ttotal: 21.4s\tremaining: 27.6s\n",
            "437:\tlearn: 0.4757073\ttotal: 21.5s\tremaining: 27.6s\n",
            "438:\tlearn: 0.4708865\ttotal: 21.6s\tremaining: 27.6s\n",
            "439:\tlearn: 0.4680902\ttotal: 21.6s\tremaining: 27.5s\n",
            "440:\tlearn: 0.4639908\ttotal: 21.7s\tremaining: 27.5s\n",
            "441:\tlearn: 0.4607570\ttotal: 21.7s\tremaining: 27.4s\n",
            "442:\tlearn: 0.4579182\ttotal: 21.8s\tremaining: 27.4s\n",
            "443:\tlearn: 0.4566164\ttotal: 21.8s\tremaining: 27.3s\n",
            "444:\tlearn: 0.4526326\ttotal: 21.9s\tremaining: 27.3s\n",
            "445:\tlearn: 0.4490956\ttotal: 21.9s\tremaining: 27.2s\n",
            "446:\tlearn: 0.4483777\ttotal: 21.9s\tremaining: 27.2s\n",
            "447:\tlearn: 0.4441801\ttotal: 22s\tremaining: 27.1s\n",
            "448:\tlearn: 0.4435804\ttotal: 22.1s\tremaining: 27.1s\n",
            "449:\tlearn: 0.4430194\ttotal: 22.1s\tremaining: 27s\n",
            "450:\tlearn: 0.4393835\ttotal: 22.2s\tremaining: 27s\n",
            "451:\tlearn: 0.4383475\ttotal: 22.2s\tremaining: 26.9s\n",
            "452:\tlearn: 0.4353053\ttotal: 22.3s\tremaining: 26.9s\n",
            "453:\tlearn: 0.4340693\ttotal: 22.3s\tremaining: 26.8s\n",
            "454:\tlearn: 0.4304616\ttotal: 22.4s\tremaining: 26.8s\n",
            "455:\tlearn: 0.4273472\ttotal: 22.4s\tremaining: 26.7s\n",
            "456:\tlearn: 0.4238909\ttotal: 22.5s\tremaining: 26.7s\n",
            "457:\tlearn: 0.4225205\ttotal: 22.5s\tremaining: 26.6s\n",
            "458:\tlearn: 0.4180718\ttotal: 22.6s\tremaining: 26.6s\n",
            "459:\tlearn: 0.4161487\ttotal: 22.6s\tremaining: 26.5s\n",
            "460:\tlearn: 0.4151145\ttotal: 22.7s\tremaining: 26.5s\n",
            "461:\tlearn: 0.4122499\ttotal: 22.7s\tremaining: 26.4s\n",
            "462:\tlearn: 0.4101164\ttotal: 22.8s\tremaining: 26.4s\n",
            "463:\tlearn: 0.4082436\ttotal: 22.8s\tremaining: 26.4s\n",
            "464:\tlearn: 0.4060694\ttotal: 22.9s\tremaining: 26.3s\n",
            "465:\tlearn: 0.4035814\ttotal: 22.9s\tremaining: 26.3s\n",
            "466:\tlearn: 0.4013535\ttotal: 23s\tremaining: 26.2s\n",
            "467:\tlearn: 0.3986240\ttotal: 23s\tremaining: 26.2s\n",
            "468:\tlearn: 0.3979462\ttotal: 23.1s\tremaining: 26.1s\n",
            "469:\tlearn: 0.3960062\ttotal: 23.1s\tremaining: 26.1s\n",
            "470:\tlearn: 0.3932433\ttotal: 23.2s\tremaining: 26s\n",
            "471:\tlearn: 0.3905724\ttotal: 23.2s\tremaining: 26s\n",
            "472:\tlearn: 0.3877850\ttotal: 23.3s\tremaining: 25.9s\n",
            "473:\tlearn: 0.3852008\ttotal: 23.3s\tremaining: 25.9s\n",
            "474:\tlearn: 0.3832081\ttotal: 23.4s\tremaining: 25.8s\n",
            "475:\tlearn: 0.3808461\ttotal: 23.4s\tremaining: 25.8s\n",
            "476:\tlearn: 0.3774785\ttotal: 23.5s\tremaining: 25.8s\n",
            "477:\tlearn: 0.3764947\ttotal: 23.5s\tremaining: 25.7s\n",
            "478:\tlearn: 0.3739110\ttotal: 23.6s\tremaining: 25.6s\n",
            "479:\tlearn: 0.3713615\ttotal: 23.6s\tremaining: 25.6s\n",
            "480:\tlearn: 0.3688172\ttotal: 23.7s\tremaining: 25.6s\n",
            "481:\tlearn: 0.3670674\ttotal: 23.7s\tremaining: 25.5s\n",
            "482:\tlearn: 0.3660182\ttotal: 23.8s\tremaining: 25.5s\n",
            "483:\tlearn: 0.3641396\ttotal: 23.8s\tremaining: 25.4s\n",
            "484:\tlearn: 0.3619328\ttotal: 23.9s\tremaining: 25.4s\n",
            "485:\tlearn: 0.3594148\ttotal: 23.9s\tremaining: 25.3s\n",
            "486:\tlearn: 0.3568676\ttotal: 24s\tremaining: 25.3s\n",
            "487:\tlearn: 0.3552674\ttotal: 24s\tremaining: 25.2s\n",
            "488:\tlearn: 0.3524987\ttotal: 24.1s\tremaining: 25.2s\n",
            "489:\tlearn: 0.3495981\ttotal: 24.1s\tremaining: 25.1s\n",
            "490:\tlearn: 0.3476142\ttotal: 24.2s\tremaining: 25.1s\n",
            "491:\tlearn: 0.3449612\ttotal: 24.2s\tremaining: 25s\n",
            "492:\tlearn: 0.3428030\ttotal: 24.3s\tremaining: 25s\n",
            "493:\tlearn: 0.3419642\ttotal: 24.3s\tremaining: 24.9s\n",
            "494:\tlearn: 0.3407357\ttotal: 24.4s\tremaining: 24.9s\n",
            "495:\tlearn: 0.3386796\ttotal: 24.4s\tremaining: 24.8s\n",
            "496:\tlearn: 0.3365562\ttotal: 24.5s\tremaining: 24.8s\n",
            "497:\tlearn: 0.3359619\ttotal: 24.5s\tremaining: 24.7s\n",
            "498:\tlearn: 0.3337081\ttotal: 24.6s\tremaining: 24.7s\n",
            "499:\tlearn: 0.3308923\ttotal: 24.6s\tremaining: 24.6s\n",
            "500:\tlearn: 0.3280859\ttotal: 24.7s\tremaining: 24.6s\n",
            "501:\tlearn: 0.3250034\ttotal: 24.7s\tremaining: 24.5s\n",
            "502:\tlearn: 0.3230025\ttotal: 24.8s\tremaining: 24.5s\n",
            "503:\tlearn: 0.3208156\ttotal: 24.8s\tremaining: 24.4s\n",
            "504:\tlearn: 0.3182792\ttotal: 24.9s\tremaining: 24.4s\n",
            "505:\tlearn: 0.3161627\ttotal: 24.9s\tremaining: 24.3s\n",
            "506:\tlearn: 0.3142055\ttotal: 25s\tremaining: 24.3s\n",
            "507:\tlearn: 0.3122737\ttotal: 25s\tremaining: 24.2s\n",
            "508:\tlearn: 0.3097983\ttotal: 25.1s\tremaining: 24.2s\n",
            "509:\tlearn: 0.3080009\ttotal: 25.1s\tremaining: 24.2s\n",
            "510:\tlearn: 0.3057838\ttotal: 25.2s\tremaining: 24.1s\n",
            "511:\tlearn: 0.3048835\ttotal: 25.2s\tremaining: 24.1s\n",
            "512:\tlearn: 0.3036484\ttotal: 25.3s\tremaining: 24s\n",
            "513:\tlearn: 0.3013327\ttotal: 25.3s\tremaining: 24s\n",
            "514:\tlearn: 0.2995284\ttotal: 25.4s\tremaining: 23.9s\n",
            "515:\tlearn: 0.2972039\ttotal: 25.4s\tremaining: 23.9s\n",
            "516:\tlearn: 0.2962388\ttotal: 25.5s\tremaining: 23.8s\n",
            "517:\tlearn: 0.2943924\ttotal: 25.5s\tremaining: 23.8s\n",
            "518:\tlearn: 0.2936197\ttotal: 25.6s\tremaining: 23.7s\n",
            "519:\tlearn: 0.2913123\ttotal: 25.6s\tremaining: 23.7s\n",
            "520:\tlearn: 0.2891211\ttotal: 25.7s\tremaining: 23.6s\n",
            "521:\tlearn: 0.2878244\ttotal: 25.7s\tremaining: 23.6s\n",
            "522:\tlearn: 0.2858772\ttotal: 25.8s\tremaining: 23.5s\n",
            "523:\tlearn: 0.2853319\ttotal: 25.8s\tremaining: 23.5s\n",
            "524:\tlearn: 0.2836213\ttotal: 25.9s\tremaining: 23.4s\n",
            "525:\tlearn: 0.2820643\ttotal: 26s\tremaining: 23.4s\n",
            "526:\tlearn: 0.2800226\ttotal: 26s\tremaining: 23.3s\n",
            "527:\tlearn: 0.2781291\ttotal: 26.1s\tremaining: 23.3s\n",
            "528:\tlearn: 0.2758524\ttotal: 26.1s\tremaining: 23.2s\n",
            "529:\tlearn: 0.2742839\ttotal: 26.2s\tremaining: 23.2s\n",
            "530:\tlearn: 0.2721695\ttotal: 26.2s\tremaining: 23.1s\n",
            "531:\tlearn: 0.2704270\ttotal: 26.3s\tremaining: 23.1s\n",
            "532:\tlearn: 0.2684220\ttotal: 26.3s\tremaining: 23.1s\n",
            "533:\tlearn: 0.2665210\ttotal: 26.4s\tremaining: 23s\n",
            "534:\tlearn: 0.2646555\ttotal: 26.4s\tremaining: 23s\n",
            "535:\tlearn: 0.2627351\ttotal: 26.5s\tremaining: 22.9s\n",
            "536:\tlearn: 0.2612082\ttotal: 26.5s\tremaining: 22.9s\n",
            "537:\tlearn: 0.2604104\ttotal: 26.6s\tremaining: 22.8s\n",
            "538:\tlearn: 0.2595461\ttotal: 26.6s\tremaining: 22.8s\n",
            "539:\tlearn: 0.2577959\ttotal: 26.7s\tremaining: 22.7s\n",
            "540:\tlearn: 0.2564686\ttotal: 26.7s\tremaining: 22.7s\n",
            "541:\tlearn: 0.2545735\ttotal: 26.8s\tremaining: 22.6s\n",
            "542:\tlearn: 0.2525465\ttotal: 26.8s\tremaining: 22.6s\n",
            "543:\tlearn: 0.2506309\ttotal: 26.9s\tremaining: 22.5s\n",
            "544:\tlearn: 0.2499150\ttotal: 26.9s\tremaining: 22.5s\n",
            "545:\tlearn: 0.2484843\ttotal: 27s\tremaining: 22.4s\n",
            "546:\tlearn: 0.2478195\ttotal: 27s\tremaining: 22.4s\n",
            "547:\tlearn: 0.2458696\ttotal: 27.1s\tremaining: 22.3s\n",
            "548:\tlearn: 0.2444314\ttotal: 27.1s\tremaining: 22.3s\n",
            "549:\tlearn: 0.2432837\ttotal: 27.2s\tremaining: 22.2s\n",
            "550:\tlearn: 0.2416371\ttotal: 27.2s\tremaining: 22.2s\n",
            "551:\tlearn: 0.2409314\ttotal: 27.3s\tremaining: 22.2s\n",
            "552:\tlearn: 0.2400139\ttotal: 27.4s\tremaining: 22.1s\n",
            "553:\tlearn: 0.2386518\ttotal: 27.4s\tremaining: 22.1s\n",
            "554:\tlearn: 0.2372196\ttotal: 27.5s\tremaining: 22s\n",
            "555:\tlearn: 0.2355649\ttotal: 27.5s\tremaining: 22s\n",
            "556:\tlearn: 0.2339694\ttotal: 27.5s\tremaining: 21.9s\n",
            "557:\tlearn: 0.2324927\ttotal: 27.6s\tremaining: 21.9s\n",
            "558:\tlearn: 0.2313050\ttotal: 27.6s\tremaining: 21.8s\n",
            "559:\tlearn: 0.2305184\ttotal: 27.7s\tremaining: 21.8s\n",
            "560:\tlearn: 0.2287704\ttotal: 27.8s\tremaining: 21.7s\n",
            "561:\tlearn: 0.2279226\ttotal: 27.8s\tremaining: 21.7s\n",
            "562:\tlearn: 0.2270889\ttotal: 27.9s\tremaining: 21.6s\n",
            "563:\tlearn: 0.2261787\ttotal: 27.9s\tremaining: 21.6s\n",
            "564:\tlearn: 0.2249865\ttotal: 28s\tremaining: 21.5s\n",
            "565:\tlearn: 0.2233535\ttotal: 28s\tremaining: 21.5s\n",
            "566:\tlearn: 0.2221033\ttotal: 28.1s\tremaining: 21.4s\n",
            "567:\tlearn: 0.2209230\ttotal: 28.1s\tremaining: 21.4s\n",
            "568:\tlearn: 0.2196961\ttotal: 28.2s\tremaining: 21.3s\n",
            "569:\tlearn: 0.2182745\ttotal: 28.2s\tremaining: 21.3s\n",
            "570:\tlearn: 0.2176508\ttotal: 28.3s\tremaining: 21.2s\n",
            "571:\tlearn: 0.2160759\ttotal: 28.3s\tremaining: 21.2s\n",
            "572:\tlearn: 0.2144004\ttotal: 28.4s\tremaining: 21.1s\n",
            "573:\tlearn: 0.2136191\ttotal: 28.4s\tremaining: 21.1s\n",
            "574:\tlearn: 0.2121699\ttotal: 28.5s\tremaining: 21.1s\n",
            "575:\tlearn: 0.2116987\ttotal: 28.5s\tremaining: 21s\n",
            "576:\tlearn: 0.2100326\ttotal: 28.6s\tremaining: 21s\n",
            "577:\tlearn: 0.2089118\ttotal: 28.6s\tremaining: 20.9s\n",
            "578:\tlearn: 0.2081879\ttotal: 28.7s\tremaining: 20.9s\n",
            "579:\tlearn: 0.2069075\ttotal: 28.8s\tremaining: 20.8s\n",
            "580:\tlearn: 0.2063355\ttotal: 28.8s\tremaining: 20.8s\n",
            "581:\tlearn: 0.2052124\ttotal: 28.9s\tremaining: 20.7s\n",
            "582:\tlearn: 0.2038713\ttotal: 28.9s\tremaining: 20.7s\n",
            "583:\tlearn: 0.2024699\ttotal: 29s\tremaining: 20.6s\n",
            "584:\tlearn: 0.2020298\ttotal: 29s\tremaining: 20.6s\n",
            "585:\tlearn: 0.2005301\ttotal: 29.1s\tremaining: 20.5s\n",
            "586:\tlearn: 0.1991577\ttotal: 29.1s\tremaining: 20.5s\n",
            "587:\tlearn: 0.1980086\ttotal: 29.2s\tremaining: 20.4s\n",
            "588:\tlearn: 0.1963922\ttotal: 29.2s\tremaining: 20.4s\n",
            "589:\tlearn: 0.1950571\ttotal: 29.3s\tremaining: 20.3s\n",
            "590:\tlearn: 0.1939699\ttotal: 29.3s\tremaining: 20.3s\n",
            "591:\tlearn: 0.1927116\ttotal: 29.4s\tremaining: 20.2s\n",
            "592:\tlearn: 0.1923289\ttotal: 29.4s\tremaining: 20.2s\n",
            "593:\tlearn: 0.1913540\ttotal: 29.5s\tremaining: 20.1s\n",
            "594:\tlearn: 0.1902656\ttotal: 29.5s\tremaining: 20.1s\n",
            "595:\tlearn: 0.1894363\ttotal: 29.6s\tremaining: 20s\n",
            "596:\tlearn: 0.1890624\ttotal: 29.6s\tremaining: 20s\n",
            "597:\tlearn: 0.1888522\ttotal: 29.6s\tremaining: 19.9s\n",
            "598:\tlearn: 0.1875419\ttotal: 29.7s\tremaining: 19.9s\n",
            "599:\tlearn: 0.1865831\ttotal: 29.8s\tremaining: 19.8s\n",
            "600:\tlearn: 0.1859906\ttotal: 29.8s\tremaining: 19.8s\n",
            "601:\tlearn: 0.1850687\ttotal: 29.9s\tremaining: 19.7s\n",
            "602:\tlearn: 0.1846897\ttotal: 29.9s\tremaining: 19.7s\n",
            "603:\tlearn: 0.1839539\ttotal: 30s\tremaining: 19.6s\n",
            "604:\tlearn: 0.1828285\ttotal: 30s\tremaining: 19.6s\n",
            "605:\tlearn: 0.1816528\ttotal: 30.1s\tremaining: 19.5s\n",
            "606:\tlearn: 0.1801978\ttotal: 30.1s\tremaining: 19.5s\n",
            "607:\tlearn: 0.1788675\ttotal: 30.2s\tremaining: 19.4s\n",
            "608:\tlearn: 0.1784107\ttotal: 30.2s\tremaining: 19.4s\n",
            "609:\tlearn: 0.1779924\ttotal: 30.2s\tremaining: 19.3s\n",
            "610:\tlearn: 0.1771760\ttotal: 30.3s\tremaining: 19.3s\n",
            "611:\tlearn: 0.1757586\ttotal: 30.3s\tremaining: 19.2s\n",
            "612:\tlearn: 0.1743897\ttotal: 30.4s\tremaining: 19.2s\n",
            "613:\tlearn: 0.1736279\ttotal: 30.4s\tremaining: 19.1s\n",
            "614:\tlearn: 0.1726085\ttotal: 30.5s\tremaining: 19.1s\n",
            "615:\tlearn: 0.1720413\ttotal: 30.5s\tremaining: 19s\n",
            "616:\tlearn: 0.1713416\ttotal: 30.6s\tremaining: 19s\n",
            "617:\tlearn: 0.1703074\ttotal: 30.6s\tremaining: 18.9s\n",
            "618:\tlearn: 0.1693496\ttotal: 30.7s\tremaining: 18.9s\n",
            "619:\tlearn: 0.1683947\ttotal: 30.8s\tremaining: 18.8s\n",
            "620:\tlearn: 0.1673155\ttotal: 30.8s\tremaining: 18.8s\n",
            "621:\tlearn: 0.1660243\ttotal: 30.8s\tremaining: 18.7s\n",
            "622:\tlearn: 0.1647432\ttotal: 30.9s\tremaining: 18.7s\n",
            "623:\tlearn: 0.1637479\ttotal: 30.9s\tremaining: 18.6s\n",
            "624:\tlearn: 0.1632301\ttotal: 31s\tremaining: 18.6s\n",
            "625:\tlearn: 0.1622084\ttotal: 31s\tremaining: 18.5s\n",
            "626:\tlearn: 0.1617259\ttotal: 31.1s\tremaining: 18.5s\n",
            "627:\tlearn: 0.1611576\ttotal: 31.1s\tremaining: 18.4s\n",
            "628:\tlearn: 0.1600462\ttotal: 31.2s\tremaining: 18.4s\n",
            "629:\tlearn: 0.1592686\ttotal: 31.2s\tremaining: 18.3s\n",
            "630:\tlearn: 0.1580920\ttotal: 31.3s\tremaining: 18.3s\n",
            "631:\tlearn: 0.1571828\ttotal: 31.3s\tremaining: 18.2s\n",
            "632:\tlearn: 0.1562533\ttotal: 31.4s\tremaining: 18.2s\n",
            "633:\tlearn: 0.1552777\ttotal: 31.4s\tremaining: 18.1s\n",
            "634:\tlearn: 0.1541132\ttotal: 31.5s\tremaining: 18.1s\n",
            "635:\tlearn: 0.1535434\ttotal: 31.5s\tremaining: 18.1s\n",
            "636:\tlearn: 0.1526568\ttotal: 31.6s\tremaining: 18s\n",
            "637:\tlearn: 0.1519964\ttotal: 31.6s\tremaining: 18s\n",
            "638:\tlearn: 0.1516141\ttotal: 31.7s\tremaining: 17.9s\n",
            "639:\tlearn: 0.1507812\ttotal: 31.7s\tremaining: 17.9s\n",
            "640:\tlearn: 0.1500075\ttotal: 31.8s\tremaining: 17.8s\n",
            "641:\tlearn: 0.1496798\ttotal: 31.8s\tremaining: 17.8s\n",
            "642:\tlearn: 0.1488659\ttotal: 31.9s\tremaining: 17.7s\n",
            "643:\tlearn: 0.1484167\ttotal: 32s\tremaining: 17.7s\n",
            "644:\tlearn: 0.1477691\ttotal: 32s\tremaining: 17.6s\n",
            "645:\tlearn: 0.1468833\ttotal: 32.1s\tremaining: 17.6s\n",
            "646:\tlearn: 0.1464165\ttotal: 32.1s\tremaining: 17.5s\n",
            "647:\tlearn: 0.1452062\ttotal: 32.2s\tremaining: 17.5s\n",
            "648:\tlearn: 0.1445471\ttotal: 32.2s\tremaining: 17.4s\n",
            "649:\tlearn: 0.1434432\ttotal: 32.3s\tremaining: 17.4s\n",
            "650:\tlearn: 0.1426217\ttotal: 32.3s\tremaining: 17.3s\n",
            "651:\tlearn: 0.1420763\ttotal: 32.4s\tremaining: 17.3s\n",
            "652:\tlearn: 0.1409411\ttotal: 32.4s\tremaining: 17.2s\n",
            "653:\tlearn: 0.1397852\ttotal: 32.5s\tremaining: 17.2s\n",
            "654:\tlearn: 0.1390959\ttotal: 32.5s\tremaining: 17.1s\n",
            "655:\tlearn: 0.1380665\ttotal: 32.6s\tremaining: 17.1s\n",
            "656:\tlearn: 0.1371796\ttotal: 32.6s\tremaining: 17s\n",
            "657:\tlearn: 0.1365555\ttotal: 32.7s\tremaining: 17s\n",
            "658:\tlearn: 0.1356422\ttotal: 32.7s\tremaining: 16.9s\n",
            "659:\tlearn: 0.1345218\ttotal: 32.8s\tremaining: 16.9s\n",
            "660:\tlearn: 0.1336046\ttotal: 32.8s\tremaining: 16.8s\n",
            "661:\tlearn: 0.1330665\ttotal: 32.9s\tremaining: 16.8s\n",
            "662:\tlearn: 0.1320545\ttotal: 32.9s\tremaining: 16.7s\n",
            "663:\tlearn: 0.1317416\ttotal: 33s\tremaining: 16.7s\n",
            "664:\tlearn: 0.1315345\ttotal: 33s\tremaining: 16.6s\n",
            "665:\tlearn: 0.1305819\ttotal: 33.1s\tremaining: 16.6s\n",
            "666:\tlearn: 0.1298526\ttotal: 33.1s\tremaining: 16.5s\n",
            "667:\tlearn: 0.1295792\ttotal: 33.1s\tremaining: 16.5s\n",
            "668:\tlearn: 0.1289610\ttotal: 33.2s\tremaining: 16.4s\n",
            "669:\tlearn: 0.1283151\ttotal: 33.2s\tremaining: 16.4s\n",
            "670:\tlearn: 0.1274268\ttotal: 33.3s\tremaining: 16.3s\n",
            "671:\tlearn: 0.1265963\ttotal: 33.3s\tremaining: 16.3s\n",
            "672:\tlearn: 0.1261282\ttotal: 33.4s\tremaining: 16.2s\n",
            "673:\tlearn: 0.1255625\ttotal: 33.4s\tremaining: 16.2s\n",
            "674:\tlearn: 0.1245657\ttotal: 33.5s\tremaining: 16.1s\n",
            "675:\tlearn: 0.1243046\ttotal: 33.5s\tremaining: 16.1s\n",
            "676:\tlearn: 0.1235663\ttotal: 33.6s\tremaining: 16s\n",
            "677:\tlearn: 0.1229696\ttotal: 33.7s\tremaining: 16s\n",
            "678:\tlearn: 0.1223165\ttotal: 33.7s\tremaining: 15.9s\n",
            "679:\tlearn: 0.1220404\ttotal: 33.8s\tremaining: 15.9s\n",
            "680:\tlearn: 0.1217773\ttotal: 33.8s\tremaining: 15.8s\n",
            "681:\tlearn: 0.1210213\ttotal: 33.9s\tremaining: 15.8s\n",
            "682:\tlearn: 0.1202545\ttotal: 33.9s\tremaining: 15.7s\n",
            "683:\tlearn: 0.1198973\ttotal: 33.9s\tremaining: 15.7s\n",
            "684:\tlearn: 0.1192467\ttotal: 34s\tremaining: 15.6s\n",
            "685:\tlearn: 0.1187887\ttotal: 34s\tremaining: 15.6s\n",
            "686:\tlearn: 0.1182557\ttotal: 34.1s\tremaining: 15.5s\n",
            "687:\tlearn: 0.1174000\ttotal: 34.1s\tremaining: 15.5s\n",
            "688:\tlearn: 0.1167190\ttotal: 34.2s\tremaining: 15.4s\n",
            "689:\tlearn: 0.1161274\ttotal: 34.3s\tremaining: 15.4s\n",
            "690:\tlearn: 0.1156992\ttotal: 34.3s\tremaining: 15.3s\n",
            "691:\tlearn: 0.1154001\ttotal: 34.4s\tremaining: 15.3s\n",
            "692:\tlearn: 0.1149916\ttotal: 34.4s\tremaining: 15.2s\n",
            "693:\tlearn: 0.1142875\ttotal: 34.5s\tremaining: 15.2s\n",
            "694:\tlearn: 0.1137155\ttotal: 34.5s\tremaining: 15.1s\n",
            "695:\tlearn: 0.1129036\ttotal: 34.6s\tremaining: 15.1s\n",
            "696:\tlearn: 0.1122115\ttotal: 34.6s\tremaining: 15s\n",
            "697:\tlearn: 0.1117826\ttotal: 34.7s\tremaining: 15s\n",
            "698:\tlearn: 0.1111899\ttotal: 34.7s\tremaining: 14.9s\n",
            "699:\tlearn: 0.1105244\ttotal: 34.8s\tremaining: 14.9s\n",
            "700:\tlearn: 0.1097780\ttotal: 34.8s\tremaining: 14.8s\n",
            "701:\tlearn: 0.1092372\ttotal: 34.8s\tremaining: 14.8s\n",
            "702:\tlearn: 0.1090546\ttotal: 34.9s\tremaining: 14.7s\n",
            "703:\tlearn: 0.1082065\ttotal: 34.9s\tremaining: 14.7s\n",
            "704:\tlearn: 0.1075426\ttotal: 35s\tremaining: 14.6s\n",
            "705:\tlearn: 0.1072681\ttotal: 35.1s\tremaining: 14.6s\n",
            "706:\tlearn: 0.1064048\ttotal: 35.1s\tremaining: 14.5s\n",
            "707:\tlearn: 0.1061808\ttotal: 35.2s\tremaining: 14.5s\n",
            "708:\tlearn: 0.1054428\ttotal: 35.2s\tremaining: 14.4s\n",
            "709:\tlearn: 0.1047330\ttotal: 35.3s\tremaining: 14.4s\n",
            "710:\tlearn: 0.1040776\ttotal: 35.3s\tremaining: 14.3s\n",
            "711:\tlearn: 0.1038879\ttotal: 35.4s\tremaining: 14.3s\n",
            "712:\tlearn: 0.1031206\ttotal: 35.4s\tremaining: 14.2s\n",
            "713:\tlearn: 0.1026211\ttotal: 35.5s\tremaining: 14.2s\n",
            "714:\tlearn: 0.1021632\ttotal: 35.5s\tremaining: 14.2s\n",
            "715:\tlearn: 0.1013328\ttotal: 35.5s\tremaining: 14.1s\n",
            "716:\tlearn: 0.1010003\ttotal: 35.6s\tremaining: 14.1s\n",
            "717:\tlearn: 0.1004318\ttotal: 35.6s\tremaining: 14s\n",
            "718:\tlearn: 0.1000637\ttotal: 35.7s\tremaining: 13.9s\n",
            "719:\tlearn: 0.0997329\ttotal: 35.7s\tremaining: 13.9s\n",
            "720:\tlearn: 0.0994820\ttotal: 35.8s\tremaining: 13.8s\n",
            "721:\tlearn: 0.0986700\ttotal: 35.8s\tremaining: 13.8s\n",
            "722:\tlearn: 0.0979248\ttotal: 35.9s\tremaining: 13.7s\n",
            "723:\tlearn: 0.0975369\ttotal: 35.9s\tremaining: 13.7s\n",
            "724:\tlearn: 0.0971059\ttotal: 36s\tremaining: 13.6s\n",
            "725:\tlearn: 0.0968531\ttotal: 36s\tremaining: 13.6s\n",
            "726:\tlearn: 0.0963850\ttotal: 36.1s\tremaining: 13.5s\n",
            "727:\tlearn: 0.0959380\ttotal: 36.1s\tremaining: 13.5s\n",
            "728:\tlearn: 0.0956037\ttotal: 36.2s\tremaining: 13.4s\n",
            "729:\tlearn: 0.0949010\ttotal: 36.2s\tremaining: 13.4s\n",
            "730:\tlearn: 0.0944278\ttotal: 36.3s\tremaining: 13.3s\n",
            "731:\tlearn: 0.0938595\ttotal: 36.3s\tremaining: 13.3s\n",
            "732:\tlearn: 0.0932828\ttotal: 36.4s\tremaining: 13.2s\n",
            "733:\tlearn: 0.0924673\ttotal: 36.4s\tremaining: 13.2s\n",
            "734:\tlearn: 0.0916912\ttotal: 36.5s\tremaining: 13.1s\n",
            "735:\tlearn: 0.0913666\ttotal: 36.5s\tremaining: 13.1s\n",
            "736:\tlearn: 0.0909856\ttotal: 36.6s\tremaining: 13s\n",
            "737:\tlearn: 0.0906006\ttotal: 36.6s\tremaining: 13s\n",
            "738:\tlearn: 0.0902923\ttotal: 36.7s\tremaining: 13s\n",
            "739:\tlearn: 0.0899544\ttotal: 36.7s\tremaining: 12.9s\n",
            "740:\tlearn: 0.0898133\ttotal: 36.8s\tremaining: 12.9s\n",
            "741:\tlearn: 0.0896637\ttotal: 36.8s\tremaining: 12.8s\n",
            "742:\tlearn: 0.0893918\ttotal: 36.9s\tremaining: 12.8s\n",
            "743:\tlearn: 0.0888646\ttotal: 36.9s\tremaining: 12.7s\n",
            "744:\tlearn: 0.0883751\ttotal: 37s\tremaining: 12.7s\n",
            "745:\tlearn: 0.0877018\ttotal: 37s\tremaining: 12.6s\n",
            "746:\tlearn: 0.0871485\ttotal: 37.1s\tremaining: 12.6s\n",
            "747:\tlearn: 0.0865400\ttotal: 37.1s\tremaining: 12.5s\n",
            "748:\tlearn: 0.0860217\ttotal: 37.2s\tremaining: 12.5s\n",
            "749:\tlearn: 0.0856962\ttotal: 37.2s\tremaining: 12.4s\n",
            "750:\tlearn: 0.0854675\ttotal: 37.3s\tremaining: 12.4s\n",
            "751:\tlearn: 0.0850235\ttotal: 37.3s\tremaining: 12.3s\n",
            "752:\tlearn: 0.0847756\ttotal: 37.4s\tremaining: 12.3s\n",
            "753:\tlearn: 0.0844039\ttotal: 37.4s\tremaining: 12.2s\n",
            "754:\tlearn: 0.0837578\ttotal: 37.5s\tremaining: 12.2s\n",
            "755:\tlearn: 0.0833436\ttotal: 37.5s\tremaining: 12.1s\n",
            "756:\tlearn: 0.0829250\ttotal: 37.6s\tremaining: 12.1s\n",
            "757:\tlearn: 0.0825076\ttotal: 37.6s\tremaining: 12s\n",
            "758:\tlearn: 0.0822286\ttotal: 37.7s\tremaining: 12s\n",
            "759:\tlearn: 0.0820911\ttotal: 37.7s\tremaining: 11.9s\n",
            "760:\tlearn: 0.0818096\ttotal: 37.8s\tremaining: 11.9s\n",
            "761:\tlearn: 0.0815601\ttotal: 37.8s\tremaining: 11.8s\n",
            "762:\tlearn: 0.0810179\ttotal: 37.9s\tremaining: 11.8s\n",
            "763:\tlearn: 0.0804236\ttotal: 37.9s\tremaining: 11.7s\n",
            "764:\tlearn: 0.0801294\ttotal: 38s\tremaining: 11.7s\n",
            "765:\tlearn: 0.0797846\ttotal: 38s\tremaining: 11.6s\n",
            "766:\tlearn: 0.0794937\ttotal: 38s\tremaining: 11.6s\n",
            "767:\tlearn: 0.0790208\ttotal: 38.1s\tremaining: 11.5s\n",
            "768:\tlearn: 0.0784196\ttotal: 38.1s\tremaining: 11.5s\n",
            "769:\tlearn: 0.0778706\ttotal: 38.2s\tremaining: 11.4s\n",
            "770:\tlearn: 0.0776890\ttotal: 38.2s\tremaining: 11.4s\n",
            "771:\tlearn: 0.0775125\ttotal: 38.3s\tremaining: 11.3s\n",
            "772:\tlearn: 0.0770860\ttotal: 38.3s\tremaining: 11.3s\n",
            "773:\tlearn: 0.0768066\ttotal: 38.4s\tremaining: 11.2s\n",
            "774:\tlearn: 0.0764695\ttotal: 38.4s\tremaining: 11.2s\n",
            "775:\tlearn: 0.0760009\ttotal: 38.5s\tremaining: 11.1s\n",
            "776:\tlearn: 0.0757595\ttotal: 38.5s\tremaining: 11.1s\n",
            "777:\tlearn: 0.0754151\ttotal: 38.6s\tremaining: 11s\n",
            "778:\tlearn: 0.0750684\ttotal: 38.6s\tremaining: 11s\n",
            "779:\tlearn: 0.0744620\ttotal: 38.7s\tremaining: 10.9s\n",
            "780:\tlearn: 0.0741709\ttotal: 38.7s\tremaining: 10.9s\n",
            "781:\tlearn: 0.0736955\ttotal: 38.8s\tremaining: 10.8s\n",
            "782:\tlearn: 0.0734251\ttotal: 38.8s\tremaining: 10.8s\n",
            "783:\tlearn: 0.0729047\ttotal: 38.9s\tremaining: 10.7s\n",
            "784:\tlearn: 0.0725943\ttotal: 38.9s\tremaining: 10.7s\n",
            "785:\tlearn: 0.0722585\ttotal: 39s\tremaining: 10.6s\n",
            "786:\tlearn: 0.0721302\ttotal: 39s\tremaining: 10.6s\n",
            "787:\tlearn: 0.0719335\ttotal: 39.1s\tremaining: 10.5s\n",
            "788:\tlearn: 0.0712973\ttotal: 39.1s\tremaining: 10.5s\n",
            "789:\tlearn: 0.0709754\ttotal: 39.2s\tremaining: 10.4s\n",
            "790:\tlearn: 0.0706883\ttotal: 39.2s\tremaining: 10.4s\n",
            "791:\tlearn: 0.0702700\ttotal: 39.3s\tremaining: 10.3s\n",
            "792:\tlearn: 0.0699706\ttotal: 39.3s\tremaining: 10.3s\n",
            "793:\tlearn: 0.0696681\ttotal: 39.4s\tremaining: 10.2s\n",
            "794:\tlearn: 0.0694380\ttotal: 39.4s\tremaining: 10.2s\n",
            "795:\tlearn: 0.0690473\ttotal: 39.5s\tremaining: 10.1s\n",
            "796:\tlearn: 0.0687240\ttotal: 39.5s\tremaining: 10.1s\n",
            "797:\tlearn: 0.0684482\ttotal: 39.6s\tremaining: 10s\n",
            "798:\tlearn: 0.0681884\ttotal: 39.6s\tremaining: 9.96s\n",
            "799:\tlearn: 0.0680690\ttotal: 39.7s\tremaining: 9.91s\n",
            "800:\tlearn: 0.0676633\ttotal: 39.7s\tremaining: 9.87s\n",
            "801:\tlearn: 0.0675861\ttotal: 39.8s\tremaining: 9.81s\n",
            "802:\tlearn: 0.0671079\ttotal: 39.8s\tremaining: 9.77s\n",
            "803:\tlearn: 0.0667782\ttotal: 39.9s\tremaining: 9.71s\n",
            "804:\tlearn: 0.0666362\ttotal: 39.9s\tremaining: 9.66s\n",
            "805:\tlearn: 0.0664242\ttotal: 39.9s\tremaining: 9.62s\n",
            "806:\tlearn: 0.0660101\ttotal: 40s\tremaining: 9.56s\n",
            "807:\tlearn: 0.0657445\ttotal: 40s\tremaining: 9.52s\n",
            "808:\tlearn: 0.0653944\ttotal: 40.1s\tremaining: 9.46s\n",
            "809:\tlearn: 0.0649977\ttotal: 40.1s\tremaining: 9.41s\n",
            "810:\tlearn: 0.0646864\ttotal: 40.2s\tremaining: 9.37s\n",
            "811:\tlearn: 0.0640977\ttotal: 40.2s\tremaining: 9.32s\n",
            "812:\tlearn: 0.0636331\ttotal: 40.3s\tremaining: 9.27s\n",
            "813:\tlearn: 0.0634966\ttotal: 40.3s\tremaining: 9.22s\n",
            "814:\tlearn: 0.0631472\ttotal: 40.4s\tremaining: 9.17s\n",
            "815:\tlearn: 0.0627564\ttotal: 40.4s\tremaining: 9.12s\n",
            "816:\tlearn: 0.0625424\ttotal: 40.5s\tremaining: 9.07s\n",
            "817:\tlearn: 0.0621644\ttotal: 40.5s\tremaining: 9.02s\n",
            "818:\tlearn: 0.0616662\ttotal: 40.6s\tremaining: 8.97s\n",
            "819:\tlearn: 0.0613473\ttotal: 40.6s\tremaining: 8.92s\n",
            "820:\tlearn: 0.0612333\ttotal: 40.7s\tremaining: 8.87s\n",
            "821:\tlearn: 0.0609378\ttotal: 40.7s\tremaining: 8.82s\n",
            "822:\tlearn: 0.0605176\ttotal: 40.8s\tremaining: 8.77s\n",
            "823:\tlearn: 0.0602990\ttotal: 40.8s\tremaining: 8.72s\n",
            "824:\tlearn: 0.0599322\ttotal: 40.9s\tremaining: 8.67s\n",
            "825:\tlearn: 0.0595257\ttotal: 40.9s\tremaining: 8.62s\n",
            "826:\tlearn: 0.0593851\ttotal: 41s\tremaining: 8.57s\n",
            "827:\tlearn: 0.0590281\ttotal: 41s\tremaining: 8.52s\n",
            "828:\tlearn: 0.0589529\ttotal: 41.1s\tremaining: 8.47s\n",
            "829:\tlearn: 0.0586029\ttotal: 41.1s\tremaining: 8.42s\n",
            "830:\tlearn: 0.0582689\ttotal: 41.2s\tremaining: 8.37s\n",
            "831:\tlearn: 0.0578869\ttotal: 41.2s\tremaining: 8.32s\n",
            "832:\tlearn: 0.0573481\ttotal: 41.3s\tremaining: 8.27s\n",
            "833:\tlearn: 0.0572594\ttotal: 41.3s\tremaining: 8.22s\n",
            "834:\tlearn: 0.0568833\ttotal: 41.4s\tremaining: 8.17s\n",
            "835:\tlearn: 0.0567239\ttotal: 41.4s\tremaining: 8.12s\n",
            "836:\tlearn: 0.0564877\ttotal: 41.5s\tremaining: 8.07s\n",
            "837:\tlearn: 0.0561831\ttotal: 41.5s\tremaining: 8.02s\n",
            "838:\tlearn: 0.0558655\ttotal: 41.6s\tremaining: 7.97s\n",
            "839:\tlearn: 0.0556185\ttotal: 41.6s\tremaining: 7.92s\n",
            "840:\tlearn: 0.0552952\ttotal: 41.7s\tremaining: 7.88s\n",
            "841:\tlearn: 0.0549732\ttotal: 41.7s\tremaining: 7.83s\n",
            "842:\tlearn: 0.0546748\ttotal: 41.7s\tremaining: 7.78s\n",
            "843:\tlearn: 0.0544637\ttotal: 41.8s\tremaining: 7.72s\n",
            "844:\tlearn: 0.0541411\ttotal: 41.8s\tremaining: 7.67s\n",
            "845:\tlearn: 0.0540427\ttotal: 41.9s\tremaining: 7.63s\n",
            "846:\tlearn: 0.0537753\ttotal: 41.9s\tremaining: 7.58s\n",
            "847:\tlearn: 0.0537011\ttotal: 42s\tremaining: 7.53s\n",
            "848:\tlearn: 0.0536073\ttotal: 42s\tremaining: 7.48s\n",
            "849:\tlearn: 0.0531958\ttotal: 42.1s\tremaining: 7.43s\n",
            "850:\tlearn: 0.0528236\ttotal: 42.1s\tremaining: 7.38s\n",
            "851:\tlearn: 0.0525449\ttotal: 42.2s\tremaining: 7.33s\n",
            "852:\tlearn: 0.0522627\ttotal: 42.2s\tremaining: 7.28s\n",
            "853:\tlearn: 0.0519545\ttotal: 42.3s\tremaining: 7.23s\n",
            "854:\tlearn: 0.0518252\ttotal: 42.3s\tremaining: 7.18s\n",
            "855:\tlearn: 0.0514475\ttotal: 42.4s\tremaining: 7.13s\n",
            "856:\tlearn: 0.0511451\ttotal: 42.4s\tremaining: 7.08s\n",
            "857:\tlearn: 0.0508410\ttotal: 42.5s\tremaining: 7.03s\n",
            "858:\tlearn: 0.0505848\ttotal: 42.5s\tremaining: 6.98s\n",
            "859:\tlearn: 0.0503258\ttotal: 42.6s\tremaining: 6.93s\n",
            "860:\tlearn: 0.0500723\ttotal: 42.6s\tremaining: 6.88s\n",
            "861:\tlearn: 0.0497557\ttotal: 42.7s\tremaining: 6.83s\n",
            "862:\tlearn: 0.0496527\ttotal: 42.7s\tremaining: 6.79s\n",
            "863:\tlearn: 0.0494208\ttotal: 42.8s\tremaining: 6.74s\n",
            "864:\tlearn: 0.0490943\ttotal: 42.9s\tremaining: 6.69s\n",
            "865:\tlearn: 0.0488815\ttotal: 42.9s\tremaining: 6.64s\n",
            "866:\tlearn: 0.0486295\ttotal: 43s\tremaining: 6.59s\n",
            "867:\tlearn: 0.0483202\ttotal: 43s\tremaining: 6.54s\n",
            "868:\tlearn: 0.0481358\ttotal: 43.1s\tremaining: 6.49s\n",
            "869:\tlearn: 0.0477552\ttotal: 43.1s\tremaining: 6.44s\n",
            "870:\tlearn: 0.0476494\ttotal: 43.2s\tremaining: 6.39s\n",
            "871:\tlearn: 0.0474391\ttotal: 43.2s\tremaining: 6.34s\n",
            "872:\tlearn: 0.0471267\ttotal: 43.3s\tremaining: 6.29s\n",
            "873:\tlearn: 0.0470627\ttotal: 43.3s\tremaining: 6.25s\n",
            "874:\tlearn: 0.0467666\ttotal: 43.4s\tremaining: 6.2s\n",
            "875:\tlearn: 0.0463841\ttotal: 43.4s\tremaining: 6.15s\n",
            "876:\tlearn: 0.0461405\ttotal: 43.5s\tremaining: 6.1s\n",
            "877:\tlearn: 0.0460729\ttotal: 43.5s\tremaining: 6.05s\n",
            "878:\tlearn: 0.0457735\ttotal: 43.6s\tremaining: 6s\n",
            "879:\tlearn: 0.0453552\ttotal: 43.6s\tremaining: 5.95s\n",
            "880:\tlearn: 0.0450665\ttotal: 43.7s\tremaining: 5.9s\n",
            "881:\tlearn: 0.0449154\ttotal: 43.7s\tremaining: 5.85s\n",
            "882:\tlearn: 0.0448151\ttotal: 43.8s\tremaining: 5.8s\n",
            "883:\tlearn: 0.0447058\ttotal: 43.9s\tremaining: 5.75s\n",
            "884:\tlearn: 0.0445071\ttotal: 43.9s\tremaining: 5.71s\n",
            "885:\tlearn: 0.0442895\ttotal: 44s\tremaining: 5.66s\n",
            "886:\tlearn: 0.0442109\ttotal: 44s\tremaining: 5.61s\n",
            "887:\tlearn: 0.0440982\ttotal: 44.1s\tremaining: 5.56s\n",
            "888:\tlearn: 0.0438690\ttotal: 44.1s\tremaining: 5.51s\n",
            "889:\tlearn: 0.0438009\ttotal: 44.2s\tremaining: 5.46s\n",
            "890:\tlearn: 0.0437082\ttotal: 44.2s\tremaining: 5.41s\n",
            "891:\tlearn: 0.0434287\ttotal: 44.3s\tremaining: 5.36s\n",
            "892:\tlearn: 0.0431460\ttotal: 44.3s\tremaining: 5.31s\n",
            "893:\tlearn: 0.0428647\ttotal: 44.4s\tremaining: 5.26s\n",
            "894:\tlearn: 0.0426742\ttotal: 44.4s\tremaining: 5.21s\n",
            "895:\tlearn: 0.0424088\ttotal: 44.5s\tremaining: 5.16s\n",
            "896:\tlearn: 0.0422002\ttotal: 44.5s\tremaining: 5.11s\n",
            "897:\tlearn: 0.0420662\ttotal: 44.6s\tremaining: 5.06s\n",
            "898:\tlearn: 0.0417883\ttotal: 44.6s\tremaining: 5.01s\n",
            "899:\tlearn: 0.0414654\ttotal: 44.7s\tremaining: 4.96s\n",
            "900:\tlearn: 0.0412826\ttotal: 44.7s\tremaining: 4.91s\n",
            "901:\tlearn: 0.0410062\ttotal: 44.8s\tremaining: 4.86s\n",
            "902:\tlearn: 0.0409020\ttotal: 44.8s\tremaining: 4.82s\n",
            "903:\tlearn: 0.0408128\ttotal: 44.9s\tremaining: 4.76s\n",
            "904:\tlearn: 0.0406438\ttotal: 44.9s\tremaining: 4.72s\n",
            "905:\tlearn: 0.0402911\ttotal: 45s\tremaining: 4.67s\n",
            "906:\tlearn: 0.0401223\ttotal: 45s\tremaining: 4.62s\n",
            "907:\tlearn: 0.0398396\ttotal: 45.1s\tremaining: 4.57s\n",
            "908:\tlearn: 0.0397456\ttotal: 45.1s\tremaining: 4.52s\n",
            "909:\tlearn: 0.0394302\ttotal: 45.2s\tremaining: 4.47s\n",
            "910:\tlearn: 0.0391468\ttotal: 45.2s\tremaining: 4.42s\n",
            "911:\tlearn: 0.0390854\ttotal: 45.3s\tremaining: 4.37s\n",
            "912:\tlearn: 0.0389026\ttotal: 45.3s\tremaining: 4.32s\n",
            "913:\tlearn: 0.0387351\ttotal: 45.4s\tremaining: 4.27s\n",
            "914:\tlearn: 0.0385289\ttotal: 45.4s\tremaining: 4.22s\n",
            "915:\tlearn: 0.0384217\ttotal: 45.5s\tremaining: 4.17s\n",
            "916:\tlearn: 0.0381480\ttotal: 45.6s\tremaining: 4.12s\n",
            "917:\tlearn: 0.0379775\ttotal: 45.6s\tremaining: 4.08s\n",
            "918:\tlearn: 0.0377570\ttotal: 45.7s\tremaining: 4.03s\n",
            "919:\tlearn: 0.0375620\ttotal: 45.7s\tremaining: 3.98s\n",
            "920:\tlearn: 0.0372737\ttotal: 45.8s\tremaining: 3.93s\n",
            "921:\tlearn: 0.0371656\ttotal: 45.8s\tremaining: 3.88s\n",
            "922:\tlearn: 0.0370146\ttotal: 45.9s\tremaining: 3.83s\n",
            "923:\tlearn: 0.0369271\ttotal: 46s\tremaining: 3.78s\n",
            "924:\tlearn: 0.0366506\ttotal: 46s\tremaining: 3.73s\n",
            "925:\tlearn: 0.0365079\ttotal: 46.1s\tremaining: 3.68s\n",
            "926:\tlearn: 0.0362529\ttotal: 46.1s\tremaining: 3.63s\n",
            "927:\tlearn: 0.0361098\ttotal: 46.2s\tremaining: 3.58s\n",
            "928:\tlearn: 0.0359867\ttotal: 46.2s\tremaining: 3.53s\n",
            "929:\tlearn: 0.0358315\ttotal: 46.3s\tremaining: 3.48s\n",
            "930:\tlearn: 0.0355740\ttotal: 46.4s\tremaining: 3.44s\n",
            "931:\tlearn: 0.0353034\ttotal: 46.4s\tremaining: 3.39s\n",
            "932:\tlearn: 0.0350629\ttotal: 46.5s\tremaining: 3.34s\n",
            "933:\tlearn: 0.0349308\ttotal: 46.5s\tremaining: 3.29s\n",
            "934:\tlearn: 0.0347154\ttotal: 46.6s\tremaining: 3.24s\n",
            "935:\tlearn: 0.0345432\ttotal: 46.6s\tremaining: 3.19s\n",
            "936:\tlearn: 0.0343013\ttotal: 46.7s\tremaining: 3.14s\n",
            "937:\tlearn: 0.0341586\ttotal: 46.7s\tremaining: 3.09s\n",
            "938:\tlearn: 0.0339989\ttotal: 46.8s\tremaining: 3.04s\n",
            "939:\tlearn: 0.0338092\ttotal: 46.8s\tremaining: 2.99s\n",
            "940:\tlearn: 0.0336511\ttotal: 46.9s\tremaining: 2.94s\n",
            "941:\tlearn: 0.0335925\ttotal: 46.9s\tremaining: 2.89s\n",
            "942:\tlearn: 0.0334768\ttotal: 47s\tremaining: 2.84s\n",
            "943:\tlearn: 0.0333527\ttotal: 47s\tremaining: 2.79s\n",
            "944:\tlearn: 0.0331946\ttotal: 47.1s\tremaining: 2.74s\n",
            "945:\tlearn: 0.0331319\ttotal: 47.1s\tremaining: 2.69s\n",
            "946:\tlearn: 0.0329150\ttotal: 47.2s\tremaining: 2.64s\n",
            "947:\tlearn: 0.0328012\ttotal: 47.2s\tremaining: 2.59s\n",
            "948:\tlearn: 0.0327379\ttotal: 47.3s\tremaining: 2.54s\n",
            "949:\tlearn: 0.0326430\ttotal: 47.3s\tremaining: 2.49s\n",
            "950:\tlearn: 0.0323966\ttotal: 47.4s\tremaining: 2.44s\n",
            "951:\tlearn: 0.0322335\ttotal: 47.4s\tremaining: 2.39s\n",
            "952:\tlearn: 0.0320832\ttotal: 47.5s\tremaining: 2.34s\n",
            "953:\tlearn: 0.0319490\ttotal: 47.5s\tremaining: 2.29s\n",
            "954:\tlearn: 0.0318218\ttotal: 47.6s\tremaining: 2.24s\n",
            "955:\tlearn: 0.0316541\ttotal: 47.6s\tremaining: 2.19s\n",
            "956:\tlearn: 0.0315133\ttotal: 47.7s\tremaining: 2.14s\n",
            "957:\tlearn: 0.0312972\ttotal: 47.7s\tremaining: 2.09s\n",
            "958:\tlearn: 0.0310957\ttotal: 47.8s\tremaining: 2.04s\n",
            "959:\tlearn: 0.0308912\ttotal: 47.8s\tremaining: 1.99s\n",
            "960:\tlearn: 0.0308424\ttotal: 47.9s\tremaining: 1.94s\n",
            "961:\tlearn: 0.0306294\ttotal: 47.9s\tremaining: 1.89s\n",
            "962:\tlearn: 0.0305729\ttotal: 48s\tremaining: 1.84s\n",
            "963:\tlearn: 0.0303456\ttotal: 48s\tremaining: 1.79s\n",
            "964:\tlearn: 0.0302363\ttotal: 48.1s\tremaining: 1.74s\n",
            "965:\tlearn: 0.0300978\ttotal: 48.1s\tremaining: 1.69s\n",
            "966:\tlearn: 0.0298923\ttotal: 48.2s\tremaining: 1.64s\n",
            "967:\tlearn: 0.0298352\ttotal: 48.3s\tremaining: 1.59s\n",
            "968:\tlearn: 0.0296116\ttotal: 48.3s\tremaining: 1.54s\n",
            "969:\tlearn: 0.0294290\ttotal: 48.4s\tremaining: 1.5s\n",
            "970:\tlearn: 0.0291949\ttotal: 48.4s\tremaining: 1.45s\n",
            "971:\tlearn: 0.0291429\ttotal: 48.5s\tremaining: 1.4s\n",
            "972:\tlearn: 0.0290340\ttotal: 48.5s\tremaining: 1.35s\n",
            "973:\tlearn: 0.0287890\ttotal: 48.6s\tremaining: 1.3s\n",
            "974:\tlearn: 0.0286781\ttotal: 48.6s\tremaining: 1.25s\n",
            "975:\tlearn: 0.0285266\ttotal: 48.7s\tremaining: 1.2s\n",
            "976:\tlearn: 0.0284226\ttotal: 48.7s\tremaining: 1.15s\n",
            "977:\tlearn: 0.0281962\ttotal: 48.8s\tremaining: 1.1s\n",
            "978:\tlearn: 0.0280817\ttotal: 48.9s\tremaining: 1.05s\n",
            "979:\tlearn: 0.0280278\ttotal: 48.9s\tremaining: 998ms\n",
            "980:\tlearn: 0.0278735\ttotal: 49s\tremaining: 948ms\n",
            "981:\tlearn: 0.0277676\ttotal: 49s\tremaining: 898ms\n",
            "982:\tlearn: 0.0275681\ttotal: 49.1s\tremaining: 848ms\n",
            "983:\tlearn: 0.0274180\ttotal: 49.1s\tremaining: 799ms\n",
            "984:\tlearn: 0.0272602\ttotal: 49.2s\tremaining: 749ms\n",
            "985:\tlearn: 0.0271148\ttotal: 49.2s\tremaining: 699ms\n",
            "986:\tlearn: 0.0270578\ttotal: 49.3s\tremaining: 649ms\n",
            "987:\tlearn: 0.0269644\ttotal: 49.3s\tremaining: 599ms\n",
            "988:\tlearn: 0.0268433\ttotal: 49.4s\tremaining: 549ms\n",
            "989:\tlearn: 0.0267253\ttotal: 49.4s\tremaining: 499ms\n",
            "990:\tlearn: 0.0265930\ttotal: 49.5s\tremaining: 449ms\n",
            "991:\tlearn: 0.0264863\ttotal: 49.5s\tremaining: 399ms\n",
            "992:\tlearn: 0.0262915\ttotal: 49.6s\tremaining: 349ms\n",
            "993:\tlearn: 0.0260852\ttotal: 49.6s\tremaining: 300ms\n",
            "994:\tlearn: 0.0259842\ttotal: 49.7s\tremaining: 250ms\n",
            "995:\tlearn: 0.0258331\ttotal: 49.7s\tremaining: 200ms\n",
            "996:\tlearn: 0.0258117\ttotal: 49.8s\tremaining: 150ms\n",
            "997:\tlearn: 0.0256707\ttotal: 49.8s\tremaining: 99.8ms\n",
            "998:\tlearn: 0.0255557\ttotal: 49.9s\tremaining: 49.9ms\n",
            "999:\tlearn: 0.0255038\ttotal: 49.9s\tremaining: 0us\n",
            "[LightGBM] [Info] Auto-choosing col-wise multi-threading, the overhead of testing was 0.021653 seconds.\n",
            "You can set `force_col_wise=true` to remove the overhead.\n",
            "[LightGBM] [Info] Total Bins 304743\n",
            "[LightGBM] [Info] Number of data points in the train set: 320, number of used features: 4096\n",
            "[LightGBM] [Info] Start training from score 19.790625\n",
            "[LightGBM] [Warning] No further splits with positive gain, best gain: -inf\n",
            "[LightGBM] [Warning] No further splits with positive gain, best gain: -inf\n",
            "[LightGBM] [Warning] No further splits with positive gain, best gain: -inf\n",
            "[LightGBM] [Warning] No further splits with positive gain, best gain: -inf\n",
            "[LightGBM] [Warning] No further splits with positive gain, best gain: -inf\n",
            "[LightGBM] [Warning] No further splits with positive gain, best gain: -inf\n",
            "[LightGBM] [Warning] No further splits with positive gain, best gain: -inf\n",
            "[LightGBM] [Warning] No further splits with positive gain, best gain: -inf\n",
            "[LightGBM] [Warning] No further splits with positive gain, best gain: -inf\n",
            "[LightGBM] [Warning] No further splits with positive gain, best gain: -inf\n",
            "[LightGBM] [Warning] No further splits with positive gain, best gain: -inf\n",
            "[LightGBM] [Warning] No further splits with positive gain, best gain: -inf\n",
            "[LightGBM] [Warning] No further splits with positive gain, best gain: -inf\n",
            "[LightGBM] [Warning] No further splits with positive gain, best gain: -inf\n",
            "[LightGBM] [Warning] No further splits with positive gain, best gain: -inf\n",
            "[LightGBM] [Warning] No further splits with positive gain, best gain: -inf\n",
            "[LightGBM] [Warning] No further splits with positive gain, best gain: -inf\n",
            "[LightGBM] [Warning] No further splits with positive gain, best gain: -inf\n",
            "[LightGBM] [Warning] No further splits with positive gain, best gain: -inf\n",
            "[LightGBM] [Warning] No further splits with positive gain, best gain: -inf\n",
            "[LightGBM] [Warning] No further splits with positive gain, best gain: -inf\n",
            "[LightGBM] [Warning] No further splits with positive gain, best gain: -inf\n",
            "[LightGBM] [Warning] No further splits with positive gain, best gain: -inf\n",
            "[LightGBM] [Warning] No further splits with positive gain, best gain: -inf\n",
            "[LightGBM] [Warning] No further splits with positive gain, best gain: -inf\n",
            "[LightGBM] [Warning] No further splits with positive gain, best gain: -inf\n",
            "[LightGBM] [Warning] No further splits with positive gain, best gain: -inf\n",
            "[LightGBM] [Warning] No further splits with positive gain, best gain: -inf\n",
            "[LightGBM] [Warning] No further splits with positive gain, best gain: -inf\n",
            "[LightGBM] [Warning] No further splits with positive gain, best gain: -inf\n",
            "[LightGBM] [Warning] No further splits with positive gain, best gain: -inf\n",
            "[LightGBM] [Warning] No further splits with positive gain, best gain: -inf\n",
            "[LightGBM] [Warning] No further splits with positive gain, best gain: -inf\n",
            "[LightGBM] [Warning] No further splits with positive gain, best gain: -inf\n",
            "[LightGBM] [Warning] No further splits with positive gain, best gain: -inf\n",
            "[LightGBM] [Warning] No further splits with positive gain, best gain: -inf\n",
            "[LightGBM] [Warning] No further splits with positive gain, best gain: -inf\n",
            "[LightGBM] [Warning] No further splits with positive gain, best gain: -inf\n",
            "[LightGBM] [Warning] No further splits with positive gain, best gain: -inf\n",
            "[LightGBM] [Warning] No further splits with positive gain, best gain: -inf\n",
            "[LightGBM] [Warning] No further splits with positive gain, best gain: -inf\n",
            "[LightGBM] [Warning] No further splits with positive gain, best gain: -inf\n",
            "[LightGBM] [Warning] No further splits with positive gain, best gain: -inf\n",
            "[LightGBM] [Warning] No further splits with positive gain, best gain: -inf\n",
            "[LightGBM] [Warning] No further splits with positive gain, best gain: -inf\n",
            "[LightGBM] [Warning] No further splits with positive gain, best gain: -inf\n",
            "[LightGBM] [Warning] No further splits with positive gain, best gain: -inf\n",
            "[LightGBM] [Warning] No further splits with positive gain, best gain: -inf\n",
            "[LightGBM] [Warning] No further splits with positive gain, best gain: -inf\n",
            "[LightGBM] [Warning] No further splits with positive gain, best gain: -inf\n",
            "[LightGBM] [Warning] No further splits with positive gain, best gain: -inf\n",
            "[LightGBM] [Warning] No further splits with positive gain, best gain: -inf\n",
            "[LightGBM] [Warning] No further splits with positive gain, best gain: -inf\n",
            "[LightGBM] [Warning] No further splits with positive gain, best gain: -inf\n",
            "[LightGBM] [Warning] No further splits with positive gain, best gain: -inf\n",
            "[LightGBM] [Warning] No further splits with positive gain, best gain: -inf\n",
            "[LightGBM] [Warning] No further splits with positive gain, best gain: -inf\n",
            "[LightGBM] [Warning] No further splits with positive gain, best gain: -inf\n",
            "[LightGBM] [Warning] No further splits with positive gain, best gain: -inf\n",
            "[LightGBM] [Warning] No further splits with positive gain, best gain: -inf\n",
            "[LightGBM] [Warning] No further splits with positive gain, best gain: -inf\n",
            "[LightGBM] [Warning] No further splits with positive gain, best gain: -inf\n",
            "[LightGBM] [Warning] No further splits with positive gain, best gain: -inf\n",
            "[LightGBM] [Warning] No further splits with positive gain, best gain: -inf\n",
            "[LightGBM] [Warning] No further splits with positive gain, best gain: -inf\n",
            "[LightGBM] [Warning] No further splits with positive gain, best gain: -inf\n",
            "[LightGBM] [Warning] No further splits with positive gain, best gain: -inf\n",
            "[LightGBM] [Warning] No further splits with positive gain, best gain: -inf\n",
            "[LightGBM] [Warning] No further splits with positive gain, best gain: -inf\n",
            "[LightGBM] [Warning] No further splits with positive gain, best gain: -inf\n",
            "[LightGBM] [Warning] No further splits with positive gain, best gain: -inf\n",
            "[LightGBM] [Warning] No further splits with positive gain, best gain: -inf\n",
            "[LightGBM] [Warning] No further splits with positive gain, best gain: -inf\n",
            "[LightGBM] [Warning] No further splits with positive gain, best gain: -inf\n",
            "[LightGBM] [Warning] No further splits with positive gain, best gain: -inf\n",
            "[LightGBM] [Warning] No further splits with positive gain, best gain: -inf\n",
            "[LightGBM] [Warning] No further splits with positive gain, best gain: -inf\n",
            "[LightGBM] [Warning] No further splits with positive gain, best gain: -inf\n",
            "[LightGBM] [Warning] No further splits with positive gain, best gain: -inf\n",
            "[LightGBM] [Warning] No further splits with positive gain, best gain: -inf\n",
            "[LightGBM] [Warning] No further splits with positive gain, best gain: -inf\n",
            "[LightGBM] [Warning] No further splits with positive gain, best gain: -inf\n",
            "[LightGBM] [Warning] No further splits with positive gain, best gain: -inf\n",
            "[LightGBM] [Warning] No further splits with positive gain, best gain: -inf\n",
            "[LightGBM] [Warning] No further splits with positive gain, best gain: -inf\n",
            "[LightGBM] [Warning] No further splits with positive gain, best gain: -inf\n",
            "[LightGBM] [Warning] No further splits with positive gain, best gain: -inf\n",
            "[LightGBM] [Warning] No further splits with positive gain, best gain: -inf\n",
            "[LightGBM] [Warning] No further splits with positive gain, best gain: -inf\n",
            "[LightGBM] [Warning] No further splits with positive gain, best gain: -inf\n",
            "[LightGBM] [Warning] No further splits with positive gain, best gain: -inf\n",
            "[LightGBM] [Warning] No further splits with positive gain, best gain: -inf\n",
            "[LightGBM] [Warning] No further splits with positive gain, best gain: -inf\n",
            "[LightGBM] [Warning] No further splits with positive gain, best gain: -inf\n",
            "[LightGBM] [Warning] No further splits with positive gain, best gain: -inf\n",
            "[LightGBM] [Warning] No further splits with positive gain, best gain: -inf\n",
            "[LightGBM] [Warning] No further splits with positive gain, best gain: -inf\n",
            "[LightGBM] [Warning] No further splits with positive gain, best gain: -inf\n",
            "[LightGBM] [Warning] No further splits with positive gain, best gain: -inf\n",
            "[LightGBM] [Warning] No further splits with positive gain, best gain: -inf\n",
            "Название модели: CatBoost\n",
            "MAE: 5.245954216038829\n",
            "R^2: 0.6753515948412365\n",
            "Explained Variance: 0.6756928610808215\n",
            "Время обучения: 50.44367051124573 seconds\n",
            "Время на предсказание: 0.010024309158325195 seconds\n",
            "---------------------\n",
            "Название модели: LightGBM\n",
            "MAE: 5.654359154616126\n",
            "R^2: 0.5900356536659036\n",
            "Explained Variance: 0.5909727600523287\n",
            "Время обучения: 0.5065083503723145 seconds\n",
            "Время на предсказание: 0.0015654563903808594 seconds\n",
            "---------------------\n",
            "Название модели: XGBoost\n",
            "MAE: 6.55089710354805\n",
            "R^2: 0.44987655840673046\n",
            "Explained Variance: 0.4499947959557016\n",
            "Время обучения: 3.578464984893799 seconds\n",
            "Время на предсказание: 0.002000093460083008 seconds\n",
            "---------------------\n",
            "Название модели: AdaBoost\n",
            "MAE: 6.921207374659874\n",
            "R^2: 0.4931186093333332\n",
            "Explained Variance: 0.49316635022972444\n",
            "Время обучения: 9.452616453170776 seconds\n",
            "Время на предсказание: 0.006155967712402344 seconds\n",
            "---------------------\n"
          ]
        }
      ],
      "source": [
        "results = {}\n",
        "for name, model in models.items():\n",
        "    start_time = time.time()\n",
        "    model.fit(X_train, y_train)\n",
        "    train_time = time.time() - start_time\n",
        "\n",
        "    start_time = time.time()\n",
        "    predictions = model.predict(X_test)\n",
        "    predict_time = time.time() - start_time\n",
        "\n",
        "    mae = mean_absolute_error(y_test, predictions)\n",
        "    r2 = r2_score(y_test, predictions)\n",
        "    explained_variance = explained_variance_score(y_test, predictions)\n",
        "\n",
        "    results[name] = {\n",
        "        \"MAE\": mae,\n",
        "        \"R^2\": r2,\n",
        "        \"Explained Variance\": explained_variance,\n",
        "        \"Training Time\": train_time,\n",
        "        \"Prediction Time\": predict_time\n",
        "    }\n",
        "\n",
        "for name, result in results.items():\n",
        "    print(f\"Название модели: {name}\")\n",
        "    print(f\"MAE: {result['MAE']}\")\n",
        "    print(f\"R^2: {result['R^2']}\")\n",
        "    print(f\"Explained Variance: {result['Explained Variance']}\")\n",
        "    print(f\"Время обучения: {result['Training Time']} seconds\")\n",
        "    print(f\"Время на предсказание: {result['Prediction Time']} seconds\")\n",
        "    print(\"---------------------\")"
      ]
    },
    {
      "cell_type": "markdown",
      "metadata": {},
      "source": [
        "# Время обучения"
      ]
    },
    {
      "cell_type": "code",
      "execution_count": 182,
      "metadata": {},
      "outputs": [
        {
          "data": {
            "application/vnd.plotly.v1+json": {
              "config": {
                "plotlyServerURL": "https://plot.ly"
              },
              "data": [
                {
                  "alignmentgroup": "True",
                  "hovertemplate": "Модель=%{x}<br>Время обучения (сек)=%{y}<extra></extra>",
                  "legendgroup": "",
                  "marker": {
                    "color": [
                      "blue",
                      "red",
                      "blue",
                      "blue"
                    ],
                    "pattern": {
                      "shape": ""
                    }
                  },
                  "name": "",
                  "offsetgroup": "",
                  "orientation": "v",
                  "showlegend": false,
                  "textposition": "auto",
                  "type": "bar",
                  "x": [
                    "CatBoost",
                    "LightGBM",
                    "XGBoost",
                    "AdaBoost"
                  ],
                  "xaxis": "x",
                  "y": [
                    50.44367051124573,
                    0.5065083503723145,
                    3.578464984893799,
                    9.452616453170776
                  ],
                  "yaxis": "y"
                }
              ],
              "layout": {
                "barmode": "relative",
                "legend": {
                  "tracegroupgap": 0
                },
                "template": {
                  "data": {
                    "bar": [
                      {
                        "error_x": {
                          "color": "#2a3f5f"
                        },
                        "error_y": {
                          "color": "#2a3f5f"
                        },
                        "marker": {
                          "line": {
                            "color": "#E5ECF6",
                            "width": 0.5
                          },
                          "pattern": {
                            "fillmode": "overlay",
                            "size": 10,
                            "solidity": 0.2
                          }
                        },
                        "type": "bar"
                      }
                    ],
                    "barpolar": [
                      {
                        "marker": {
                          "line": {
                            "color": "#E5ECF6",
                            "width": 0.5
                          },
                          "pattern": {
                            "fillmode": "overlay",
                            "size": 10,
                            "solidity": 0.2
                          }
                        },
                        "type": "barpolar"
                      }
                    ],
                    "carpet": [
                      {
                        "aaxis": {
                          "endlinecolor": "#2a3f5f",
                          "gridcolor": "white",
                          "linecolor": "white",
                          "minorgridcolor": "white",
                          "startlinecolor": "#2a3f5f"
                        },
                        "baxis": {
                          "endlinecolor": "#2a3f5f",
                          "gridcolor": "white",
                          "linecolor": "white",
                          "minorgridcolor": "white",
                          "startlinecolor": "#2a3f5f"
                        },
                        "type": "carpet"
                      }
                    ],
                    "choropleth": [
                      {
                        "colorbar": {
                          "outlinewidth": 0,
                          "ticks": ""
                        },
                        "type": "choropleth"
                      }
                    ],
                    "contour": [
                      {
                        "colorbar": {
                          "outlinewidth": 0,
                          "ticks": ""
                        },
                        "colorscale": [
                          [
                            0,
                            "#0d0887"
                          ],
                          [
                            0.1111111111111111,
                            "#46039f"
                          ],
                          [
                            0.2222222222222222,
                            "#7201a8"
                          ],
                          [
                            0.3333333333333333,
                            "#9c179e"
                          ],
                          [
                            0.4444444444444444,
                            "#bd3786"
                          ],
                          [
                            0.5555555555555556,
                            "#d8576b"
                          ],
                          [
                            0.6666666666666666,
                            "#ed7953"
                          ],
                          [
                            0.7777777777777778,
                            "#fb9f3a"
                          ],
                          [
                            0.8888888888888888,
                            "#fdca26"
                          ],
                          [
                            1,
                            "#f0f921"
                          ]
                        ],
                        "type": "contour"
                      }
                    ],
                    "contourcarpet": [
                      {
                        "colorbar": {
                          "outlinewidth": 0,
                          "ticks": ""
                        },
                        "type": "contourcarpet"
                      }
                    ],
                    "heatmap": [
                      {
                        "colorbar": {
                          "outlinewidth": 0,
                          "ticks": ""
                        },
                        "colorscale": [
                          [
                            0,
                            "#0d0887"
                          ],
                          [
                            0.1111111111111111,
                            "#46039f"
                          ],
                          [
                            0.2222222222222222,
                            "#7201a8"
                          ],
                          [
                            0.3333333333333333,
                            "#9c179e"
                          ],
                          [
                            0.4444444444444444,
                            "#bd3786"
                          ],
                          [
                            0.5555555555555556,
                            "#d8576b"
                          ],
                          [
                            0.6666666666666666,
                            "#ed7953"
                          ],
                          [
                            0.7777777777777778,
                            "#fb9f3a"
                          ],
                          [
                            0.8888888888888888,
                            "#fdca26"
                          ],
                          [
                            1,
                            "#f0f921"
                          ]
                        ],
                        "type": "heatmap"
                      }
                    ],
                    "heatmapgl": [
                      {
                        "colorbar": {
                          "outlinewidth": 0,
                          "ticks": ""
                        },
                        "colorscale": [
                          [
                            0,
                            "#0d0887"
                          ],
                          [
                            0.1111111111111111,
                            "#46039f"
                          ],
                          [
                            0.2222222222222222,
                            "#7201a8"
                          ],
                          [
                            0.3333333333333333,
                            "#9c179e"
                          ],
                          [
                            0.4444444444444444,
                            "#bd3786"
                          ],
                          [
                            0.5555555555555556,
                            "#d8576b"
                          ],
                          [
                            0.6666666666666666,
                            "#ed7953"
                          ],
                          [
                            0.7777777777777778,
                            "#fb9f3a"
                          ],
                          [
                            0.8888888888888888,
                            "#fdca26"
                          ],
                          [
                            1,
                            "#f0f921"
                          ]
                        ],
                        "type": "heatmapgl"
                      }
                    ],
                    "histogram": [
                      {
                        "marker": {
                          "pattern": {
                            "fillmode": "overlay",
                            "size": 10,
                            "solidity": 0.2
                          }
                        },
                        "type": "histogram"
                      }
                    ],
                    "histogram2d": [
                      {
                        "colorbar": {
                          "outlinewidth": 0,
                          "ticks": ""
                        },
                        "colorscale": [
                          [
                            0,
                            "#0d0887"
                          ],
                          [
                            0.1111111111111111,
                            "#46039f"
                          ],
                          [
                            0.2222222222222222,
                            "#7201a8"
                          ],
                          [
                            0.3333333333333333,
                            "#9c179e"
                          ],
                          [
                            0.4444444444444444,
                            "#bd3786"
                          ],
                          [
                            0.5555555555555556,
                            "#d8576b"
                          ],
                          [
                            0.6666666666666666,
                            "#ed7953"
                          ],
                          [
                            0.7777777777777778,
                            "#fb9f3a"
                          ],
                          [
                            0.8888888888888888,
                            "#fdca26"
                          ],
                          [
                            1,
                            "#f0f921"
                          ]
                        ],
                        "type": "histogram2d"
                      }
                    ],
                    "histogram2dcontour": [
                      {
                        "colorbar": {
                          "outlinewidth": 0,
                          "ticks": ""
                        },
                        "colorscale": [
                          [
                            0,
                            "#0d0887"
                          ],
                          [
                            0.1111111111111111,
                            "#46039f"
                          ],
                          [
                            0.2222222222222222,
                            "#7201a8"
                          ],
                          [
                            0.3333333333333333,
                            "#9c179e"
                          ],
                          [
                            0.4444444444444444,
                            "#bd3786"
                          ],
                          [
                            0.5555555555555556,
                            "#d8576b"
                          ],
                          [
                            0.6666666666666666,
                            "#ed7953"
                          ],
                          [
                            0.7777777777777778,
                            "#fb9f3a"
                          ],
                          [
                            0.8888888888888888,
                            "#fdca26"
                          ],
                          [
                            1,
                            "#f0f921"
                          ]
                        ],
                        "type": "histogram2dcontour"
                      }
                    ],
                    "mesh3d": [
                      {
                        "colorbar": {
                          "outlinewidth": 0,
                          "ticks": ""
                        },
                        "type": "mesh3d"
                      }
                    ],
                    "parcoords": [
                      {
                        "line": {
                          "colorbar": {
                            "outlinewidth": 0,
                            "ticks": ""
                          }
                        },
                        "type": "parcoords"
                      }
                    ],
                    "pie": [
                      {
                        "automargin": true,
                        "type": "pie"
                      }
                    ],
                    "scatter": [
                      {
                        "fillpattern": {
                          "fillmode": "overlay",
                          "size": 10,
                          "solidity": 0.2
                        },
                        "type": "scatter"
                      }
                    ],
                    "scatter3d": [
                      {
                        "line": {
                          "colorbar": {
                            "outlinewidth": 0,
                            "ticks": ""
                          }
                        },
                        "marker": {
                          "colorbar": {
                            "outlinewidth": 0,
                            "ticks": ""
                          }
                        },
                        "type": "scatter3d"
                      }
                    ],
                    "scattercarpet": [
                      {
                        "marker": {
                          "colorbar": {
                            "outlinewidth": 0,
                            "ticks": ""
                          }
                        },
                        "type": "scattercarpet"
                      }
                    ],
                    "scattergeo": [
                      {
                        "marker": {
                          "colorbar": {
                            "outlinewidth": 0,
                            "ticks": ""
                          }
                        },
                        "type": "scattergeo"
                      }
                    ],
                    "scattergl": [
                      {
                        "marker": {
                          "colorbar": {
                            "outlinewidth": 0,
                            "ticks": ""
                          }
                        },
                        "type": "scattergl"
                      }
                    ],
                    "scattermapbox": [
                      {
                        "marker": {
                          "colorbar": {
                            "outlinewidth": 0,
                            "ticks": ""
                          }
                        },
                        "type": "scattermapbox"
                      }
                    ],
                    "scatterpolar": [
                      {
                        "marker": {
                          "colorbar": {
                            "outlinewidth": 0,
                            "ticks": ""
                          }
                        },
                        "type": "scatterpolar"
                      }
                    ],
                    "scatterpolargl": [
                      {
                        "marker": {
                          "colorbar": {
                            "outlinewidth": 0,
                            "ticks": ""
                          }
                        },
                        "type": "scatterpolargl"
                      }
                    ],
                    "scatterternary": [
                      {
                        "marker": {
                          "colorbar": {
                            "outlinewidth": 0,
                            "ticks": ""
                          }
                        },
                        "type": "scatterternary"
                      }
                    ],
                    "surface": [
                      {
                        "colorbar": {
                          "outlinewidth": 0,
                          "ticks": ""
                        },
                        "colorscale": [
                          [
                            0,
                            "#0d0887"
                          ],
                          [
                            0.1111111111111111,
                            "#46039f"
                          ],
                          [
                            0.2222222222222222,
                            "#7201a8"
                          ],
                          [
                            0.3333333333333333,
                            "#9c179e"
                          ],
                          [
                            0.4444444444444444,
                            "#bd3786"
                          ],
                          [
                            0.5555555555555556,
                            "#d8576b"
                          ],
                          [
                            0.6666666666666666,
                            "#ed7953"
                          ],
                          [
                            0.7777777777777778,
                            "#fb9f3a"
                          ],
                          [
                            0.8888888888888888,
                            "#fdca26"
                          ],
                          [
                            1,
                            "#f0f921"
                          ]
                        ],
                        "type": "surface"
                      }
                    ],
                    "table": [
                      {
                        "cells": {
                          "fill": {
                            "color": "#EBF0F8"
                          },
                          "line": {
                            "color": "white"
                          }
                        },
                        "header": {
                          "fill": {
                            "color": "#C8D4E3"
                          },
                          "line": {
                            "color": "white"
                          }
                        },
                        "type": "table"
                      }
                    ]
                  },
                  "layout": {
                    "annotationdefaults": {
                      "arrowcolor": "#2a3f5f",
                      "arrowhead": 0,
                      "arrowwidth": 1
                    },
                    "autotypenumbers": "strict",
                    "coloraxis": {
                      "colorbar": {
                        "outlinewidth": 0,
                        "ticks": ""
                      }
                    },
                    "colorscale": {
                      "diverging": [
                        [
                          0,
                          "#8e0152"
                        ],
                        [
                          0.1,
                          "#c51b7d"
                        ],
                        [
                          0.2,
                          "#de77ae"
                        ],
                        [
                          0.3,
                          "#f1b6da"
                        ],
                        [
                          0.4,
                          "#fde0ef"
                        ],
                        [
                          0.5,
                          "#f7f7f7"
                        ],
                        [
                          0.6,
                          "#e6f5d0"
                        ],
                        [
                          0.7,
                          "#b8e186"
                        ],
                        [
                          0.8,
                          "#7fbc41"
                        ],
                        [
                          0.9,
                          "#4d9221"
                        ],
                        [
                          1,
                          "#276419"
                        ]
                      ],
                      "sequential": [
                        [
                          0,
                          "#0d0887"
                        ],
                        [
                          0.1111111111111111,
                          "#46039f"
                        ],
                        [
                          0.2222222222222222,
                          "#7201a8"
                        ],
                        [
                          0.3333333333333333,
                          "#9c179e"
                        ],
                        [
                          0.4444444444444444,
                          "#bd3786"
                        ],
                        [
                          0.5555555555555556,
                          "#d8576b"
                        ],
                        [
                          0.6666666666666666,
                          "#ed7953"
                        ],
                        [
                          0.7777777777777778,
                          "#fb9f3a"
                        ],
                        [
                          0.8888888888888888,
                          "#fdca26"
                        ],
                        [
                          1,
                          "#f0f921"
                        ]
                      ],
                      "sequentialminus": [
                        [
                          0,
                          "#0d0887"
                        ],
                        [
                          0.1111111111111111,
                          "#46039f"
                        ],
                        [
                          0.2222222222222222,
                          "#7201a8"
                        ],
                        [
                          0.3333333333333333,
                          "#9c179e"
                        ],
                        [
                          0.4444444444444444,
                          "#bd3786"
                        ],
                        [
                          0.5555555555555556,
                          "#d8576b"
                        ],
                        [
                          0.6666666666666666,
                          "#ed7953"
                        ],
                        [
                          0.7777777777777778,
                          "#fb9f3a"
                        ],
                        [
                          0.8888888888888888,
                          "#fdca26"
                        ],
                        [
                          1,
                          "#f0f921"
                        ]
                      ]
                    },
                    "colorway": [
                      "#636efa",
                      "#EF553B",
                      "#00cc96",
                      "#ab63fa",
                      "#FFA15A",
                      "#19d3f3",
                      "#FF6692",
                      "#B6E880",
                      "#FF97FF",
                      "#FECB52"
                    ],
                    "font": {
                      "color": "#2a3f5f"
                    },
                    "geo": {
                      "bgcolor": "white",
                      "lakecolor": "white",
                      "landcolor": "#E5ECF6",
                      "showlakes": true,
                      "showland": true,
                      "subunitcolor": "white"
                    },
                    "hoverlabel": {
                      "align": "left"
                    },
                    "hovermode": "closest",
                    "mapbox": {
                      "style": "light"
                    },
                    "paper_bgcolor": "white",
                    "plot_bgcolor": "#E5ECF6",
                    "polar": {
                      "angularaxis": {
                        "gridcolor": "white",
                        "linecolor": "white",
                        "ticks": ""
                      },
                      "bgcolor": "#E5ECF6",
                      "radialaxis": {
                        "gridcolor": "white",
                        "linecolor": "white",
                        "ticks": ""
                      }
                    },
                    "scene": {
                      "xaxis": {
                        "backgroundcolor": "#E5ECF6",
                        "gridcolor": "white",
                        "gridwidth": 2,
                        "linecolor": "white",
                        "showbackground": true,
                        "ticks": "",
                        "zerolinecolor": "white"
                      },
                      "yaxis": {
                        "backgroundcolor": "#E5ECF6",
                        "gridcolor": "white",
                        "gridwidth": 2,
                        "linecolor": "white",
                        "showbackground": true,
                        "ticks": "",
                        "zerolinecolor": "white"
                      },
                      "zaxis": {
                        "backgroundcolor": "#E5ECF6",
                        "gridcolor": "white",
                        "gridwidth": 2,
                        "linecolor": "white",
                        "showbackground": true,
                        "ticks": "",
                        "zerolinecolor": "white"
                      }
                    },
                    "shapedefaults": {
                      "line": {
                        "color": "#2a3f5f"
                      }
                    },
                    "ternary": {
                      "aaxis": {
                        "gridcolor": "white",
                        "linecolor": "white",
                        "ticks": ""
                      },
                      "baxis": {
                        "gridcolor": "white",
                        "linecolor": "white",
                        "ticks": ""
                      },
                      "bgcolor": "#E5ECF6",
                      "caxis": {
                        "gridcolor": "white",
                        "linecolor": "white",
                        "ticks": ""
                      }
                    },
                    "title": {
                      "x": 0.05
                    },
                    "xaxis": {
                      "automargin": true,
                      "gridcolor": "white",
                      "linecolor": "white",
                      "ticks": "",
                      "title": {
                        "standoff": 15
                      },
                      "zerolinecolor": "white",
                      "zerolinewidth": 2
                    },
                    "yaxis": {
                      "automargin": true,
                      "gridcolor": "white",
                      "linecolor": "white",
                      "ticks": "",
                      "title": {
                        "standoff": 15
                      },
                      "zerolinecolor": "white",
                      "zerolinewidth": 2
                    }
                  }
                },
                "title": {
                  "text": "Время обучения для каждой модели"
                },
                "xaxis": {
                  "anchor": "y",
                  "domain": [
                    0,
                    1
                  ],
                  "title": {
                    "text": "Модель"
                  }
                },
                "yaxis": {
                  "anchor": "x",
                  "domain": [
                    0,
                    1
                  ],
                  "title": {
                    "text": "Время обучения (сек)"
                  }
                }
              }
            }
          },
          "metadata": {},
          "output_type": "display_data"
        },
        {
          "data": {
            "application/vnd.plotly.v1+json": {
              "config": {
                "plotlyServerURL": "https://plot.ly"
              },
              "data": [
                {
                  "alignmentgroup": "True",
                  "hovertemplate": "Модель=%{x}<br>Время предсказания (сек)=%{y}<extra></extra>",
                  "legendgroup": "",
                  "marker": {
                    "color": [
                      "blue",
                      "red",
                      "blue",
                      "blue"
                    ],
                    "pattern": {
                      "shape": ""
                    }
                  },
                  "name": "",
                  "offsetgroup": "",
                  "orientation": "v",
                  "showlegend": false,
                  "textposition": "auto",
                  "type": "bar",
                  "x": [
                    "CatBoost",
                    "LightGBM",
                    "XGBoost",
                    "AdaBoost"
                  ],
                  "xaxis": "x",
                  "y": [
                    0.010024309158325195,
                    0.0015654563903808594,
                    0.002000093460083008,
                    0.006155967712402344
                  ],
                  "yaxis": "y"
                }
              ],
              "layout": {
                "barmode": "relative",
                "legend": {
                  "tracegroupgap": 0
                },
                "template": {
                  "data": {
                    "bar": [
                      {
                        "error_x": {
                          "color": "#2a3f5f"
                        },
                        "error_y": {
                          "color": "#2a3f5f"
                        },
                        "marker": {
                          "line": {
                            "color": "#E5ECF6",
                            "width": 0.5
                          },
                          "pattern": {
                            "fillmode": "overlay",
                            "size": 10,
                            "solidity": 0.2
                          }
                        },
                        "type": "bar"
                      }
                    ],
                    "barpolar": [
                      {
                        "marker": {
                          "line": {
                            "color": "#E5ECF6",
                            "width": 0.5
                          },
                          "pattern": {
                            "fillmode": "overlay",
                            "size": 10,
                            "solidity": 0.2
                          }
                        },
                        "type": "barpolar"
                      }
                    ],
                    "carpet": [
                      {
                        "aaxis": {
                          "endlinecolor": "#2a3f5f",
                          "gridcolor": "white",
                          "linecolor": "white",
                          "minorgridcolor": "white",
                          "startlinecolor": "#2a3f5f"
                        },
                        "baxis": {
                          "endlinecolor": "#2a3f5f",
                          "gridcolor": "white",
                          "linecolor": "white",
                          "minorgridcolor": "white",
                          "startlinecolor": "#2a3f5f"
                        },
                        "type": "carpet"
                      }
                    ],
                    "choropleth": [
                      {
                        "colorbar": {
                          "outlinewidth": 0,
                          "ticks": ""
                        },
                        "type": "choropleth"
                      }
                    ],
                    "contour": [
                      {
                        "colorbar": {
                          "outlinewidth": 0,
                          "ticks": ""
                        },
                        "colorscale": [
                          [
                            0,
                            "#0d0887"
                          ],
                          [
                            0.1111111111111111,
                            "#46039f"
                          ],
                          [
                            0.2222222222222222,
                            "#7201a8"
                          ],
                          [
                            0.3333333333333333,
                            "#9c179e"
                          ],
                          [
                            0.4444444444444444,
                            "#bd3786"
                          ],
                          [
                            0.5555555555555556,
                            "#d8576b"
                          ],
                          [
                            0.6666666666666666,
                            "#ed7953"
                          ],
                          [
                            0.7777777777777778,
                            "#fb9f3a"
                          ],
                          [
                            0.8888888888888888,
                            "#fdca26"
                          ],
                          [
                            1,
                            "#f0f921"
                          ]
                        ],
                        "type": "contour"
                      }
                    ],
                    "contourcarpet": [
                      {
                        "colorbar": {
                          "outlinewidth": 0,
                          "ticks": ""
                        },
                        "type": "contourcarpet"
                      }
                    ],
                    "heatmap": [
                      {
                        "colorbar": {
                          "outlinewidth": 0,
                          "ticks": ""
                        },
                        "colorscale": [
                          [
                            0,
                            "#0d0887"
                          ],
                          [
                            0.1111111111111111,
                            "#46039f"
                          ],
                          [
                            0.2222222222222222,
                            "#7201a8"
                          ],
                          [
                            0.3333333333333333,
                            "#9c179e"
                          ],
                          [
                            0.4444444444444444,
                            "#bd3786"
                          ],
                          [
                            0.5555555555555556,
                            "#d8576b"
                          ],
                          [
                            0.6666666666666666,
                            "#ed7953"
                          ],
                          [
                            0.7777777777777778,
                            "#fb9f3a"
                          ],
                          [
                            0.8888888888888888,
                            "#fdca26"
                          ],
                          [
                            1,
                            "#f0f921"
                          ]
                        ],
                        "type": "heatmap"
                      }
                    ],
                    "heatmapgl": [
                      {
                        "colorbar": {
                          "outlinewidth": 0,
                          "ticks": ""
                        },
                        "colorscale": [
                          [
                            0,
                            "#0d0887"
                          ],
                          [
                            0.1111111111111111,
                            "#46039f"
                          ],
                          [
                            0.2222222222222222,
                            "#7201a8"
                          ],
                          [
                            0.3333333333333333,
                            "#9c179e"
                          ],
                          [
                            0.4444444444444444,
                            "#bd3786"
                          ],
                          [
                            0.5555555555555556,
                            "#d8576b"
                          ],
                          [
                            0.6666666666666666,
                            "#ed7953"
                          ],
                          [
                            0.7777777777777778,
                            "#fb9f3a"
                          ],
                          [
                            0.8888888888888888,
                            "#fdca26"
                          ],
                          [
                            1,
                            "#f0f921"
                          ]
                        ],
                        "type": "heatmapgl"
                      }
                    ],
                    "histogram": [
                      {
                        "marker": {
                          "pattern": {
                            "fillmode": "overlay",
                            "size": 10,
                            "solidity": 0.2
                          }
                        },
                        "type": "histogram"
                      }
                    ],
                    "histogram2d": [
                      {
                        "colorbar": {
                          "outlinewidth": 0,
                          "ticks": ""
                        },
                        "colorscale": [
                          [
                            0,
                            "#0d0887"
                          ],
                          [
                            0.1111111111111111,
                            "#46039f"
                          ],
                          [
                            0.2222222222222222,
                            "#7201a8"
                          ],
                          [
                            0.3333333333333333,
                            "#9c179e"
                          ],
                          [
                            0.4444444444444444,
                            "#bd3786"
                          ],
                          [
                            0.5555555555555556,
                            "#d8576b"
                          ],
                          [
                            0.6666666666666666,
                            "#ed7953"
                          ],
                          [
                            0.7777777777777778,
                            "#fb9f3a"
                          ],
                          [
                            0.8888888888888888,
                            "#fdca26"
                          ],
                          [
                            1,
                            "#f0f921"
                          ]
                        ],
                        "type": "histogram2d"
                      }
                    ],
                    "histogram2dcontour": [
                      {
                        "colorbar": {
                          "outlinewidth": 0,
                          "ticks": ""
                        },
                        "colorscale": [
                          [
                            0,
                            "#0d0887"
                          ],
                          [
                            0.1111111111111111,
                            "#46039f"
                          ],
                          [
                            0.2222222222222222,
                            "#7201a8"
                          ],
                          [
                            0.3333333333333333,
                            "#9c179e"
                          ],
                          [
                            0.4444444444444444,
                            "#bd3786"
                          ],
                          [
                            0.5555555555555556,
                            "#d8576b"
                          ],
                          [
                            0.6666666666666666,
                            "#ed7953"
                          ],
                          [
                            0.7777777777777778,
                            "#fb9f3a"
                          ],
                          [
                            0.8888888888888888,
                            "#fdca26"
                          ],
                          [
                            1,
                            "#f0f921"
                          ]
                        ],
                        "type": "histogram2dcontour"
                      }
                    ],
                    "mesh3d": [
                      {
                        "colorbar": {
                          "outlinewidth": 0,
                          "ticks": ""
                        },
                        "type": "mesh3d"
                      }
                    ],
                    "parcoords": [
                      {
                        "line": {
                          "colorbar": {
                            "outlinewidth": 0,
                            "ticks": ""
                          }
                        },
                        "type": "parcoords"
                      }
                    ],
                    "pie": [
                      {
                        "automargin": true,
                        "type": "pie"
                      }
                    ],
                    "scatter": [
                      {
                        "fillpattern": {
                          "fillmode": "overlay",
                          "size": 10,
                          "solidity": 0.2
                        },
                        "type": "scatter"
                      }
                    ],
                    "scatter3d": [
                      {
                        "line": {
                          "colorbar": {
                            "outlinewidth": 0,
                            "ticks": ""
                          }
                        },
                        "marker": {
                          "colorbar": {
                            "outlinewidth": 0,
                            "ticks": ""
                          }
                        },
                        "type": "scatter3d"
                      }
                    ],
                    "scattercarpet": [
                      {
                        "marker": {
                          "colorbar": {
                            "outlinewidth": 0,
                            "ticks": ""
                          }
                        },
                        "type": "scattercarpet"
                      }
                    ],
                    "scattergeo": [
                      {
                        "marker": {
                          "colorbar": {
                            "outlinewidth": 0,
                            "ticks": ""
                          }
                        },
                        "type": "scattergeo"
                      }
                    ],
                    "scattergl": [
                      {
                        "marker": {
                          "colorbar": {
                            "outlinewidth": 0,
                            "ticks": ""
                          }
                        },
                        "type": "scattergl"
                      }
                    ],
                    "scattermapbox": [
                      {
                        "marker": {
                          "colorbar": {
                            "outlinewidth": 0,
                            "ticks": ""
                          }
                        },
                        "type": "scattermapbox"
                      }
                    ],
                    "scatterpolar": [
                      {
                        "marker": {
                          "colorbar": {
                            "outlinewidth": 0,
                            "ticks": ""
                          }
                        },
                        "type": "scatterpolar"
                      }
                    ],
                    "scatterpolargl": [
                      {
                        "marker": {
                          "colorbar": {
                            "outlinewidth": 0,
                            "ticks": ""
                          }
                        },
                        "type": "scatterpolargl"
                      }
                    ],
                    "scatterternary": [
                      {
                        "marker": {
                          "colorbar": {
                            "outlinewidth": 0,
                            "ticks": ""
                          }
                        },
                        "type": "scatterternary"
                      }
                    ],
                    "surface": [
                      {
                        "colorbar": {
                          "outlinewidth": 0,
                          "ticks": ""
                        },
                        "colorscale": [
                          [
                            0,
                            "#0d0887"
                          ],
                          [
                            0.1111111111111111,
                            "#46039f"
                          ],
                          [
                            0.2222222222222222,
                            "#7201a8"
                          ],
                          [
                            0.3333333333333333,
                            "#9c179e"
                          ],
                          [
                            0.4444444444444444,
                            "#bd3786"
                          ],
                          [
                            0.5555555555555556,
                            "#d8576b"
                          ],
                          [
                            0.6666666666666666,
                            "#ed7953"
                          ],
                          [
                            0.7777777777777778,
                            "#fb9f3a"
                          ],
                          [
                            0.8888888888888888,
                            "#fdca26"
                          ],
                          [
                            1,
                            "#f0f921"
                          ]
                        ],
                        "type": "surface"
                      }
                    ],
                    "table": [
                      {
                        "cells": {
                          "fill": {
                            "color": "#EBF0F8"
                          },
                          "line": {
                            "color": "white"
                          }
                        },
                        "header": {
                          "fill": {
                            "color": "#C8D4E3"
                          },
                          "line": {
                            "color": "white"
                          }
                        },
                        "type": "table"
                      }
                    ]
                  },
                  "layout": {
                    "annotationdefaults": {
                      "arrowcolor": "#2a3f5f",
                      "arrowhead": 0,
                      "arrowwidth": 1
                    },
                    "autotypenumbers": "strict",
                    "coloraxis": {
                      "colorbar": {
                        "outlinewidth": 0,
                        "ticks": ""
                      }
                    },
                    "colorscale": {
                      "diverging": [
                        [
                          0,
                          "#8e0152"
                        ],
                        [
                          0.1,
                          "#c51b7d"
                        ],
                        [
                          0.2,
                          "#de77ae"
                        ],
                        [
                          0.3,
                          "#f1b6da"
                        ],
                        [
                          0.4,
                          "#fde0ef"
                        ],
                        [
                          0.5,
                          "#f7f7f7"
                        ],
                        [
                          0.6,
                          "#e6f5d0"
                        ],
                        [
                          0.7,
                          "#b8e186"
                        ],
                        [
                          0.8,
                          "#7fbc41"
                        ],
                        [
                          0.9,
                          "#4d9221"
                        ],
                        [
                          1,
                          "#276419"
                        ]
                      ],
                      "sequential": [
                        [
                          0,
                          "#0d0887"
                        ],
                        [
                          0.1111111111111111,
                          "#46039f"
                        ],
                        [
                          0.2222222222222222,
                          "#7201a8"
                        ],
                        [
                          0.3333333333333333,
                          "#9c179e"
                        ],
                        [
                          0.4444444444444444,
                          "#bd3786"
                        ],
                        [
                          0.5555555555555556,
                          "#d8576b"
                        ],
                        [
                          0.6666666666666666,
                          "#ed7953"
                        ],
                        [
                          0.7777777777777778,
                          "#fb9f3a"
                        ],
                        [
                          0.8888888888888888,
                          "#fdca26"
                        ],
                        [
                          1,
                          "#f0f921"
                        ]
                      ],
                      "sequentialminus": [
                        [
                          0,
                          "#0d0887"
                        ],
                        [
                          0.1111111111111111,
                          "#46039f"
                        ],
                        [
                          0.2222222222222222,
                          "#7201a8"
                        ],
                        [
                          0.3333333333333333,
                          "#9c179e"
                        ],
                        [
                          0.4444444444444444,
                          "#bd3786"
                        ],
                        [
                          0.5555555555555556,
                          "#d8576b"
                        ],
                        [
                          0.6666666666666666,
                          "#ed7953"
                        ],
                        [
                          0.7777777777777778,
                          "#fb9f3a"
                        ],
                        [
                          0.8888888888888888,
                          "#fdca26"
                        ],
                        [
                          1,
                          "#f0f921"
                        ]
                      ]
                    },
                    "colorway": [
                      "#636efa",
                      "#EF553B",
                      "#00cc96",
                      "#ab63fa",
                      "#FFA15A",
                      "#19d3f3",
                      "#FF6692",
                      "#B6E880",
                      "#FF97FF",
                      "#FECB52"
                    ],
                    "font": {
                      "color": "#2a3f5f"
                    },
                    "geo": {
                      "bgcolor": "white",
                      "lakecolor": "white",
                      "landcolor": "#E5ECF6",
                      "showlakes": true,
                      "showland": true,
                      "subunitcolor": "white"
                    },
                    "hoverlabel": {
                      "align": "left"
                    },
                    "hovermode": "closest",
                    "mapbox": {
                      "style": "light"
                    },
                    "paper_bgcolor": "white",
                    "plot_bgcolor": "#E5ECF6",
                    "polar": {
                      "angularaxis": {
                        "gridcolor": "white",
                        "linecolor": "white",
                        "ticks": ""
                      },
                      "bgcolor": "#E5ECF6",
                      "radialaxis": {
                        "gridcolor": "white",
                        "linecolor": "white",
                        "ticks": ""
                      }
                    },
                    "scene": {
                      "xaxis": {
                        "backgroundcolor": "#E5ECF6",
                        "gridcolor": "white",
                        "gridwidth": 2,
                        "linecolor": "white",
                        "showbackground": true,
                        "ticks": "",
                        "zerolinecolor": "white"
                      },
                      "yaxis": {
                        "backgroundcolor": "#E5ECF6",
                        "gridcolor": "white",
                        "gridwidth": 2,
                        "linecolor": "white",
                        "showbackground": true,
                        "ticks": "",
                        "zerolinecolor": "white"
                      },
                      "zaxis": {
                        "backgroundcolor": "#E5ECF6",
                        "gridcolor": "white",
                        "gridwidth": 2,
                        "linecolor": "white",
                        "showbackground": true,
                        "ticks": "",
                        "zerolinecolor": "white"
                      }
                    },
                    "shapedefaults": {
                      "line": {
                        "color": "#2a3f5f"
                      }
                    },
                    "ternary": {
                      "aaxis": {
                        "gridcolor": "white",
                        "linecolor": "white",
                        "ticks": ""
                      },
                      "baxis": {
                        "gridcolor": "white",
                        "linecolor": "white",
                        "ticks": ""
                      },
                      "bgcolor": "#E5ECF6",
                      "caxis": {
                        "gridcolor": "white",
                        "linecolor": "white",
                        "ticks": ""
                      }
                    },
                    "title": {
                      "x": 0.05
                    },
                    "xaxis": {
                      "automargin": true,
                      "gridcolor": "white",
                      "linecolor": "white",
                      "ticks": "",
                      "title": {
                        "standoff": 15
                      },
                      "zerolinecolor": "white",
                      "zerolinewidth": 2
                    },
                    "yaxis": {
                      "automargin": true,
                      "gridcolor": "white",
                      "linecolor": "white",
                      "ticks": "",
                      "title": {
                        "standoff": 15
                      },
                      "zerolinecolor": "white",
                      "zerolinewidth": 2
                    }
                  }
                },
                "title": {
                  "text": "Время предсказания для каждой модели"
                },
                "xaxis": {
                  "anchor": "y",
                  "domain": [
                    0,
                    1
                  ],
                  "title": {
                    "text": "Модель"
                  }
                },
                "yaxis": {
                  "anchor": "x",
                  "domain": [
                    0,
                    1
                  ],
                  "title": {
                    "text": "Время предсказания (сек)"
                  }
                }
              }
            }
          },
          "metadata": {},
          "output_type": "display_data"
        }
      ],
      "source": [
        "import plotly.express as px\n",
        "\n",
        "model_names = list(results.keys())\n",
        "training_times = [result[\"Training Time\"] for result in results.values()]\n",
        "prediction_times = [result[\"Prediction Time\"] for result in results.values()]\n",
        "\n",
        "fig_training = px.bar(x=model_names, y=training_times, labels={\"x\": \"Модель\", \"y\": \"Время обучения (сек)\"}, \n",
        "                      title=\"Время обучения для каждой модели\")\n",
        "fig_training.update_traces(marker=dict(color=['red' if t == min(training_times) else 'blue' for t in training_times]))\n",
        "\n",
        "fig_prediction = px.bar(x=model_names, y=prediction_times, labels={\"x\": \"Модель\", \"y\": \"Время предсказания (сек)\"}, \n",
        "                        title=\"Время предсказания для каждой модели\")\n",
        "fig_prediction.update_traces(marker=dict(color=['red' if t == min(prediction_times) else 'blue' for t in prediction_times]))\n",
        "\n",
        "fig_training.show()\n",
        "fig_prediction.show()\n",
        "\n"
      ]
    },
    {
      "cell_type": "markdown",
      "metadata": {},
      "source": [
        "# Беседуя о точности"
      ]
    },
    {
      "cell_type": "code",
      "execution_count": 187,
      "metadata": {},
      "outputs": [
        {
          "data": {
            "application/vnd.plotly.v1+json": {
              "config": {
                "plotlyServerURL": "https://plot.ly"
              },
              "data": [
                {
                  "alignmentgroup": "True",
                  "hovertemplate": "Модель=%{x}<br>Точность=%{y}<extra></extra>",
                  "legendgroup": "",
                  "marker": {
                    "color": [
                      "red",
                      "blue",
                      "blue",
                      "blue"
                    ],
                    "pattern": {
                      "shape": ""
                    }
                  },
                  "name": "",
                  "offsetgroup": "",
                  "orientation": "v",
                  "showlegend": false,
                  "textposition": "auto",
                  "type": "bar",
                  "x": [
                    "CatBoost",
                    "LightGBM",
                    "XGBoost",
                    "AdaBoost"
                  ],
                  "xaxis": "x",
                  "y": [
                    0.6753515948412365,
                    0.5900356536659036,
                    0.44987655840673046,
                    0.4931186093333332
                  ],
                  "yaxis": "y"
                }
              ],
              "layout": {
                "barmode": "relative",
                "legend": {
                  "tracegroupgap": 0
                },
                "template": {
                  "data": {
                    "bar": [
                      {
                        "error_x": {
                          "color": "#2a3f5f"
                        },
                        "error_y": {
                          "color": "#2a3f5f"
                        },
                        "marker": {
                          "line": {
                            "color": "#E5ECF6",
                            "width": 0.5
                          },
                          "pattern": {
                            "fillmode": "overlay",
                            "size": 10,
                            "solidity": 0.2
                          }
                        },
                        "type": "bar"
                      }
                    ],
                    "barpolar": [
                      {
                        "marker": {
                          "line": {
                            "color": "#E5ECF6",
                            "width": 0.5
                          },
                          "pattern": {
                            "fillmode": "overlay",
                            "size": 10,
                            "solidity": 0.2
                          }
                        },
                        "type": "barpolar"
                      }
                    ],
                    "carpet": [
                      {
                        "aaxis": {
                          "endlinecolor": "#2a3f5f",
                          "gridcolor": "white",
                          "linecolor": "white",
                          "minorgridcolor": "white",
                          "startlinecolor": "#2a3f5f"
                        },
                        "baxis": {
                          "endlinecolor": "#2a3f5f",
                          "gridcolor": "white",
                          "linecolor": "white",
                          "minorgridcolor": "white",
                          "startlinecolor": "#2a3f5f"
                        },
                        "type": "carpet"
                      }
                    ],
                    "choropleth": [
                      {
                        "colorbar": {
                          "outlinewidth": 0,
                          "ticks": ""
                        },
                        "type": "choropleth"
                      }
                    ],
                    "contour": [
                      {
                        "colorbar": {
                          "outlinewidth": 0,
                          "ticks": ""
                        },
                        "colorscale": [
                          [
                            0,
                            "#0d0887"
                          ],
                          [
                            0.1111111111111111,
                            "#46039f"
                          ],
                          [
                            0.2222222222222222,
                            "#7201a8"
                          ],
                          [
                            0.3333333333333333,
                            "#9c179e"
                          ],
                          [
                            0.4444444444444444,
                            "#bd3786"
                          ],
                          [
                            0.5555555555555556,
                            "#d8576b"
                          ],
                          [
                            0.6666666666666666,
                            "#ed7953"
                          ],
                          [
                            0.7777777777777778,
                            "#fb9f3a"
                          ],
                          [
                            0.8888888888888888,
                            "#fdca26"
                          ],
                          [
                            1,
                            "#f0f921"
                          ]
                        ],
                        "type": "contour"
                      }
                    ],
                    "contourcarpet": [
                      {
                        "colorbar": {
                          "outlinewidth": 0,
                          "ticks": ""
                        },
                        "type": "contourcarpet"
                      }
                    ],
                    "heatmap": [
                      {
                        "colorbar": {
                          "outlinewidth": 0,
                          "ticks": ""
                        },
                        "colorscale": [
                          [
                            0,
                            "#0d0887"
                          ],
                          [
                            0.1111111111111111,
                            "#46039f"
                          ],
                          [
                            0.2222222222222222,
                            "#7201a8"
                          ],
                          [
                            0.3333333333333333,
                            "#9c179e"
                          ],
                          [
                            0.4444444444444444,
                            "#bd3786"
                          ],
                          [
                            0.5555555555555556,
                            "#d8576b"
                          ],
                          [
                            0.6666666666666666,
                            "#ed7953"
                          ],
                          [
                            0.7777777777777778,
                            "#fb9f3a"
                          ],
                          [
                            0.8888888888888888,
                            "#fdca26"
                          ],
                          [
                            1,
                            "#f0f921"
                          ]
                        ],
                        "type": "heatmap"
                      }
                    ],
                    "heatmapgl": [
                      {
                        "colorbar": {
                          "outlinewidth": 0,
                          "ticks": ""
                        },
                        "colorscale": [
                          [
                            0,
                            "#0d0887"
                          ],
                          [
                            0.1111111111111111,
                            "#46039f"
                          ],
                          [
                            0.2222222222222222,
                            "#7201a8"
                          ],
                          [
                            0.3333333333333333,
                            "#9c179e"
                          ],
                          [
                            0.4444444444444444,
                            "#bd3786"
                          ],
                          [
                            0.5555555555555556,
                            "#d8576b"
                          ],
                          [
                            0.6666666666666666,
                            "#ed7953"
                          ],
                          [
                            0.7777777777777778,
                            "#fb9f3a"
                          ],
                          [
                            0.8888888888888888,
                            "#fdca26"
                          ],
                          [
                            1,
                            "#f0f921"
                          ]
                        ],
                        "type": "heatmapgl"
                      }
                    ],
                    "histogram": [
                      {
                        "marker": {
                          "pattern": {
                            "fillmode": "overlay",
                            "size": 10,
                            "solidity": 0.2
                          }
                        },
                        "type": "histogram"
                      }
                    ],
                    "histogram2d": [
                      {
                        "colorbar": {
                          "outlinewidth": 0,
                          "ticks": ""
                        },
                        "colorscale": [
                          [
                            0,
                            "#0d0887"
                          ],
                          [
                            0.1111111111111111,
                            "#46039f"
                          ],
                          [
                            0.2222222222222222,
                            "#7201a8"
                          ],
                          [
                            0.3333333333333333,
                            "#9c179e"
                          ],
                          [
                            0.4444444444444444,
                            "#bd3786"
                          ],
                          [
                            0.5555555555555556,
                            "#d8576b"
                          ],
                          [
                            0.6666666666666666,
                            "#ed7953"
                          ],
                          [
                            0.7777777777777778,
                            "#fb9f3a"
                          ],
                          [
                            0.8888888888888888,
                            "#fdca26"
                          ],
                          [
                            1,
                            "#f0f921"
                          ]
                        ],
                        "type": "histogram2d"
                      }
                    ],
                    "histogram2dcontour": [
                      {
                        "colorbar": {
                          "outlinewidth": 0,
                          "ticks": ""
                        },
                        "colorscale": [
                          [
                            0,
                            "#0d0887"
                          ],
                          [
                            0.1111111111111111,
                            "#46039f"
                          ],
                          [
                            0.2222222222222222,
                            "#7201a8"
                          ],
                          [
                            0.3333333333333333,
                            "#9c179e"
                          ],
                          [
                            0.4444444444444444,
                            "#bd3786"
                          ],
                          [
                            0.5555555555555556,
                            "#d8576b"
                          ],
                          [
                            0.6666666666666666,
                            "#ed7953"
                          ],
                          [
                            0.7777777777777778,
                            "#fb9f3a"
                          ],
                          [
                            0.8888888888888888,
                            "#fdca26"
                          ],
                          [
                            1,
                            "#f0f921"
                          ]
                        ],
                        "type": "histogram2dcontour"
                      }
                    ],
                    "mesh3d": [
                      {
                        "colorbar": {
                          "outlinewidth": 0,
                          "ticks": ""
                        },
                        "type": "mesh3d"
                      }
                    ],
                    "parcoords": [
                      {
                        "line": {
                          "colorbar": {
                            "outlinewidth": 0,
                            "ticks": ""
                          }
                        },
                        "type": "parcoords"
                      }
                    ],
                    "pie": [
                      {
                        "automargin": true,
                        "type": "pie"
                      }
                    ],
                    "scatter": [
                      {
                        "fillpattern": {
                          "fillmode": "overlay",
                          "size": 10,
                          "solidity": 0.2
                        },
                        "type": "scatter"
                      }
                    ],
                    "scatter3d": [
                      {
                        "line": {
                          "colorbar": {
                            "outlinewidth": 0,
                            "ticks": ""
                          }
                        },
                        "marker": {
                          "colorbar": {
                            "outlinewidth": 0,
                            "ticks": ""
                          }
                        },
                        "type": "scatter3d"
                      }
                    ],
                    "scattercarpet": [
                      {
                        "marker": {
                          "colorbar": {
                            "outlinewidth": 0,
                            "ticks": ""
                          }
                        },
                        "type": "scattercarpet"
                      }
                    ],
                    "scattergeo": [
                      {
                        "marker": {
                          "colorbar": {
                            "outlinewidth": 0,
                            "ticks": ""
                          }
                        },
                        "type": "scattergeo"
                      }
                    ],
                    "scattergl": [
                      {
                        "marker": {
                          "colorbar": {
                            "outlinewidth": 0,
                            "ticks": ""
                          }
                        },
                        "type": "scattergl"
                      }
                    ],
                    "scattermapbox": [
                      {
                        "marker": {
                          "colorbar": {
                            "outlinewidth": 0,
                            "ticks": ""
                          }
                        },
                        "type": "scattermapbox"
                      }
                    ],
                    "scatterpolar": [
                      {
                        "marker": {
                          "colorbar": {
                            "outlinewidth": 0,
                            "ticks": ""
                          }
                        },
                        "type": "scatterpolar"
                      }
                    ],
                    "scatterpolargl": [
                      {
                        "marker": {
                          "colorbar": {
                            "outlinewidth": 0,
                            "ticks": ""
                          }
                        },
                        "type": "scatterpolargl"
                      }
                    ],
                    "scatterternary": [
                      {
                        "marker": {
                          "colorbar": {
                            "outlinewidth": 0,
                            "ticks": ""
                          }
                        },
                        "type": "scatterternary"
                      }
                    ],
                    "surface": [
                      {
                        "colorbar": {
                          "outlinewidth": 0,
                          "ticks": ""
                        },
                        "colorscale": [
                          [
                            0,
                            "#0d0887"
                          ],
                          [
                            0.1111111111111111,
                            "#46039f"
                          ],
                          [
                            0.2222222222222222,
                            "#7201a8"
                          ],
                          [
                            0.3333333333333333,
                            "#9c179e"
                          ],
                          [
                            0.4444444444444444,
                            "#bd3786"
                          ],
                          [
                            0.5555555555555556,
                            "#d8576b"
                          ],
                          [
                            0.6666666666666666,
                            "#ed7953"
                          ],
                          [
                            0.7777777777777778,
                            "#fb9f3a"
                          ],
                          [
                            0.8888888888888888,
                            "#fdca26"
                          ],
                          [
                            1,
                            "#f0f921"
                          ]
                        ],
                        "type": "surface"
                      }
                    ],
                    "table": [
                      {
                        "cells": {
                          "fill": {
                            "color": "#EBF0F8"
                          },
                          "line": {
                            "color": "white"
                          }
                        },
                        "header": {
                          "fill": {
                            "color": "#C8D4E3"
                          },
                          "line": {
                            "color": "white"
                          }
                        },
                        "type": "table"
                      }
                    ]
                  },
                  "layout": {
                    "annotationdefaults": {
                      "arrowcolor": "#2a3f5f",
                      "arrowhead": 0,
                      "arrowwidth": 1
                    },
                    "autotypenumbers": "strict",
                    "coloraxis": {
                      "colorbar": {
                        "outlinewidth": 0,
                        "ticks": ""
                      }
                    },
                    "colorscale": {
                      "diverging": [
                        [
                          0,
                          "#8e0152"
                        ],
                        [
                          0.1,
                          "#c51b7d"
                        ],
                        [
                          0.2,
                          "#de77ae"
                        ],
                        [
                          0.3,
                          "#f1b6da"
                        ],
                        [
                          0.4,
                          "#fde0ef"
                        ],
                        [
                          0.5,
                          "#f7f7f7"
                        ],
                        [
                          0.6,
                          "#e6f5d0"
                        ],
                        [
                          0.7,
                          "#b8e186"
                        ],
                        [
                          0.8,
                          "#7fbc41"
                        ],
                        [
                          0.9,
                          "#4d9221"
                        ],
                        [
                          1,
                          "#276419"
                        ]
                      ],
                      "sequential": [
                        [
                          0,
                          "#0d0887"
                        ],
                        [
                          0.1111111111111111,
                          "#46039f"
                        ],
                        [
                          0.2222222222222222,
                          "#7201a8"
                        ],
                        [
                          0.3333333333333333,
                          "#9c179e"
                        ],
                        [
                          0.4444444444444444,
                          "#bd3786"
                        ],
                        [
                          0.5555555555555556,
                          "#d8576b"
                        ],
                        [
                          0.6666666666666666,
                          "#ed7953"
                        ],
                        [
                          0.7777777777777778,
                          "#fb9f3a"
                        ],
                        [
                          0.8888888888888888,
                          "#fdca26"
                        ],
                        [
                          1,
                          "#f0f921"
                        ]
                      ],
                      "sequentialminus": [
                        [
                          0,
                          "#0d0887"
                        ],
                        [
                          0.1111111111111111,
                          "#46039f"
                        ],
                        [
                          0.2222222222222222,
                          "#7201a8"
                        ],
                        [
                          0.3333333333333333,
                          "#9c179e"
                        ],
                        [
                          0.4444444444444444,
                          "#bd3786"
                        ],
                        [
                          0.5555555555555556,
                          "#d8576b"
                        ],
                        [
                          0.6666666666666666,
                          "#ed7953"
                        ],
                        [
                          0.7777777777777778,
                          "#fb9f3a"
                        ],
                        [
                          0.8888888888888888,
                          "#fdca26"
                        ],
                        [
                          1,
                          "#f0f921"
                        ]
                      ]
                    },
                    "colorway": [
                      "#636efa",
                      "#EF553B",
                      "#00cc96",
                      "#ab63fa",
                      "#FFA15A",
                      "#19d3f3",
                      "#FF6692",
                      "#B6E880",
                      "#FF97FF",
                      "#FECB52"
                    ],
                    "font": {
                      "color": "#2a3f5f"
                    },
                    "geo": {
                      "bgcolor": "white",
                      "lakecolor": "white",
                      "landcolor": "#E5ECF6",
                      "showlakes": true,
                      "showland": true,
                      "subunitcolor": "white"
                    },
                    "hoverlabel": {
                      "align": "left"
                    },
                    "hovermode": "closest",
                    "mapbox": {
                      "style": "light"
                    },
                    "paper_bgcolor": "white",
                    "plot_bgcolor": "#E5ECF6",
                    "polar": {
                      "angularaxis": {
                        "gridcolor": "white",
                        "linecolor": "white",
                        "ticks": ""
                      },
                      "bgcolor": "#E5ECF6",
                      "radialaxis": {
                        "gridcolor": "white",
                        "linecolor": "white",
                        "ticks": ""
                      }
                    },
                    "scene": {
                      "xaxis": {
                        "backgroundcolor": "#E5ECF6",
                        "gridcolor": "white",
                        "gridwidth": 2,
                        "linecolor": "white",
                        "showbackground": true,
                        "ticks": "",
                        "zerolinecolor": "white"
                      },
                      "yaxis": {
                        "backgroundcolor": "#E5ECF6",
                        "gridcolor": "white",
                        "gridwidth": 2,
                        "linecolor": "white",
                        "showbackground": true,
                        "ticks": "",
                        "zerolinecolor": "white"
                      },
                      "zaxis": {
                        "backgroundcolor": "#E5ECF6",
                        "gridcolor": "white",
                        "gridwidth": 2,
                        "linecolor": "white",
                        "showbackground": true,
                        "ticks": "",
                        "zerolinecolor": "white"
                      }
                    },
                    "shapedefaults": {
                      "line": {
                        "color": "#2a3f5f"
                      }
                    },
                    "ternary": {
                      "aaxis": {
                        "gridcolor": "white",
                        "linecolor": "white",
                        "ticks": ""
                      },
                      "baxis": {
                        "gridcolor": "white",
                        "linecolor": "white",
                        "ticks": ""
                      },
                      "bgcolor": "#E5ECF6",
                      "caxis": {
                        "gridcolor": "white",
                        "linecolor": "white",
                        "ticks": ""
                      }
                    },
                    "title": {
                      "x": 0.05
                    },
                    "xaxis": {
                      "automargin": true,
                      "gridcolor": "white",
                      "linecolor": "white",
                      "ticks": "",
                      "title": {
                        "standoff": 15
                      },
                      "zerolinecolor": "white",
                      "zerolinewidth": 2
                    },
                    "yaxis": {
                      "automargin": true,
                      "gridcolor": "white",
                      "linecolor": "white",
                      "ticks": "",
                      "title": {
                        "standoff": 15
                      },
                      "zerolinecolor": "white",
                      "zerolinewidth": 2
                    }
                  }
                },
                "title": {
                  "text": "Точность каждой модели R^2"
                },
                "xaxis": {
                  "anchor": "y",
                  "domain": [
                    0,
                    1
                  ],
                  "title": {
                    "text": "Модель"
                  }
                },
                "yaxis": {
                  "anchor": "x",
                  "domain": [
                    0,
                    1
                  ],
                  "title": {
                    "text": "Точность"
                  }
                }
              }
            }
          },
          "metadata": {},
          "output_type": "display_data"
        }
      ],
      "source": [
        "import plotly.express as px\n",
        "\n",
        "accuracies = [result[\"R^2\"] for result in results.values()]\n",
        "model_names = list(results.keys())\n",
        "\n",
        "best_r2_idx = accuracies.index(max(accuracies))\n",
        "\n",
        "fig = px.bar(x=model_names, y=accuracies, labels={\"x\": \"Модель\", \"y\": \"Точность\"}, \n",
        "             title=\"Точность каждой модели R^2\")\n",
        "\n",
        "# Присваиваем красный цвет лучшей модели\n",
        "fig.update_traces(marker_color=['red' if i == best_r2_idx else 'blue' for i in range(len(model_names))])\n",
        "\n",
        "fig.show()\n",
        "\n"
      ]
    },
    {
      "cell_type": "code",
      "execution_count": 190,
      "metadata": {},
      "outputs": [
        {
          "data": {
            "application/vnd.plotly.v1+json": {
              "config": {
                "plotlyServerURL": "https://plot.ly"
              },
              "data": [
                {
                  "alignmentgroup": "True",
                  "hovertemplate": "Модель=%{x}<br>Точность=%{y}<extra></extra>",
                  "legendgroup": "",
                  "marker": {
                    "color": [
                      "red",
                      "blue",
                      "blue",
                      "blue"
                    ],
                    "pattern": {
                      "shape": ""
                    }
                  },
                  "name": "",
                  "offsetgroup": "",
                  "orientation": "v",
                  "showlegend": false,
                  "textposition": "auto",
                  "type": "bar",
                  "x": [
                    "CatBoost",
                    "LightGBM",
                    "XGBoost",
                    "AdaBoost"
                  ],
                  "xaxis": "x",
                  "y": [
                    5.245954216038829,
                    5.654359154616126,
                    6.55089710354805,
                    6.921207374659874
                  ],
                  "yaxis": "y"
                }
              ],
              "layout": {
                "barmode": "relative",
                "legend": {
                  "tracegroupgap": 0
                },
                "template": {
                  "data": {
                    "bar": [
                      {
                        "error_x": {
                          "color": "#2a3f5f"
                        },
                        "error_y": {
                          "color": "#2a3f5f"
                        },
                        "marker": {
                          "line": {
                            "color": "#E5ECF6",
                            "width": 0.5
                          },
                          "pattern": {
                            "fillmode": "overlay",
                            "size": 10,
                            "solidity": 0.2
                          }
                        },
                        "type": "bar"
                      }
                    ],
                    "barpolar": [
                      {
                        "marker": {
                          "line": {
                            "color": "#E5ECF6",
                            "width": 0.5
                          },
                          "pattern": {
                            "fillmode": "overlay",
                            "size": 10,
                            "solidity": 0.2
                          }
                        },
                        "type": "barpolar"
                      }
                    ],
                    "carpet": [
                      {
                        "aaxis": {
                          "endlinecolor": "#2a3f5f",
                          "gridcolor": "white",
                          "linecolor": "white",
                          "minorgridcolor": "white",
                          "startlinecolor": "#2a3f5f"
                        },
                        "baxis": {
                          "endlinecolor": "#2a3f5f",
                          "gridcolor": "white",
                          "linecolor": "white",
                          "minorgridcolor": "white",
                          "startlinecolor": "#2a3f5f"
                        },
                        "type": "carpet"
                      }
                    ],
                    "choropleth": [
                      {
                        "colorbar": {
                          "outlinewidth": 0,
                          "ticks": ""
                        },
                        "type": "choropleth"
                      }
                    ],
                    "contour": [
                      {
                        "colorbar": {
                          "outlinewidth": 0,
                          "ticks": ""
                        },
                        "colorscale": [
                          [
                            0,
                            "#0d0887"
                          ],
                          [
                            0.1111111111111111,
                            "#46039f"
                          ],
                          [
                            0.2222222222222222,
                            "#7201a8"
                          ],
                          [
                            0.3333333333333333,
                            "#9c179e"
                          ],
                          [
                            0.4444444444444444,
                            "#bd3786"
                          ],
                          [
                            0.5555555555555556,
                            "#d8576b"
                          ],
                          [
                            0.6666666666666666,
                            "#ed7953"
                          ],
                          [
                            0.7777777777777778,
                            "#fb9f3a"
                          ],
                          [
                            0.8888888888888888,
                            "#fdca26"
                          ],
                          [
                            1,
                            "#f0f921"
                          ]
                        ],
                        "type": "contour"
                      }
                    ],
                    "contourcarpet": [
                      {
                        "colorbar": {
                          "outlinewidth": 0,
                          "ticks": ""
                        },
                        "type": "contourcarpet"
                      }
                    ],
                    "heatmap": [
                      {
                        "colorbar": {
                          "outlinewidth": 0,
                          "ticks": ""
                        },
                        "colorscale": [
                          [
                            0,
                            "#0d0887"
                          ],
                          [
                            0.1111111111111111,
                            "#46039f"
                          ],
                          [
                            0.2222222222222222,
                            "#7201a8"
                          ],
                          [
                            0.3333333333333333,
                            "#9c179e"
                          ],
                          [
                            0.4444444444444444,
                            "#bd3786"
                          ],
                          [
                            0.5555555555555556,
                            "#d8576b"
                          ],
                          [
                            0.6666666666666666,
                            "#ed7953"
                          ],
                          [
                            0.7777777777777778,
                            "#fb9f3a"
                          ],
                          [
                            0.8888888888888888,
                            "#fdca26"
                          ],
                          [
                            1,
                            "#f0f921"
                          ]
                        ],
                        "type": "heatmap"
                      }
                    ],
                    "heatmapgl": [
                      {
                        "colorbar": {
                          "outlinewidth": 0,
                          "ticks": ""
                        },
                        "colorscale": [
                          [
                            0,
                            "#0d0887"
                          ],
                          [
                            0.1111111111111111,
                            "#46039f"
                          ],
                          [
                            0.2222222222222222,
                            "#7201a8"
                          ],
                          [
                            0.3333333333333333,
                            "#9c179e"
                          ],
                          [
                            0.4444444444444444,
                            "#bd3786"
                          ],
                          [
                            0.5555555555555556,
                            "#d8576b"
                          ],
                          [
                            0.6666666666666666,
                            "#ed7953"
                          ],
                          [
                            0.7777777777777778,
                            "#fb9f3a"
                          ],
                          [
                            0.8888888888888888,
                            "#fdca26"
                          ],
                          [
                            1,
                            "#f0f921"
                          ]
                        ],
                        "type": "heatmapgl"
                      }
                    ],
                    "histogram": [
                      {
                        "marker": {
                          "pattern": {
                            "fillmode": "overlay",
                            "size": 10,
                            "solidity": 0.2
                          }
                        },
                        "type": "histogram"
                      }
                    ],
                    "histogram2d": [
                      {
                        "colorbar": {
                          "outlinewidth": 0,
                          "ticks": ""
                        },
                        "colorscale": [
                          [
                            0,
                            "#0d0887"
                          ],
                          [
                            0.1111111111111111,
                            "#46039f"
                          ],
                          [
                            0.2222222222222222,
                            "#7201a8"
                          ],
                          [
                            0.3333333333333333,
                            "#9c179e"
                          ],
                          [
                            0.4444444444444444,
                            "#bd3786"
                          ],
                          [
                            0.5555555555555556,
                            "#d8576b"
                          ],
                          [
                            0.6666666666666666,
                            "#ed7953"
                          ],
                          [
                            0.7777777777777778,
                            "#fb9f3a"
                          ],
                          [
                            0.8888888888888888,
                            "#fdca26"
                          ],
                          [
                            1,
                            "#f0f921"
                          ]
                        ],
                        "type": "histogram2d"
                      }
                    ],
                    "histogram2dcontour": [
                      {
                        "colorbar": {
                          "outlinewidth": 0,
                          "ticks": ""
                        },
                        "colorscale": [
                          [
                            0,
                            "#0d0887"
                          ],
                          [
                            0.1111111111111111,
                            "#46039f"
                          ],
                          [
                            0.2222222222222222,
                            "#7201a8"
                          ],
                          [
                            0.3333333333333333,
                            "#9c179e"
                          ],
                          [
                            0.4444444444444444,
                            "#bd3786"
                          ],
                          [
                            0.5555555555555556,
                            "#d8576b"
                          ],
                          [
                            0.6666666666666666,
                            "#ed7953"
                          ],
                          [
                            0.7777777777777778,
                            "#fb9f3a"
                          ],
                          [
                            0.8888888888888888,
                            "#fdca26"
                          ],
                          [
                            1,
                            "#f0f921"
                          ]
                        ],
                        "type": "histogram2dcontour"
                      }
                    ],
                    "mesh3d": [
                      {
                        "colorbar": {
                          "outlinewidth": 0,
                          "ticks": ""
                        },
                        "type": "mesh3d"
                      }
                    ],
                    "parcoords": [
                      {
                        "line": {
                          "colorbar": {
                            "outlinewidth": 0,
                            "ticks": ""
                          }
                        },
                        "type": "parcoords"
                      }
                    ],
                    "pie": [
                      {
                        "automargin": true,
                        "type": "pie"
                      }
                    ],
                    "scatter": [
                      {
                        "fillpattern": {
                          "fillmode": "overlay",
                          "size": 10,
                          "solidity": 0.2
                        },
                        "type": "scatter"
                      }
                    ],
                    "scatter3d": [
                      {
                        "line": {
                          "colorbar": {
                            "outlinewidth": 0,
                            "ticks": ""
                          }
                        },
                        "marker": {
                          "colorbar": {
                            "outlinewidth": 0,
                            "ticks": ""
                          }
                        },
                        "type": "scatter3d"
                      }
                    ],
                    "scattercarpet": [
                      {
                        "marker": {
                          "colorbar": {
                            "outlinewidth": 0,
                            "ticks": ""
                          }
                        },
                        "type": "scattercarpet"
                      }
                    ],
                    "scattergeo": [
                      {
                        "marker": {
                          "colorbar": {
                            "outlinewidth": 0,
                            "ticks": ""
                          }
                        },
                        "type": "scattergeo"
                      }
                    ],
                    "scattergl": [
                      {
                        "marker": {
                          "colorbar": {
                            "outlinewidth": 0,
                            "ticks": ""
                          }
                        },
                        "type": "scattergl"
                      }
                    ],
                    "scattermapbox": [
                      {
                        "marker": {
                          "colorbar": {
                            "outlinewidth": 0,
                            "ticks": ""
                          }
                        },
                        "type": "scattermapbox"
                      }
                    ],
                    "scatterpolar": [
                      {
                        "marker": {
                          "colorbar": {
                            "outlinewidth": 0,
                            "ticks": ""
                          }
                        },
                        "type": "scatterpolar"
                      }
                    ],
                    "scatterpolargl": [
                      {
                        "marker": {
                          "colorbar": {
                            "outlinewidth": 0,
                            "ticks": ""
                          }
                        },
                        "type": "scatterpolargl"
                      }
                    ],
                    "scatterternary": [
                      {
                        "marker": {
                          "colorbar": {
                            "outlinewidth": 0,
                            "ticks": ""
                          }
                        },
                        "type": "scatterternary"
                      }
                    ],
                    "surface": [
                      {
                        "colorbar": {
                          "outlinewidth": 0,
                          "ticks": ""
                        },
                        "colorscale": [
                          [
                            0,
                            "#0d0887"
                          ],
                          [
                            0.1111111111111111,
                            "#46039f"
                          ],
                          [
                            0.2222222222222222,
                            "#7201a8"
                          ],
                          [
                            0.3333333333333333,
                            "#9c179e"
                          ],
                          [
                            0.4444444444444444,
                            "#bd3786"
                          ],
                          [
                            0.5555555555555556,
                            "#d8576b"
                          ],
                          [
                            0.6666666666666666,
                            "#ed7953"
                          ],
                          [
                            0.7777777777777778,
                            "#fb9f3a"
                          ],
                          [
                            0.8888888888888888,
                            "#fdca26"
                          ],
                          [
                            1,
                            "#f0f921"
                          ]
                        ],
                        "type": "surface"
                      }
                    ],
                    "table": [
                      {
                        "cells": {
                          "fill": {
                            "color": "#EBF0F8"
                          },
                          "line": {
                            "color": "white"
                          }
                        },
                        "header": {
                          "fill": {
                            "color": "#C8D4E3"
                          },
                          "line": {
                            "color": "white"
                          }
                        },
                        "type": "table"
                      }
                    ]
                  },
                  "layout": {
                    "annotationdefaults": {
                      "arrowcolor": "#2a3f5f",
                      "arrowhead": 0,
                      "arrowwidth": 1
                    },
                    "autotypenumbers": "strict",
                    "coloraxis": {
                      "colorbar": {
                        "outlinewidth": 0,
                        "ticks": ""
                      }
                    },
                    "colorscale": {
                      "diverging": [
                        [
                          0,
                          "#8e0152"
                        ],
                        [
                          0.1,
                          "#c51b7d"
                        ],
                        [
                          0.2,
                          "#de77ae"
                        ],
                        [
                          0.3,
                          "#f1b6da"
                        ],
                        [
                          0.4,
                          "#fde0ef"
                        ],
                        [
                          0.5,
                          "#f7f7f7"
                        ],
                        [
                          0.6,
                          "#e6f5d0"
                        ],
                        [
                          0.7,
                          "#b8e186"
                        ],
                        [
                          0.8,
                          "#7fbc41"
                        ],
                        [
                          0.9,
                          "#4d9221"
                        ],
                        [
                          1,
                          "#276419"
                        ]
                      ],
                      "sequential": [
                        [
                          0,
                          "#0d0887"
                        ],
                        [
                          0.1111111111111111,
                          "#46039f"
                        ],
                        [
                          0.2222222222222222,
                          "#7201a8"
                        ],
                        [
                          0.3333333333333333,
                          "#9c179e"
                        ],
                        [
                          0.4444444444444444,
                          "#bd3786"
                        ],
                        [
                          0.5555555555555556,
                          "#d8576b"
                        ],
                        [
                          0.6666666666666666,
                          "#ed7953"
                        ],
                        [
                          0.7777777777777778,
                          "#fb9f3a"
                        ],
                        [
                          0.8888888888888888,
                          "#fdca26"
                        ],
                        [
                          1,
                          "#f0f921"
                        ]
                      ],
                      "sequentialminus": [
                        [
                          0,
                          "#0d0887"
                        ],
                        [
                          0.1111111111111111,
                          "#46039f"
                        ],
                        [
                          0.2222222222222222,
                          "#7201a8"
                        ],
                        [
                          0.3333333333333333,
                          "#9c179e"
                        ],
                        [
                          0.4444444444444444,
                          "#bd3786"
                        ],
                        [
                          0.5555555555555556,
                          "#d8576b"
                        ],
                        [
                          0.6666666666666666,
                          "#ed7953"
                        ],
                        [
                          0.7777777777777778,
                          "#fb9f3a"
                        ],
                        [
                          0.8888888888888888,
                          "#fdca26"
                        ],
                        [
                          1,
                          "#f0f921"
                        ]
                      ]
                    },
                    "colorway": [
                      "#636efa",
                      "#EF553B",
                      "#00cc96",
                      "#ab63fa",
                      "#FFA15A",
                      "#19d3f3",
                      "#FF6692",
                      "#B6E880",
                      "#FF97FF",
                      "#FECB52"
                    ],
                    "font": {
                      "color": "#2a3f5f"
                    },
                    "geo": {
                      "bgcolor": "white",
                      "lakecolor": "white",
                      "landcolor": "#E5ECF6",
                      "showlakes": true,
                      "showland": true,
                      "subunitcolor": "white"
                    },
                    "hoverlabel": {
                      "align": "left"
                    },
                    "hovermode": "closest",
                    "mapbox": {
                      "style": "light"
                    },
                    "paper_bgcolor": "white",
                    "plot_bgcolor": "#E5ECF6",
                    "polar": {
                      "angularaxis": {
                        "gridcolor": "white",
                        "linecolor": "white",
                        "ticks": ""
                      },
                      "bgcolor": "#E5ECF6",
                      "radialaxis": {
                        "gridcolor": "white",
                        "linecolor": "white",
                        "ticks": ""
                      }
                    },
                    "scene": {
                      "xaxis": {
                        "backgroundcolor": "#E5ECF6",
                        "gridcolor": "white",
                        "gridwidth": 2,
                        "linecolor": "white",
                        "showbackground": true,
                        "ticks": "",
                        "zerolinecolor": "white"
                      },
                      "yaxis": {
                        "backgroundcolor": "#E5ECF6",
                        "gridcolor": "white",
                        "gridwidth": 2,
                        "linecolor": "white",
                        "showbackground": true,
                        "ticks": "",
                        "zerolinecolor": "white"
                      },
                      "zaxis": {
                        "backgroundcolor": "#E5ECF6",
                        "gridcolor": "white",
                        "gridwidth": 2,
                        "linecolor": "white",
                        "showbackground": true,
                        "ticks": "",
                        "zerolinecolor": "white"
                      }
                    },
                    "shapedefaults": {
                      "line": {
                        "color": "#2a3f5f"
                      }
                    },
                    "ternary": {
                      "aaxis": {
                        "gridcolor": "white",
                        "linecolor": "white",
                        "ticks": ""
                      },
                      "baxis": {
                        "gridcolor": "white",
                        "linecolor": "white",
                        "ticks": ""
                      },
                      "bgcolor": "#E5ECF6",
                      "caxis": {
                        "gridcolor": "white",
                        "linecolor": "white",
                        "ticks": ""
                      }
                    },
                    "title": {
                      "x": 0.05
                    },
                    "xaxis": {
                      "automargin": true,
                      "gridcolor": "white",
                      "linecolor": "white",
                      "ticks": "",
                      "title": {
                        "standoff": 15
                      },
                      "zerolinecolor": "white",
                      "zerolinewidth": 2
                    },
                    "yaxis": {
                      "automargin": true,
                      "gridcolor": "white",
                      "linecolor": "white",
                      "ticks": "",
                      "title": {
                        "standoff": 15
                      },
                      "zerolinecolor": "white",
                      "zerolinewidth": 2
                    }
                  }
                },
                "title": {
                  "text": "Точность каждой модели MAE"
                },
                "xaxis": {
                  "anchor": "y",
                  "domain": [
                    0,
                    1
                  ],
                  "title": {
                    "text": "Модель"
                  }
                },
                "yaxis": {
                  "anchor": "x",
                  "domain": [
                    0,
                    1
                  ],
                  "title": {
                    "text": "Точность"
                  }
                }
              }
            }
          },
          "metadata": {},
          "output_type": "display_data"
        }
      ],
      "source": [
        "import plotly.express as px\n",
        "\n",
        "accuracies = [result[\"MAE\"] for result in results.values()]\n",
        "model_names = list(results.keys())\n",
        "\n",
        "best_mae_idx = accuracies.index(min(accuracies))\n",
        "\n",
        "fig = px.bar(x=model_names, y=accuracies, labels={\"x\": \"Модель\", \"y\": \"Точность\"}, \n",
        "             title=\"Точность каждой модели MAE\")\n",
        "\n",
        "# Присваиваем красный цвет лучшей модели\n",
        "fig.update_traces(marker_color=['red' if i == best_mae_idx else 'blue' for i in range(len(model_names))])\n",
        "\n",
        "fig.show()\n"
      ]
    },
    {
      "cell_type": "code",
      "execution_count": 191,
      "metadata": {},
      "outputs": [
        {
          "data": {
            "application/vnd.plotly.v1+json": {
              "config": {
                "plotlyServerURL": "https://plot.ly"
              },
              "data": [
                {
                  "alignmentgroup": "True",
                  "hovertemplate": "Модель=%{x}<br>Точность=%{y}<extra></extra>",
                  "legendgroup": "",
                  "marker": {
                    "color": [
                      "red",
                      "blue",
                      "blue",
                      "blue"
                    ],
                    "pattern": {
                      "shape": ""
                    }
                  },
                  "name": "",
                  "offsetgroup": "",
                  "orientation": "v",
                  "showlegend": false,
                  "textposition": "auto",
                  "type": "bar",
                  "x": [
                    "CatBoost",
                    "LightGBM",
                    "XGBoost",
                    "AdaBoost"
                  ],
                  "xaxis": "x",
                  "y": [
                    0.6756928610808215,
                    0.5909727600523287,
                    0.4499947959557016,
                    0.49316635022972444
                  ],
                  "yaxis": "y"
                }
              ],
              "layout": {
                "barmode": "relative",
                "legend": {
                  "tracegroupgap": 0
                },
                "template": {
                  "data": {
                    "bar": [
                      {
                        "error_x": {
                          "color": "#2a3f5f"
                        },
                        "error_y": {
                          "color": "#2a3f5f"
                        },
                        "marker": {
                          "line": {
                            "color": "#E5ECF6",
                            "width": 0.5
                          },
                          "pattern": {
                            "fillmode": "overlay",
                            "size": 10,
                            "solidity": 0.2
                          }
                        },
                        "type": "bar"
                      }
                    ],
                    "barpolar": [
                      {
                        "marker": {
                          "line": {
                            "color": "#E5ECF6",
                            "width": 0.5
                          },
                          "pattern": {
                            "fillmode": "overlay",
                            "size": 10,
                            "solidity": 0.2
                          }
                        },
                        "type": "barpolar"
                      }
                    ],
                    "carpet": [
                      {
                        "aaxis": {
                          "endlinecolor": "#2a3f5f",
                          "gridcolor": "white",
                          "linecolor": "white",
                          "minorgridcolor": "white",
                          "startlinecolor": "#2a3f5f"
                        },
                        "baxis": {
                          "endlinecolor": "#2a3f5f",
                          "gridcolor": "white",
                          "linecolor": "white",
                          "minorgridcolor": "white",
                          "startlinecolor": "#2a3f5f"
                        },
                        "type": "carpet"
                      }
                    ],
                    "choropleth": [
                      {
                        "colorbar": {
                          "outlinewidth": 0,
                          "ticks": ""
                        },
                        "type": "choropleth"
                      }
                    ],
                    "contour": [
                      {
                        "colorbar": {
                          "outlinewidth": 0,
                          "ticks": ""
                        },
                        "colorscale": [
                          [
                            0,
                            "#0d0887"
                          ],
                          [
                            0.1111111111111111,
                            "#46039f"
                          ],
                          [
                            0.2222222222222222,
                            "#7201a8"
                          ],
                          [
                            0.3333333333333333,
                            "#9c179e"
                          ],
                          [
                            0.4444444444444444,
                            "#bd3786"
                          ],
                          [
                            0.5555555555555556,
                            "#d8576b"
                          ],
                          [
                            0.6666666666666666,
                            "#ed7953"
                          ],
                          [
                            0.7777777777777778,
                            "#fb9f3a"
                          ],
                          [
                            0.8888888888888888,
                            "#fdca26"
                          ],
                          [
                            1,
                            "#f0f921"
                          ]
                        ],
                        "type": "contour"
                      }
                    ],
                    "contourcarpet": [
                      {
                        "colorbar": {
                          "outlinewidth": 0,
                          "ticks": ""
                        },
                        "type": "contourcarpet"
                      }
                    ],
                    "heatmap": [
                      {
                        "colorbar": {
                          "outlinewidth": 0,
                          "ticks": ""
                        },
                        "colorscale": [
                          [
                            0,
                            "#0d0887"
                          ],
                          [
                            0.1111111111111111,
                            "#46039f"
                          ],
                          [
                            0.2222222222222222,
                            "#7201a8"
                          ],
                          [
                            0.3333333333333333,
                            "#9c179e"
                          ],
                          [
                            0.4444444444444444,
                            "#bd3786"
                          ],
                          [
                            0.5555555555555556,
                            "#d8576b"
                          ],
                          [
                            0.6666666666666666,
                            "#ed7953"
                          ],
                          [
                            0.7777777777777778,
                            "#fb9f3a"
                          ],
                          [
                            0.8888888888888888,
                            "#fdca26"
                          ],
                          [
                            1,
                            "#f0f921"
                          ]
                        ],
                        "type": "heatmap"
                      }
                    ],
                    "heatmapgl": [
                      {
                        "colorbar": {
                          "outlinewidth": 0,
                          "ticks": ""
                        },
                        "colorscale": [
                          [
                            0,
                            "#0d0887"
                          ],
                          [
                            0.1111111111111111,
                            "#46039f"
                          ],
                          [
                            0.2222222222222222,
                            "#7201a8"
                          ],
                          [
                            0.3333333333333333,
                            "#9c179e"
                          ],
                          [
                            0.4444444444444444,
                            "#bd3786"
                          ],
                          [
                            0.5555555555555556,
                            "#d8576b"
                          ],
                          [
                            0.6666666666666666,
                            "#ed7953"
                          ],
                          [
                            0.7777777777777778,
                            "#fb9f3a"
                          ],
                          [
                            0.8888888888888888,
                            "#fdca26"
                          ],
                          [
                            1,
                            "#f0f921"
                          ]
                        ],
                        "type": "heatmapgl"
                      }
                    ],
                    "histogram": [
                      {
                        "marker": {
                          "pattern": {
                            "fillmode": "overlay",
                            "size": 10,
                            "solidity": 0.2
                          }
                        },
                        "type": "histogram"
                      }
                    ],
                    "histogram2d": [
                      {
                        "colorbar": {
                          "outlinewidth": 0,
                          "ticks": ""
                        },
                        "colorscale": [
                          [
                            0,
                            "#0d0887"
                          ],
                          [
                            0.1111111111111111,
                            "#46039f"
                          ],
                          [
                            0.2222222222222222,
                            "#7201a8"
                          ],
                          [
                            0.3333333333333333,
                            "#9c179e"
                          ],
                          [
                            0.4444444444444444,
                            "#bd3786"
                          ],
                          [
                            0.5555555555555556,
                            "#d8576b"
                          ],
                          [
                            0.6666666666666666,
                            "#ed7953"
                          ],
                          [
                            0.7777777777777778,
                            "#fb9f3a"
                          ],
                          [
                            0.8888888888888888,
                            "#fdca26"
                          ],
                          [
                            1,
                            "#f0f921"
                          ]
                        ],
                        "type": "histogram2d"
                      }
                    ],
                    "histogram2dcontour": [
                      {
                        "colorbar": {
                          "outlinewidth": 0,
                          "ticks": ""
                        },
                        "colorscale": [
                          [
                            0,
                            "#0d0887"
                          ],
                          [
                            0.1111111111111111,
                            "#46039f"
                          ],
                          [
                            0.2222222222222222,
                            "#7201a8"
                          ],
                          [
                            0.3333333333333333,
                            "#9c179e"
                          ],
                          [
                            0.4444444444444444,
                            "#bd3786"
                          ],
                          [
                            0.5555555555555556,
                            "#d8576b"
                          ],
                          [
                            0.6666666666666666,
                            "#ed7953"
                          ],
                          [
                            0.7777777777777778,
                            "#fb9f3a"
                          ],
                          [
                            0.8888888888888888,
                            "#fdca26"
                          ],
                          [
                            1,
                            "#f0f921"
                          ]
                        ],
                        "type": "histogram2dcontour"
                      }
                    ],
                    "mesh3d": [
                      {
                        "colorbar": {
                          "outlinewidth": 0,
                          "ticks": ""
                        },
                        "type": "mesh3d"
                      }
                    ],
                    "parcoords": [
                      {
                        "line": {
                          "colorbar": {
                            "outlinewidth": 0,
                            "ticks": ""
                          }
                        },
                        "type": "parcoords"
                      }
                    ],
                    "pie": [
                      {
                        "automargin": true,
                        "type": "pie"
                      }
                    ],
                    "scatter": [
                      {
                        "fillpattern": {
                          "fillmode": "overlay",
                          "size": 10,
                          "solidity": 0.2
                        },
                        "type": "scatter"
                      }
                    ],
                    "scatter3d": [
                      {
                        "line": {
                          "colorbar": {
                            "outlinewidth": 0,
                            "ticks": ""
                          }
                        },
                        "marker": {
                          "colorbar": {
                            "outlinewidth": 0,
                            "ticks": ""
                          }
                        },
                        "type": "scatter3d"
                      }
                    ],
                    "scattercarpet": [
                      {
                        "marker": {
                          "colorbar": {
                            "outlinewidth": 0,
                            "ticks": ""
                          }
                        },
                        "type": "scattercarpet"
                      }
                    ],
                    "scattergeo": [
                      {
                        "marker": {
                          "colorbar": {
                            "outlinewidth": 0,
                            "ticks": ""
                          }
                        },
                        "type": "scattergeo"
                      }
                    ],
                    "scattergl": [
                      {
                        "marker": {
                          "colorbar": {
                            "outlinewidth": 0,
                            "ticks": ""
                          }
                        },
                        "type": "scattergl"
                      }
                    ],
                    "scattermapbox": [
                      {
                        "marker": {
                          "colorbar": {
                            "outlinewidth": 0,
                            "ticks": ""
                          }
                        },
                        "type": "scattermapbox"
                      }
                    ],
                    "scatterpolar": [
                      {
                        "marker": {
                          "colorbar": {
                            "outlinewidth": 0,
                            "ticks": ""
                          }
                        },
                        "type": "scatterpolar"
                      }
                    ],
                    "scatterpolargl": [
                      {
                        "marker": {
                          "colorbar": {
                            "outlinewidth": 0,
                            "ticks": ""
                          }
                        },
                        "type": "scatterpolargl"
                      }
                    ],
                    "scatterternary": [
                      {
                        "marker": {
                          "colorbar": {
                            "outlinewidth": 0,
                            "ticks": ""
                          }
                        },
                        "type": "scatterternary"
                      }
                    ],
                    "surface": [
                      {
                        "colorbar": {
                          "outlinewidth": 0,
                          "ticks": ""
                        },
                        "colorscale": [
                          [
                            0,
                            "#0d0887"
                          ],
                          [
                            0.1111111111111111,
                            "#46039f"
                          ],
                          [
                            0.2222222222222222,
                            "#7201a8"
                          ],
                          [
                            0.3333333333333333,
                            "#9c179e"
                          ],
                          [
                            0.4444444444444444,
                            "#bd3786"
                          ],
                          [
                            0.5555555555555556,
                            "#d8576b"
                          ],
                          [
                            0.6666666666666666,
                            "#ed7953"
                          ],
                          [
                            0.7777777777777778,
                            "#fb9f3a"
                          ],
                          [
                            0.8888888888888888,
                            "#fdca26"
                          ],
                          [
                            1,
                            "#f0f921"
                          ]
                        ],
                        "type": "surface"
                      }
                    ],
                    "table": [
                      {
                        "cells": {
                          "fill": {
                            "color": "#EBF0F8"
                          },
                          "line": {
                            "color": "white"
                          }
                        },
                        "header": {
                          "fill": {
                            "color": "#C8D4E3"
                          },
                          "line": {
                            "color": "white"
                          }
                        },
                        "type": "table"
                      }
                    ]
                  },
                  "layout": {
                    "annotationdefaults": {
                      "arrowcolor": "#2a3f5f",
                      "arrowhead": 0,
                      "arrowwidth": 1
                    },
                    "autotypenumbers": "strict",
                    "coloraxis": {
                      "colorbar": {
                        "outlinewidth": 0,
                        "ticks": ""
                      }
                    },
                    "colorscale": {
                      "diverging": [
                        [
                          0,
                          "#8e0152"
                        ],
                        [
                          0.1,
                          "#c51b7d"
                        ],
                        [
                          0.2,
                          "#de77ae"
                        ],
                        [
                          0.3,
                          "#f1b6da"
                        ],
                        [
                          0.4,
                          "#fde0ef"
                        ],
                        [
                          0.5,
                          "#f7f7f7"
                        ],
                        [
                          0.6,
                          "#e6f5d0"
                        ],
                        [
                          0.7,
                          "#b8e186"
                        ],
                        [
                          0.8,
                          "#7fbc41"
                        ],
                        [
                          0.9,
                          "#4d9221"
                        ],
                        [
                          1,
                          "#276419"
                        ]
                      ],
                      "sequential": [
                        [
                          0,
                          "#0d0887"
                        ],
                        [
                          0.1111111111111111,
                          "#46039f"
                        ],
                        [
                          0.2222222222222222,
                          "#7201a8"
                        ],
                        [
                          0.3333333333333333,
                          "#9c179e"
                        ],
                        [
                          0.4444444444444444,
                          "#bd3786"
                        ],
                        [
                          0.5555555555555556,
                          "#d8576b"
                        ],
                        [
                          0.6666666666666666,
                          "#ed7953"
                        ],
                        [
                          0.7777777777777778,
                          "#fb9f3a"
                        ],
                        [
                          0.8888888888888888,
                          "#fdca26"
                        ],
                        [
                          1,
                          "#f0f921"
                        ]
                      ],
                      "sequentialminus": [
                        [
                          0,
                          "#0d0887"
                        ],
                        [
                          0.1111111111111111,
                          "#46039f"
                        ],
                        [
                          0.2222222222222222,
                          "#7201a8"
                        ],
                        [
                          0.3333333333333333,
                          "#9c179e"
                        ],
                        [
                          0.4444444444444444,
                          "#bd3786"
                        ],
                        [
                          0.5555555555555556,
                          "#d8576b"
                        ],
                        [
                          0.6666666666666666,
                          "#ed7953"
                        ],
                        [
                          0.7777777777777778,
                          "#fb9f3a"
                        ],
                        [
                          0.8888888888888888,
                          "#fdca26"
                        ],
                        [
                          1,
                          "#f0f921"
                        ]
                      ]
                    },
                    "colorway": [
                      "#636efa",
                      "#EF553B",
                      "#00cc96",
                      "#ab63fa",
                      "#FFA15A",
                      "#19d3f3",
                      "#FF6692",
                      "#B6E880",
                      "#FF97FF",
                      "#FECB52"
                    ],
                    "font": {
                      "color": "#2a3f5f"
                    },
                    "geo": {
                      "bgcolor": "white",
                      "lakecolor": "white",
                      "landcolor": "#E5ECF6",
                      "showlakes": true,
                      "showland": true,
                      "subunitcolor": "white"
                    },
                    "hoverlabel": {
                      "align": "left"
                    },
                    "hovermode": "closest",
                    "mapbox": {
                      "style": "light"
                    },
                    "paper_bgcolor": "white",
                    "plot_bgcolor": "#E5ECF6",
                    "polar": {
                      "angularaxis": {
                        "gridcolor": "white",
                        "linecolor": "white",
                        "ticks": ""
                      },
                      "bgcolor": "#E5ECF6",
                      "radialaxis": {
                        "gridcolor": "white",
                        "linecolor": "white",
                        "ticks": ""
                      }
                    },
                    "scene": {
                      "xaxis": {
                        "backgroundcolor": "#E5ECF6",
                        "gridcolor": "white",
                        "gridwidth": 2,
                        "linecolor": "white",
                        "showbackground": true,
                        "ticks": "",
                        "zerolinecolor": "white"
                      },
                      "yaxis": {
                        "backgroundcolor": "#E5ECF6",
                        "gridcolor": "white",
                        "gridwidth": 2,
                        "linecolor": "white",
                        "showbackground": true,
                        "ticks": "",
                        "zerolinecolor": "white"
                      },
                      "zaxis": {
                        "backgroundcolor": "#E5ECF6",
                        "gridcolor": "white",
                        "gridwidth": 2,
                        "linecolor": "white",
                        "showbackground": true,
                        "ticks": "",
                        "zerolinecolor": "white"
                      }
                    },
                    "shapedefaults": {
                      "line": {
                        "color": "#2a3f5f"
                      }
                    },
                    "ternary": {
                      "aaxis": {
                        "gridcolor": "white",
                        "linecolor": "white",
                        "ticks": ""
                      },
                      "baxis": {
                        "gridcolor": "white",
                        "linecolor": "white",
                        "ticks": ""
                      },
                      "bgcolor": "#E5ECF6",
                      "caxis": {
                        "gridcolor": "white",
                        "linecolor": "white",
                        "ticks": ""
                      }
                    },
                    "title": {
                      "x": 0.05
                    },
                    "xaxis": {
                      "automargin": true,
                      "gridcolor": "white",
                      "linecolor": "white",
                      "ticks": "",
                      "title": {
                        "standoff": 15
                      },
                      "zerolinecolor": "white",
                      "zerolinewidth": 2
                    },
                    "yaxis": {
                      "automargin": true,
                      "gridcolor": "white",
                      "linecolor": "white",
                      "ticks": "",
                      "title": {
                        "standoff": 15
                      },
                      "zerolinecolor": "white",
                      "zerolinewidth": 2
                    }
                  }
                },
                "title": {
                  "text": "Точность каждой модели Explained Variance"
                },
                "xaxis": {
                  "anchor": "y",
                  "domain": [
                    0,
                    1
                  ],
                  "title": {
                    "text": "Модель"
                  }
                },
                "yaxis": {
                  "anchor": "x",
                  "domain": [
                    0,
                    1
                  ],
                  "title": {
                    "text": "Точность"
                  }
                }
              }
            }
          },
          "metadata": {},
          "output_type": "display_data"
        }
      ],
      "source": [
        "import plotly.express as px\n",
        "\n",
        "accuracies = [result[\"Explained Variance\"] for result in results.values()]\n",
        "model_names = list(results.keys())\n",
        "\n",
        "best_explained_variance_idx = accuracies.index(max(accuracies))\n",
        "\n",
        "fig = px.bar(x=model_names, y=accuracies, labels={\"x\": \"Модель\", \"y\": \"Точность\"}, \n",
        "             title=\"Точность каждой модели Explained Variance\")\n",
        "\n",
        "# Присваиваем красный цвет лучшей модели\n",
        "fig.update_traces(marker_color=['red' if i == best_explained_variance_idx else 'blue' for i in range(len(model_names))])\n",
        "\n",
        "fig.show()\n"
      ]
    }
  ],
  "metadata": {
    "colab": {
      "authorship_tag": "ABX9TyM95LAcS7a7L73ow2SjOOm3",
      "include_colab_link": true,
      "provenance": []
    },
    "kernelspec": {
      "display_name": "Python 3",
      "name": "python3"
    },
    "language_info": {
      "codemirror_mode": {
        "name": "ipython",
        "version": 3
      },
      "file_extension": ".py",
      "mimetype": "text/x-python",
      "name": "python",
      "nbconvert_exporter": "python",
      "pygments_lexer": "ipython3",
      "version": "3.10.0"
    }
  },
  "nbformat": 4,
  "nbformat_minor": 0
}
