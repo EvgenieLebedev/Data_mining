{
 "cells": [
  {
   "cell_type": "markdown",
   "metadata": {},
   "source": [
    "# Скачивание данных"
   ]
  },
  {
   "cell_type": "code",
   "execution_count": 5,
   "metadata": {},
   "outputs": [
    {
     "name": "stdout",
     "output_type": "stream",
     "text": [
      "Файл data.zip успешно загружен.\n"
     ]
    }
   ],
   "source": [
    "import requests\n",
    "\n",
    "url = \"http://rz-vm115.gfz-potsdam.de:8080/repository/entry/show?entryid=2fa2eefd-01b5-41a7-802e-66ca6d0a5087%20&output=zip.zipgroup\"\n",
    "file_name = \"data.zip\"\n",
    "\n",
    "response = requests.get(url)\n",
    "\n",
    "if response.status_code == 200:\n",
    "    with open(file_name, 'wb') as file:\n",
    "        file.write(response.content)\n",
    "    print(f\"Файл {file_name} успешно загружен.\")\n",
    "else:\n",
    "    print(\"Ошибка при загрузке файла.\")\n"
   ]
  },
  {
   "cell_type": "markdown",
   "metadata": {},
   "source": [
    "# Распаковка"
   ]
  },
  {
   "cell_type": "code",
   "execution_count": 6,
   "metadata": {},
   "outputs": [
    {
     "name": "stdout",
     "output_type": "stream",
     "text": [
      "Файл data.zip успешно распакован.\n"
     ]
    }
   ],
   "source": [
    "import zipfile\n",
    "import os\n",
    "\n",
    "zip_file = \"data.zip\"\n",
    "\n",
    "# Проверка на существование файла\n",
    "if os.path.exists(zip_file):\n",
    "    # Распаковка ZIP-файла в текущую директорию\n",
    "    with zipfile.ZipFile(zip_file, 'r') as zip_ref:\n",
    "        zip_ref.extractall()\n",
    "    print(f\"Файл {zip_file} успешно распакован.\")\n",
    "else:\n",
    "    print(\"Файл не найден.\")\n",
    "\n"
   ]
  },
  {
   "cell_type": "markdown",
   "metadata": {},
   "source": [
    "## Удаляем старые версии файлов (v1.1) и папки со средними параметрами"
   ]
  },
  {
   "cell_type": "code",
   "execution_count": 9,
   "metadata": {},
   "outputs": [
    {
     "name": "stdout",
     "output_type": "stream",
     "text": [
      "Файл ./SLAM/ESMGFZ_SLAM_v1.1_24h_1977.asc удален.\n",
      "Файл ./SLAM/ESMGFZ_SLAM_v1.1_24h_1979.asc удален.\n",
      "Файл ./SLAM/ESMGFZ_SLAM_v1.1_24h_1981.asc удален.\n",
      "Файл ./SLAM/ESMGFZ_SLAM_v1.1_24h_1983.asc удален.\n",
      "Файл ./SLAM/ESMGFZ_SLAM_v1.1_24h_1985.asc удален.\n",
      "Файл ./SLAM/ESMGFZ_SLAM_v1.1_24h_1987.asc удален.\n",
      "Файл ./SLAM/ESMGFZ_SLAM_v1.1_24h_1989.asc удален.\n",
      "Файл ./SLAM/ESMGFZ_SLAM_v1.1_24h_1991.asc удален.\n",
      "Файл ./SLAM/ESMGFZ_SLAM_v1.1_24h_1993.asc удален.\n",
      "Файл ./SLAM/ESMGFZ_SLAM_v1.1_24h_1995.asc удален.\n",
      "Файл ./SLAM/ESMGFZ_SLAM_v1.1_24h_1997.asc удален.\n",
      "Файл ./SLAM/ESMGFZ_SLAM_v1.1_24h_1999.asc удален.\n",
      "Файл ./SLAM/ESMGFZ_SLAM_v1.1_24h_2001.asc удален.\n",
      "Файл ./SLAM/ESMGFZ_SLAM_v1.1_24h_2003.asc удален.\n",
      "Файл ./SLAM/ESMGFZ_SLAM_v1.1_24h_2005.asc удален.\n",
      "Файл ./SLAM/ESMGFZ_SLAM_v1.1_24h_2007.asc удален.\n",
      "Файл ./SLAM/ESMGFZ_SLAM_v1.1_24h_2009.asc удален.\n",
      "Файл ./SLAM/ESMGFZ_SLAM_v1.1_24h_2011.asc удален.\n",
      "Файл ./SLAM/ESMGFZ_SLAM_v1.1_24h_2013.asc удален.\n",
      "Файл ./SLAM/ESMGFZ_SLAM_v1.1_24h_2015.asc удален.\n",
      "Файл ./SLAM/ESMGFZ_SLAM_v1.1_24h_2017.asc удален.\n",
      "Файл ./SLAM/ESMGFZ_SLAM_v1.1_24h_2019.asc удален.\n",
      "Файл ./SLAM/ESMGFZ_SLAM_v1.2_24h_mean_2003_2014.asc удален.\n"
     ]
    }
   ],
   "source": [
    "import os\n",
    "import shutil\n",
    "\n",
    "# Директория, в которой нужно удалить папки\n",
    "directory = './SLAM/'\n",
    "\n",
    "files = [f for f in os.listdir(directory) if os.path.isfile(os.path.join(directory, f))]\n",
    "\n",
    "    # Условие для проверки подстроки в названии файла\n",
    "condition = lambda file: 'v1.1' in file or 'mean' in file\n",
    "\n",
    "    # Удаляем файлы, удовлетворяющие условию\n",
    "for file in files:\n",
    "    if condition(file):\n",
    "        file_path = os.path.join(directory, file)\n",
    "            # Удаляем файл\n",
    "        os.remove(file_path)\n",
    "        print(f'Файл {file_path} удален.')\n",
    "\n"
   ]
  }
 ],
 "metadata": {
  "kernelspec": {
   "display_name": "Python 3",
   "language": "python",
   "name": "python3"
  },
  "language_info": {
   "codemirror_mode": {
    "name": "ipython",
    "version": 3
   },
   "file_extension": ".py",
   "mimetype": "text/x-python",
   "name": "python",
   "nbconvert_exporter": "python",
   "pygments_lexer": "ipython3",
   "version": "3.10.0"
  }
 },
 "nbformat": 4,
 "nbformat_minor": 2
}
