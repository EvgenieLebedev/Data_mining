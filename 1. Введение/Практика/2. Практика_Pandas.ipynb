{
  "cells": [
    {
      "cell_type": "markdown",
      "metadata": {
        "colab_type": "text",
        "id": "view-in-github"
      },
      "source": [
        "<a href=\"https://colab.research.google.com/github/Alexandre77777/data_mining/blob/main/1.%20%D0%92%D0%B2%D0%B5%D0%B4%D0%B5%D0%BD%D0%B8%D0%B5/%D0%9F%D1%80%D0%B0%D0%BA%D1%82%D0%B8%D0%BA%D0%B0/2.%20%D0%9F%D1%80%D0%B0%D0%BA%D1%82%D0%B8%D0%BA%D0%B0_Pandas.ipynb\" target=\"_parent\"><img src=\"https://colab.research.google.com/assets/colab-badge.svg\" alt=\"Open In Colab\"/></a>"
      ]
    },
    {
      "cell_type": "markdown",
      "metadata": {
        "id": "mp4vDzkuiDX_"
      },
      "source": [
        "## Практика Pandas\n",
        "\n",
        "1. Скачайте этот блокнот к себе.\n",
        "2. Заполните пропущенные ячейки, отвечая на заданные вопросы. Там должен быть код! (если не сказано обратное)\n",
        "3. Сохраните результат в своём гитхаб репозитории.\n",
        "\n",
        "#### Полезная литература\n",
        "- [**Блокнот с теорией**](https://colab.research.google.com/github/Alexandre77777/data_mining/blob/main/1.%20%D0%92%D0%B2%D0%B5%D0%B4%D0%B5%D0%BD%D0%B8%D0%B5/%D0%A2%D0%B5%D0%BE%D1%80%D0%B8%D1%8F/2.%20%D0%A2%D0%B5%D0%BE%D1%80%D0%B8%D1%8F_Pandas.ipynb)\n",
        "- http://pandas.pydata.org/pandas-docs/stable/10min.html\n",
        "- https://pandas.pydata.org/pandas-docs/stable/indexing.html\n",
        "- https://pandas.pydata.org/pandas-docs/stable/missing_data.html"
      ]
    },
    {
      "cell_type": "markdown",
      "metadata": {
        "id": "tuRd3IMoiDYB"
      },
      "source": [
        "В этом задании мы с вами рассмотрим датасет [Adult Data Set](https://archive.ics.uci.edu/ml/datasets/Adult).\n",
        "Основывается он на данных переписи населения 1994 года в США.\n",
        "\n",
        "Расшифровка содержимого колонок:\n",
        "\n",
        "- age: continuous.\n",
        "- workclass: Private, Self-emp-not-inc, Self-emp-inc, Federal-gov, Local-gov, State-gov, Without-pay, Never-worked.\n",
        "- fnlwgt: continuous. sampling weight, more here: SIPP Weighting.\n",
        "- education: Bachelors, Some-college, 11th, HS-grad, Prof-school, Assoc-acdm, Assoc-voc, 9th, 7th-8th, 12th, Masters, 1st-4th, 10th, Doctorate, 5th-6th, Preschool.\n",
        "- education-num: continuous.\n",
        "- marital-status: Married-civ-spouse, Divorced, Never-married, Separated, Widowed, Married-spouse-absent, Married-AF-spouse.\n",
        "- occupation: Tech-support, Craft-repair, Other-service, Sales, Exec-managerial, Prof-specialty, Handlers-cleaners, Machine-op-inspct, Adm-clerical, Farming-fishing, Transport-moving, Priv-house-serv, Protective-serv, Armed-Forces.\n",
        "- relationship: Wife, Own-child, Husband, Not-in-family, Other-relative, Unmarried.\n",
        "- race: White, Asian-Pac-Islander, Amer-Indian-Eskimo, Other, Black.\n",
        "- sex: Female, Male.\n",
        "- capital-gain: continuous. Income from investment sources, apart from wages/salary.\n",
        "- capital-loss: continuous. Losses from investment sources, apart from wages/salary.\n",
        "- hours-per-week: continuous.\n",
        "- native-country: United-States, Cambodia, England, Puerto-Rico, Canada, Germany, Outlying-US(Guam-USVI-etc), India, Japan, Greece, South, China, Cuba, Iran, Honduras, Philippines, Italy, Poland, Jamaica, Vietnam, Mexico, Portugal, Ireland, France, Dominican-Republic, Laos, Ecuador, Taiwan, Haiti, Columbia, Hungary, Guatemala, Nicaragua, Scotland, Thailand, Yugoslavia, El-Salvador, Trinadad&Tobago, Peru, Hong, Holand-Netherlands."
      ]
    },
    {
      "cell_type": "code",
      "execution_count": 1,
      "metadata": {
        "id": "R5NUf9tUiDYC",
        "outputId": "71e26f80-a4cd-4a7b-b3dc-fd8f8a0bcebb"
      },
      "outputs": [
        {
          "data": {
            "text/plain": [
              "'2.0.3'"
            ]
          },
          "execution_count": 1,
          "metadata": {},
          "output_type": "execute_result"
        }
      ],
      "source": [
        "%matplotlib inline\n",
        "import pandas as pd\n",
        "pd.__version__"
      ]
    },
    {
      "cell_type": "markdown",
      "metadata": {
        "id": "QOWEafWciDYE"
      },
      "source": [
        "Если вы увидели warning, не переживайте, всё хорошо.\n",
        "- https://stackoverflow.com/questions/40845304/runtimewarning-numpy-dtype-size-changed-may-indicate-binary-incompatibility\n",
        "- https://github.com/numpy/numpy/pull/432"
      ]
    },
    {
      "cell_type": "code",
      "execution_count": 2,
      "metadata": {
        "id": "BCu7XGx_iDYE",
        "outputId": "0ffca04c-681b-4045-8f8c-d3aa1886ac0b"
      },
      "outputs": [
        {
          "data": {
            "text/html": [
              "<div>\n",
              "<style scoped>\n",
              "    .dataframe tbody tr th:only-of-type {\n",
              "        vertical-align: middle;\n",
              "    }\n",
              "\n",
              "    .dataframe tbody tr th {\n",
              "        vertical-align: top;\n",
              "    }\n",
              "\n",
              "    .dataframe thead th {\n",
              "        text-align: right;\n",
              "    }\n",
              "</style>\n",
              "<table border=\"1\" class=\"dataframe\">\n",
              "  <thead>\n",
              "    <tr style=\"text-align: right;\">\n",
              "      <th></th>\n",
              "      <th>age</th>\n",
              "      <th>workclass</th>\n",
              "      <th>fnlwgt</th>\n",
              "      <th>education</th>\n",
              "      <th>education.num</th>\n",
              "      <th>marital.status</th>\n",
              "      <th>occupation</th>\n",
              "      <th>relationship</th>\n",
              "      <th>race</th>\n",
              "      <th>sex</th>\n",
              "      <th>capital.gain</th>\n",
              "      <th>capital.loss</th>\n",
              "      <th>hours.per.week</th>\n",
              "      <th>native.country</th>\n",
              "      <th>income</th>\n",
              "    </tr>\n",
              "  </thead>\n",
              "  <tbody>\n",
              "    <tr>\n",
              "      <th>0</th>\n",
              "      <td>39</td>\n",
              "      <td>State-gov</td>\n",
              "      <td>77516</td>\n",
              "      <td>Bachelors</td>\n",
              "      <td>13</td>\n",
              "      <td>Never-married</td>\n",
              "      <td>Adm-clerical</td>\n",
              "      <td>Not-in-family</td>\n",
              "      <td>White</td>\n",
              "      <td>Male</td>\n",
              "      <td>2174</td>\n",
              "      <td>0</td>\n",
              "      <td>40</td>\n",
              "      <td>United-States</td>\n",
              "      <td>&lt;=50K</td>\n",
              "    </tr>\n",
              "    <tr>\n",
              "      <th>1</th>\n",
              "      <td>50</td>\n",
              "      <td>Self-emp-not-inc</td>\n",
              "      <td>83311</td>\n",
              "      <td>Bachelors</td>\n",
              "      <td>13</td>\n",
              "      <td>Married-civ-spouse</td>\n",
              "      <td>Exec-managerial</td>\n",
              "      <td>Husband</td>\n",
              "      <td>White</td>\n",
              "      <td>Male</td>\n",
              "      <td>0</td>\n",
              "      <td>0</td>\n",
              "      <td>13</td>\n",
              "      <td>United-States</td>\n",
              "      <td>&lt;=50K</td>\n",
              "    </tr>\n",
              "    <tr>\n",
              "      <th>2</th>\n",
              "      <td>38</td>\n",
              "      <td>Private</td>\n",
              "      <td>215646</td>\n",
              "      <td>HS-grad</td>\n",
              "      <td>9</td>\n",
              "      <td>Divorced</td>\n",
              "      <td>Handlers-cleaners</td>\n",
              "      <td>Not-in-family</td>\n",
              "      <td>White</td>\n",
              "      <td>Male</td>\n",
              "      <td>0</td>\n",
              "      <td>0</td>\n",
              "      <td>40</td>\n",
              "      <td>United-States</td>\n",
              "      <td>&lt;=50K</td>\n",
              "    </tr>\n",
              "    <tr>\n",
              "      <th>3</th>\n",
              "      <td>53</td>\n",
              "      <td>Private</td>\n",
              "      <td>234721</td>\n",
              "      <td>11th</td>\n",
              "      <td>7</td>\n",
              "      <td>Married-civ-spouse</td>\n",
              "      <td>Handlers-cleaners</td>\n",
              "      <td>Husband</td>\n",
              "      <td>Black</td>\n",
              "      <td>Male</td>\n",
              "      <td>0</td>\n",
              "      <td>0</td>\n",
              "      <td>40</td>\n",
              "      <td>United-States</td>\n",
              "      <td>&lt;=50K</td>\n",
              "    </tr>\n",
              "    <tr>\n",
              "      <th>4</th>\n",
              "      <td>28</td>\n",
              "      <td>Private</td>\n",
              "      <td>338409</td>\n",
              "      <td>Bachelors</td>\n",
              "      <td>13</td>\n",
              "      <td>Married-civ-spouse</td>\n",
              "      <td>Prof-specialty</td>\n",
              "      <td>Wife</td>\n",
              "      <td>Black</td>\n",
              "      <td>Female</td>\n",
              "      <td>0</td>\n",
              "      <td>0</td>\n",
              "      <td>40</td>\n",
              "      <td>Cuba</td>\n",
              "      <td>&lt;=50K</td>\n",
              "    </tr>\n",
              "  </tbody>\n",
              "</table>\n",
              "</div>"
            ],
            "text/plain": [
              "   age          workclass  fnlwgt   education  education.num  \\\n",
              "0   39          State-gov   77516   Bachelors             13   \n",
              "1   50   Self-emp-not-inc   83311   Bachelors             13   \n",
              "2   38            Private  215646     HS-grad              9   \n",
              "3   53            Private  234721        11th              7   \n",
              "4   28            Private  338409   Bachelors             13   \n",
              "\n",
              "        marital.status          occupation    relationship    race      sex  \\\n",
              "0        Never-married        Adm-clerical   Not-in-family   White     Male   \n",
              "1   Married-civ-spouse     Exec-managerial         Husband   White     Male   \n",
              "2             Divorced   Handlers-cleaners   Not-in-family   White     Male   \n",
              "3   Married-civ-spouse   Handlers-cleaners         Husband   Black     Male   \n",
              "4   Married-civ-spouse      Prof-specialty            Wife   Black   Female   \n",
              "\n",
              "   capital.gain  capital.loss  hours.per.week  native.country  income  \n",
              "0          2174             0              40   United-States   <=50K  \n",
              "1             0             0              13   United-States   <=50K  \n",
              "2             0             0              40   United-States   <=50K  \n",
              "3             0             0              40   United-States   <=50K  \n",
              "4             0             0              40            Cuba   <=50K  "
            ]
          },
          "execution_count": 2,
          "metadata": {},
          "output_type": "execute_result"
        }
      ],
      "source": [
        "columns='age,workclass,fnlwgt,education,education.num,marital.status,occupation,relationship,race,sex,capital.gain,capital.loss,hours.per.week,native.country,income'.split(',')\n",
        "# df = pd.read_csv('../../data/adult.csv.gz', na_values='?') # можно загрузить из файла или URL\n",
        "df = pd.read_csv('https://archive.ics.uci.edu/ml/machine-learning-databases/adult/adult.data', na_values='?', names=columns)\n",
        "df.head()"
      ]
    },
    {
      "cell_type": "markdown",
      "metadata": {
        "id": "CBW15ofwiDYE"
      },
      "source": [
        "1) Выведите последние 10 элеметнов датасета"
      ]
    },
    {
      "cell_type": "code",
      "execution_count": 4,
      "metadata": {
        "id": "9ju_erEKiDYE"
      },
      "outputs": [
        {
          "data": {
            "text/html": [
              "<div>\n",
              "<style scoped>\n",
              "    .dataframe tbody tr th:only-of-type {\n",
              "        vertical-align: middle;\n",
              "    }\n",
              "\n",
              "    .dataframe tbody tr th {\n",
              "        vertical-align: top;\n",
              "    }\n",
              "\n",
              "    .dataframe thead th {\n",
              "        text-align: right;\n",
              "    }\n",
              "</style>\n",
              "<table border=\"1\" class=\"dataframe\">\n",
              "  <thead>\n",
              "    <tr style=\"text-align: right;\">\n",
              "      <th></th>\n",
              "      <th>age</th>\n",
              "      <th>workclass</th>\n",
              "      <th>fnlwgt</th>\n",
              "      <th>education</th>\n",
              "      <th>education.num</th>\n",
              "      <th>marital.status</th>\n",
              "      <th>occupation</th>\n",
              "      <th>relationship</th>\n",
              "      <th>race</th>\n",
              "      <th>sex</th>\n",
              "      <th>capital.gain</th>\n",
              "      <th>capital.loss</th>\n",
              "      <th>hours.per.week</th>\n",
              "      <th>native.country</th>\n",
              "      <th>income</th>\n",
              "    </tr>\n",
              "  </thead>\n",
              "  <tbody>\n",
              "    <tr>\n",
              "      <th>32551</th>\n",
              "      <td>32</td>\n",
              "      <td>Private</td>\n",
              "      <td>34066</td>\n",
              "      <td>10th</td>\n",
              "      <td>6</td>\n",
              "      <td>Married-civ-spouse</td>\n",
              "      <td>Handlers-cleaners</td>\n",
              "      <td>Husband</td>\n",
              "      <td>Amer-Indian-Eskimo</td>\n",
              "      <td>Male</td>\n",
              "      <td>0</td>\n",
              "      <td>0</td>\n",
              "      <td>40</td>\n",
              "      <td>United-States</td>\n",
              "      <td>&lt;=50K</td>\n",
              "    </tr>\n",
              "    <tr>\n",
              "      <th>32552</th>\n",
              "      <td>43</td>\n",
              "      <td>Private</td>\n",
              "      <td>84661</td>\n",
              "      <td>Assoc-voc</td>\n",
              "      <td>11</td>\n",
              "      <td>Married-civ-spouse</td>\n",
              "      <td>Sales</td>\n",
              "      <td>Husband</td>\n",
              "      <td>White</td>\n",
              "      <td>Male</td>\n",
              "      <td>0</td>\n",
              "      <td>0</td>\n",
              "      <td>45</td>\n",
              "      <td>United-States</td>\n",
              "      <td>&lt;=50K</td>\n",
              "    </tr>\n",
              "    <tr>\n",
              "      <th>32553</th>\n",
              "      <td>32</td>\n",
              "      <td>Private</td>\n",
              "      <td>116138</td>\n",
              "      <td>Masters</td>\n",
              "      <td>14</td>\n",
              "      <td>Never-married</td>\n",
              "      <td>Tech-support</td>\n",
              "      <td>Not-in-family</td>\n",
              "      <td>Asian-Pac-Islander</td>\n",
              "      <td>Male</td>\n",
              "      <td>0</td>\n",
              "      <td>0</td>\n",
              "      <td>11</td>\n",
              "      <td>Taiwan</td>\n",
              "      <td>&lt;=50K</td>\n",
              "    </tr>\n",
              "    <tr>\n",
              "      <th>32554</th>\n",
              "      <td>53</td>\n",
              "      <td>Private</td>\n",
              "      <td>321865</td>\n",
              "      <td>Masters</td>\n",
              "      <td>14</td>\n",
              "      <td>Married-civ-spouse</td>\n",
              "      <td>Exec-managerial</td>\n",
              "      <td>Husband</td>\n",
              "      <td>White</td>\n",
              "      <td>Male</td>\n",
              "      <td>0</td>\n",
              "      <td>0</td>\n",
              "      <td>40</td>\n",
              "      <td>United-States</td>\n",
              "      <td>&gt;50K</td>\n",
              "    </tr>\n",
              "    <tr>\n",
              "      <th>32555</th>\n",
              "      <td>22</td>\n",
              "      <td>Private</td>\n",
              "      <td>310152</td>\n",
              "      <td>Some-college</td>\n",
              "      <td>10</td>\n",
              "      <td>Never-married</td>\n",
              "      <td>Protective-serv</td>\n",
              "      <td>Not-in-family</td>\n",
              "      <td>White</td>\n",
              "      <td>Male</td>\n",
              "      <td>0</td>\n",
              "      <td>0</td>\n",
              "      <td>40</td>\n",
              "      <td>United-States</td>\n",
              "      <td>&lt;=50K</td>\n",
              "    </tr>\n",
              "    <tr>\n",
              "      <th>32556</th>\n",
              "      <td>27</td>\n",
              "      <td>Private</td>\n",
              "      <td>257302</td>\n",
              "      <td>Assoc-acdm</td>\n",
              "      <td>12</td>\n",
              "      <td>Married-civ-spouse</td>\n",
              "      <td>Tech-support</td>\n",
              "      <td>Wife</td>\n",
              "      <td>White</td>\n",
              "      <td>Female</td>\n",
              "      <td>0</td>\n",
              "      <td>0</td>\n",
              "      <td>38</td>\n",
              "      <td>United-States</td>\n",
              "      <td>&lt;=50K</td>\n",
              "    </tr>\n",
              "    <tr>\n",
              "      <th>32557</th>\n",
              "      <td>40</td>\n",
              "      <td>Private</td>\n",
              "      <td>154374</td>\n",
              "      <td>HS-grad</td>\n",
              "      <td>9</td>\n",
              "      <td>Married-civ-spouse</td>\n",
              "      <td>Machine-op-inspct</td>\n",
              "      <td>Husband</td>\n",
              "      <td>White</td>\n",
              "      <td>Male</td>\n",
              "      <td>0</td>\n",
              "      <td>0</td>\n",
              "      <td>40</td>\n",
              "      <td>United-States</td>\n",
              "      <td>&gt;50K</td>\n",
              "    </tr>\n",
              "    <tr>\n",
              "      <th>32558</th>\n",
              "      <td>58</td>\n",
              "      <td>Private</td>\n",
              "      <td>151910</td>\n",
              "      <td>HS-grad</td>\n",
              "      <td>9</td>\n",
              "      <td>Widowed</td>\n",
              "      <td>Adm-clerical</td>\n",
              "      <td>Unmarried</td>\n",
              "      <td>White</td>\n",
              "      <td>Female</td>\n",
              "      <td>0</td>\n",
              "      <td>0</td>\n",
              "      <td>40</td>\n",
              "      <td>United-States</td>\n",
              "      <td>&lt;=50K</td>\n",
              "    </tr>\n",
              "    <tr>\n",
              "      <th>32559</th>\n",
              "      <td>22</td>\n",
              "      <td>Private</td>\n",
              "      <td>201490</td>\n",
              "      <td>HS-grad</td>\n",
              "      <td>9</td>\n",
              "      <td>Never-married</td>\n",
              "      <td>Adm-clerical</td>\n",
              "      <td>Own-child</td>\n",
              "      <td>White</td>\n",
              "      <td>Male</td>\n",
              "      <td>0</td>\n",
              "      <td>0</td>\n",
              "      <td>20</td>\n",
              "      <td>United-States</td>\n",
              "      <td>&lt;=50K</td>\n",
              "    </tr>\n",
              "    <tr>\n",
              "      <th>32560</th>\n",
              "      <td>52</td>\n",
              "      <td>Self-emp-inc</td>\n",
              "      <td>287927</td>\n",
              "      <td>HS-grad</td>\n",
              "      <td>9</td>\n",
              "      <td>Married-civ-spouse</td>\n",
              "      <td>Exec-managerial</td>\n",
              "      <td>Wife</td>\n",
              "      <td>White</td>\n",
              "      <td>Female</td>\n",
              "      <td>15024</td>\n",
              "      <td>0</td>\n",
              "      <td>40</td>\n",
              "      <td>United-States</td>\n",
              "      <td>&gt;50K</td>\n",
              "    </tr>\n",
              "  </tbody>\n",
              "</table>\n",
              "</div>"
            ],
            "text/plain": [
              "       age      workclass  fnlwgt      education  education.num  \\\n",
              "32551   32        Private   34066           10th              6   \n",
              "32552   43        Private   84661      Assoc-voc             11   \n",
              "32553   32        Private  116138        Masters             14   \n",
              "32554   53        Private  321865        Masters             14   \n",
              "32555   22        Private  310152   Some-college             10   \n",
              "32556   27        Private  257302     Assoc-acdm             12   \n",
              "32557   40        Private  154374        HS-grad              9   \n",
              "32558   58        Private  151910        HS-grad              9   \n",
              "32559   22        Private  201490        HS-grad              9   \n",
              "32560   52   Self-emp-inc  287927        HS-grad              9   \n",
              "\n",
              "            marital.status          occupation    relationship  \\\n",
              "32551   Married-civ-spouse   Handlers-cleaners         Husband   \n",
              "32552   Married-civ-spouse               Sales         Husband   \n",
              "32553        Never-married        Tech-support   Not-in-family   \n",
              "32554   Married-civ-spouse     Exec-managerial         Husband   \n",
              "32555        Never-married     Protective-serv   Not-in-family   \n",
              "32556   Married-civ-spouse        Tech-support            Wife   \n",
              "32557   Married-civ-spouse   Machine-op-inspct         Husband   \n",
              "32558              Widowed        Adm-clerical       Unmarried   \n",
              "32559        Never-married        Adm-clerical       Own-child   \n",
              "32560   Married-civ-spouse     Exec-managerial            Wife   \n",
              "\n",
              "                      race      sex  capital.gain  capital.loss  \\\n",
              "32551   Amer-Indian-Eskimo     Male             0             0   \n",
              "32552                White     Male             0             0   \n",
              "32553   Asian-Pac-Islander     Male             0             0   \n",
              "32554                White     Male             0             0   \n",
              "32555                White     Male             0             0   \n",
              "32556                White   Female             0             0   \n",
              "32557                White     Male             0             0   \n",
              "32558                White   Female             0             0   \n",
              "32559                White     Male             0             0   \n",
              "32560                White   Female         15024             0   \n",
              "\n",
              "       hours.per.week  native.country  income  \n",
              "32551              40   United-States   <=50K  \n",
              "32552              45   United-States   <=50K  \n",
              "32553              11          Taiwan   <=50K  \n",
              "32554              40   United-States    >50K  \n",
              "32555              40   United-States   <=50K  \n",
              "32556              38   United-States   <=50K  \n",
              "32557              40   United-States    >50K  \n",
              "32558              40   United-States   <=50K  \n",
              "32559              20   United-States   <=50K  \n",
              "32560              40   United-States    >50K  "
            ]
          },
          "execution_count": 4,
          "metadata": {},
          "output_type": "execute_result"
        }
      ],
      "source": [
        "df.tail(10)"
      ]
    },
    {
      "cell_type": "markdown",
      "metadata": {
        "id": "RDlLa_9giDYF"
      },
      "source": [
        "2) Сколько колонок и сколько строк в этом датасете?"
      ]
    },
    {
      "cell_type": "code",
      "execution_count": 5,
      "metadata": {
        "id": "Kf2WGv5EiDYF"
      },
      "outputs": [
        {
          "name": "stdout",
          "output_type": "stream",
          "text": [
            "Количество строк: 32561\n",
            "Количество столбцов: 15\n"
          ]
        }
      ],
      "source": [
        "rows, columns = df.shape\n",
        "\n",
        "print(\"Количество строк:\", rows)\n",
        "print(\"Количество столбцов:\", columns)"
      ]
    },
    {
      "cell_type": "code",
      "execution_count": 6,
      "metadata": {},
      "outputs": [
        {
          "name": "stdout",
          "output_type": "stream",
          "text": [
            "<class 'pandas.core.frame.DataFrame'>\n",
            "RangeIndex: 32561 entries, 0 to 32560\n",
            "Data columns (total 15 columns):\n",
            " #   Column          Non-Null Count  Dtype \n",
            "---  ------          --------------  ----- \n",
            " 0   age             32561 non-null  int64 \n",
            " 1   workclass       32561 non-null  object\n",
            " 2   fnlwgt          32561 non-null  int64 \n",
            " 3   education       32561 non-null  object\n",
            " 4   education.num   32561 non-null  int64 \n",
            " 5   marital.status  32561 non-null  object\n",
            " 6   occupation      32561 non-null  object\n",
            " 7   relationship    32561 non-null  object\n",
            " 8   race            32561 non-null  object\n",
            " 9   sex             32561 non-null  object\n",
            " 10  capital.gain    32561 non-null  int64 \n",
            " 11  capital.loss    32561 non-null  int64 \n",
            " 12  hours.per.week  32561 non-null  int64 \n",
            " 13  native.country  32561 non-null  object\n",
            " 14  income          32561 non-null  object\n",
            "dtypes: int64(6), object(9)\n",
            "memory usage: 3.7+ MB\n"
          ]
        }
      ],
      "source": [
        "#альтернативный способ более подробная статистика\n",
        "df_info = df.info()"
      ]
    },
    {
      "cell_type": "markdown",
      "metadata": {
        "id": "ZVCtU4j7iDYF"
      },
      "source": [
        "3) Какие типы данных у элементов этого датасета?"
      ]
    },
    {
      "cell_type": "code",
      "execution_count": 7,
      "metadata": {
        "id": "0vJss_heiDYF"
      },
      "outputs": [
        {
          "data": {
            "text/plain": [
              "age                int64\n",
              "workclass         object\n",
              "fnlwgt             int64\n",
              "education         object\n",
              "education.num      int64\n",
              "marital.status    object\n",
              "occupation        object\n",
              "relationship      object\n",
              "race              object\n",
              "sex               object\n",
              "capital.gain       int64\n",
              "capital.loss       int64\n",
              "hours.per.week     int64\n",
              "native.country    object\n",
              "income            object\n",
              "dtype: object"
            ]
          },
          "execution_count": 7,
          "metadata": {},
          "output_type": "execute_result"
        }
      ],
      "source": [
        "df.dtypes\n",
        "# \"int64\" обозначает тип данных целых чисел\n",
        "# \"float64\" - тип данных вещественных чисел\n",
        "# \"object\" - тип данных строк."
      ]
    },
    {
      "cell_type": "markdown",
      "metadata": {
        "id": "gf3aZgQgiDYF"
      },
      "source": [
        "4) Какие признаки имеют пропуски?"
      ]
    },
    {
      "cell_type": "code",
      "execution_count": 9,
      "metadata": {
        "id": "b36er8h6iDYG"
      },
      "outputs": [
        {
          "name": "stdout",
          "output_type": "stream",
          "text": [
            "age               False\n",
            "workclass         False\n",
            "fnlwgt            False\n",
            "education         False\n",
            "education.num     False\n",
            "marital.status    False\n",
            "occupation        False\n",
            "relationship      False\n",
            "race              False\n",
            "sex               False\n",
            "capital.gain      False\n",
            "capital.loss      False\n",
            "hours.per.week    False\n",
            "native.country    False\n",
            "income            False\n",
            "dtype: bool\n",
            "age               0\n",
            "workclass         0\n",
            "fnlwgt            0\n",
            "education         0\n",
            "education.num     0\n",
            "marital.status    0\n",
            "occupation        0\n",
            "relationship      0\n",
            "race              0\n",
            "sex               0\n",
            "capital.gain      0\n",
            "capital.loss      0\n",
            "hours.per.week    0\n",
            "native.country    0\n",
            "income            0\n",
            "dtype: int64\n"
          ]
        }
      ],
      "source": [
        "# сначала я стал искать None \n",
        "features_with_missing_values = df.isna().any()\n",
        "\n",
        "print(features_with_missing_values)\n",
        "\n",
        "# и посчитал их...\n",
        "missing_values_count = df.isna().sum()\n",
        "\n",
        "print(missing_values_count)\n",
        "\n",
        "# но это было бессмысленно"
      ]
    },
    {
      "cell_type": "code",
      "execution_count": 16,
      "metadata": {},
      "outputs": [
        {
          "name": "stdout",
          "output_type": "stream",
          "text": [
            "age                   0\n",
            "workclass             0\n",
            "fnlwgt                0\n",
            "education             0\n",
            "education.num         0\n",
            "marital.status        0\n",
            "occupation            0\n",
            "relationship          0\n",
            "race                  0\n",
            "sex                   0\n",
            "capital.gain      29849\n",
            "capital.loss      31042\n",
            "hours.per.week        0\n",
            "native.country        0\n",
            "income                0\n",
            "dtype: int64\n"
          ]
        }
      ],
      "source": [
        "# тогда я посчитал количество 0 по столбцам\n",
        "zero_count = (df == 0).sum()\n",
        "print(zero_count)\n",
        "# однако сверившись с сайтом обнаружил, что 0 также не считается потерянными значениями... capital-gain  Missing Values  = false"
      ]
    },
    {
      "cell_type": "code",
      "execution_count": 15,
      "metadata": {},
      "outputs": [
        {
          "name": "stdout",
          "output_type": "stream",
          "text": [
            "age                  0\n",
            "workclass         1836\n",
            "fnlwgt               0\n",
            "education            0\n",
            "education.num        0\n",
            "marital.status       0\n",
            "occupation        1843\n",
            "relationship         0\n",
            "race                 0\n",
            "sex                  0\n",
            "capital.gain         0\n",
            "capital.loss         0\n",
            "hours.per.week       0\n",
            "native.country     583\n",
            "income               0\n",
            "dtype: int64\n"
          ]
        }
      ],
      "source": [
        "question = (df == \" ?\").sum() # затем я более внимательно всмотрелся в датасет и обнаружил, что вместо Null и 0 используется значок ?. Как бонус перед ним ещё и пробел поставили. \n",
        "# То есть надо искать  \" ?\"\n",
        "print(question)"
      ]
    },
    {
      "cell_type": "markdown",
      "metadata": {
        "id": "pLGvRmmCiDYG"
      },
      "source": [
        "5) Как вы думаете, с чем связаны пропуски этих значение. Напишите развернутый ответ в ячейке ниже."
      ]
    },
    {
      "cell_type": "markdown",
      "metadata": {
        "id": "_qAh-O71iDYG"
      },
      "source": [
        "Ваш ответ:  \n",
        "\n",
        "**Нет информации**: Пропуски могут возникать, если определенные признаки не были заполнены или не были известны в момент сбора данных. \n",
        "\n",
        "**Ошибка в сборе данных**: Пропуски также могут возникать из-за ошибок в сборе данных. Например, ошибка при внесении данных или некорректное заполнение формы опроса может привести к пропускам. Или сотрудник не смог прочитать, что написано в анкете\n",
        "\n",
        "**Отсутствие ответа**: Некоторые опрошенные могли выбрать не отвечать на определенные вопросы, по разным причинам, включая приватность или нежелание раскрывать определенную информацию. \n",
        "\n",
        "**Неучтенные категории**: Возможно, что некоторые категории класса работы или профессии не были учтены в изначальной анкете или опросе, что могло привести к пропускам."
      ]
    },
    {
      "cell_type": "markdown",
      "metadata": {
        "id": "xCdUPrTjiDYG"
      },
      "source": [
        "6) Какие и сколько различных рабочих классов workclass представлено в выборке?"
      ]
    },
    {
      "cell_type": "code",
      "execution_count": 18,
      "metadata": {
        "id": "X4PyXGDZiDYG"
      },
      "outputs": [
        {
          "name": "stdout",
          "output_type": "stream",
          "text": [
            "Различные рабочие классы (workclass):\n",
            " State-gov\n",
            " Self-emp-not-inc\n",
            " Private\n",
            " Federal-gov\n",
            " Local-gov\n",
            " ?\n",
            " Self-emp-inc\n",
            " Without-pay\n",
            " Never-worked\n",
            "\n",
            "Общее количество различных рабочих классов (учитывая None (?) ): 9\n"
          ]
        }
      ],
      "source": [
        "unique_workclasses = df['workclass'].unique()\n",
        "num_unique_workclasses = len(unique_workclasses)\n",
        "\n",
        "print(\"Различные рабочие классы (workclass):\")\n",
        "for workclass in unique_workclasses:\n",
        "    print(workclass)\n",
        "\n",
        "print(\"\\nОбщее количество различных рабочих классов (учитывая None (?) ):\", num_unique_workclasses)"
      ]
    },
    {
      "cell_type": "markdown",
      "metadata": {
        "id": "3zMVRfUViDYG"
      },
      "source": [
        "7) Какой средний возраст женщин и мужчин?"
      ]
    },
    {
      "cell_type": "code",
      "execution_count": 41,
      "metadata": {
        "id": "IcmApDX6iDYH"
      },
      "outputs": [
        {
          "name": "stdout",
          "output_type": "stream",
          "text": [
            "Средний возраст женщин и мужчин:\n",
            "sex\n",
            " Female    36.9\n",
            " Male      39.4\n",
            "Name: age, dtype: float64\n",
            "Средний возраст людей:\n",
            "38.6\n"
          ]
        }
      ],
      "source": [
        "average_age_by_sex = df.groupby('sex')['age'].mean()\n",
        "\n",
        "print(\"Средний возраст женщин и мужчин:\")\n",
        "print(round(average_age_by_sex, 1)) #округлил до десятых\n",
        "\n",
        "average_age = df['age'].mean()\n",
        "\n",
        "print(\"Средний возраст людей:\")\n",
        "print(round(average_age, 1))"
      ]
    },
    {
      "cell_type": "markdown",
      "metadata": {
        "id": "UZSecBMaiDYH"
      },
      "source": [
        "8) Постройте гистограмму(bar) распределения образования людей (education)"
      ]
    },
    {
      "cell_type": "code",
      "execution_count": 42,
      "metadata": {
        "id": "ttZFz50PiDYH"
      },
      "outputs": [
        {
          "data": {
            "text/plain": [
              "<Axes: xlabel='count', ylabel='education'>"
            ]
          },
          "execution_count": 42,
          "metadata": {},
          "output_type": "execute_result"
        },
        {
          "data": {
            "image/png": "[encoded data removed]",
            "text/plain": [
              "<Figure size 640x480 with 1 Axes>"
            ]
          },
          "metadata": {},
          "output_type": "display_data"
        }
      ],
      "source": [
        "import seaborn as sns\n",
        "\n",
        "# Получение количества людей с каждым уровнем образования\n",
        "education_counts = df['education'].value_counts().reset_index()\n",
        "education_counts.columns = ['education', 'count']\n",
        "\n",
        "# Создание графика с использованием Seaborn\n",
        "sns.barplot(x='count', y='education', data=education_counts, palette='viridis')"
      ]
    },
    {
      "cell_type": "markdown",
      "metadata": {
        "id": "hJS5Fd3QiDYH"
      },
      "source": [
        "9) Каковы средние значения и среднеквадратичные отклонения возраста тех, кто получает более 50K в год (признак salary) и тех, кто получает менее 50K в год?"
      ]
    },
    {
      "cell_type": "code",
      "execution_count": 51,
      "metadata": {
        "id": "S0nw_8_BiDYH"
      },
      "outputs": [
        {
          "name": "stdout",
          "output_type": "stream",
          "text": [
            "        средний_возраст  стандартное_отклонение\n",
            "income                                         \n",
            " <=50K        36.783738               14.020088\n",
            " >50K         44.249841               10.519028\n"
          ]
        }
      ],
      "source": [
        "\n",
        "income_stats = df.groupby('income')['age'].agg(['mean', 'std']) # группировка\n",
        "\n",
        "income_stats.rename(columns={'mean': 'средний_возраст', 'std': 'стандартное_отклонение'}, inplace=True) #пояснительнные столбцы вставим\n",
        "\n",
        "# Вывод статистики\n",
        "print(income_stats)"
      ]
    },
    {
      "cell_type": "markdown",
      "metadata": {
        "id": "1c8cJ2MPiDYH"
      },
      "source": [
        "10) Правда ли, что люди, которые получают больше 50k, имеют как минимум высшее образование? (признак education - Bachelors, Prof-school, Assoc-acdm, Assoc-voc, Masters или Doctorate)"
      ]
    },
    {
      "cell_type": "code",
      "execution_count": 59,
      "metadata": {
        "id": "LteMTUfDiDYH"
      },
      "outputs": [
        {
          "name": "stdout",
          "output_type": "stream",
          "text": [
            "<pandas.core.groupby.generic.SeriesGroupBy object at 0x000001DF596FF010>\n",
            "Верно ли, что все люди, получающие больше 50K, имеют высшее образование: False\n"
          ]
        }
      ],
      "source": [
        "condition = (df['income'] == ' >50K') & (df['education'].isin(['Bachelors', 'Prof-school', 'Assoc-acdm', 'Assoc-voc', 'Masters', 'Doctorate']))\n",
        "\n",
        "\n",
        "income_stats = df.groupby('income')['education'] # группировка\n",
        "\n",
        "print(income_stats)\n",
        "# Проверка, правда ли, что все люди, получающие больше 50K, имеют высшее образование\n",
        "all_high_education = condition.all()\n",
        "\n",
        "print(\"Верно ли, что все люди, получающие больше 50K, имеют высшее образование:\", all_high_education) #не правда"
      ]
    },
    {
      "cell_type": "code",
      "execution_count": 60,
      "metadata": {},
      "outputs": [
        {
          "name": "stdout",
          "output_type": "stream",
          "text": [
            "Лица с доходом более 50K, сгруппированные по образованию:\n",
            "        education  count\n",
            "0       Bachelors   2221\n",
            "1         HS-grad   1675\n",
            "2    Some-college   1387\n",
            "3         Masters    959\n",
            "4     Prof-school    423\n",
            "5       Assoc-voc    361\n",
            "6       Doctorate    306\n",
            "7      Assoc-acdm    265\n",
            "8            10th     62\n",
            "9            11th     60\n",
            "10        7th-8th     40\n",
            "11           12th     33\n",
            "12            9th     27\n",
            "13        5th-6th     16\n",
            "14        1st-4th      6\n"
          ]
        }
      ],
      "source": [
        "# Чтобы успокоиться и проверить, что это действительно так \n",
        "\n",
        "high_income_data = df[df['income'] == ' >50K']\n",
        "\n",
        "# Группировка данных по образованию и подсчет количества людей в каждой группе\n",
        "education_counts = high_income_data['education'].value_counts().reset_index()\n",
        "education_counts.columns = ['education', 'count']\n",
        "\n",
        "# Вывод результата\n",
        "print(\"Лица с доходом более 50K, сгруппированные по образованию:\")\n",
        "print(education_counts)"
      ]
    },
    {
      "cell_type": "markdown",
      "metadata": {
        "id": "X9fyL577iDYI"
      },
      "source": [
        "11) Среди кого больше доля зарабатывающих много (>50K): среди женатых или холостых мужчин (признак marital-status)? Женатыми считаем тех, у кого marital-status начинается с Married (Married-civ-spouse, Married-spouse-absent или Married-AF-spouse), остальных считаем холостыми."
      ]
    },
    {
      "cell_type": "code",
      "execution_count": 66,
      "metadata": {
        "id": "SJS-ZxhbiDYI"
      },
      "outputs": [
        {
          "name": "stdout",
          "output_type": "stream",
          "text": [
            "Доля зарабатывающих много среди женатых мужчин: 0.4405139945351156\n",
            "Доля зарабатывающих много среди холостых мужчин: 0.08449509031397745\n",
            "Среди женатых мужчин доля зарабатывающих много больше.\n"
          ]
        }
      ],
      "source": [
        "# Фильтрация данных для женатых мужчин\n",
        "married_men = df[(df['marital.status'].str.startswith(' Married')) & (df['sex'] == ' Male')]\n",
        "\n",
        "# Фильтрация данных для холостых мужчин\n",
        "single_men = df[(~df['marital.status'].str.startswith(' Married')) & (df['sex'] == ' Male')]\n",
        "\n",
        "# Вычисление доли зарабатывающих много среди женатых и холостых мужчин\n",
        "percentage_high_income_married = (married_men['income'] == ' >50K').mean()\n",
        "percentage_high_income_single = (single_men['income'] == ' >50K').mean()\n",
        "\n",
        "print(\"Доля зарабатывающих много среди женатых мужчин:\", percentage_high_income_married)\n",
        "print(\"Доля зарабатывающих много среди холостых мужчин:\", percentage_high_income_single)\n",
        "\n",
        "if percentage_high_income_married > percentage_high_income_single:\n",
        "    print(\"Среди женатых мужчин доля зарабатывающих много больше.\")\n",
        "elif percentage_high_income_married < percentage_high_income_single:\n",
        "    print(\"Среди холостых мужчин доля зарабатывающих много больше.\")\n",
        "else:\n",
        "    print(\"Доли одинаковы среди женатых и холостых мужчин.\")"
      ]
    },
    {
      "cell_type": "markdown",
      "metadata": {
        "id": "i7-zNsnIiDYI"
      },
      "source": [
        "12) Посчитайте среднее время работы (hours-per-week) зарабатывающих мало и много (salary) для каждой страны (native-country)."
      ]
    },
    {
      "cell_type": "code",
      "execution_count": 23,
      "metadata": {},
      "outputs": [
        {
          "name": "stdout",
          "output_type": "stream",
          "text": [
            "income                           <=50K       >50K\n",
            "native.country                                   \n",
            " ?                           40.164760  45.547945\n",
            " Cambodia                    41.416667  40.000000\n",
            " Canada                      37.914634  45.641026\n",
            " China                       37.381818  38.900000\n",
            " Columbia                    38.684211  50.000000\n",
            " Cuba                        37.985714  42.440000\n",
            " Dominican-Republic          42.338235  47.000000\n",
            " Ecuador                     38.041667  48.750000\n",
            " El-Salvador                 36.030928  45.000000\n",
            " England                     40.483333  44.533333\n",
            " France                      41.058824  50.750000\n",
            " Germany                     39.139785  44.977273\n",
            " Greece                      41.809524  50.625000\n",
            " Guatemala                   39.360656  36.666667\n",
            " Haiti                       36.325000  42.750000\n",
            " Holand-Netherlands          40.000000        NaN\n",
            " Honduras                    34.333333  60.000000\n",
            " Hong                        39.142857  45.000000\n",
            " Hungary                     31.300000  50.000000\n",
            " India                       38.233333  46.475000\n",
            " Iran                        41.440000  47.500000\n",
            " Ireland                     40.947368  48.000000\n",
            " Italy                       39.625000  45.400000\n",
            " Jamaica                     38.239437  41.100000\n",
            " Japan                       41.000000  47.958333\n",
            " Laos                        40.375000  40.000000\n",
            " Mexico                      40.003279  46.575758\n",
            " Nicaragua                   36.093750  37.500000\n",
            " Outlying-US(Guam-USVI-etc)  41.857143        NaN\n",
            " Peru                        35.068966  40.000000\n",
            " Philippines                 38.065693  43.032787\n",
            " Poland                      38.166667  39.000000\n",
            " Portugal                    41.939394  41.500000\n",
            " Puerto-Rico                 38.470588  39.416667\n",
            " Scotland                    39.444444  46.666667\n",
            " South                       40.156250  51.437500\n",
            " Taiwan                      33.774194  46.800000\n",
            " Thailand                    42.866667  58.333333\n",
            " Trinadad&Tobago             37.058824  40.000000\n",
            " United-States               38.799127  45.505369\n",
            " Vietnam                     37.193548  39.200000\n",
            " Yugoslavia                  41.600000  49.500000\n"
          ]
        }
      ],
      "source": [
        "pivot_table = pd.crosstab(index=df['native.country'], columns=df['income'], values=df['hours.per.week'], aggfunc='mean')\n",
        "\n",
        "# Отобразим сводную таблицу\n",
        "print(pivot_table)"
      ]
    },
    {
      "cell_type": "markdown",
      "metadata": {
        "id": "u4c01nU6iDYI"
      },
      "source": [
        "13)  Постройте сводную таблицу для сравнения уровня образования и разности между capital.gain и capital.loss по следующему алгоритму: \n",
        "1. Создайте вспомогательную таблицу (датафрейм) и добавьте в неё столбец \"education\" из целевой таблицы\n",
        "2. Добавьте во вспомогательную таблицу ещё один столбец \"capital.diff\", значиниями которого будут являться разности столбцов capital.gain и capital.loss целевой таблицы\n",
        "3. Удалите во вспомогательной таблице все строки, в которых значение столбца \"capital.diff\" равно нулю\n",
        "  \n",
        "  Подсказка:\n",
        "\n",
        " 4.  summary_table = summary_table[summary_table['capital.diff'] != 0 ]\n",
        "  Для набора значений из столбца \"capital.diff\", необходимо сформировать 10 категорий (кластеров), это можно сделать с помощью математических функций, типа log, извлечение корня N-ой степени и округления, для последующего перехода к категориальным признакам.\n",
        "  \n",
        "  - В нашем случае, можно воспользоваться методом pd.qcut() и равномерно разделить наш набор данных на целевое количество категорий\n",
        "\n",
        " 5. Добавьте во вспомогательную таблицу столбец \"categories\", и проинициализируйте его значениями категорий, которые возвращает метод pd.qcut()\n",
        "  Пример:\n",
        "\n",
        "summary_table['categories'] = pd.qcut(summary_table[\"capital.diff\"], q = 10)\n",
        "\n",
        "6. Постройте сводную таблицу с помощью метода pivot_table(),\n",
        "\n",
        "Примерная структура таблицы (в качестве значений выводится количество людей, относящихся к той или иной группе):"
      ]
    },
    {
      "cell_type": "code",
      "execution_count": 41,
      "metadata": {},
      "outputs": [
        {
          "data": {
            "text/html": [
              "<div>\n",
              "<style scoped>\n",
              "    .dataframe tbody tr th:only-of-type {\n",
              "        vertical-align: middle;\n",
              "    }\n",
              "\n",
              "    .dataframe tbody tr th {\n",
              "        vertical-align: top;\n",
              "    }\n",
              "\n",
              "    .dataframe thead th {\n",
              "        text-align: right;\n",
              "    }\n",
              "</style>\n",
              "<table border=\"1\" class=\"dataframe\">\n",
              "  <thead>\n",
              "    <tr style=\"text-align: right;\">\n",
              "      <th>col_0</th>\n",
              "      <th>(-4356.001, -1977.0]</th>\n",
              "      <th>(-1977.0, -1887.0]</th>\n",
              "      <th>(-1887.0, -1594.0]</th>\n",
              "      <th>(-1594.0, 2174.0]</th>\n",
              "      <th>(2174.0, 3137.0]</th>\n",
              "      <th>(3137.0, 4787.0]</th>\n",
              "      <th>(4787.0, 7298.0]</th>\n",
              "      <th>(7298.0, 8614.0]</th>\n",
              "      <th>(8614.0, 15024.0]</th>\n",
              "      <th>(15024.0, 99999.0]</th>\n",
              "    </tr>\n",
              "    <tr>\n",
              "      <th>education</th>\n",
              "      <th></th>\n",
              "      <th></th>\n",
              "      <th></th>\n",
              "      <th></th>\n",
              "      <th></th>\n",
              "      <th></th>\n",
              "      <th></th>\n",
              "      <th></th>\n",
              "      <th></th>\n",
              "      <th></th>\n",
              "    </tr>\n",
              "  </thead>\n",
              "  <tbody>\n",
              "    <tr>\n",
              "      <th>10th</th>\n",
              "      <td>11</td>\n",
              "      <td>4</td>\n",
              "      <td>10</td>\n",
              "      <td>13</td>\n",
              "      <td>11</td>\n",
              "      <td>9</td>\n",
              "      <td>3</td>\n",
              "      <td>1</td>\n",
              "      <td>2</td>\n",
              "      <td>4</td>\n",
              "    </tr>\n",
              "    <tr>\n",
              "      <th>11th</th>\n",
              "      <td>10</td>\n",
              "      <td>3</td>\n",
              "      <td>14</td>\n",
              "      <td>17</td>\n",
              "      <td>9</td>\n",
              "      <td>12</td>\n",
              "      <td>10</td>\n",
              "      <td>6</td>\n",
              "      <td>5</td>\n",
              "      <td>0</td>\n",
              "    </tr>\n",
              "    <tr>\n",
              "      <th>12th</th>\n",
              "      <td>1</td>\n",
              "      <td>0</td>\n",
              "      <td>6</td>\n",
              "      <td>8</td>\n",
              "      <td>2</td>\n",
              "      <td>5</td>\n",
              "      <td>1</td>\n",
              "      <td>3</td>\n",
              "      <td>3</td>\n",
              "      <td>1</td>\n",
              "    </tr>\n",
              "    <tr>\n",
              "      <th>1st-4th</th>\n",
              "      <td>2</td>\n",
              "      <td>0</td>\n",
              "      <td>2</td>\n",
              "      <td>1</td>\n",
              "      <td>0</td>\n",
              "      <td>3</td>\n",
              "      <td>0</td>\n",
              "      <td>1</td>\n",
              "      <td>0</td>\n",
              "      <td>0</td>\n",
              "    </tr>\n",
              "    <tr>\n",
              "      <th>5th-6th</th>\n",
              "      <td>6</td>\n",
              "      <td>2</td>\n",
              "      <td>2</td>\n",
              "      <td>3</td>\n",
              "      <td>3</td>\n",
              "      <td>4</td>\n",
              "      <td>5</td>\n",
              "      <td>0</td>\n",
              "      <td>0</td>\n",
              "      <td>0</td>\n",
              "    </tr>\n",
              "    <tr>\n",
              "      <th>7th-8th</th>\n",
              "      <td>7</td>\n",
              "      <td>3</td>\n",
              "      <td>9</td>\n",
              "      <td>10</td>\n",
              "      <td>19</td>\n",
              "      <td>7</td>\n",
              "      <td>6</td>\n",
              "      <td>2</td>\n",
              "      <td>1</td>\n",
              "      <td>0</td>\n",
              "    </tr>\n",
              "    <tr>\n",
              "      <th>9th</th>\n",
              "      <td>1</td>\n",
              "      <td>0</td>\n",
              "      <td>7</td>\n",
              "      <td>13</td>\n",
              "      <td>9</td>\n",
              "      <td>7</td>\n",
              "      <td>2</td>\n",
              "      <td>0</td>\n",
              "      <td>0</td>\n",
              "      <td>1</td>\n",
              "    </tr>\n",
              "    <tr>\n",
              "      <th>Assoc-acdm</th>\n",
              "      <td>14</td>\n",
              "      <td>15</td>\n",
              "      <td>17</td>\n",
              "      <td>16</td>\n",
              "      <td>13</td>\n",
              "      <td>12</td>\n",
              "      <td>14</td>\n",
              "      <td>16</td>\n",
              "      <td>17</td>\n",
              "      <td>3</td>\n",
              "    </tr>\n",
              "    <tr>\n",
              "      <th>Assoc-voc</th>\n",
              "      <td>19</td>\n",
              "      <td>13</td>\n",
              "      <td>12</td>\n",
              "      <td>18</td>\n",
              "      <td>22</td>\n",
              "      <td>31</td>\n",
              "      <td>34</td>\n",
              "      <td>16</td>\n",
              "      <td>19</td>\n",
              "      <td>4</td>\n",
              "    </tr>\n",
              "    <tr>\n",
              "      <th>Bachelors</th>\n",
              "      <td>114</td>\n",
              "      <td>104</td>\n",
              "      <td>60</td>\n",
              "      <td>83</td>\n",
              "      <td>54</td>\n",
              "      <td>63</td>\n",
              "      <td>131</td>\n",
              "      <td>118</td>\n",
              "      <td>180</td>\n",
              "      <td>64</td>\n",
              "    </tr>\n",
              "    <tr>\n",
              "      <th>Doctorate</th>\n",
              "      <td>25</td>\n",
              "      <td>23</td>\n",
              "      <td>2</td>\n",
              "      <td>4</td>\n",
              "      <td>2</td>\n",
              "      <td>8</td>\n",
              "      <td>5</td>\n",
              "      <td>12</td>\n",
              "      <td>25</td>\n",
              "      <td>23</td>\n",
              "    </tr>\n",
              "    <tr>\n",
              "      <th>HS-grad</th>\n",
              "      <td>118</td>\n",
              "      <td>91</td>\n",
              "      <td>119</td>\n",
              "      <td>152</td>\n",
              "      <td>140</td>\n",
              "      <td>152</td>\n",
              "      <td>149</td>\n",
              "      <td>60</td>\n",
              "      <td>68</td>\n",
              "      <td>37</td>\n",
              "    </tr>\n",
              "    <tr>\n",
              "      <th>Masters</th>\n",
              "      <td>71</td>\n",
              "      <td>44</td>\n",
              "      <td>22</td>\n",
              "      <td>21</td>\n",
              "      <td>14</td>\n",
              "      <td>24</td>\n",
              "      <td>51</td>\n",
              "      <td>50</td>\n",
              "      <td>90</td>\n",
              "      <td>36</td>\n",
              "    </tr>\n",
              "    <tr>\n",
              "      <th>Preschool</th>\n",
              "      <td>0</td>\n",
              "      <td>0</td>\n",
              "      <td>2</td>\n",
              "      <td>0</td>\n",
              "      <td>0</td>\n",
              "      <td>1</td>\n",
              "      <td>0</td>\n",
              "      <td>0</td>\n",
              "      <td>0</td>\n",
              "      <td>1</td>\n",
              "    </tr>\n",
              "    <tr>\n",
              "      <th>Prof-school</th>\n",
              "      <td>44</td>\n",
              "      <td>11</td>\n",
              "      <td>4</td>\n",
              "      <td>7</td>\n",
              "      <td>5</td>\n",
              "      <td>5</td>\n",
              "      <td>5</td>\n",
              "      <td>11</td>\n",
              "      <td>60</td>\n",
              "      <td>61</td>\n",
              "    </tr>\n",
              "    <tr>\n",
              "      <th>Some-college</th>\n",
              "      <td>73</td>\n",
              "      <td>67</td>\n",
              "      <td>89</td>\n",
              "      <td>101</td>\n",
              "      <td>82</td>\n",
              "      <td>90</td>\n",
              "      <td>104</td>\n",
              "      <td>61</td>\n",
              "      <td>65</td>\n",
              "      <td>26</td>\n",
              "    </tr>\n",
              "  </tbody>\n",
              "</table>\n",
              "</div>"
            ],
            "text/plain": [
              "col_0          (-4356.001, -1977.0]  (-1977.0, -1887.0]  (-1887.0, -1594.0]  \\\n",
              "education                                                                     \n",
              " 10th                            11                   4                  10   \n",
              " 11th                            10                   3                  14   \n",
              " 12th                             1                   0                   6   \n",
              " 1st-4th                          2                   0                   2   \n",
              " 5th-6th                          6                   2                   2   \n",
              " 7th-8th                          7                   3                   9   \n",
              " 9th                              1                   0                   7   \n",
              " Assoc-acdm                      14                  15                  17   \n",
              " Assoc-voc                       19                  13                  12   \n",
              " Bachelors                      114                 104                  60   \n",
              " Doctorate                       25                  23                   2   \n",
              " HS-grad                        118                  91                 119   \n",
              " Masters                         71                  44                  22   \n",
              " Preschool                        0                   0                   2   \n",
              " Prof-school                     44                  11                   4   \n",
              " Some-college                    73                  67                  89   \n",
              "\n",
              "col_0          (-1594.0, 2174.0]  (2174.0, 3137.0]  (3137.0, 4787.0]  \\\n",
              "education                                                              \n",
              " 10th                         13                11                 9   \n",
              " 11th                         17                 9                12   \n",
              " 12th                          8                 2                 5   \n",
              " 1st-4th                       1                 0                 3   \n",
              " 5th-6th                       3                 3                 4   \n",
              " 7th-8th                      10                19                 7   \n",
              " 9th                          13                 9                 7   \n",
              " Assoc-acdm                   16                13                12   \n",
              " Assoc-voc                    18                22                31   \n",
              " Bachelors                    83                54                63   \n",
              " Doctorate                     4                 2                 8   \n",
              " HS-grad                     152               140               152   \n",
              " Masters                      21                14                24   \n",
              " Preschool                     0                 0                 1   \n",
              " Prof-school                   7                 5                 5   \n",
              " Some-college                101                82                90   \n",
              "\n",
              "col_0          (4787.0, 7298.0]  (7298.0, 8614.0]  (8614.0, 15024.0]  \\\n",
              "education                                                              \n",
              " 10th                         3                 1                  2   \n",
              " 11th                        10                 6                  5   \n",
              " 12th                         1                 3                  3   \n",
              " 1st-4th                      0                 1                  0   \n",
              " 5th-6th                      5                 0                  0   \n",
              " 7th-8th                      6                 2                  1   \n",
              " 9th                          2                 0                  0   \n",
              " Assoc-acdm                  14                16                 17   \n",
              " Assoc-voc                   34                16                 19   \n",
              " Bachelors                  131               118                180   \n",
              " Doctorate                    5                12                 25   \n",
              " HS-grad                    149                60                 68   \n",
              " Masters                     51                50                 90   \n",
              " Preschool                    0                 0                  0   \n",
              " Prof-school                  5                11                 60   \n",
              " Some-college               104                61                 65   \n",
              "\n",
              "col_0          (15024.0, 99999.0]  \n",
              "education                          \n",
              " 10th                           4  \n",
              " 11th                           0  \n",
              " 12th                           1  \n",
              " 1st-4th                        0  \n",
              " 5th-6th                        0  \n",
              " 7th-8th                        0  \n",
              " 9th                            1  \n",
              " Assoc-acdm                     3  \n",
              " Assoc-voc                      4  \n",
              " Bachelors                     64  \n",
              " Doctorate                     23  \n",
              " HS-grad                       37  \n",
              " Masters                       36  \n",
              " Preschool                      1  \n",
              " Prof-school                   61  \n",
              " Some-college                  26  "
            ]
          },
          "execution_count": 41,
          "metadata": {},
          "output_type": "execute_result"
        }
      ],
      "source": [
        "#способ 1 быстрый и странный\n",
        "pivot_table = pd.crosstab(index=df.loc[(df['capital.gain'] - df['capital.loss'] != 0), 'education'], \n",
        "                         columns=pd.qcut(df.loc[(df['capital.gain'] - df['capital.loss'] != 0), 'capital.gain'] - df.loc[(df['capital.gain'] - df['capital.loss'] != 0), 'capital.loss'], q =10), \n",
        "                         values=df.loc[(df['capital.gain'] - df['capital.loss'] != 0), 'capital.gain'] - df.loc[(df['capital.gain'] - df['capital.loss'] != 0), 'capital.loss'], \n",
        "                         aggfunc='count')\n",
        "pivot_table"
      ]
    },
    {
      "cell_type": "code",
      "execution_count": 26,
      "metadata": {},
      "outputs": [
        {
          "name": "stdout",
          "output_type": "stream",
          "text": [
            "categories     (-4356.001, -1977.0]  (-1977.0, -1887.0]  (-1887.0, -1594.0]  \\\n",
            "education                                                                     \n",
            " 10th                            11                   4                  10   \n",
            " 11th                            10                   3                  14   \n",
            " 12th                             1                   0                   6   \n",
            " 1st-4th                          2                   0                   2   \n",
            " 5th-6th                          6                   2                   2   \n",
            " 7th-8th                          7                   3                   9   \n",
            " 9th                              1                   0                   7   \n",
            " Assoc-acdm                      14                  15                  17   \n",
            " Assoc-voc                       19                  13                  12   \n",
            " Bachelors                      114                 104                  60   \n",
            " Doctorate                       25                  23                   2   \n",
            " HS-grad                        118                  91                 119   \n",
            " Masters                         71                  44                  22   \n",
            " Preschool                        0                   0                   2   \n",
            " Prof-school                     44                  11                   4   \n",
            " Some-college                    73                  67                  89   \n",
            "\n",
            "categories     (-1594.0, 2174.0]  (2174.0, 3137.0]  (3137.0, 4787.0]  \\\n",
            "education                                                              \n",
            " 10th                         13                11                 9   \n",
            " 11th                         17                 9                12   \n",
            " 12th                          8                 2                 5   \n",
            " 1st-4th                       1                 0                 3   \n",
            " 5th-6th                       3                 3                 4   \n",
            " 7th-8th                      10                19                 7   \n",
            " 9th                          13                 9                 7   \n",
            " Assoc-acdm                   16                13                12   \n",
            " Assoc-voc                    18                22                31   \n",
            " Bachelors                    83                54                63   \n",
            " Doctorate                     4                 2                 8   \n",
            " HS-grad                     152               140               152   \n",
            " Masters                      21                14                24   \n",
            " Preschool                     0                 0                 1   \n",
            " Prof-school                   7                 5                 5   \n",
            " Some-college                101                82                90   \n",
            "\n",
            "categories     (4787.0, 7298.0]  (7298.0, 8614.0]  (8614.0, 15024.0]  \\\n",
            "education                                                              \n",
            " 10th                         3                 1                  2   \n",
            " 11th                        10                 6                  5   \n",
            " 12th                         1                 3                  3   \n",
            " 1st-4th                      0                 1                  0   \n",
            " 5th-6th                      5                 0                  0   \n",
            " 7th-8th                      6                 2                  1   \n",
            " 9th                          2                 0                  0   \n",
            " Assoc-acdm                  14                16                 17   \n",
            " Assoc-voc                   34                16                 19   \n",
            " Bachelors                  131               118                180   \n",
            " Doctorate                    5                12                 25   \n",
            " HS-grad                    149                60                 68   \n",
            " Masters                     51                50                 90   \n",
            " Preschool                    0                 0                  0   \n",
            " Prof-school                  5                11                 60   \n",
            " Some-college               104                61                 65   \n",
            "\n",
            "categories     (15024.0, 99999.0]  \n",
            "education                          \n",
            " 10th                           4  \n",
            " 11th                           0  \n",
            " 12th                           1  \n",
            " 1st-4th                        0  \n",
            " 5th-6th                        0  \n",
            " 7th-8th                        0  \n",
            " 9th                            1  \n",
            " Assoc-acdm                     3  \n",
            " Assoc-voc                      4  \n",
            " Bachelors                     64  \n",
            " Doctorate                     23  \n",
            " HS-grad                       37  \n",
            " Masters                       36  \n",
            " Preschool                      1  \n",
            " Prof-school                   61  \n",
            " Some-college                  26  \n"
          ]
        }
      ],
      "source": [
        "#способ 2 традиционный\n",
        "\n",
        "\n",
        "helper_df = df[['education']].copy()  # Создаем копию, чтобы избежать предупреждения\n",
        "helper_df['capital.diff'] = df['capital.gain'] - df['capital.loss']\n",
        "\n",
        "\n",
        "helper_df = helper_df[helper_df['capital.diff'] != 0]\n",
        "\n",
        "\n",
        "helper_df['categories'] = pd.qcut(helper_df['capital.diff'], q=10)\n",
        "\n",
        "\n",
        "pivot_table = pd.pivot_table(data=helper_df, index='education', columns='categories', values='capital.diff', aggfunc='count')\n",
        "\n",
        "print(pivot_table)"
      ]
    },
    {
      "cell_type": "markdown",
      "metadata": {
        "id": "3_Opn5YmiDYJ"
      },
      "source": [
        "14) Женщины из каких стран получают в среднем большую зарплату (>50K) чаще."
      ]
    },
    {
      "cell_type": "code",
      "execution_count": 83,
      "metadata": {
        "id": "WZd4vETQiDYJ"
      },
      "outputs": [
        {
          "name": "stdout",
          "output_type": "stream",
          "text": [
            "Женщины из  United-States получают в среднем большую зарплату (>50K) чаще, среди стран с наибольшим количеством женщин.\n",
            "Среднее количество женщин с большой зарплатой в этой стране: 1072\n"
          ]
        }
      ],
      "source": [
        "high_income_women = df[(df['sex'] == ' Female') & (df['income'] == ' >50K')]\n",
        "# Группировка данных по странам (native-country) и подсчет количества женщин с большой зарплатой для каждой страны\n",
        "country_income_counts = high_income_women['native.country'].value_counts()\n",
        "# страну с наибольшим количеством женщин, получающих больше 50K, в среднем, на одного человека\n",
        "most_common_country = country_income_counts.idxmax()\n",
        "average_income_per_woman = country_income_counts.max()\n",
        "\n",
        "print(\"Женщины из\", most_common_country, \"получают в среднем большую зарплату (>50K) чаще, среди стран с наибольшим количеством женщин.\")\n",
        "print(\"Среднее количество женщин с большой зарплатой в этой стране:\", average_income_per_woman)"
      ]
    },
    {
      "cell_type": "markdown",
      "metadata": {
        "id": "oFXERx3UiDYJ"
      },
      "source": [
        "15) Создайте случайную колонку - magic_salary, которую нужно будет вычислить следующим образом: если зарплата небольшая (<50K), тогда случайно выберите число из диапазона [0,50]. Если зарплата выше 50K тогда из диапазона [51, 200]. Посчитайте среднюю зарплату в час для групп людей с одни уровнем образования на основе нашей случайной колонки magic_salary"
      ]
    },
    {
      "cell_type": "code",
      "execution_count": 86,
      "metadata": {},
      "outputs": [
        {
          "name": "stdout",
          "output_type": "stream",
          "text": [
            "Средняя зарплата в час по уровню образования на основе случайной колонки 'magic_salary':\n",
            "education\n",
            " 10th             50.442658\n",
            " 11th             48.719149\n",
            " 12th             51.535797\n",
            " 1st-4th          47.000000\n",
            " 5th-6th          48.381381\n",
            " 7th-8th          49.934985\n",
            " 9th              48.883268\n",
            " Assoc-acdm       70.816307\n",
            " Assoc-voc        72.256151\n",
            " Bachelors        89.452288\n",
            " Doctorate       125.983051\n",
            " HS-grad          60.864965\n",
            " Masters         105.337783\n",
            " Preschool        43.000000\n",
            " Prof-school     125.250000\n",
            " Some-college     64.306268\n",
            "Name: magic_salary, dtype: float64\n"
          ]
        }
      ],
      "source": [
        "df['magic_salary'] = np.where(df['income'] == ' <=50K', np.random.randint(0, 51), np.random.randint(51, 201))\n",
        "\n",
        "# Вычисление средней зарплаты в час для групп людей с одним уровнем образования\n",
        "average_hourly_income = df.groupby('education')['magic_salary'].mean()\n",
        "\n",
        "# Вывод средней зарплаты в час для каждого уровня образования\n",
        "print(\"Средняя зарплата в час по уровню образования на основе случайной колонки 'magic_salary':\")\n",
        "print(average_hourly_income)"
      ]
    }
  ],
  "metadata": {
    "colab": {
      "include_colab_link": true,
      "provenance": []
    },
    "kernelspec": {
      "display_name": "Python 3",
      "language": "python",
      "name": "python3"
    },
    "language_info": {
      "codemirror_mode": {
        "name": "ipython",
        "version": 3
      },
      "file_extension": ".py",
      "mimetype": "text/x-python",
      "name": "python",
      "nbconvert_exporter": "python",
      "pygments_lexer": "ipython3",
      "version": "3.10.0"
    }
  },
  "nbformat": 4,
  "nbformat_minor": 0
}
